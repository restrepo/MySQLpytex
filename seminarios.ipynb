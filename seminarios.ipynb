{
 "cells": [
  {
   "cell_type": "code",
   "execution_count": 15,
   "metadata": {},
   "outputs": [],
   "source": []
  },
  {
   "cell_type": "code",
   "execution_count": 16,
   "metadata": {},
   "outputs": [],
   "source": [
    "#%%writefile dbpdf.py\n",
    "import getpass\n",
    "import pymysql\n",
    "import unidecode\n",
    "import pandas as pd\n",
    "import tempfile\n",
    "import subprocess\n",
    "import sys\n",
    "\n",
    "pd.set_option('display.max_rows', 500)\n",
    "pd.set_option('display.max_columns', 500)\n",
    "pd.set_option('display.max_colwidth',500)\n",
    "\n",
    "def generate_pdf(row):\n",
    "    \n",
    "    latexfile=get_latexfile(row)\n",
    "\n",
    "    f=tempfile.NamedTemporaryFile('w',suffix='.tex',delete=False)\n",
    "    f.write(latexfile)\n",
    "    f.close()\n",
    "    lo=subprocess.Popen('pdflatex {:s}'.format(f.name).split(),cwd='/tmp',\n",
    "                        stdout=subprocess.PIPE,stderr=subprocess.PIPE).communicate()\n",
    "    pdffile='{:s}'.format(f.name).split('.tex')[0]+'.pdf'\n",
    "    if lo[0].decode('utf8').find(pdffile.split('/')[-1])>-1:\n",
    "        pdf='carta_{:d}.pdf'.format(row['id'])\n",
    "        dwld_dir='downloads'\n",
    "        kk=subprocess.Popen('mv {:s} /home/restrepo/{:s}/{:s}'.format(pdffile,dwld_dir,pdf).split()).communicate()\n",
    "        print('output in http://fisica.udea.edu.co/{:s}/{:s}'.format(dwld_dir,pdf))\n",
    "        for suffix in  ['.aux','.log','.out','.tex']:\n",
    "            sc=subprocess.Popen( ['rm', '{:s}'.format(f.name).split('.tex')[0]+suffix] ).communicate()\n",
    "    else:\n",
    "        print(lo[0].decode('utf8'))\n",
    "        sys.exit('LaTeX ERROR:')    \n",
    "    return latexfile\n",
    "\n",
    "def db_to_pdf(choose_db='Diego_Restrepo',id=None,aux_tables='cartas_sign',common_columns='signature',verbose=False):\n",
    "    '''\n",
    "    Obtain LaTeX file by using the data from Data Base choose_db with tables defined\n",
    "    (in) inside (TODO: configuration file) with auxiliar table aux_tables\n",
    "    Type of letter: \n",
    "      * 0 Personal\n",
    "      * 1 Group\n",
    "    '''\n",
    "    password=getpass.getpass()\n",
    "    #TODO: read from config\n",
    "    tipo_carta={'Diego_Restrepo':'cartas', 'cartas_gfif':'cartas','seminarios':'talks'}\n",
    "    conn = pymysql.connect(host='localhost', port=3306, user='root', passwd=password, db=choose_db)\n",
    "\n",
    "    df=pd.read_sql('select * from {};'.format(tipo_carta[choose_db]), con=conn)\n",
    "\n",
    "    #TODO: generilize to addtional tables\n",
    "    if aux_tables:\n",
    "        sg=pd.read_sql('select * from {};'.format(aux_tables), con=conn)\n",
    "    \n",
    "    \n",
    "    conn.close()\n",
    "    \n",
    "    #print(df.shape[0])\n",
    "    #return df,sg\n",
    "    if df.shape[0]:\n",
    "        if not id:\n",
    "            id=df.id.values[-1]\n",
    "        c=df[df.id==id].reset_index(drop=True).loc[0]\n",
    "        if aux_tables:\n",
    "            #TODO:\n",
    "            c['common_{}'.format(common_columns)]=sg[\n",
    "                sg[common_columns]==c[common_columns]].reset_index(drop=True).loc[0,'sign']\n",
    "        if verbose:\n",
    "            print(c)\n",
    "    else:\n",
    "        sys.exit('Error reading databases')\n",
    "        return df\n",
    "\n",
    "    \n",
    "    \n",
    "    return generate_pdf(c)\n",
    "\n",
    "def backup_database(choose_db=0):\n",
    "    '''\n",
    "    Obtain letter from the last DB entry\n",
    "    Type of letter: \n",
    "      * 0 Personal\n",
    "      * 1 Group\n",
    "    '''\n",
    "    password=getpass.getpass()\n",
    "    tipo_carta=['Diego_Restrepo', 'cartas_gfif']\n",
    "    \n",
    "    print('Trying to create backup file db_{:s}_backup.sql'.format( tipo_carta[choose_db]  )   )\n",
    "    ok=subprocess.Popen('mysqldump -u root -p{:s} {:s} > db_{:s}_backup.sql'.format(\n",
    "                     password,tipo_carta[choose_db],tipo_carta[choose_db]),shell=True,\n",
    "                     stdout=subprocess.PIPE,stderr=subprocess.PIPE).communicate()\n",
    "    \n",
    "    print()\n",
    "    \n",
    "    return ok"
   ]
  },
  {
   "cell_type": "code",
   "execution_count": 17,
   "metadata": {},
   "outputs": [
    {
     "name": "stdout",
     "output_type": "stream",
     "text": [
      "········\n",
      "output in http://fisica.udea.edu.co/downloads/carta_302.pdf\n"
     ]
    },
    {
     "data": {
      "text/plain": [
       "'\\n\\\\documentclass[xcolor=pdftex,dvipsnames,table]{beamer}\\n\\\\pdfoutput=1\\n\\\\mode<presentation>\\n{\\n  \\\\setbeamercovered{transparent}\\n  \\\\setbeamertemplate{blocks}[rounded][shadow=true]\\n  \\\\setbeamertemplate{navigation symbols}{}\\n  \\\\setbeamertemplate{footline}{%\\\\hspace*{.5cm}\\n    \\\\scriptsize{\\\\phantom{Gg}%\\\\insertauthor\\n      \\\\hspace*{50pt}\\n      \\\\hfill \\\\insertframenumber\\n      \\\\hspace*{.5cm}}}\\n}\\n\\\\usepackage[T1]{fontenc}\\n\\\\usepackage[utf8]{inputenc}\\n\\\\usepackage[spanish]{babel}\\n\\\\spanishdecimal{.}\\n\\\\usepackage{beamerprosper}\\n\\\\usepackage{amsmath,amssymb}\\n\\\\usepackage{graphicx}\\n\\\\usepackage{mycolors}\\n\\\\usepackage{pgf}\\n\\\\setlength{\\\\textwidth}{120 mm}\\n\\\\setbeamersize{text margin left=10pt,text margin right=10pt}\\n\\\\newcommand{\\\\widescreen}{\\n\\\\setlength{\\\\paperwidth}{171 mm}\\n\\\\setlength{\\\\paperheight}{96 mm}\\n\\\\setlength{\\\\textwidth}{161 mm}\\n\\\\setlength{\\\\textheight}{86 mm}\\n}\\n\\\\begin{document}\\n\\\\setbeamertemplate{background}{\\\\includegraphics[width=\\\\paperwidth]{gfifseminars}}\\n\\\\begin{frame}[plain]\\n\\\\begin{picture}(320,250)\\n\\\\put(0,210){\\n\\\\begin{minipage}[t]{1.0\\\\linewidth}\\n\\\\begin{center}\\n\\\\textbf{\\\\color{red}\\\\large\\nModels for dark matter and Neutrino masses\\\\\\\\ Tesis de Doctorado}\\\\\\\\\\n\\\\textbf{\\\\color{blue}\\\\small Guillermo Palacio}\\\\\\\\\\n\\\\textbf{\\\\color{blue}\\\\scriptsize Instituto de Física, Universidad de Antioquia}\\\\\\\\\\n\\\\textbf{\\\\color{blue}\\\\footnotesize{Resumen:}}\\n\\\\end{center}\\n\\\\end{minipage}\\n}%\\n    \\\\put(0,140){\\n  \\\\begin{minipage}[t]{1.0\\\\linewidth}\\n   \\\\footnotesize\\nThis thesis includes the study of novel models that account for neutrino masses and mixing and provide a viable candidate for the DM in the Universe. For the electroweak extension of the SM based on the SU(3)C ? SU(4)L ? U(1)X gauge group, several mechanisms for the neutrino mass generation through the tree-level realization of a dimension five Weinberg-like operator are proposed. For the so called model F, a three-family model, is found that the mixing matrix and mass hierarchy for the lightest neutrinos (the SM ones) and the exotic neutrinos (the heavy ones) turns out to be the same. For the radiative type III seesaw model - a kind of scotogenic model - a collider study carried out in a simplify scenario, with scalar dark matter. Limits on the fermion triplet masses are set as a function of the flavor \\n\\\\end{minipage}\\n}\\n\\\\put(0,0){\\n  \\\\begin{minipage}[t]{1.0\\\\linewidth}\\n\\\\parbox{0.2\\\\textwidth}{\\\\textbf{\\\\color{red}\\\\scriptsize Lugar: 308 Ed. Ext.}}%\\n\\\\parbox{0.6\\\\textwidth}{\\\\centering{\\\\textbf{\\\\color{red}\\\\scriptsize \\nFecha: Wednesday 9, 2017}}}%\\n\\\\parbox{0.2\\\\textwidth}{\\\\raggedleft{\\\\textbf{\\\\color{red}\\\\scriptsize Hora: 10 A.M}}}%\\n  \\\\end{minipage}\\n}% \\n\\\\end{picture}\\n\\\\end{frame}\\n\\\\end{document}\\n'"
      ]
     },
     "execution_count": 17,
     "metadata": {},
     "output_type": "execute_result"
    }
   ],
   "source": [
    "db_to_pdf(choose_db='seminarios',aux_tables='',id=302)"
   ]
  },
  {
   "cell_type": "code",
   "execution_count": null,
   "metadata": {},
   "outputs": [],
   "source": []
  }
 ],
 "metadata": {
  "kernelspec": {
   "display_name": "Python 3",
   "language": "python",
   "name": "python3"
  },
  "language_info": {
   "codemirror_mode": {
    "name": "ipython",
    "version": 2
   },
   "file_extension": ".py",
   "mimetype": "text/x-python",
   "name": "python",
   "nbconvert_exporter": "python",
   "pygments_lexer": "ipython2",
   "version": "2.7.13"
  }
 },
 "nbformat": 4,
 "nbformat_minor": 2
}
