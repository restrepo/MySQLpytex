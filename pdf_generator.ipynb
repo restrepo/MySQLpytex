{
 "cells": [
  {
   "cell_type": "markdown",
   "metadata": {},
   "source": [
    "# Read a MySQL DataBase and generate specific output"
   ]
  },
  {
   "cell_type": "code",
   "execution_count": 1,
   "metadata": {},
   "outputs": [],
   "source": [
    "from database_to_pandas import *\n",
    "from latexfiles import *"
   ]
  },
  {
   "cell_type": "code",
   "execution_count": 2,
   "metadata": {},
   "outputs": [
    {
     "name": "stdout",
     "output_type": "stream",
     "text": [
      "········\n"
     ]
    }
   ],
   "source": [
    "id=None\n",
    "#id=272\n",
    "data_base='Diego_Restrepo' #Diego_Restrepo;cartas_gfif;seminarios\n",
    "#data_base='cartas_gfif' #Diego_Restrepo;cartas_gfif;seminarios\n",
    "if id:\n",
    "    db=database_to_pandas(choose_db=data_base,main_table='cartas',id=id)\n",
    "else:    \n",
    "    db=database_to_pandas(choose_db=data_base,main_table='cartas')"
   ]
  },
  {
   "cell_type": "code",
   "execution_count": 3,
   "metadata": {},
   "outputs": [
    {
     "name": "stdout",
     "output_type": "stream",
     "text": [
      "output in http://fisica.udea.edu.co/downloads/cartas.pdf\n"
     ]
    }
   ],
   "source": [
    "if id:\n",
    "    latexfile=db.to_pdf(cartas,pdf='cartas.pdf',\n",
    "            dwld_dir='/home/restrepo/downloads',\n",
    "            url_dir='http://fisica.udea.edu.co/downloads',id=id)\n",
    "else:\n",
    "    latexfile=db.to_pdf(cartas,pdf='cartas.pdf',\n",
    "            dwld_dir='/home/restrepo/downloads',\n",
    "            url_dir='http://fisica.udea.edu.co/downloads')\n",
    "    "
   ]
  },
  {
   "cell_type": "code",
   "execution_count": null,
   "metadata": {},
   "outputs": [],
   "source": [
    "print(latexfile)"
   ]
  },
  {
   "cell_type": "code",
   "execution_count": 9,
   "metadata": {},
   "outputs": [
    {
     "name": "stdout",
     "output_type": "stream",
     "text": [
      "········\n"
     ]
    }
   ],
   "source": [
    "dbs=database_to_pandas(choose_db='seminarios',main_table='talks',aux_tables='')"
   ]
  },
  {
   "cell_type": "code",
   "execution_count": 10,
   "metadata": {},
   "outputs": [
    {
     "name": "stdout",
     "output_type": "stream",
     "text": [
      "output in http://gfif.udea.edu.co/downloads/seminarios.pdf\n"
     ]
    }
   ],
   "source": [
    "lfs=dbs.to_pdf(seminarios,pdf='seminarios.pdf',\n",
    "        dwld_dir='/home/restrepo/downloads',\n",
    "        url_dir='http://gfif.udea.edu.co/downloads')"
   ]
  },
  {
   "cell_type": "markdown",
   "metadata": {},
   "source": [
    "### Backup database"
   ]
  },
  {
   "cell_type": "code",
   "execution_count": 11,
   "metadata": {},
   "outputs": [
    {
     "name": "stdout",
     "output_type": "stream",
     "text": [
      "········\n",
      "Trying to create backup file db_Diego_Restrepo_backup.sql\n",
      "\n"
     ]
    },
    {
     "data": {
      "text/plain": [
       "(b'', b'')"
      ]
     },
     "execution_count": 11,
     "metadata": {},
     "output_type": "execute_result"
    }
   ],
   "source": [
    "db.backup_database()"
   ]
  },
  {
   "cell_type": "markdown",
   "metadata": {},
   "source": [
    "### Get DataFrame"
   ]
  },
  {
   "cell_type": "code",
   "execution_count": 14,
   "metadata": {},
   "outputs": [],
   "source": [
    "db.pandas_DataFrame.to_excel('kk.xlsx',index=False)"
   ]
  },
  {
   "cell_type": "markdown",
   "metadata": {},
   "source": [
    "## Manual"
   ]
  },
  {
   "cell_type": "code",
   "execution_count": 9,
   "metadata": {},
   "outputs": [
    {
     "data": {
      "text/plain": [
       "'\\n%pago matrícula\\n\\\\documentclass{letter}\\n\\\\usepackage[utf8]{inputenc}\\n\\\\usepackage{udea}\\\\usepackage[spanish]{babel}\\n\\n\\\\signature{\\\\includegraphics[scale=0.4]{firma}\\\\\\\\\\r\\n\\\\noindent\\r\\nDiego Restrepo\\\\\\\\\\r\\nProfesor de Tiempo Completo\\\\\\\\\\r\\nInstituto de Física\\\\\\\\\\r\\nUniversidad de Antioquia}\\n\\\\begin{document}\\n\\\\begin{letter}{Señores\\\\\\\\\\r\\nComité Científico SIU.\\r\\n\\r\\n\\r\\n}\\n\\\\opening{Respetados señores:}\\nSolicito el pago anticipado de las matrículas de maestría para los estudiantes\\r\\n\\\\begin{itemize}\\r\\n\\\\item María Coral Correa Tabares cc: 1.152.184.983, estudiante de la maestría en Ciencia, Tecnología e innovación,\\r\\n\\\\item Julian Andrés Calle Mosquera, C.C. 1.017.220.257, estudiante de la Maestría en Física,\\r\\n\\\\end{itemize}\\r\\n\\r\\n\\r\\ncon cargo a los recursos del proyecto en la convocatoria programática de CSH:\\r\\n\\r\\n 2016-13236 IMPACTO SOCIAL, CIENTÍFICO Y ACTIVIDADES DE VINCULACIÓN CON EL ENTORNO DE CENTROS DE INVESTIGACIÓN DE LA UNIVERSIDAD DE ANTIOQUIA,\\r\\n\\r\\ndel cual soy investigador principal. \\r\\n\\r\\nLo anterior con el compromiso de la legalización por medio del acta de inicio, la cual se hará el próximo 15 de enero de 2017.\\r\\n\\r\\n\\r\\n\\r\\n\\r\\nAdjunto ambas liquidaciones de matrícula.\\n\\\\closing{Atentamente}\\n\\\\end{letter}\\n\\\\end{document}\\n'"
      ]
     },
     "execution_count": 9,
     "metadata": {},
     "output_type": "execute_result"
    }
   ],
   "source": [
    "latexfile"
   ]
  },
  {
   "cell_type": "code",
   "execution_count": 13,
   "metadata": {},
   "outputs": [
    {
     "name": "stdout",
     "output_type": "stream",
     "text": [
      "········\n"
     ]
    }
   ],
   "source": [
    "password=getpass.getpass()"
   ]
  },
  {
   "cell_type": "code",
   "execution_count": 14,
   "metadata": {
    "collapsed": true
   },
   "outputs": [],
   "source": [
    "choose_db=0\n",
    "tipo_carta=['Diego_Restrepo', 'cartas_gfif']\n",
    "\n",
    "conn = pymysql.connect(host='localhost', port=3306, user='root', passwd=password, db=tipo_carta[choose_db])\n",
    "\n",
    "df=pd.read_sql('select * from cartas;', con=conn)\n",
    "\n",
    "sg=pd.read_sql('select * from cartas_sign;', con=conn)"
   ]
  },
  {
   "cell_type": "code",
   "execution_count": 15,
   "metadata": {
    "collapsed": true
   },
   "outputs": [],
   "source": [
    "conn.close()Implicaciones de modelos de materia oscura en experimentos de detección directa"
   ]
  },
  {
   "cell_type": "code",
   "execution_count": 7,
   "metadata": {
    "collapsed": true
   },
   "outputs": [],
   "source": [
    "df=df[df.body.str.lower().str.contains('editor')]"
   ]
  },
  {
   "cell_type": "code",
   "execution_count": 16,
   "metadata": {
    "collapsed": true
   },
   "outputs": [],
   "source": [
    "df=df[df.id==281]"
   ]
  },
  {
   "cell_type": "markdown",
   "metadata": {},
   "source": [
    "Last entry"
   ]
  },
  {
   "cell_type": "code",
   "execution_count": 17,
   "metadata": {},
   "outputs": [
    {
     "data": {
      "text/html": [
       "<div>\n",
       "<table border=\"1\" class=\"dataframe\">\n",
       "  <thead>\n",
       "    <tr style=\"text-align: right;\">\n",
       "      <th></th>\n",
       "      <th>id</th>\n",
       "      <th>description</th>\n",
       "      <th>preamble</th>\n",
       "      <th>para</th>\n",
       "      <th>address</th>\n",
       "      <th>signature</th>\n",
       "      <th>opening</th>\n",
       "      <th>body</th>\n",
       "      <th>closing</th>\n",
       "      <th>fecha</th>\n",
       "      <th>link</th>\n",
       "    </tr>\n",
       "  </thead>\n",
       "  <tbody>\n",
       "    <tr>\n",
       "      <th>275</th>\n",
       "      <td>281</td>\n",
       "      <td></td>\n",
       "      <td>\\usepackage{udea}\\usepackage[spanish]{babel}</td>\n",
       "      <td>Profesor Carlos Yaguna\\\\\\r\\nEscuela de Física\\\\\\r\\nUniversidad Pedagógica y \\r\\nTecnológica de Colombia\\\\\\r\\nUPTC</td>\n",
       "      <td></td>\n",
       "      <td>Diego</td>\n",
       "      <td>None</td>\n",
       "      <td>Tenemos el placer de invitarlo a una visita a nuestro grupo de Investigación en el Instituto de Física de la Universidad de Antioquia, del\\r\\n% 15 al 26 de octubre \\r\\n% 9 al 13 de octubre\\r\\n12 al 16 febrero \\r\\ndel presente año.\\r\\n\\r\\n Dentro del marco de esta visita esperamos continuar con nuestro trabajo sobre modelos con materia oscura y masas de neutrinos en el marco del proyecto de Colciencias \\r\\n``Implicaciones de modelos de materia oscura en experimentos de detección directa\" del ...</td>\n",
       "      <td></td>\n",
       "      <td>2018-01-29</td>\n",
       "      <td>http://gfif.udea.edu.co/cartas/cartas.php?step=1&amp;id=</td>\n",
       "    </tr>\n",
       "  </tbody>\n",
       "</table>\n",
       "</div>"
      ],
      "text/plain": [
       "      id description                                      preamble  \\\n",
       "275  281              \\usepackage{udea}\\usepackage[spanish]{babel}   \n",
       "\n",
       "                                                                                                                  para  \\\n",
       "275  Profesor Carlos Yaguna\\\\\\r\\nEscuela de Física\\\\\\r\\nUniversidad Pedagógica y \\r\\nTecnológica de Colombia\\\\\\r\\nUPTC   \n",
       "\n",
       "    address signature opening  \\\n",
       "275             Diego    None   \n",
       "\n",
       "                                                                                                                                                                                                                                                                                                                                                                                                                                                                                                                    body  \\\n",
       "275  Tenemos el placer de invitarlo a una visita a nuestro grupo de Investigación en el Instituto de Física de la Universidad de Antioquia, del\\r\\n% 15 al 26 de octubre \\r\\n% 9 al 13 de octubre\\r\\n12 al 16 febrero \\r\\ndel presente año.\\r\\n\\r\\n Dentro del marco de esta visita esperamos continuar con nuestro trabajo sobre modelos con materia oscura y masas de neutrinos en el marco del proyecto de Colciencias \\r\\n``Implicaciones de modelos de materia oscura en experimentos de detección directa\" del ...   \n",
       "\n",
       "    closing       fecha                                                  link  \n",
       "275          2018-01-29  http://gfif.udea.edu.co/cartas/cartas.php?step=1&id=  "
      ]
     },
     "execution_count": 17,
     "metadata": {},
     "output_type": "execute_result"
    }
   ],
   "source": [
    "df"
   ]
  },
  {
   "cell_type": "code",
   "execution_count": 18,
   "metadata": {
    "collapsed": true
   },
   "outputs": [],
   "source": [
    "c=df[df.id==df.id.values[-1]].reset_index(drop=True).loc[0]\n",
    "c['sign']=sg[sg.signature==c.signature].reset_index(drop=True).loc[0,'sign']"
   ]
  },
  {
   "cell_type": "code",
   "execution_count": 19,
   "metadata": {},
   "outputs": [
    {
     "data": {
      "text/plain": [
       "id                                                                                                                                                                                                                                                                                                                                                                                                                                                                                                                             281\n",
       "description                                                                                                                                                                                                                                                                                                                                                                                                                                                                                                                       \n",
       "preamble                                                                                                                                                                                                                                                                                                                                                                                                                                                                              \\usepackage{udea}\\usepackage[spanish]{babel}\n",
       "para                                                                                                                                                                                                                                                                                                                                                                                                             Profesor Carlos Yaguna\\\\\\r\\nEscuela de Física\\\\\\r\\nUniversidad Pedagógica y \\r\\nTecnológica de Colombia\\\\\\r\\nUPTC\n",
       "address                                                                                                                                                                                                                                                                                                                                                                                                                                                                                                                           \n",
       "signature                                                                                                                                                                                                                                                                                                                                                                                                                                                                                                                    Diego\n",
       "opening                                                                                                                                                                                                                                                                                                                                                                                                                                                                                                                       None\n",
       "body           Tenemos el placer de invitarlo a una visita a nuestro grupo de Investigación en el Instituto de Física de la Universidad de Antioquia, del\\r\\n% 15 al 26 de octubre \\r\\n% 9 al 13 de octubre\\r\\n12 al 16 febrero \\r\\ndel presente año.\\r\\n\\r\\n Dentro del marco de esta visita esperamos continuar con nuestro trabajo sobre modelos con materia oscura y masas de neutrinos en el marco del proyecto de Colciencias \\r\\n``Implicaciones de modelos de materia oscura en experimentos de detección directa\" del ...\n",
       "closing                                                                                                                                                                                                                                                                                                                                                                                                                                                                                                                           \n",
       "fecha                                                                                                                                                                                                                                                                                                                                                                                                                                                                                                                   2018-01-29\n",
       "link                                                                                                                                                                                                                                                                                                                                                                                                                                                                          http://gfif.udea.edu.co/cartas/cartas.php?step=1&id=\n",
       "sign                                                                                                                                                                                                                                                                                                                                                                                                                   Diego Restrepo\\\\\\r\\nProfesor  de Tiempo Completo\\\\\\r\\nInstituto de F\\'\\i sica\\\\\\r\\nUniversidad de Antioquia\n",
       "Name: 0, dtype: object"
      ]
     },
     "execution_count": 19,
     "metadata": {},
     "output_type": "execute_result"
    }
   ],
   "source": [
    "c"
   ]
  },
  {
   "cell_type": "code",
   "execution_count": 20,
   "metadata": {
    "collapsed": true
   },
   "outputs": [],
   "source": [
    "row=c"
   ]
  },
  {
   "cell_type": "code",
   "execution_count": 21,
   "metadata": {},
   "outputs": [
    {
     "ename": "TypeError",
     "evalue": "must be str, not Series",
     "output_type": "error",
     "traceback": [
      "\u001b[0;31m--------------------------------------\u001b[0m",
      "\u001b[0;31mTypeError\u001b[0mTraceback (most recent call last)",
      "\u001b[0;32m<ipython-input-21-84fcf6ccd5a9>\u001b[0m in \u001b[0;36m<module>\u001b[0;34m()\u001b[0m\n\u001b[0;32m----> 1\u001b[0;31m \u001b[0mlo\u001b[0m\u001b[0;34m=\u001b[0m\u001b[0mgenerate_pdf\u001b[0m\u001b[0;34m(\u001b[0m\u001b[0mrow\u001b[0m\u001b[0;34m)\u001b[0m\u001b[0;34m\u001b[0m\u001b[0m\n\u001b[0m",
      "\u001b[0;32m~/prog/MySQLdb/database_to_pandas.py\u001b[0m in \u001b[0;36mgenerate_pdf\u001b[0;34m(latexfile, pdf, dwld_dir, url_dir, id)\u001b[0m\n\u001b[1;32m     21\u001b[0m \u001b[0;34m\u001b[0m\u001b[0m\n\u001b[1;32m     22\u001b[0m     \u001b[0mf\u001b[0m\u001b[0;34m=\u001b[0m\u001b[0mtempfile\u001b[0m\u001b[0;34m.\u001b[0m\u001b[0mNamedTemporaryFile\u001b[0m\u001b[0;34m(\u001b[0m\u001b[0;34m'w'\u001b[0m\u001b[0;34m,\u001b[0m\u001b[0msuffix\u001b[0m\u001b[0;34m=\u001b[0m\u001b[0;34m'.tex'\u001b[0m\u001b[0;34m,\u001b[0m\u001b[0mdelete\u001b[0m\u001b[0;34m=\u001b[0m\u001b[0;32mFalse\u001b[0m\u001b[0;34m)\u001b[0m\u001b[0;34m\u001b[0m\u001b[0m\n\u001b[0;32m---> 23\u001b[0;31m     \u001b[0mf\u001b[0m\u001b[0;34m.\u001b[0m\u001b[0mwrite\u001b[0m\u001b[0;34m(\u001b[0m\u001b[0mlatexfile\u001b[0m\u001b[0;34m)\u001b[0m\u001b[0;34m\u001b[0m\u001b[0m\n\u001b[0m\u001b[1;32m     24\u001b[0m     \u001b[0mf\u001b[0m\u001b[0;34m.\u001b[0m\u001b[0mclose\u001b[0m\u001b[0;34m(\u001b[0m\u001b[0;34m)\u001b[0m\u001b[0;34m\u001b[0m\u001b[0m\n\u001b[1;32m     25\u001b[0m     lo=subprocess.Popen('pdflatex {:s}'.format(f.name).split(),cwd='/tmp',\n",
      "\u001b[0;32m/usr/lib/python3.4/tempfile.py\u001b[0m in \u001b[0;36mfunc_wrapper\u001b[0;34m(*args, **kwargs)\u001b[0m\n\u001b[1;32m    536\u001b[0m             \u001b[0;34m@\u001b[0m\u001b[0m_functools\u001b[0m\u001b[0;34m.\u001b[0m\u001b[0mwraps\u001b[0m\u001b[0;34m(\u001b[0m\u001b[0mfunc\u001b[0m\u001b[0;34m)\u001b[0m\u001b[0;34m\u001b[0m\u001b[0m\n\u001b[1;32m    537\u001b[0m             \u001b[0;32mdef\u001b[0m \u001b[0mfunc_wrapper\u001b[0m\u001b[0;34m(\u001b[0m\u001b[0;34m*\u001b[0m\u001b[0margs\u001b[0m\u001b[0;34m,\u001b[0m \u001b[0;34m**\u001b[0m\u001b[0mkwargs\u001b[0m\u001b[0;34m)\u001b[0m\u001b[0;34m:\u001b[0m\u001b[0;34m\u001b[0m\u001b[0m\n\u001b[0;32m--> 538\u001b[0;31m                 \u001b[0;32mreturn\u001b[0m \u001b[0mfunc\u001b[0m\u001b[0;34m(\u001b[0m\u001b[0;34m*\u001b[0m\u001b[0margs\u001b[0m\u001b[0;34m,\u001b[0m \u001b[0;34m**\u001b[0m\u001b[0mkwargs\u001b[0m\u001b[0;34m)\u001b[0m\u001b[0;34m\u001b[0m\u001b[0m\n\u001b[0m\u001b[1;32m    539\u001b[0m             \u001b[0;31m# Avoid closing the file as long as the wrapper is alive,\u001b[0m\u001b[0;34m\u001b[0m\u001b[0;34m\u001b[0m\u001b[0m\n\u001b[1;32m    540\u001b[0m             \u001b[0;31m# see issue #18879.\u001b[0m\u001b[0;34m\u001b[0m\u001b[0;34m\u001b[0m\u001b[0m\n",
      "\u001b[0;31mTypeError\u001b[0m: must be str, not Series"
     ]
    }
   ],
   "source": [
    "lo=generate_pdf(row)"
   ]
  },
  {
   "cell_type": "code",
   "execution_count": 22,
   "metadata": {},
   "outputs": [
    {
     "ename": "NameError",
     "evalue": "name 'lo' is not defined",
     "output_type": "error",
     "traceback": [
      "\u001b[0;31m--------------------------------------\u001b[0m",
      "\u001b[0;31mNameError\u001b[0mTraceback (most recent call last)",
      "\u001b[0;32m<ipython-input-22-02fb00e12a56>\u001b[0m in \u001b[0;36m<module>\u001b[0;34m()\u001b[0m\n\u001b[0;32m----> 1\u001b[0;31m \u001b[0mprint\u001b[0m\u001b[0;34m(\u001b[0m\u001b[0mlo\u001b[0m\u001b[0;34m[\u001b[0m\u001b[0;36m0\u001b[0m\u001b[0;34m]\u001b[0m\u001b[0;34m.\u001b[0m\u001b[0mdecode\u001b[0m\u001b[0;34m(\u001b[0m\u001b[0;34m'utf8'\u001b[0m\u001b[0;34m)\u001b[0m\u001b[0;34m)\u001b[0m\u001b[0;34m\u001b[0m\u001b[0m\n\u001b[0m",
      "\u001b[0;31mNameError\u001b[0m: name 'lo' is not defined"
     ]
    }
   ],
   "source": [
    "print(lo[0].decode('utf8'))Implicaciones de modelos de materia oscura en experimentos de detección directa"
   ]
  },
  {
   "cell_type": "code",
   "execution_count": 21,
   "metadata": {},
   "outputs": [
    {
     "data": {
      "text/plain": [
       "\"\\\\includegraphics[scale=0.4]{firma}\\\\\\\\\\r\\n\\\\noindent\\r\\nDiego A. Restrepo Quintero\\\\\\\\\\r\\nCoordinador\\\\\\\\\\r\\nGrupo de Fenomenología de Interacciones Fundamentales\\\\\\\\\\r\\nInstituto de F\\\\'\\\\i sica\\\\\\\\\\r\\nUniversidad de Antioquia\""
      ]
     },
     "execution_count": 21,
     "metadata": {},
     "output_type": "execute_result"
    }
   ],
   "source": [
    "c.sign"
   ]
  },
  {
   "cell_type": "code",
   "execution_count": 18,
   "metadata": {},
   "outputs": [
    {
     "data": {
      "text/plain": [
       "(b'', b'')"
      ]
     },
     "execution_count": 18,
     "metadata": {},
     "output_type": "execute_result"
    }
   ],
   "source": [
    "ok"
   ]
  },
  {
   "cell_type": "code",
   "execution_count": 10,
   "metadata": {},
   "outputs": [
    {
     "data": {
      "text/plain": [
       "['mysqldump',\n",
       " '-u',\n",
       " 'root',\n",
       " '-ppoioiulkj',\n",
       " 'cartas_gfif',\n",
       " '>',\n",
       " 'db_cartas_gfif_backup.sql']"
      ]
     },
     "execution_count": 10,
     "metadata": {},
     "output_type": "execute_result"
    }
   ],
   "source": [
    "'mysqldump -u root -p{:s} {:s} > db_{:s}_backup.sql'.format(password,tipo_carta[NTC],tipo_carta[NTC]).split()"
   ]
  },
  {
   "cell_type": "markdown",
   "metadata": {},
   "source": [
    "## Search in body"
   ]
  },
  {
   "cell_type": "code",
   "execution_count": 50,
   "metadata": {
    "collapsed": true
   },
   "outputs": [],
   "source": [
    "id=99\n",
    "if id >0:\n",
    "    dfs=df[df.id==id].reset_index(drop=True)\n",
    "else:    \n",
    "    dfs=df[df.body.str.lower().map(unidecode.unidecode).str.contains('impacto social')].reset_index(drop=True)"
   ]
  },
  {
   "cell_type": "code",
   "execution_count": null,
   "metadata": {
    "collapsed": true
   },
   "outputs": [],
   "source": [
    "dfs"
   ]
  },
  {
   "cell_type": "code",
   "execution_count": 52,
   "metadata": {
    "collapsed": true
   },
   "outputs": [],
   "source": [
    "c=dfs.loc[dfs.index.values[-1]]"
   ]
  },
  {
   "cell_type": "code",
   "execution_count": null,
   "metadata": {
    "collapsed": true
   },
   "outputs": [],
   "source": [
    "c"
   ]
  },
  {
   "cell_type": "code",
   "execution_count": null,
   "metadata": {
    "collapsed": true
   },
   "outputs": [],
   "source": [
    "c.keys().values"
   ]
  },
  {
   "cell_type": "code",
   "execution_count": null,
   "metadata": {
    "collapsed": true
   },
   "outputs": [],
   "source": [
    "for k in c.keys():\n",
    "    print(k)\n",
    "    if c[k]==None:\n",
    "        c[k]=''Implicaciones de modelos de materia oscura en experimentos de detección directa"
   ]
  },
  {
   "cell_type": "code",
   "execution_count": 52,
   "metadata": {
    "collapsed": true
   },
   "outputs": [],
   "source": [
    "c.closing"
   ]
  },
  {
   "cell_type": "code",
   "execution_count": 34,
   "metadata": {},
   "outputs": [
    {
     "data": {
      "text/plain": [
       "'Best regards'"
      ]
     },
     "execution_count": 34,
     "metadata": {},
     "output_type": "execute_result"
    }
   ],
   "source": [
    "c.closing"
   ]
  },
  {
   "cell_type": "code",
   "execution_count": 35,
   "metadata": {},
   "outputs": [
    {
     "ename": "TypeError",
     "evalue": "Can't convert 'NoneType' object to str implicitly",
     "output_type": "error",
     "traceback": [
      "\u001b[0;31m---------------------------------------------------------------------------\u001b[0m",
      "\u001b[0;31mTypeError\u001b[0m                                 Traceback (most recent call last)",
      "\u001b[0;32m<ipython-input-35-1241e7064ef2>\u001b[0m in \u001b[0;36m<module>\u001b[0;34m()\u001b[0m\n\u001b[1;32m     13\u001b[0m \u001b[0;34m'''+c.body+r'''\u001b[0m\u001b[0;34m\u001b[0m\u001b[0m\n\u001b[1;32m     14\u001b[0m \u001b[0;34m\u001b[0m\u001b[0m\n\u001b[0;32m---> 15\u001b[0;31m \u001b[0;31m\\\u001b[0m\u001b[0mclosing\u001b[0m\u001b[0;34m{\u001b[0m\u001b[0;34m'''+c.closing+r'''\u001b[0m\u001b[0;34m}\u001b[0m\u001b[0;34m\u001b[0m\u001b[0m\n\u001b[0m\u001b[1;32m     16\u001b[0m \u001b[0;31m\\\u001b[0m\u001b[0mend\u001b[0m\u001b[0;34m{\u001b[0m\u001b[0mletter\u001b[0m\u001b[0;34m}\u001b[0m\u001b[0;34m\u001b[0m\u001b[0m\n\u001b[1;32m     17\u001b[0m \u001b[0;31m\\\u001b[0m\u001b[0mend\u001b[0m\u001b[0;34m{\u001b[0m\u001b[0mdocument\u001b[0m\u001b[0;34m}\u001b[0m\u001b[0;34m\u001b[0m\u001b[0m\n",
      "\u001b[0;31mTypeError\u001b[0m: Can't convert 'NoneType' object to str implicitly"
     ]
    }
   ],
   "source": [
    "latexfile=r'''\n",
    "%'''+c.description+r'''\n",
    "\\documentclass{letter}\n",
    "\\usepackage[utf8]{inputenc}\n",
    "'''+c.preamble+r'''\n",
    "'''+c.address+r'''\n",
    "\\signature{'''+sg[sg.signature==c.signature].sign.values[0]+r'''}\n",
    "\\begin{document}\n",
    "\\begin{letter}{'''+c.para+r'''}\n",
    "\n",
    "\\opening{'''+c.opening+r'''} \n",
    "\n",
    "'''+c.body+r'''\n",
    "\n",
    "\\closing{'''+c.closing+r'''}\n",
    "\\end{letter}\n",
    "\\end{document}\n",
    "'''"
   ]
  },
  {
   "cell_type": "code",
   "execution_count": null,
   "metadata": {
    "collapsed": true
   },
   "outputs": [],
   "source": [
    "print(latexfile)"
   ]
  },
  {
   "cell_type": "code",
   "execution_count": 58,
   "metadata": {
    "collapsed": true
   },
   "outputs": [],
   "source": [
    "f=tempfile.NamedTemporaryFile('w',suffix='.tex',delete=False)"
   ]
  },
  {
   "cell_type": "code",
   "execution_count": 59,
   "metadata": {},
   "outputs": [
    {
     "data": {
      "text/plain": [
       "2017"
      ]
     },
     "execution_count": 59,
     "metadata": {},
     "output_type": "execute_result"
    }
   ],
   "source": [
    "f.write(latexfile)"
   ]
  },
  {
   "cell_type": "code",
   "execution_count": 60,
   "metadata": {},
   "outputs": [
    {
     "data": {
      "text/plain": [
       "'/tmp/tmppt2pwnu1.tex'"
      ]
     },
     "execution_count": 60,
     "metadata": {},
     "output_type": "execute_result"
    }
   ],
   "source": [
    "f.name"
   ]
  },
  {
   "cell_type": "code",
   "execution_count": 61,
   "metadata": {
    "collapsed": true
   },
   "outputs": [],
   "source": [
    "f.close()"
   ]
  },
  {
   "cell_type": "code",
   "execution_count": 62,
   "metadata": {
    "collapsed": true
   },
   "outputs": [],
   "source": [
    "lo=subprocess.Popen('pdflatex {:s}'.format(f.name).split(),cwd='/tmp',stdout=subprocess.PIPE,stderr=subprocess.PIPE).communicate()"
   ]
  },
  {
   "cell_type": "code",
   "execution_count": null,
   "metadata": {
    "collapsed": true
   },
   "outputs": [],
   "source": [
    "pdffile='{:s}'.format(f.name).split('.tex')[0]+'.pdf'\n",
    "if lo[0].decode('utf8').find(pdffile.split('/')[-1])>-1:\n",
    "    pdf='carta_{:d}.pdf'.format(c['id'])\n",
    "    dwld_dir='downloads'\n",
    "    kk=subprocess.Popen('mv {:s} /var/www/{:s}/{:s}'.format(pdffile,dwld_dir,pdf).split()).communicate()\n",
    "    print('output in http://gfif.udea.edu.co/{:s}/{:s}'.format(dwld_dir,pdf))\n",
    "    for suffix in  ['.aux','.log','.out','.tex']:\n",
    "        subprocess.Popen( ['rm', '{:s}'.format(f.name).split('.tex')[0]+suffix] ).communicate()\n",
    "else:\n",
    "    sys.exit('LaTeX ERROR:')    "
   ]
  },
  {
   "cell_type": "code",
   "execution_count": null,
   "metadata": {
    "collapsed": true
   },
   "outputs": [],
   "source": []
  }
 ],
 "metadata": {
  "kernelspec": {
   "display_name": "Python 3",
   "language": "python",
   "name": "python3"
  },
  "language_info": {
   "codemirror_mode": {
    "name": "ipython",
    "version": 3
   },
   "file_extension": ".py",
   "mimetype": "text/x-python",
   "name": "python",
   "nbconvert_exporter": "python",
   "pygments_lexer": "ipython3",
   "version": "3.4.2"
  },
  "latex_envs": {
   "LaTeX_envs_menu_present": true,
   "bibliofile": "biblio.bib",
   "cite_by": "apalike",
   "current_citInitial": 1,
   "eqLabelWithNumbers": true,
   "eqNumInitial": 1,
   "labels_anchors": false,
   "latex_user_defs": false,
   "report_style_numbering": false,
   "user_envs_cfg": false
  }
 },
 "nbformat": 4,
 "nbformat_minor": 2
}
