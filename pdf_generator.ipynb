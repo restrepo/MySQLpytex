{
 "cells": [
  {
   "cell_type": "markdown",
   "metadata": {},
   "source": [
    "# Read a MySQL DataBase and generate specific output"
   ]
  },
  {
   "cell_type": "code",
   "execution_count": 1,
   "metadata": {},
   "outputs": [
    {
     "name": "stdout",
     "output_type": "stream",
     "text": [
      "Writing latexfiles.py\n"
     ]
    }
   ],
   "source": [
    "%%writefile latexfiles.py\n",
    "def  cartas(row):\n",
    "    if row.opening is  None:\n",
    "        row.opening=''\n",
    "    if row.closing is  None:\n",
    "        row.closing=''\n",
    "\n",
    "    latexfile='\\n'\n",
    "    latexfile=latexfile+'%'+row.description+'\\n'\n",
    "    latexfile=latexfile+r'\\documentclass{letter}'+'\\n'\n",
    "    latexfile=latexfile+r'\\usepackage[utf8]{inputenc}'+'\\n'\n",
    "    latexfile=latexfile+row.preamble+'\\n'\n",
    "    latexfile=latexfile+row.address+'\\n'\n",
    "    latexfile=latexfile+r'\\signature{'+row.common_signature+'}\\n'\n",
    "    latexfile=latexfile+r'\\begin{document}'+'\\n'\n",
    "    latexfile=latexfile+r'\\begin{letter}{'+row.para+'}\\n'\n",
    "    latexfile=latexfile+r'\\opening{'+row.opening+'}\\n'\n",
    "    latexfile=latexfile+row.body+'\\n'\n",
    "    latexfile=latexfile+r'\\closing{'+row.closing+'}\\n'\n",
    "    latexfile=latexfile+r'\\end{letter}'+'\\n'\n",
    "    latexfile=latexfile+r'\\end{document}'+'\\n'\n",
    "    \n",
    "    return latexfile\n",
    "\n",
    "def seminarios(row):\n",
    "    import calendar\n",
    "    latexfile='\\n'\n",
    "    latexfile=latexfile+r'\\documentclass[xcolor=pdftex,dvipsnames,table]{beamer}'+'\\n'\n",
    "    latexfile=latexfile+r'\\pdfoutput=1'+'\\n'\n",
    "    latexfile=latexfile+r'\\mode<presentation>'+'\\n'\n",
    "    latexfile=latexfile+r'{'+'\\n'\n",
    "    latexfile=latexfile+r'  \\setbeamercovered{transparent}'+'\\n'\n",
    "    latexfile=latexfile+r'  \\setbeamertemplate{blocks}[rounded][shadow=true]'+'\\n'\n",
    "    latexfile=latexfile+r'  \\setbeamertemplate{navigation symbols}{}'+'\\n'\n",
    "    latexfile=latexfile+r'  \\setbeamertemplate{footline}{%\\hspace*{.5cm}'+'\\n'\n",
    "    latexfile=latexfile+r'    \\scriptsize{\\phantom{Gg}%\\insertauthor'+'\\n' \n",
    "    latexfile=latexfile+r'      \\hspace*{50pt}'+'\\n'\n",
    "    latexfile=latexfile+r'      \\hfill \\insertframenumber'+'\\n'\n",
    "    latexfile=latexfile+r'      \\hspace*{.5cm}}}'+'\\n'\n",
    "    latexfile=latexfile+r'}'+'\\n'\n",
    "    latexfile=latexfile+r'\\usepackage[T1]{fontenc}'+'\\n'\n",
    "    latexfile=latexfile+r'\\usepackage[utf8]{inputenc}'+'\\n'\n",
    "    latexfile=latexfile+r'\\usepackage[spanish]{babel}'+'\\n'\n",
    "    latexfile=latexfile+r'\\spanishdecimal{.}'+'\\n'\n",
    "    latexfile=latexfile+r'\\usepackage{beamerprosper}'+'\\n'\n",
    "    latexfile=latexfile+r'\\usepackage{amsmath,amssymb}'+'\\n'\n",
    "    latexfile=latexfile+r'\\usepackage{graphicx}'+'\\n'\n",
    "    latexfile=latexfile+r'\\usepackage{mycolors}'+'\\n'\n",
    "    latexfile=latexfile+r'\\usepackage{pgf}'+'\\n'\n",
    "    latexfile=latexfile+r'\\setlength{\\textwidth}{120 mm}'+'\\n'\n",
    "    latexfile=latexfile+r'\\setbeamersize{text margin left=10pt,text margin right=10pt}'+'\\n'\n",
    "    latexfile=latexfile+r'\\newcommand{\\widescreen}{'+'\\n'\n",
    "    latexfile=latexfile+r'\\setlength{\\paperwidth}{171 mm}'+'\\n'\n",
    "    latexfile=latexfile+r'\\setlength{\\paperheight}{96 mm}'+'\\n'\n",
    "    latexfile=latexfile+r'\\setlength{\\textwidth}{161 mm}'+'\\n'\n",
    "    latexfile=latexfile+r'\\setlength{\\textheight}{86 mm}'+'\\n'\n",
    "    latexfile=latexfile+r'}'+'\\n'\n",
    "    latexfile=latexfile+r'\\begin{document}'+'\\n'\n",
    "    latexfile=latexfile+r'\\setbeamertemplate{background}{\\includegraphics[width=\\paperwidth]{gfifseminars}}'+'\\n'\n",
    "    latexfile=latexfile+r'\\begin{frame}[plain]'+'\\n'\n",
    "    latexfile=latexfile+r'\\begin{picture}(320,250)'+'\\n'\n",
    "    latexfile=latexfile+r'\\put(0,210){'+'\\n'\n",
    "    latexfile=latexfile+r'\\begin{minipage}[t]{1.0\\linewidth}'+'\\n'\n",
    "    latexfile=latexfile+r'\\begin{center}'+'\\n'\n",
    "    latexfile=latexfile+r'\\textbf{\\color{red}\\large'+'\\n'\n",
    "    latexfile=latexfile+row.title+'}\\\\\\\\'+'\\n'\n",
    "    latexfile=latexfile+r'\\textbf{\\color{blue}\\small '+row['name']+'}\\\\\\\\'+'\\n'\n",
    "    latexfile=latexfile+r'\\textbf{\\color{blue}\\scriptsize '+row.institution+'}\\\\\\\\'+'\\n'\n",
    "    latexfile=latexfile+r'\\textbf{\\color{blue}\\footnotesize{Resumen:}}'+'\\n'\n",
    "    latexfile=latexfile+r'\\end{center}'+'\\n'\n",
    "    latexfile=latexfile+r'\\end{minipage}'+'\\n'\n",
    "    latexfile=latexfile+r'}%'+'\\n'\n",
    "    latexfile=latexfile+r'    \\put(0,140){'+'\\n'\n",
    "    latexfile=latexfile+r'  \\begin{minipage}[t]{1.0\\linewidth}'+'\\n'\n",
    "    latexfile=latexfile+r'   \\footnotesize'+'\\n'\n",
    "    latexfile=latexfile+row.abstract+'\\n'\n",
    "    latexfile=latexfile+r'\\end{minipage}'+'\\n'\n",
    "    latexfile=latexfile+r'}'+'\\n'\n",
    "    latexfile=latexfile+r'\\put(0,0){'+'\\n'\n",
    "    latexfile=latexfile+r'  \\begin{minipage}[t]{1.0\\linewidth}'+'\\n'\n",
    "    latexfile=latexfile+r'\\parbox{0.2\\textwidth}{\\textbf{\\color{red}\\scriptsize Lugar: '+row.lugar+'}}%'+'\\n'\n",
    "    latexfile=latexfile+r'\\parbox{0.6\\textwidth}{\\centering{\\textbf{\\color{red}\\scriptsize '+'\\n'\n",
    "    latexfile=latexfile+r'Fecha: '+calendar.day_name[row.fecha.weekday()]+' '+'{}'.format(row.fecha.day)+', '+'{}'.format(row.fecha.year)+'}}}%'+'\\n'\n",
    "    latexfile=latexfile+r'\\parbox{0.2\\textwidth}{\\raggedleft{\\textbf{\\color{red}\\scriptsize Hora: '+row.hora+'}}}%'+'\\n'\n",
    "    latexfile=latexfile+r'  \\end{minipage}'+'\\n'\n",
    "    latexfile=latexfile+r'}% '+'\\n'   \n",
    "    latexfile=latexfile+r'\\end{picture}'+'\\n'\n",
    "    latexfile=latexfile+r'\\end{frame}'+'\\n'\n",
    "    latexfile=latexfile+r'\\end{document}'+'\\n'        \n",
    "    \n",
    "    return latexfile"
   ]
  },
  {
   "cell_type": "code",
   "execution_count": 1,
   "metadata": {},
   "outputs": [
    {
     "name": "stdout",
     "output_type": "stream",
     "text": [
      "Writing database_to_pandas.py\n"
     ]
    }
   ],
   "source": [
    "%%writefile database_to_pandas.py\n",
    "import getpass\n",
    "import pymysql\n",
    "import unidecode\n",
    "import pandas as pd\n",
    "import tempfile\n",
    "import subprocess\n",
    "import sys\n",
    "\n",
    "pd.set_option('display.max_rows', 500)\n",
    "pd.set_option('display.max_columns', 500)\n",
    "pd.set_option('display.max_colwidth',500)\n",
    "\n",
    "def generate_pdf(latexfile,\n",
    "    pdf='output.pdf',\n",
    "    dwld_dir='/home/restrepo/downloads',\n",
    "    url_dir='file:///home/restrepo/downloads'):\n",
    "    \"\"\"\n",
    "    pdflatex upon latexfile to generate 'pdf'  file in \n",
    "    'dwld_dir' with browser link 'url_dir'\n",
    "    \"\"\"\n",
    "\n",
    "    f=tempfile.NamedTemporaryFile('w',suffix='.tex',delete=False)\n",
    "    f.write(latexfile)\n",
    "    f.close()\n",
    "    lo=subprocess.Popen('pdflatex {:s}'.format(f.name).split(),cwd='/tmp',\n",
    "                        stdout=subprocess.PIPE,stderr=subprocess.PIPE).communicate()\n",
    "    pdffile='{:s}'.format(f.name).split('.tex')[0]+'.pdf'\n",
    "    if lo[0].decode('utf8').find(pdffile.split('/')[-1])>-1:\n",
    "        \n",
    "        kk=subprocess.Popen('mv {:s} {:s}/{:s}'.format(pdffile,dwld_dir,pdf).split()).communicate()\n",
    "        print('output in {:s}/{:s}'.format(url_dir,pdf))\n",
    "        for suffix in  ['.aux','.log','.out','.tex']:\n",
    "            sc=subprocess.Popen( ['rm', '{:s}'.format(f.name).split('.tex')[0]+suffix] ).communicate()\n",
    "    else:\n",
    "        print(lo[0].decode('utf8'))\n",
    "        sys.exit('LaTeX ERROR:')    \n",
    "    return latexfile\n",
    "\n",
    "class database_to_pandas(object):\n",
    "    \"\"\"\n",
    "    Convert Data Base  to pondas and filtered index to Series and \n",
    "    define methods to use them.\n",
    "    Intialize with choose_db and main_table to build attibute: choose_db[main_table]\n",
    "    See for example:\n",
    "    {'Diego_Restrepo':'cartas','cartas_gfif':'cartas','seminarios':'talks'}\n",
    "    The optional aux_tables must be set to '' if not required, otherwise \n",
    "    'cartas_sign' is used\n",
    "    \"\"\"\n",
    "    def __init__(self,choose_db='Diego_Restrepo',main_table='cartas',id=None,\n",
    "                 aux_tables='cartas_sign',common_columns='signature',verbose=False):\n",
    "        password=getpass.getpass()\n",
    "        #TODO: read from config\n",
    "        self.choose_db={choose_db:main_table}\n",
    "        self.DataBase=choose_db\n",
    "        conn = pymysql.connect(host='localhost', port=3306, user='root', passwd=password, db=choose_db)\n",
    "\n",
    "        df=pd.read_sql('select * from {};'.format(self.choose_db[choose_db]), con=conn)\n",
    "\n",
    "        #TODO: generilize to addtional tables\n",
    "        if aux_tables:\n",
    "            sg=pd.read_sql('select * from {};'.format(aux_tables), con=conn)\n",
    "\n",
    "\n",
    "        conn.close()\n",
    "        self.pandas_DataFrame=df\n",
    "        #print(df.shape[0])\n",
    "        #return df,sg\n",
    "        if df.shape[0]:\n",
    "            if not id:\n",
    "                id=df.id.values[-1]\n",
    "            self.pandas_Series=df[df.id==id].reset_index(drop=True).loc[0]\n",
    "            if aux_tables:\n",
    "                #TODO:\n",
    "                self.pandas_Series['common_{}'.format(common_columns)]=sg[\n",
    "                    sg[common_columns]==self.pandas_Series[common_columns]].reset_index(drop=True).loc[0,'sign']\n",
    "            if verbose:\n",
    "                print(self.pandas_Series)\n",
    "        else:\n",
    "            sys.exit('Error reading databases')\n",
    "            return df\n",
    "\n",
    "    \n",
    "    def to_latex(self,func):\n",
    "        '''Build a function to build the latex file with the self.Series keys\n",
    "           and call it from here\n",
    "        '''\n",
    "        #TODO: check if class has methoed\n",
    "        self.latexfile=func(self.pandas_Series)\n",
    "        return self.latexfile\n",
    "    #return generate_pdf(c)\n",
    "    def to_pdf(self,func,**kwargs):\n",
    "        '''Build a function to build the latex file with the self.Series keys\n",
    "           and call it from here\n",
    "        '''\n",
    "        self.latexfile=func(self.pandas_Series)\n",
    "        return generate_pdf(self.latexfile,**kwargs)\n",
    "        \n",
    "    def backup_database(self):\n",
    "        '''\n",
    "        Backup DB\n",
    "        '''\n",
    "    \n",
    "        password=getpass.getpass()\n",
    "\n",
    "        print('Trying to create backup file db_{:s}_backup.sql'.format( self.DataBase  )   )\n",
    "        ok=subprocess.Popen('mysqldump -u root -p{:s} {:s} > db_{:s}_backup.sql'.format(\n",
    "                         password,self.DataBase,self.DataBase),shell=True,\n",
    "                         stdout=subprocess.PIPE,stderr=subprocess.PIPE).communicate()\n",
    "\n",
    "        print()\n",
    "\n",
    "        return ok"
   ]
  },
  {
   "cell_type": "code",
   "execution_count": 2,
   "metadata": {},
   "outputs": [],
   "source": [
    "from database_to_pandas import *\n",
    "from latexfiles import *"
   ]
  },
  {
   "cell_type": "code",
   "execution_count": 4,
   "metadata": {},
   "outputs": [
    {
     "name": "stdout",
     "output_type": "stream",
     "text": [
      "········\n"
     ]
    }
   ],
   "source": [
    "db=database_to_pandas(choose_db='Diego_Restrepo',main_table='cartas',id=201)"
   ]
  },
  {
   "cell_type": "code",
   "execution_count": 7,
   "metadata": {},
   "outputs": [
    {
     "name": "stdout",
     "output_type": "stream",
     "text": [
      "output in http://gfif.udea.edu.co/downloads/cartas.pdf\n"
     ]
    }
   ],
   "source": [
    "latexfile=db.to_pdf(cartas,pdf='cartas.pdf',\n",
    "        dwld_dir='/home/restrepo/downloads',\n",
    "        url_dir='http://gfif.udea.edu.co/downloads')"
   ]
  },
  {
   "cell_type": "code",
   "execution_count": 9,
   "metadata": {},
   "outputs": [
    {
     "name": "stdout",
     "output_type": "stream",
     "text": [
      "········\n"
     ]
    }
   ],
   "source": [
    "dbs=database_to_pandas(choose_db='seminarios',main_table='talks',aux_tables='')"
   ]
  },
  {
   "cell_type": "code",
   "execution_count": 10,
   "metadata": {},
   "outputs": [
    {
     "name": "stdout",
     "output_type": "stream",
     "text": [
      "output in http://gfif.udea.edu.co/downloads/seminarios.pdf\n"
     ]
    }
   ],
   "source": [
    "lfs=dbs.to_pdf(seminarios,pdf='seminarios.pdf',\n",
    "        dwld_dir='/home/restrepo/downloads',\n",
    "        url_dir='http://gfif.udea.edu.co/downloads')"
   ]
  },
  {
   "cell_type": "markdown",
   "metadata": {},
   "source": [
    "### Backup database"
   ]
  },
  {
   "cell_type": "code",
   "execution_count": 11,
   "metadata": {},
   "outputs": [
    {
     "name": "stdout",
     "output_type": "stream",
     "text": [
      "········\n",
      "Trying to create backup file db_seminarios_backup.sql\n",
      "\n"
     ]
    },
    {
     "data": {
      "text/plain": [
       "(b'', b'')"
      ]
     },
     "execution_count": 11,
     "metadata": {},
     "output_type": "execute_result"
    }
   ],
   "source": [
    "dbs.backup_database()"
   ]
  },
  {
   "cell_type": "markdown",
   "metadata": {},
   "source": [
    "## Manual"
   ]
  },
  {
   "cell_type": "code",
   "execution_count": 4,
   "metadata": {},
   "outputs": [
    {
     "name": "stdout",
     "output_type": "stream",
     "text": [
      "········\n"
     ]
    }
   ],
   "source": [
    "password=getpass.getpass()"
   ]
  },
  {
   "cell_type": "code",
   "execution_count": 11,
   "metadata": {
    "collapsed": true
   },
   "outputs": [],
   "source": [
    "choose_db=0\n",
    "tipo_carta=['Diego_Restrepo', 'cartas_gfif']\n",
    "\n",
    "conn = pymysql.connect(host='localhost', port=3306, user='root', passwd=password, db=tipo_carta[choose_db])\n",
    "\n",
    "df=pd.read_sql('select * from cartas;', con=conn)\n",
    "\n",
    "sg=pd.read_sql('select * from cartas_sign;', con=conn)"
   ]
  },
  {
   "cell_type": "code",
   "execution_count": 12,
   "metadata": {
    "collapsed": true
   },
   "outputs": [],
   "source": [
    "conn.close()"
   ]
  },
  {
   "cell_type": "code",
   "execution_count": 7,
   "metadata": {
    "collapsed": true
   },
   "outputs": [],
   "source": [
    "df=df[df.body.str.lower().str.contains('editor')]"
   ]
  },
  {
   "cell_type": "code",
   "execution_count": 13,
   "metadata": {
    "collapsed": true
   },
   "outputs": [],
   "source": [
    "df=df[df.id==49]"
   ]
  },
  {
   "cell_type": "markdown",
   "metadata": {},
   "source": [
    "Last entry"
   ]
  },
  {
   "cell_type": "code",
   "execution_count": 14,
   "metadata": {},
   "outputs": [
    {
     "data": {
      "text/html": [
       "<div>\n",
       "<table border=\"1\" class=\"dataframe\">\n",
       "  <thead>\n",
       "    <tr style=\"text-align: right;\">\n",
       "      <th></th>\n",
       "      <th>id</th>\n",
       "      <th>description</th>\n",
       "      <th>preamble</th>\n",
       "      <th>para</th>\n",
       "      <th>address</th>\n",
       "      <th>signature</th>\n",
       "      <th>opening</th>\n",
       "      <th>body</th>\n",
       "      <th>closing</th>\n",
       "      <th>fecha</th>\n",
       "      <th>link</th>\n",
       "    </tr>\n",
       "  </thead>\n",
       "  <tbody>\n",
       "    <tr>\n",
       "      <th>46</th>\n",
       "      <td>49</td>\n",
       "      <td>Carta de Invitación</td>\n",
       "      <td>\\usepackage{udea}\\r\\n\\def{\\fullname}{Dr. Marcos Cardoso Rodriguez}\\r\\n\\def\\lastname{Rodriguez}</td>\n",
       "      <td>\\fullname\\\\\\r\\nGrupo de Física Teórica e Matemática\\\\\\r\\nDepartamento de Física\\\\\\r\\nUniversidade Federal Rural do Rio de Janeiro\\r\\n</td>\n",
       "      <td></td>\n",
       "      <td>Diego_en_sign</td>\n",
       "      <td>None</td>\n",
       "      <td>I have the pleasure to invite \\fullname\\ for a\\r\\nvisit to our research group at Insituto de Física, Universidad de\\r\\nAntioquia from November 27 to December 1 of present year, in order to continue\\r\\nwith research works that we are developing within the framework of our\\r\\ncollaboration and to  give a course on neutrino masses in SUSY\\r\\n%It pleases to us to say that all %the expenses caused by\\r\\n%his trip and stay in Colombia %will be covered by my group.\\r\\n\\r\\nI beforehand thanks  all t...</td>\n",
       "      <td>Best regards</td>\n",
       "      <td>2007-01-31</td>\n",
       "      <td>http://naima.udea.edu.co/cartas/cartas.php?step=1&amp;id=49</td>\n",
       "    </tr>\n",
       "  </tbody>\n",
       "</table>\n",
       "</div>"
      ],
      "text/plain": [
       "    id           description  \\\n",
       "46  49  Carta de Invitación    \n",
       "\n",
       "                                                                                          preamble  \\\n",
       "46  \\usepackage{udea}\\r\\n\\def{\\fullname}{Dr. Marcos Cardoso Rodriguez}\\r\\n\\def\\lastname{Rodriguez}   \n",
       "\n",
       "                                                                                                                                     para  \\\n",
       "46  \\fullname\\\\\\r\\nGrupo de Física Teórica e Matemática\\\\\\r\\nDepartamento de Física\\\\\\r\\nUniversidade Federal Rural do Rio de Janeiro\\r\\n   \n",
       "\n",
       "   address      signature opening  \\\n",
       "46          Diego_en_sign    None   \n",
       "\n",
       "                                                                                                                                                                                                                                                                                                                                                                                                                                                                                                                   body  \\\n",
       "46  I have the pleasure to invite \\fullname\\ for a\\r\\nvisit to our research group at Insituto de Física, Universidad de\\r\\nAntioquia from November 27 to December 1 of present year, in order to continue\\r\\nwith research works that we are developing within the framework of our\\r\\ncollaboration and to  give a course on neutrino masses in SUSY\\r\\n%It pleases to us to say that all %the expenses caused by\\r\\n%his trip and stay in Colombia %will be covered by my group.\\r\\n\\r\\nI beforehand thanks  all t...   \n",
       "\n",
       "         closing       fecha  \\\n",
       "46  Best regards  2007-01-31   \n",
       "\n",
       "                                                       link  \n",
       "46  http://naima.udea.edu.co/cartas/cartas.php?step=1&id=49  "
      ]
     },
     "execution_count": 14,
     "metadata": {},
     "output_type": "execute_result"
    }
   ],
   "source": [
    "df"
   ]
  },
  {
   "cell_type": "code",
   "execution_count": 15,
   "metadata": {
    "collapsed": true
   },
   "outputs": [],
   "source": [
    "c=df[df.id==df.id.values[-1]].reset_index(drop=True).loc[0]\n",
    "c['sign']=sg[sg.signature==c.signature].reset_index(drop=True).loc[0,'sign']"
   ]
  },
  {
   "cell_type": "code",
   "execution_count": 16,
   "metadata": {},
   "outputs": [
    {
     "data": {
      "text/plain": [
       "id                                                                                                                                                                                                                                                                                                                                                                                                                                                                                                                              49\n",
       "description                                                                                                                                                                                                                                                                                                                                                                                                                                                                                                   Carta de Invitación \n",
       "preamble                                                                                                                                                                                                                                                                                                                                                                                                                            \\usepackage{udea}\\r\\n\\def{\\fullname}{Dr. Marcos Cardoso Rodriguez}\\r\\n\\def\\lastname{Rodriguez}\n",
       "para                                                                                                                                                                                                                                                                                                                                                                                         \\fullname\\\\\\r\\nGrupo de Física Teórica e Matemática\\\\\\r\\nDepartamento de Física\\\\\\r\\nUniversidade Federal Rural do Rio de Janeiro\\r\\n\n",
       "address                                                                                                                                                                                                                                                                                                                                                                                                                                                                                                                           \n",
       "signature                                                                                                                                                                                                                                                                                                                                                                                                                                                                                                            Diego_en_sign\n",
       "opening                                                                                                                                                                                                                                                                                                                                                                                                                                                                                                                       None\n",
       "body           I have the pleasure to invite \\fullname\\ for a\\r\\nvisit to our research group at Insituto de Física, Universidad de\\r\\nAntioquia from November 27 to December 1 of present year, in order to continue\\r\\nwith research works that we are developing within the framework of our\\r\\ncollaboration and to  give a course on neutrino masses in SUSY\\r\\n%It pleases to us to say that all %the expenses caused by\\r\\n%his trip and stay in Colombia %will be covered by my group.\\r\\n\\r\\nI beforehand thanks  all t...\n",
       "closing                                                                                                                                                                                                                                                                                                                                                                                                                                                                                                               Best regards\n",
       "fecha                                                                                                                                                                                                                                                                                                                                                                                                                                                                                                                   2007-01-31\n",
       "link                                                                                                                                                                                                                                                                                                                                                                                                                                                                       http://naima.udea.edu.co/cartas/cartas.php?step=1&id=49\n",
       "sign                                                                                                                                                                                                                                                                                                                                                                      \\includegraphics[scale=0.4]{firma}\\\\\\r\\n\\noindent\\r\\nDiego Restrepo\\\\\\r\\nFull  Time Professor\\\\\\r\\nInstituto de F\\'\\i sica\\\\\\r\\nUniversidad de Antioquia\n",
       "Name: 0, dtype: object"
      ]
     },
     "execution_count": 16,
     "metadata": {},
     "output_type": "execute_result"
    }
   ],
   "source": [
    "c"
   ]
  },
  {
   "cell_type": "code",
   "execution_count": 17,
   "metadata": {
    "collapsed": true
   },
   "outputs": [],
   "source": [
    "row=c"
   ]
  },
  {
   "cell_type": "code",
   "execution_count": 31,
   "metadata": {},
   "outputs": [
    {
     "name": "stdout",
     "output_type": "stream",
     "text": [
      "This is pdfTeX, Version 3.14159265-2.6-1.40.15 (TeX Live 2015/dev/Debian) (preloaded format=pdflatex)\n",
      " restricted \\write18 enabled.\n",
      "entering extended mode\n",
      "(/tmp/tmpg_gp_7ls.tex\n",
      "LaTeX2e <2014/05/01>\n",
      "Babel <3.9l> and hyphenation patterns for 79 languages loaded.\n",
      "(/usr/share/texlive/texmf-dist/tex/latex/base/letter.cls\n",
      "Document Class: letter 2014/09/29 v1.2z Standard LaTeX document class\n",
      "(/usr/share/texlive/texmf-dist/tex/latex/base/size10.clo))\n",
      "(/usr/share/texlive/texmf-dist/tex/latex/base/inputenc.sty\n",
      "(/usr/share/texlive/texmf-dist/tex/latex/base/utf8.def\n",
      "(/usr/share/texlive/texmf-dist/tex/latex/base/t1enc.dfu)\n",
      "(/usr/share/texlive/texmf-dist/tex/latex/base/ot1enc.dfu)\n",
      "(/usr/share/texlive/texmf-dist/tex/latex/base/omsenc.dfu)))\n",
      "(/usr/share/texlive/texmf-dist/tex/latex/cartas/udea.sty\n",
      "(/usr/share/texlive/texmf-dist/tex/latex/graphics/graphicx.sty\n",
      "(/usr/share/texlive/texmf-dist/tex/latex/graphics/keyval.sty)\n",
      "(/usr/share/texlive/texmf-dist/tex/latex/graphics/graphics.sty\n",
      "(/usr/share/texlive/texmf-dist/tex/latex/graphics/trig.sty)\n",
      "(/usr/share/texlive/texmf-dist/tex/latex/latexconfig/graphics.cfg)\n",
      "(/usr/share/texlive/texmf-dist/tex/latex/pdftex-def/pdftex.def\n",
      "(/usr/share/texlive/texmf-dist/tex/generic/oberdiek/infwarerr.sty)\n",
      "(/usr/share/texlive/texmf-dist/tex/generic/oberdiek/ltxcmds.sty))))\n",
      "(/usr/share/texlive/texmf-dist/tex/latex/base/ifthen.sty)\n",
      "(/usr/share/texlive/texmf-dist/tex/latex/hyperref/hyperref.sty\n",
      "(/usr/share/texlive/texmf-dist/tex/generic/oberdiek/hobsub-hyperref.sty\n",
      "(/usr/share/texlive/texmf-dist/tex/generic/oberdiek/hobsub-generic.sty))\n",
      "(/usr/share/texlive/texmf-dist/tex/generic/ifxetex/ifxetex.sty)\n",
      "(/usr/share/texlive/texmf-dist/tex/latex/oberdiek/auxhook.sty)\n",
      "(/usr/share/texlive/texmf-dist/tex/latex/oberdiek/kvoptions.sty)\n",
      "(/usr/share/texlive/texmf-dist/tex/latex/hyperref/pd1enc.def)\n",
      "(/usr/share/texlive/texmf-dist/tex/latex/latexconfig/hyperref.cfg)\n",
      "(/usr/share/texlive/texmf-dist/tex/latex/url/url.sty))\n",
      "\n",
      "Package hyperref Message: Driver (autodetected): hpdftex.\n",
      "\n",
      "(/usr/share/texlive/texmf-dist/tex/latex/hyperref/hpdftex.def\n",
      "(/usr/share/texlive/texmf-dist/tex/latex/oberdiek/rerunfilecheck.sty))\n",
      "(/usr/share/texlive/texmf-dist/tex/latex/base/fontenc.sty\n",
      "(/usr/share/texlive/texmf-dist/tex/latex/base/t1enc.def))\n",
      "(/usr/share/texlive/texmf-dist/tex/latex/base/textcomp.sty\n",
      "(/usr/share/texlive/texmf-dist/tex/latex/base/ts1enc.def\n",
      "(/usr/share/texlive/texmf-dist/tex/latex/base/ts1enc.dfu)))\n",
      "(/usr/share/texlive/texmf-dist/tex/latex/psnfss/t1phv.fd)\n",
      "(/usr/share/texlive/texmf-dist/tex/latex/psnfss/t1pag.fd)\n",
      "<udea.pdf, id=1, 217.613pt x 130.88899pt> <use udea.pdf>\n",
      "(/usr/share/texlive/texmf-dist/tex/latex/psnfss/t1pcr.fd)\n",
      "Overfull \\hbox (56.90552pt too wide) in paragraph at lines 106--106\n",
      "| [] \n",
      ")\n",
      "! Missing control sequence inserted.\n",
      "<inserted text> \n",
      "                \\inaccessible \n",
      "l.6 \\def{\n",
      "         \\fullname}{Dr. Marcos Cardoso Rodriguez}\n",
      "? \n",
      "! Emergency stop.\n",
      "<inserted text> \n",
      "                \\inaccessible \n",
      "l.6 \\def{\n",
      "         \\fullname}{Dr. Marcos Cardoso Rodriguez}\n",
      "!  ==> Fatal error occurred, no output PDF file produced!\n",
      "Transcript written on tmpg_gp_7ls.log.\n",
      "\n"
     ]
    },
    {
     "ename": "SystemExit",
     "evalue": "LaTeX ERROR:",
     "output_type": "error",
     "traceback": [
      "An exception has occurred, use %tb to see the full traceback.\n",
      "\u001b[0;31mSystemExit\u001b[0m\u001b[0;31m:\u001b[0m LaTeX ERROR:\n"
     ]
    },
    {
     "name": "stderr",
     "output_type": "stream",
     "text": [
      "/usr/local/lib/python3.4/dist-packages/IPython/core/interactiveshell.py:2870: UserWarning: To exit: use 'exit', 'quit', or Ctrl-D.\n",
      "  warn(\"To exit: use 'exit', 'quit', or Ctrl-D.\", stacklevel=1)\n"
     ]
    }
   ],
   "source": [
    "lo=generate_pdf(row)"
   ]
  },
  {
   "cell_type": "code",
   "execution_count": 29,
   "metadata": {},
   "outputs": [
    {
     "name": "stdout",
     "output_type": "stream",
     "text": [
      "This is pdfTeX, Version 3.14159265-2.6-1.40.15 (TeX Live 2015/dev/Debian) (preloaded format=pdflatex)\n",
      " restricted \\write18 enabled.\n",
      "entering extended mode\n",
      "(/tmp/tmpj2_wegy8.tex\n",
      "LaTeX2e <2014/05/01>\n",
      "Babel <3.9l> and hyphenation patterns for 79 languages loaded.\n",
      "(/usr/share/texlive/texmf-dist/tex/latex/base/letter.cls\n",
      "Document Class: letter 2014/09/29 v1.2z Standard LaTeX document class\n",
      "(/usr/share/texlive/texmf-dist/tex/latex/base/size10.clo))\n",
      "(/usr/share/texlive/texmf-dist/tex/latex/base/inputenc.sty\n",
      "(/usr/share/texlive/texmf-dist/tex/latex/base/utf8.def\n",
      "(/usr/share/texlive/texmf-dist/tex/latex/base/t1enc.dfu)\n",
      "(/usr/share/texlive/texmf-dist/tex/latex/base/ot1enc.dfu)\n",
      "(/usr/share/texlive/texmf-dist/tex/latex/base/omsenc.dfu)))\n",
      "(/usr/share/texlive/texmf-dist/tex/latex/cartas/udea.sty\n",
      "(/usr/share/texlive/texmf-dist/tex/latex/graphics/graphicx.sty\n",
      "(/usr/share/texlive/texmf-dist/tex/latex/graphics/keyval.sty)\n",
      "(/usr/share/texlive/texmf-dist/tex/latex/graphics/graphics.sty\n",
      "(/usr/share/texlive/texmf-dist/tex/latex/graphics/trig.sty)\n",
      "(/usr/share/texlive/texmf-dist/tex/latex/latexconfig/graphics.cfg)\n",
      "(/usr/share/texlive/texmf-dist/tex/latex/pdftex-def/pdftex.def\n",
      "(/usr/share/texlive/texmf-dist/tex/generic/oberdiek/infwarerr.sty)\n",
      "(/usr/share/texlive/texmf-dist/tex/generic/oberdiek/ltxcmds.sty))))\n",
      "(/usr/share/texlive/texmf-dist/tex/latex/base/ifthen.sty)\n",
      "(/usr/share/texlive/texmf-dist/tex/latex/hyperref/hyperref.sty\n",
      "(/usr/share/texlive/texmf-dist/tex/generic/oberdiek/hobsub-hyperref.sty\n",
      "(/usr/share/texlive/texmf-dist/tex/generic/oberdiek/hobsub-generic.sty))\n",
      "(/usr/share/texlive/texmf-dist/tex/generic/ifxetex/ifxetex.sty)\n",
      "(/usr/share/texlive/texmf-dist/tex/latex/oberdiek/auxhook.sty)\n",
      "(/usr/share/texlive/texmf-dist/tex/latex/oberdiek/kvoptions.sty)\n",
      "(/usr/share/texlive/texmf-dist/tex/latex/hyperref/pd1enc.def)\n",
      "(/usr/share/texlive/texmf-dist/tex/latex/latexconfig/hyperref.cfg)\n",
      "(/usr/share/texlive/texmf-dist/tex/latex/url/url.sty))\n",
      "\n",
      "Package hyperref Message: Driver (autodetected): hpdftex.\n",
      "\n",
      "(/usr/share/texlive/texmf-dist/tex/latex/hyperref/hpdftex.def\n",
      "(/usr/share/texlive/texmf-dist/tex/latex/oberdiek/rerunfilecheck.sty))\n",
      "(/usr/share/texlive/texmf-dist/tex/latex/base/fontenc.sty\n",
      "(/usr/share/texlive/texmf-dist/tex/latex/base/t1enc.def))\n",
      "(/usr/share/texlive/texmf-dist/tex/latex/base/textcomp.sty\n",
      "(/usr/share/texlive/texmf-dist/tex/latex/base/ts1enc.def\n",
      "(/usr/share/texlive/texmf-dist/tex/latex/base/ts1enc.dfu)))\n",
      "(/usr/share/texlive/texmf-dist/tex/latex/psnfss/t1phv.fd)\n",
      "(/usr/share/texlive/texmf-dist/tex/latex/psnfss/t1pag.fd)\n",
      "<udea.pdf, id=1, 217.613pt x 130.88899pt> <use udea.pdf>\n",
      "(/usr/share/texlive/texmf-dist/tex/latex/psnfss/t1pcr.fd)\n",
      "Overfull \\hbox (56.90552pt too wide) in paragraph at lines 106--106\n",
      "| [] \n",
      ")\n",
      "! Missing control sequence inserted.\n",
      "<inserted text> \n",
      "                \\inaccessible \n",
      "l.6 \\def{\n",
      "         \\fullname}{Dr. Marcos Cardoso Rodriguez}\n",
      "? \n",
      "! Emergency stop.\n",
      "<inserted text> \n",
      "                \\inaccessible \n",
      "l.6 \\def{\n",
      "         \\fullname}{Dr. Marcos Cardoso Rodriguez}\n",
      "!  ==> Fatal error occurred, no output PDF file produced!\n",
      "Transcript written on tmpj2_wegy8.log.\n",
      "\n"
     ]
    }
   ],
   "source": [
    "print(lo[0].decode('utf8'))"
   ]
  },
  {
   "cell_type": "code",
   "execution_count": 21,
   "metadata": {},
   "outputs": [
    {
     "data": {
      "text/plain": [
       "\"\\\\includegraphics[scale=0.4]{firma}\\\\\\\\\\r\\n\\\\noindent\\r\\nDiego A. Restrepo Quintero\\\\\\\\\\r\\nCoordinador\\\\\\\\\\r\\nGrupo de Fenomenología de Interacciones Fundamentales\\\\\\\\\\r\\nInstituto de F\\\\'\\\\i sica\\\\\\\\\\r\\nUniversidad de Antioquia\""
      ]
     },
     "execution_count": 21,
     "metadata": {},
     "output_type": "execute_result"
    }
   ],
   "source": [
    "c.sign"
   ]
  },
  {
   "cell_type": "code",
   "execution_count": 18,
   "metadata": {},
   "outputs": [
    {
     "data": {
      "text/plain": [
       "(b'', b'')"
      ]
     },
     "execution_count": 18,
     "metadata": {},
     "output_type": "execute_result"
    }
   ],
   "source": [
    "ok"
   ]
  },
  {
   "cell_type": "code",
   "execution_count": 10,
   "metadata": {},
   "outputs": [
    {
     "data": {
      "text/plain": [
       "['mysqldump',\n",
       " '-u',\n",
       " 'root',\n",
       " '-ppoioiulkj',\n",
       " 'cartas_gfif',\n",
       " '>',\n",
       " 'db_cartas_gfif_backup.sql']"
      ]
     },
     "execution_count": 10,
     "metadata": {},
     "output_type": "execute_result"
    }
   ],
   "source": [
    "'mysqldump -u root -p{:s} {:s} > db_{:s}_backup.sql'.format(password,tipo_carta[NTC],tipo_carta[NTC]).split()"
   ]
  },
  {
   "cell_type": "markdown",
   "metadata": {},
   "source": [
    "## Search in body"
   ]
  },
  {
   "cell_type": "code",
   "execution_count": 50,
   "metadata": {
    "collapsed": true
   },
   "outputs": [],
   "source": [
    "id=99\n",
    "if id >0:\n",
    "    dfs=df[df.id==id].reset_index(drop=True)\n",
    "else:    \n",
    "    dfs=df[df.body.str.lower().map(unidecode.unidecode).str.contains('impacto social')].reset_index(drop=True)"
   ]
  },
  {
   "cell_type": "code",
   "execution_count": null,
   "metadata": {
    "collapsed": true
   },
   "outputs": [],
   "source": [
    "dfs"
   ]
  },
  {
   "cell_type": "code",
   "execution_count": 52,
   "metadata": {
    "collapsed": true
   },
   "outputs": [],
   "source": [
    "c=dfs.loc[dfs.index.values[-1]]"
   ]
  },
  {
   "cell_type": "code",
   "execution_count": null,
   "metadata": {
    "collapsed": true
   },
   "outputs": [],
   "source": [
    "c"
   ]
  },
  {
   "cell_type": "code",
   "execution_count": null,
   "metadata": {
    "collapsed": true
   },
   "outputs": [],
   "source": [
    "c.keys().values"
   ]
  },
  {
   "cell_type": "code",
   "execution_count": null,
   "metadata": {
    "collapsed": true
   },
   "outputs": [],
   "source": [
    "for k in c.keys():\n",
    "    print(k)\n",
    "    if c[k]==None:\n",
    "        c[k]=''"
   ]
  },
  {
   "cell_type": "code",
   "execution_count": 52,
   "metadata": {
    "collapsed": true
   },
   "outputs": [],
   "source": [
    "c.closing"
   ]
  },
  {
   "cell_type": "code",
   "execution_count": 34,
   "metadata": {},
   "outputs": [
    {
     "data": {
      "text/plain": [
       "'Best regards'"
      ]
     },
     "execution_count": 34,
     "metadata": {},
     "output_type": "execute_result"
    }
   ],
   "source": [
    "c.closing"
   ]
  },
  {
   "cell_type": "code",
   "execution_count": 35,
   "metadata": {},
   "outputs": [
    {
     "ename": "TypeError",
     "evalue": "Can't convert 'NoneType' object to str implicitly",
     "output_type": "error",
     "traceback": [
      "\u001b[0;31m---------------------------------------------------------------------------\u001b[0m",
      "\u001b[0;31mTypeError\u001b[0m                                 Traceback (most recent call last)",
      "\u001b[0;32m<ipython-input-35-1241e7064ef2>\u001b[0m in \u001b[0;36m<module>\u001b[0;34m()\u001b[0m\n\u001b[1;32m     13\u001b[0m \u001b[0;34m'''+c.body+r'''\u001b[0m\u001b[0;34m\u001b[0m\u001b[0m\n\u001b[1;32m     14\u001b[0m \u001b[0;34m\u001b[0m\u001b[0m\n\u001b[0;32m---> 15\u001b[0;31m \u001b[0;31m\\\u001b[0m\u001b[0mclosing\u001b[0m\u001b[0;34m{\u001b[0m\u001b[0;34m'''+c.closing+r'''\u001b[0m\u001b[0;34m}\u001b[0m\u001b[0;34m\u001b[0m\u001b[0m\n\u001b[0m\u001b[1;32m     16\u001b[0m \u001b[0;31m\\\u001b[0m\u001b[0mend\u001b[0m\u001b[0;34m{\u001b[0m\u001b[0mletter\u001b[0m\u001b[0;34m}\u001b[0m\u001b[0;34m\u001b[0m\u001b[0m\n\u001b[1;32m     17\u001b[0m \u001b[0;31m\\\u001b[0m\u001b[0mend\u001b[0m\u001b[0;34m{\u001b[0m\u001b[0mdocument\u001b[0m\u001b[0;34m}\u001b[0m\u001b[0;34m\u001b[0m\u001b[0m\n",
      "\u001b[0;31mTypeError\u001b[0m: Can't convert 'NoneType' object to str implicitly"
     ]
    }
   ],
   "source": [
    "latexfile=r'''\n",
    "%'''+c.description+r'''\n",
    "\\documentclass{letter}\n",
    "\\usepackage[utf8]{inputenc}\n",
    "'''+c.preamble+r'''\n",
    "'''+c.address+r'''\n",
    "\\signature{'''+sg[sg.signature==c.signature].sign.values[0]+r'''}\n",
    "\\begin{document}\n",
    "\\begin{letter}{'''+c.para+r'''}\n",
    "\n",
    "\\opening{'''+c.opening+r'''} \n",
    "\n",
    "'''+c.body+r'''\n",
    "\n",
    "\\closing{'''+c.closing+r'''}\n",
    "\\end{letter}\n",
    "\\end{document}\n",
    "'''"
   ]
  },
  {
   "cell_type": "code",
   "execution_count": null,
   "metadata": {
    "collapsed": true
   },
   "outputs": [],
   "source": [
    "print(latexfile)"
   ]
  },
  {
   "cell_type": "code",
   "execution_count": 58,
   "metadata": {
    "collapsed": true
   },
   "outputs": [],
   "source": [
    "f=tempfile.NamedTemporaryFile('w',suffix='.tex',delete=False)"
   ]
  },
  {
   "cell_type": "code",
   "execution_count": 59,
   "metadata": {},
   "outputs": [
    {
     "data": {
      "text/plain": [
       "2017"
      ]
     },
     "execution_count": 59,
     "metadata": {},
     "output_type": "execute_result"
    }
   ],
   "source": [
    "f.write(latexfile)"
   ]
  },
  {
   "cell_type": "code",
   "execution_count": 60,
   "metadata": {},
   "outputs": [
    {
     "data": {
      "text/plain": [
       "'/tmp/tmppt2pwnu1.tex'"
      ]
     },
     "execution_count": 60,
     "metadata": {},
     "output_type": "execute_result"
    }
   ],
   "source": [
    "f.name"
   ]
  },
  {
   "cell_type": "code",
   "execution_count": 61,
   "metadata": {
    "collapsed": true
   },
   "outputs": [],
   "source": [
    "f.close()"
   ]
  },
  {
   "cell_type": "code",
   "execution_count": 62,
   "metadata": {
    "collapsed": true
   },
   "outputs": [],
   "source": [
    "lo=subprocess.Popen('pdflatex {:s}'.format(f.name).split(),cwd='/tmp',stdout=subprocess.PIPE,stderr=subprocess.PIPE).communicate()"
   ]
  },
  {
   "cell_type": "code",
   "execution_count": null,
   "metadata": {
    "collapsed": true
   },
   "outputs": [],
   "source": [
    "pdffile='{:s}'.format(f.name).split('.tex')[0]+'.pdf'\n",
    "if lo[0].decode('utf8').find(pdffile.split('/')[-1])>-1:\n",
    "    pdf='carta_{:d}.pdf'.format(c['id'])\n",
    "    dwld_dir='downloads'\n",
    "    kk=subprocess.Popen('mv {:s} /var/www/{:s}/{:s}'.format(pdffile,dwld_dir,pdf).split()).communicate()\n",
    "    print('output in http://gfif.udea.edu.co/{:s}/{:s}'.format(dwld_dir,pdf))\n",
    "    for suffix in  ['.aux','.log','.out','.tex']:\n",
    "        subprocess.Popen( ['rm', '{:s}'.format(f.name).split('.tex')[0]+suffix] ).communicate()\n",
    "else:\n",
    "    sys.exit('LaTeX ERROR:')    "
   ]
  },
  {
   "cell_type": "code",
   "execution_count": null,
   "metadata": {
    "collapsed": true
   },
   "outputs": [],
   "source": []
  }
 ],
 "metadata": {
  "kernelspec": {
   "display_name": "Python 3",
   "language": "python",
   "name": "python3"
  },
  "language_info": {
   "codemirror_mode": {
    "name": "ipython",
    "version": 3
   },
   "file_extension": ".py",
   "mimetype": "text/x-python",
   "name": "python",
   "nbconvert_exporter": "python",
   "pygments_lexer": "ipython3",
   "version": "3.5.3"
  },
  "latex_envs": {
   "LaTeX_envs_menu_present": true,
   "bibliofile": "biblio.bib",
   "cite_by": "apalike",
   "current_citInitial": 1,
   "eqLabelWithNumbers": true,
   "eqNumInitial": 1,
   "labels_anchors": false,
   "latex_user_defs": false,
   "report_style_numbering": false,
   "user_envs_cfg": false
  }
 },
 "nbformat": 4,
 "nbformat_minor": 2
}
