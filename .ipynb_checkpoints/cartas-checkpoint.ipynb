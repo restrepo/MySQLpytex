{
 "cells": [
  {
   "cell_type": "code",
   "execution_count": 1,
   "metadata": {},
   "outputs": [],
   "source": [
    "import getpass\n",
    "import pymysql\n",
    "import unidecode\n",
    "import pandas as pd"
   ]
  },
  {
   "cell_type": "code",
   "execution_count": 2,
   "metadata": {
    "collapsed": true
   },
   "outputs": [],
   "source": [
    "pd.set_option('display.max_rows', 500)\n",
    "pd.set_option('display.max_columns', 500)\n",
    "pd.set_option('display.max_colwidth',500)"
   ]
  },
  {
   "cell_type": "code",
   "execution_count": 3,
   "metadata": {},
   "outputs": [
    {
     "name": "stdout",
     "output_type": "stream",
     "text": [
      "········\n"
     ]
    }
   ],
   "source": [
    "password=getpass.getpass()"
   ]
  },
  {
   "cell_type": "code",
   "execution_count": 4,
   "metadata": {},
   "outputs": [],
   "source": [
    "tipo_carta=['Diego_Restrepo', 'cartas_gfif']\n",
    "conn = pymysql.connect(host='localhost', port=3306, user='root', passwd=password, db=tipo_carta[0])"
   ]
  },
  {
   "cell_type": "code",
   "execution_count": 5,
   "metadata": {
    "collapsed": true
   },
   "outputs": [],
   "source": [
    "df=pd.read_sql('select * from cartas;', con=conn)"
   ]
  },
  {
   "cell_type": "code",
   "execution_count": 6,
   "metadata": {
    "collapsed": true
   },
   "outputs": [],
   "source": [
    "sg=pd.read_sql('select * from cartas_sign;', con=conn)"
   ]
  },
  {
   "cell_type": "markdown",
   "metadata": {},
   "source": [
    "Last entry"
   ]
  },
  {
   "cell_type": "markdown",
   "metadata": {},
   "source": [
    "## Search in body"
   ]
  },
  {
   "cell_type": "code",
   "execution_count": 7,
   "metadata": {},
   "outputs": [
    {
     "data": {
      "text/html": [
       "<div>\n",
       "<style>\n",
       "    .dataframe thead tr:only-child th {\n",
       "        text-align: right;\n",
       "    }\n",
       "\n",
       "    .dataframe thead th {\n",
       "        text-align: left;\n",
       "    }\n",
       "\n",
       "    .dataframe tbody tr th {\n",
       "        vertical-align: top;\n",
       "    }\n",
       "</style>\n",
       "<table border=\"1\" class=\"dataframe\">\n",
       "  <thead>\n",
       "    <tr style=\"text-align: right;\">\n",
       "      <th></th>\n",
       "      <th>id</th>\n",
       "      <th>description</th>\n",
       "      <th>preamble</th>\n",
       "      <th>para</th>\n",
       "      <th>address</th>\n",
       "      <th>signature</th>\n",
       "      <th>opening</th>\n",
       "      <th>body</th>\n",
       "      <th>closing</th>\n",
       "      <th>fecha</th>\n",
       "      <th>link</th>\n",
       "    </tr>\n",
       "  </thead>\n",
       "  <tbody>\n",
       "    <tr>\n",
       "      <th>274</th>\n",
       "      <td>280</td>\n",
       "      <td></td>\n",
       "      <td>\\usepackage{udea}\\usepackage[spanish]{babel}</td>\n",
       "      <td>Señores COMITÉ TÉCNICO\\\\\\r\\nCentro de Investigación de Ciencias Naturales y Exactas</td>\n",
       "      <td></td>\n",
       "      <td>Diego IP</td>\n",
       "      <td>Respetados señores:</td>\n",
       "      <td>Solicitamos aval para presentar solicitud al CODI de hacer un aplazamiento a la firma del acta de inicio del proyecto intitulado ``IMPACTO SOCIAL, CIENTÍFICO Y ACTIVIDADES DE VINCULACIÓN CON EL ENTORNO DE CENTROS DE INVESTIGACIÓN DE LA UNIVERSIDAD DE ANTIOQUIA\". Este proyecto fue aprobado por el CODI en el marco de la convocatoria programática del área de ciencias sociales, humanidades y artes 2016 en acta 748 del 2017.\\r\\n \\r\\nDebido a que la decisión final de aceptación fue posterior a la ...</td>\n",
       "      <td>Agradeciendo su colaboración en este sentido</td>\n",
       "      <td>2017-09-06</td>\n",
       "      <td>http://gfif.udea.edu.co/cartas/cartas.php?step=1&amp;id=</td>\n",
       "    </tr>\n",
       "  </tbody>\n",
       "</table>\n",
       "</div>"
      ],
      "text/plain": [
       "      id description                                      preamble  \\\n",
       "274  280              \\usepackage{udea}\\usepackage[spanish]{babel}   \n",
       "\n",
       "                                                                                    para  \\\n",
       "274  Señores COMITÉ TÉCNICO\\\\\\r\\nCentro de Investigación de Ciencias Naturales y Exactas   \n",
       "\n",
       "    address signature              opening  \\\n",
       "274          Diego IP  Respetados señores:   \n",
       "\n",
       "                                                                                                                                                                                                                                                                                                                                                                                                                                                                                                                    body  \\\n",
       "274  Solicitamos aval para presentar solicitud al CODI de hacer un aplazamiento a la firma del acta de inicio del proyecto intitulado ``IMPACTO SOCIAL, CIENTÍFICO Y ACTIVIDADES DE VINCULACIÓN CON EL ENTORNO DE CENTROS DE INVESTIGACIÓN DE LA UNIVERSIDAD DE ANTIOQUIA\". Este proyecto fue aprobado por el CODI en el marco de la convocatoria programática del área de ciencias sociales, humanidades y artes 2016 en acta 748 del 2017.\\r\\n \\r\\nDebido a que la decisión final de aceptación fue posterior a la ...   \n",
       "\n",
       "                                          closing       fecha  \\\n",
       "274  Agradeciendo su colaboración en este sentido  2017-09-06   \n",
       "\n",
       "                                                     link  \n",
       "274  http://gfif.udea.edu.co/cartas/cartas.php?step=1&id=  "
      ]
     },
     "execution_count": 7,
     "metadata": {},
     "output_type": "execute_result"
    }
   ],
   "source": [
    "df[df.body.str.lower().map(unidecode.unidecode).str.contains('impacto social')]"
   ]
  },
  {
   "cell_type": "code",
   "execution_count": 8,
   "metadata": {
    "collapsed": true
   },
   "outputs": [],
   "source": [
    "c=df.loc[df.index.values[-1]]"
   ]
  },
  {
   "cell_type": "code",
   "execution_count": 9,
   "metadata": {},
   "outputs": [
    {
     "data": {
      "text/plain": [
       "id                                                                                                                                                                                                                                                                                                                                                                                                                                                                                                                             280\n",
       "description                                                                                                                                                                                                                                                                                                                                                                                                                                                                                                                       \n",
       "preamble                                                                                                                                                                                                                                                                                                                                                                                                                                                                              \\usepackage{udea}\\usepackage[spanish]{babel}\n",
       "para                                                                                                                                                                                                                                                                                                                                                                                                                                           Señores COMITÉ TÉCNICO\\\\\\r\\nCentro de Investigación de Ciencias Naturales y Exactas\n",
       "address                                                                                                                                                                                                                                                                                                                                                                                                                                                                                                                           \n",
       "signature                                                                                                                                                                                                                                                                                                                                                                                                                                                                                                                 Diego IP\n",
       "opening                                                                                                                                                                                                                                                                                                                                                                                                                                                                                                        Respetados señores:\n",
       "body           Solicitamos aval para presentar solicitud al CODI de hacer un aplazamiento a la firma del acta de inicio del proyecto intitulado ``IMPACTO SOCIAL, CIENTÍFICO Y ACTIVIDADES DE VINCULACIÓN CON EL ENTORNO DE CENTROS DE INVESTIGACIÓN DE LA UNIVERSIDAD DE ANTIOQUIA\". Este proyecto fue aprobado por el CODI en el marco de la convocatoria programática del área de ciencias sociales, humanidades y artes 2016 en acta 748 del 2017.\\r\\n \\r\\nDebido a que la decisión final de aceptación fue posterior a la ...\n",
       "closing                                                                                                                                                                                                                                                                                                                                                                                                                                                                               Agradeciendo su colaboración en este sentido\n",
       "fecha                                                                                                                                                                                                                                                                                                                                                                                                                                                                                                                   2017-09-06\n",
       "link                                                                                                                                                                                                                                                                                                                                                                                                                                                                          http://gfif.udea.edu.co/cartas/cartas.php?step=1&id=\n",
       "Name: 274, dtype: object"
      ]
     },
     "execution_count": 9,
     "metadata": {},
     "output_type": "execute_result"
    }
   ],
   "source": [
    "c"
   ]
  },
  {
   "cell_type": "code",
   "execution_count": 10,
   "metadata": {},
   "outputs": [
    {
     "data": {
      "text/plain": [
       "array(['id', 'description', 'preamble', 'para', 'address', 'signature',\n",
       "       'opening', 'body', 'closing', 'fecha', 'link'], dtype=object)"
      ]
     },
     "execution_count": 10,
     "metadata": {},
     "output_type": "execute_result"
    }
   ],
   "source": [
    "c.keys().values"
   ]
  },
  {
   "cell_type": "code",
   "execution_count": 11,
   "metadata": {},
   "outputs": [
    {
     "name": "stdout",
     "output_type": "stream",
     "text": [
      "id\n",
      "description\n",
      "preamble\n",
      "para\n",
      "address\n",
      "signature\n",
      "opening\n",
      "body\n",
      "closing\n",
      "fecha\n",
      "link\n"
     ]
    }
   ],
   "source": [
    "for k in c.keys():\n",
    "    print(k)\n",
    "    if c[k]==None:\n",
    "        c[k]=''"
   ]
  },
  {
   "cell_type": "code",
   "execution_count": 12,
   "metadata": {},
   "outputs": [],
   "source": [
    "latexfile=r'''\n",
    "%'''+c.description+r'''\n",
    "\\documentclass{letter}\n",
    "\\usepackage[utf8]{inputenc}\n",
    "'''+c.preamble+r'''\n",
    "'''+c.address+r'''\n",
    "\\signature{'''+sg[sg.signature==c.signature].sign.values[0]+r'''}\n",
    "\\begin{document}\n",
    "\\begin{letter}{'''+c.para+r'''}\n",
    "\n",
    "\\opening{'''+c.opening+r'''} \n",
    "\n",
    "'''+c.body+r'''\n",
    "\n",
    "\\closing{'''+c.closing+r'''}\n",
    "\\end{letter}\n",
    "\\end{document}\n",
    "'''"
   ]
  },
  {
   "cell_type": "code",
   "execution_count": 13,
   "metadata": {},
   "outputs": [],
   "source": [
    "import tempfile\n",
    "import subprocess\n",
    "import sys"
   ]
  },
  {
   "cell_type": "code",
   "execution_count": 14,
   "metadata": {},
   "outputs": [],
   "source": [
    "f=tempfile.NamedTemporaryFile('w',suffix='.tex',delete=False)"
   ]
  },
  {
   "cell_type": "code",
   "execution_count": 15,
   "metadata": {},
   "outputs": [
    {
     "name": "stdout",
     "output_type": "stream",
     "text": [
      "\n",
      "%\n",
      "\\documentclass{letter}\n",
      "\\usepackage[utf8]{inputenc}\n",
      "\\usepackage{udea}\\usepackage[spanish]{babel}\n",
      "\n",
      "\\signature{Diego Restrepo\\\\\r\n",
      "Investigador Principal\\\\\r\n",
      "Profesor  de Tiempo Completo\\\\\r\n",
      "Instituto de F\\'\\i sica\\\\\r\n",
      "Universidad de Antioquia}\n",
      "\\begin{document}\n",
      "\\begin{letter}{Señores COMITÉ TÉCNICO\\\\\r\n",
      "Centro de Investigación de Ciencias Naturales y Exactas}\n",
      "\n",
      "\\opening{Respetados señores:} \n",
      "\n",
      "Solicitamos aval para presentar solicitud al CODI de hacer un aplazamiento a la firma del acta de inicio del proyecto intitulado ``IMPACTO SOCIAL, CIENTÍFICO Y ACTIVIDADES DE VINCULACIÓN CON EL ENTORNO DE CENTROS DE INVESTIGACIÓN DE LA UNIVERSIDAD DE ANTIOQUIA\". Este proyecto fue aprobado por el CODI en el marco de la convocatoria programática del área de ciencias sociales, humanidades y artes 2016 en acta 748 del 2017.\r\n",
      " \r\n",
      "Debido a que la decisión final de aceptación fue posterior a la negociación de los planes de trabajo de algunos investigadores que hacen parte, debemos postergar el inicio hasta la firma de un nuevo plan de trabajo en el mes de enero. Ese plan de trabajo implica la pasantía de algunos profesores en el extranjero por este semestre, la terminación de un compromiso de investigación previo adquirido en la primera etapa de este proyecto aprobado y financiado por la Sede de Investigación Universitaria y la búsqueda de u nuevo estudiante de formación que cumpla con las condiciones necesarias para ser aceptado como estudiante en formación.\r\n",
      "Por lo tanto solicitamos que nuestro proyecto pueda ser iniciado en el mes de febrero de 2017 para dar curso normal a las actividades de acuerdo al plan de trabajo que hemos propuesto en el cronograma aprobado por el CODI.\r\n",
      " \r\n",
      "Agradecemos de antemano su atención y quedamos atentos a sus indicaciones.\n",
      "\n",
      "\\closing{Agradeciendo su colaboración en este sentido}\n",
      "\\end{letter}\n",
      "\\end{document}\n",
      "\n"
     ]
    }
   ],
   "source": [
    "print(latexfile)"
   ]
  },
  {
   "cell_type": "code",
   "execution_count": 16,
   "metadata": {},
   "outputs": [
    {
     "data": {
      "text/plain": [
       "1843"
      ]
     },
     "execution_count": 16,
     "metadata": {},
     "output_type": "execute_result"
    }
   ],
   "source": [
    "f.write(latexfile)"
   ]
  },
  {
   "cell_type": "code",
   "execution_count": 17,
   "metadata": {},
   "outputs": [
    {
     "data": {
      "text/plain": [
       "'/tmp/tmpbi758bh4.tex'"
      ]
     },
     "execution_count": 17,
     "metadata": {},
     "output_type": "execute_result"
    }
   ],
   "source": [
    "f.name"
   ]
  },
  {
   "cell_type": "code",
   "execution_count": 18,
   "metadata": {},
   "outputs": [],
   "source": [
    "f.close()"
   ]
  },
  {
   "cell_type": "code",
   "execution_count": 19,
   "metadata": {
    "collapsed": true
   },
   "outputs": [],
   "source": [
    "lo=subprocess.Popen('pdflatex {:s}'.format(f.name).split(),cwd='/tmp',stdout=subprocess.PIPE,stderr=subprocess.PIPE).communicate()"
   ]
  },
  {
   "cell_type": "code",
   "execution_count": 23,
   "metadata": {},
   "outputs": [
    {
     "name": "stdout",
     "output_type": "stream",
     "text": [
      "output in http://gfif.udea.edu.co/downloads/carta_280.pdf\n"
     ]
    }
   ],
   "source": [
    "pdffile='{:s}'.format(f.name).split('.tex')[0]+'.pdf'\n",
    "if lo[0].decode('utf8').find(pdffile.split('/')[-1])>-1:\n",
    "    pdf='carta_{:d}.pdf'.format(c['id'])\n",
    "    dwld_dir='downloads'\n",
    "    kk=subprocess.Popen('mv {:s} /var/www/{:s}/{:s}'.format(pdffile,dwld_dir,pdf).split()).communicate()\n",
    "    print('output in http://gfif.udea.edu.co/{:s}/{:s}'.format(dwld_dir,pdf))\n",
    "    for suffix in  ['.aux','.log','.out','.tex']:\n",
    "        subprocess.Popen( ['rm', '{:s}'.format(f.name).split('.tex')[0]+suffix] ).communicate()\n",
    "else:\n",
    "    sys.exit('LaTeX ERROR:')    "
   ]
  }
 ],
 "metadata": {
  "kernelspec": {
   "display_name": "Python 3",
   "language": "python",
   "name": "python3"
  },
  "language_info": {
   "codemirror_mode": {
    "name": "ipython",
    "version": 3
   },
   "file_extension": ".py",
   "mimetype": "text/x-python",
   "name": "python",
   "nbconvert_exporter": "python",
   "pygments_lexer": "ipython3",
   "version": "3.5.3"
  },
  "latex_envs": {
   "LaTeX_envs_menu_present": true,
   "bibliofile": "biblio.bib",
   "cite_by": "apalike",
   "current_citInitial": 1,
   "eqLabelWithNumbers": true,
   "eqNumInitial": 1,
   "labels_anchors": false,
   "latex_user_defs": false,
   "report_style_numbering": false,
   "user_envs_cfg": false
  }
 },
 "nbformat": 4,
 "nbformat_minor": 2
}
