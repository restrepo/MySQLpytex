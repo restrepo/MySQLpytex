{
 "cells": [
  {
   "cell_type": "markdown",
   "metadata": {},
   "source": [
    "# Read a MySQL DataBase and generate specific output"
   ]
  },
  {
   "cell_type": "code",
   "execution_count": 7,
   "metadata": {},
   "outputs": [],
   "source": [
    "import getpass\n",
    "import pymysql\n",
    "import unidecode\n",
    "import pandas as pd\n",
    "import tempfile\n",
    "import subprocess\n",
    "import sys\n",
    "\n",
    "pd.set_option('display.max_rows', 500)\n",
    "pd.set_option('display.max_columns', 500)\n",
    "pd.set_option('display.max_colwidth',500)\n",
    "\n",
    "def generate_pdf(row):\n",
    "    latexfile=r'''\n",
    "%'''+row.description+r'''\n",
    "\\documentclass{letter}\n",
    "\\usepackage[utf8]{inputenc}\n",
    "'''+row.preamble+r'''\n",
    "'''+row.address+r'''\n",
    "\\signature{'''+row.sign+r'''}\n",
    "\\begin{document}\n",
    "\\begin{letter}{'''+row.para+r'''}\n",
    "\n",
    "\\opening{'''+row.opening+r'''} \n",
    "\n",
    "'''+row.body+r'''\n",
    "\n",
    "\\closing{'''+row.closing+r'''}\n",
    "\\end{letter}\n",
    "\\end{document}\n",
    "'''\n",
    "    f=tempfile.NamedTemporaryFile('w',suffix='.tex',delete=False)\n",
    "    f.write(latexfile)\n",
    "    f.close()\n",
    "    lo=subprocess.Popen('pdflatex {:s}'.format(f.name).split(),cwd='/tmp',\n",
    "                        stdout=subprocess.PIPE,stderr=subprocess.PIPE).communicate()\n",
    "    pdffile='{:s}'.format(f.name).split('.tex')[0]+'.pdf'\n",
    "    if lo[0].decode('utf8').find(pdffile.split('/')[-1])>-1:\n",
    "        pdf='carta_{:d}.pdf'.format(row['id'])\n",
    "        dwld_dir='downloads'\n",
    "        kk=subprocess.Popen('mv {:s} /var/www/{:s}/{:s}'.format(pdffile,dwld_dir,pdf).split()).communicate()\n",
    "        print('output in http://gfif.udea.edu.co/{:s}/{:s}'.format(dwld_dir,pdf))\n",
    "        for suffix in  ['.aux','.log','.out','.tex']:\n",
    "            subprocess.Popen( ['rm', '{:s}'.format(f.name).split('.tex')[0]+suffix] ).communicate()\n",
    "    else:\n",
    "        sys.exit('LaTeX ERROR:')    \n",
    "    return latexfile\n",
    "\n",
    "def db_to_pdf(choose_db=0):\n",
    "    '''\n",
    "    Obtain letter from the last DB entry\n",
    "    Type of letter: \n",
    "      * 0 Personal\n",
    "      * 1 Group\n",
    "    '''\n",
    "    password=getpass.getpass()\n",
    "    tipo_carta=['Diego_Restrepo', 'cartas_gfif']\n",
    "    conn = pymysql.connect(host='localhost', port=3306, user='root', passwd=password, db=tipo_carta[0])\n",
    "\n",
    "    df=pd.read_sql('select * from cartas;', con=conn)\n",
    "\n",
    "    sg=pd.read_sql('select * from cartas_sign;', con=conn)\n",
    "    \n",
    "    \n",
    "    conn.close()\n",
    "    print(df.shape[0])\n",
    "    #return df,sg\n",
    "    if df.shape[0]:\n",
    "        c=df[df.id==df.id.values[-1]].reset_index(drop=True).loc[0]\n",
    "        c['sign']=sg[sg.signature==c.signature].reset_index(drop=True).loc[0,'sign']\n",
    "    else:\n",
    "        return df\n",
    "\n",
    "    \n",
    "    \n",
    "    return generate_pdf(c)"
   ]
  },
  {
   "cell_type": "code",
   "execution_count": 8,
   "metadata": {},
   "outputs": [
    {
     "name": "stdout",
     "output_type": "stream",
     "text": [
      "········\n",
      "277\n",
      "output in http://gfif.udea.edu.co/downloads/carta_282.pdf\n"
     ]
    }
   ],
   "source": [
    "latexfile=db_to_pdf()"
   ]
  },
  {
   "cell_type": "code",
   "execution_count": 17,
   "metadata": {},
   "outputs": [],
   "source": [
    "df,sg=latexfile"
   ]
  },
  {
   "cell_type": "code",
   "execution_count": 20,
   "metadata": {},
   "outputs": [],
   "source": [
    "c=df[df.id==df.id.values[-1]].reset_index(drop=True).loc[0]"
   ]
  },
  {
   "cell_type": "code",
   "execution_count": 21,
   "metadata": {},
   "outputs": [],
   "source": [
    "c['sign']=sg[sg.signature==c.signature].reset_index(drop=True).loc[0,'sign']"
   ]
  },
  {
   "cell_type": "code",
   "execution_count": 22,
   "metadata": {},
   "outputs": [
    {
     "name": "stdout",
     "output_type": "stream",
     "text": [
      "output in http://gfif.udea.edu.co/downloads/carta_282.pdf\n"
     ]
    },
    {
     "data": {
      "text/plain": [
       "'\\n%\\n\\\\documentclass{letter}\\n\\\\usepackage[utf8]{inputenc}\\n\\\\usepackage{udea}\\n\\n\\\\signature{\\\\includegraphics[scale=0.4]{firma}\\\\\\\\\\r\\n\\\\noindent\\r\\nDiego Restrepo\\\\\\\\\\r\\nProfesor de Tiempo Completo\\\\\\\\\\r\\nInstituto de Física\\\\\\\\\\r\\nUniversidad de Antioquia}\\n\\\\begin{document}\\n\\\\begin{letter}{Cover letter  \\\\\\\\\\r\\nPLB submission}\\n\\n\\\\opening{Dear  Editor} \\n\\nOur paper makes the connection that $U(1)_L = U(1)_{PQ}$ which brings a conceptual understanding of lepton number violation. It is also worth mentioning that the model we are presenting is a simple and very minimal extension of the SM which combines a mixed WIMP-Axion dark matter scenario with radiative neutrino masses.\\r\\n\\r\\nWe hope that our manuscript can be considered for the peer-review process in PLB.\\n\\n\\\\closing{Best regards}\\n\\\\end{letter}\\n\\\\end{document}\\n'"
      ]
     },
     "execution_count": 22,
     "metadata": {},
     "output_type": "execute_result"
    }
   ],
   "source": [
    "generate_pdf(c)"
   ]
  },
  {
   "cell_type": "markdown",
   "metadata": {},
   "source": [
    "## Manual"
   ]
  },
  {
   "cell_type": "code",
   "execution_count": 7,
   "metadata": {},
   "outputs": [
    {
     "name": "stdout",
     "output_type": "stream",
     "text": [
      "········\n"
     ]
    }
   ],
   "source": [
    "password=getpass.getpass()"
   ]
  },
  {
   "cell_type": "code",
   "execution_count": 8,
   "metadata": {
    "collapsed": true
   },
   "outputs": [],
   "source": [
    "tipo_carta=['Diego_Restrepo', 'cartas_gfif']\n",
    "conn = pymysql.connect(host='localhost', port=3306, user='root', passwd=password, db=tipo_carta[0])\n",
    "\n",
    "df=pd.read_sql('select * from cartas;', con=conn)\n",
    "\n",
    "sg=pd.read_sql('select * from cartas_sign;', con=conn)"
   ]
  },
  {
   "cell_type": "code",
   "execution_count": 9,
   "metadata": {},
   "outputs": [],
   "source": [
    "conn.close()"
   ]
  },
  {
   "cell_type": "markdown",
   "metadata": {},
   "source": [
    "Last entry"
   ]
  },
  {
   "cell_type": "code",
   "execution_count": 14,
   "metadata": {},
   "outputs": [],
   "source": [
    "c=df[df.id==df.id.values[-1]].reset_index(drop=True).loc[0]\n",
    "c['sign']=sg[sg.signature==c.signature].reset_index(drop=True).loc[0,'sign']"
   ]
  },
  {
   "cell_type": "code",
   "execution_count": 15,
   "metadata": {},
   "outputs": [
    {
     "data": {
      "text/plain": [
       "id                                                                                                                                                                                                                                                                                                                                                                                                                                    282\n",
       "description                                                                                                                                                                                                                                                                                                                                                                                                                              \n",
       "preamble                                                                                                                                                                                                                                                                                                                                                                                                                \\usepackage{udea}\n",
       "para                                                                                                                                                                                                                                                                                                                                                                                                   Cover letter  \\\\\\r\\nPLB submission\n",
       "address                                                                                                                                                                                                                                                                                                                                                                                                                                  \n",
       "signature                                                                                                                                                                                                                                                                                                                                                                                                                   Diego_es_sign\n",
       "opening                                                                                                                                                                                                                                                                                                                                                                                                                      Dear  Editor\n",
       "body           Our paper makes the connection that $U(1)_L = U(1)_{PQ}$ which brings a conceptual understanding of lepton number violation. It is also worth mentioning that the model we are presenting is a simple and very minimal extension of the SM which combines a mixed WIMP-Axion dark matter scenario with radiative neutrino masses.\\r\\n\\r\\nWe hope that our manuscript can be considered for the peer-review process in PLB.\n",
       "closing                                                                                                                                                                                                                                                                                                                                                                                                                      Best regards\n",
       "fecha                                                                                                                                                                                                                                                                                                                                                                                                                          2017-09-12\n",
       "link                                                                                                                                                                                                                                                                                                                                                                                 http://gfif.udea.edu.co/cartas/cartas.php?step=1&id=\n",
       "sign                                                                                                                                                                                                                                                                          \\includegraphics[scale=0.4]{firma}\\\\\\r\\n\\noindent\\r\\nDiego Restrepo\\\\\\r\\nProfesor de Tiempo Completo\\\\\\r\\nInstituto de Física\\\\\\r\\nUniversidad de Antioquia\n",
       "Name: 0, dtype: object"
      ]
     },
     "execution_count": 15,
     "metadata": {},
     "output_type": "execute_result"
    }
   ],
   "source": [
    "c"
   ]
  },
  {
   "cell_type": "code",
   "execution_count": 16,
   "metadata": {},
   "outputs": [
    {
     "data": {
      "text/plain": [
       "'\\\\includegraphics[scale=0.4]{firma}\\\\\\\\\\r\\n\\\\noindent\\r\\nDiego Restrepo\\\\\\\\\\r\\nProfesor de Tiempo Completo\\\\\\\\\\r\\nInstituto de Física\\\\\\\\\\r\\nUniversidad de Antioquia'"
      ]
     },
     "execution_count": 16,
     "metadata": {},
     "output_type": "execute_result"
    }
   ],
   "source": [
    "c.sign"
   ]
  },
  {
   "cell_type": "markdown",
   "metadata": {},
   "source": [
    "## Search in body"
   ]
  },
  {
   "cell_type": "code",
   "execution_count": 50,
   "metadata": {
    "collapsed": true
   },
   "outputs": [],
   "source": [
    "id=99\n",
    "if id >0:\n",
    "    dfs=df[df.id==id].reset_index(drop=True)\n",
    "else:    \n",
    "    dfs=df[df.body.str.lower().map(unidecode.unidecode).str.contains('impacto social')].reset_index(drop=True)"
   ]
  },
  {
   "cell_type": "code",
   "execution_count": 51,
   "metadata": {},
   "outputs": [
    {
     "data": {
      "text/html": [
       "<div>\n",
       "<style>\n",
       "    .dataframe thead tr:only-child th {\n",
       "        text-align: right;\n",
       "    }\n",
       "\n",
       "    .dataframe thead th {\n",
       "        text-align: left;\n",
       "    }\n",
       "\n",
       "    .dataframe tbody tr th {\n",
       "        vertical-align: top;\n",
       "    }\n",
       "</style>\n",
       "<table border=\"1\" class=\"dataframe\">\n",
       "  <thead>\n",
       "    <tr style=\"text-align: right;\">\n",
       "      <th></th>\n",
       "      <th>id</th>\n",
       "      <th>description</th>\n",
       "      <th>preamble</th>\n",
       "      <th>para</th>\n",
       "      <th>address</th>\n",
       "      <th>signature</th>\n",
       "      <th>opening</th>\n",
       "      <th>body</th>\n",
       "      <th>closing</th>\n",
       "      <th>fecha</th>\n",
       "      <th>link</th>\n",
       "    </tr>\n",
       "  </thead>\n",
       "  <tbody>\n",
       "    <tr>\n",
       "      <th>0</th>\n",
       "      <td>99</td>\n",
       "      <td>Certificado Jose</td>\n",
       "      <td>\\usepackage{udea}\\usepackage[spanish]{babel}</td>\n",
       "      <td>A quien pueda interesar</td>\n",
       "      <td></td>\n",
       "      <td>Diego_es_sign</td>\n",
       "      <td>Certifico que:</td>\n",
       "      <td>El doctor José David Ruiz Álvarez, identificado con cédula de ciudadanía número 15370261 de la ciudad de Medellín, ha participado en las siguientes actividades con el Grupo de Fenomenología de Interacciones Fundamentales (GFIF):\\r\\n\\r\\n\\begin{enumerate}\\r\\n\\item Taller ``Madgraph and particle physics computational tools\" en el año 2013.\\r\\n\\item Seminario ``New physics searches at CMS\" en el año 2013.\\r\\n\\item Charlas y un taller ``Data analysis in particle physics in the \\r\\nLHC era\" en el ...</td>\n",
       "      <td>Atentamente</td>\n",
       "      <td>2017-09-08</td>\n",
       "      <td>http://gfif.udea.edu.co/cartas/cartas.php?step=1&amp;id=</td>\n",
       "    </tr>\n",
       "  </tbody>\n",
       "</table>\n",
       "</div>"
      ],
      "text/plain": [
       "   id       description                                      preamble  \\\n",
       "0  99  Certificado Jose  \\usepackage{udea}\\usepackage[spanish]{babel}   \n",
       "\n",
       "                      para address      signature         opening  \\\n",
       "0  A quien pueda interesar          Diego_es_sign  Certifico que:   \n",
       "\n",
       "                                                                                                                                                                                                                                                                                                                                                                                                                                                                                                                  body  \\\n",
       "0  El doctor José David Ruiz Álvarez, identificado con cédula de ciudadanía número 15370261 de la ciudad de Medellín, ha participado en las siguientes actividades con el Grupo de Fenomenología de Interacciones Fundamentales (GFIF):\\r\\n\\r\\n\\begin{enumerate}\\r\\n\\item Taller ``Madgraph and particle physics computational tools\" en el año 2013.\\r\\n\\item Seminario ``New physics searches at CMS\" en el año 2013.\\r\\n\\item Charlas y un taller ``Data analysis in particle physics in the \\r\\nLHC era\" en el ...   \n",
       "\n",
       "       closing       fecha  \\\n",
       "0  Atentamente  2017-09-08   \n",
       "\n",
       "                                                   link  \n",
       "0  http://gfif.udea.edu.co/cartas/cartas.php?step=1&id=  "
      ]
     },
     "execution_count": 51,
     "metadata": {},
     "output_type": "execute_result"
    }
   ],
   "source": [
    "dfs"
   ]
  },
  {
   "cell_type": "code",
   "execution_count": 52,
   "metadata": {
    "collapsed": true
   },
   "outputs": [],
   "source": [
    "c=dfs.loc[dfs.index.values[-1]]"
   ]
  },
  {
   "cell_type": "code",
   "execution_count": 53,
   "metadata": {},
   "outputs": [
    {
     "data": {
      "text/plain": [
       "id                                                                                                                                                                                                                                                                                                                                                                                                                                                                                                                              99\n",
       "description                                                                                                                                                                                                                                                                                                                                                                                                                                                                                                       Certificado Jose\n",
       "preamble                                                                                                                                                                                                                                                                                                                                                                                                                                                                              \\usepackage{udea}\\usepackage[spanish]{babel}\n",
       "para                                                                                                                                                                                                                                                                                                                                                                                                                                                                                                       A quien pueda interesar\n",
       "address                                                                                                                                                                                                                                                                                                                                                                                                                                                                                                                           \n",
       "signature                                                                                                                                                                                                                                                                                                                                                                                                                                                                                                            Diego_es_sign\n",
       "opening                                                                                                                                                                                                                                                                                                                                                                                                                                                                                                             Certifico que:\n",
       "body           El doctor José David Ruiz Álvarez, identificado con cédula de ciudadanía número 15370261 de la ciudad de Medellín, ha participado en las siguientes actividades con el Grupo de Fenomenología de Interacciones Fundamentales (GFIF):\\r\\n\\r\\n\\begin{enumerate}\\r\\n\\item Taller ``Madgraph and particle physics computational tools\" en el año 2013.\\r\\n\\item Seminario ``New physics searches at CMS\" en el año 2013.\\r\\n\\item Charlas y un taller ``Data analysis in particle physics in the \\r\\nLHC era\" en el ...\n",
       "closing                                                                                                                                                                                                                                                                                                                                                                                                                                                                                                                Atentamente\n",
       "fecha                                                                                                                                                                                                                                                                                                                                                                                                                                                                                                                   2017-09-08\n",
       "link                                                                                                                                                                                                                                                                                                                                                                                                                                                                          http://gfif.udea.edu.co/cartas/cartas.php?step=1&id=\n",
       "Name: 0, dtype: object"
      ]
     },
     "execution_count": 53,
     "metadata": {},
     "output_type": "execute_result"
    }
   ],
   "source": [
    "c"
   ]
  },
  {
   "cell_type": "code",
   "execution_count": 54,
   "metadata": {},
   "outputs": [
    {
     "data": {
      "text/plain": [
       "array(['id', 'description', 'preamble', 'para', 'address', 'signature',\n",
       "       'opening', 'body', 'closing', 'fecha', 'link'], dtype=object)"
      ]
     },
     "execution_count": 54,
     "metadata": {},
     "output_type": "execute_result"
    }
   ],
   "source": [
    "c.keys().values"
   ]
  },
  {
   "cell_type": "code",
   "execution_count": 55,
   "metadata": {},
   "outputs": [
    {
     "name": "stdout",
     "output_type": "stream",
     "text": [
      "id\n",
      "description\n",
      "preamble\n",
      "para\n",
      "address\n",
      "signature\n",
      "opening\n",
      "body\n",
      "closing\n",
      "fecha\n",
      "link\n"
     ]
    }
   ],
   "source": [
    "for k in c.keys():\n",
    "    print(k)\n",
    "    if c[k]==None:\n",
    "        c[k]=''"
   ]
  },
  {
   "cell_type": "code",
   "execution_count": 80,
   "metadata": {
    "collapsed": true
   },
   "outputs": [],
   "source": [
    "def generate_pdf(row):\n",
    "    latexfile=r'''\n",
    "%'''+c.description+r'''\n",
    "\\documentclass{letter}\n",
    "\\usepackage[utf8]{inputenc}\n",
    "'''+c.preamble+r'''\n",
    "'''+c.address+r'''\n",
    "\\signature{'''+sg[sg.signature==c.signature].sign.values[0]+r'''}\n",
    "\\begin{document}\n",
    "\\begin{letter}{'''+c.para+r'''}\n",
    "\n",
    "\\opening{'''+c.opening+r'''} \n",
    "\n",
    "'''+c.body+r'''\n",
    "\n",
    "\\closing{'''+c.closing+r'''}\n",
    "\\end{letter}\n",
    "\\end{document}\n",
    "'''\n",
    "    f=tempfile.NamedTemporaryFile('w',suffix='.tex',delete=False)\n",
    "    f.write(latexfile)\n",
    "    f.close()\n",
    "    lo=subprocess.Popen('pdflatex {:s}'.format(f.name).split(),cwd='/tmp',\n",
    "                        stdout=subprocess.PIPE,stderr=subprocess.PIPE).communicate()\n",
    "    pdffile='{:s}'.format(f.name).split('.tex')[0]+'.pdf'\n",
    "    if lo[0].decode('utf8').find(pdffile.split('/')[-1])>-1:\n",
    "        pdf='carta_{:d}.pdf'.format(c['id'])\n",
    "        dwld_dir='downloads'\n",
    "        kk=subprocess.Popen('mv {:s} /var/www/{:s}/{:s}'.format(pdffile,dwld_dir,pdf).split()).communicate()\n",
    "        print('output in http://gfif.udea.edu.co/{:s}/{:s}'.format(dwld_dir,pdf))\n",
    "        for suffix in  ['.aux','.log','.out','.tex']:\n",
    "            subprocess.Popen( ['rm', '{:s}'.format(f.name).split('.tex')[0]+suffix] ).communicate()\n",
    "    else:\n",
    "        sys.exit('LaTeX ERROR:')    \n",
    "    return latexfile"
   ]
  },
  {
   "cell_type": "code",
   "execution_count": 81,
   "metadata": {},
   "outputs": [
    {
     "name": "stdout",
     "output_type": "stream",
     "text": [
      "output in http://gfif.udea.edu.co/downloads/carta_281.pdf\n",
      "\n",
      "%\n",
      "\\documentclass{letter}\n",
      "\\usepackage[utf8]{inputenc}\n",
      "\\usepackage{udea}\\usepackage[spanish]{babel}\n",
      "\n",
      "\\signature{\\includegraphics[scale=0.4]{firma}\\\\\r\n",
      "\\noindent\r\n",
      "Diego Restrepo\\\\\r\n",
      "Profesor de Tiempo Completo\\\\\r\n",
      "Instituto de Física\\\\\r\n",
      "Universidad de Antioquia}\n",
      "\\begin{document}\n",
      "\\begin{letter}{Profesor Carlos Yaguna\\\\\r\n",
      "Escuela de Física\\\\\r\n",
      "Universidad Pedagógica y \r\n",
      "Tecnológica de Colombia\\\\\r\n",
      "UPTC}\n",
      "\n",
      "\\opening{Respetado Prof. Yaguna} \n",
      "\n",
      "Tenemos el placer de invitarlo a una visita a nuestro grupo de Investigación en el Instituto de Física de la Universidad de Antioquia, del\r\n",
      "% 15 al 26 de octubre \r\n",
      "9 al 13 de octubre\r\n",
      "del presente año.\r\n",
      "\r\n",
      " Dentro del marco de esta visita esperamos continuar con nuestro trabajo sobre modelos con materia oscura y masas de neutrinos.  Estamos seguros que dicha visita contribuirá a fortalecer la colaboración entre nuestras instituciones, y puede estar seguro que pondremos todas nuestras facilidades a su disposición.\r\n",
      "\r\n",
      "De antemano agradezco toda la ayuda que puedan brindarle al Profesor Carlos Yaguna  de cara a su visita.\r\n",
      "  \n",
      "\n",
      "\\closing{Atentamente}\n",
      "\\end{letter}\n",
      "\\end{document}\n",
      "\n"
     ]
    }
   ],
   "source": [
    "print(generate_pdf(c))"
   ]
  },
  {
   "cell_type": "code",
   "execution_count": 56,
   "metadata": {
    "collapsed": true
   },
   "outputs": [],
   "source": [
    "latexfile=r'''\n",
    "%'''+c.description+r'''\n",
    "\\documentclass{letter}\n",
    "\\usepackage[utf8]{inputenc}\n",
    "'''+c.preamble+r'''\n",
    "'''+c.address+r'''\n",
    "\\signature{'''+sg[sg.signature==c.signature].sign.values[0]+r'''}\n",
    "\\begin{document}\n",
    "\\begin{letter}{'''+c.para+r'''}\n",
    "\n",
    "\\opening{'''+c.opening+r'''} \n",
    "\n",
    "'''+c.body+r'''\n",
    "\n",
    "\\closing{'''+c.closing+r'''}\n",
    "\\end{letter}\n",
    "\\end{document}\n",
    "'''"
   ]
  },
  {
   "cell_type": "code",
   "execution_count": 57,
   "metadata": {},
   "outputs": [
    {
     "name": "stdout",
     "output_type": "stream",
     "text": [
      "\n",
      "%Certificado Jose\n",
      "\\documentclass{letter}\n",
      "\\usepackage[utf8]{inputenc}\n",
      "\\usepackage{udea}\\usepackage[spanish]{babel}\n",
      "\n",
      "\\signature{\\includegraphics[scale=0.4]{firma}\\\\\r\n",
      "\\noindent\r\n",
      "Diego A. Restrepo Quintero\\\\\r\n",
      "Coordinador\\\\\r\n",
      "Grupo de Fenomenología de Interacciones Fundamentales\\\\\r\n",
      "Instituto de F\\'\\i sica\\\\\r\n",
      "Universidad de Antioquia}\n",
      "\\begin{document}\n",
      "\\begin{letter}{A quien pueda interesar}\n",
      "\n",
      "\\opening{Certifico que:} \n",
      "\n",
      "El doctor José David Ruiz Álvarez, identificado con cédula de ciudadanía número 15370261 de la ciudad de Medellín, ha participado en las siguientes actividades con el Grupo de Fenomenología de Interacciones Fundamentales (GFIF):\r\n",
      "\r\n",
      "\\begin{enumerate}\r\n",
      "\\item Taller ``Madgraph and particle physics computational tools\" en el año 2013.\r\n",
      "\\item Seminario ``New physics searches at CMS\" en el año 2013.\r\n",
      "\\item Charlas y un taller ``Data analysis in particle physics in the \r\n",
      "LHC era\" en el año 2016.\r\n",
      "\\item Inducción al experimento CMS y a las actividades de la colaboración en el año 2016.\r\n",
      "\\end{enumerate}\r\n",
      "\r\n",
      "Adicionalmente, José David Ruiz Álvarez ha colaborado en actividades de investigación con nuestro grupo. Especialmente en búsquedas de materia oscura en el LHC, temática en la cual hay dos proyectos en via de desarrollo, uno de ellos pronto a ser finalizado. También ha ayudado con las pasantías de el estudiante de doctorado Guillermo Palacio en Lyon en el año 2014 y en el CERN en el año 2016.\r\n",
      "\r\n",
      "Finalmente quisiera señalar que la ayuda de José David Ruiz Álvarez ha sido fundamental para el ingreso y aceptación de la Universidad de Antioquia dentro de el experimento CMS. Él nos ha colaborado en la ejecución de este proyecto en los últimos tres años y en la actualidad nos presta asesoría científica y técnica en las actividades que ha empezado a desarrollar el grupo dentro de la colaboración experimental. Adicionalmente, es el coasesor de nuestro estudiante Camilo Salazar quien desarrolla su tésis de doctorado en dicho experimento.\r\n",
      "\n",
      "\n",
      "\\closing{Atentamente}\n",
      "\\end{letter}\n",
      "\\end{document}\n",
      "\n"
     ]
    }
   ],
   "source": [
    "print(latexfile)"
   ]
  },
  {
   "cell_type": "code",
   "execution_count": 58,
   "metadata": {
    "collapsed": true
   },
   "outputs": [],
   "source": [
    "f=tempfile.NamedTemporaryFile('w',suffix='.tex',delete=False)"
   ]
  },
  {
   "cell_type": "code",
   "execution_count": 59,
   "metadata": {},
   "outputs": [
    {
     "data": {
      "text/plain": [
       "2017"
      ]
     },
     "execution_count": 59,
     "metadata": {},
     "output_type": "execute_result"
    }
   ],
   "source": [
    "f.write(latexfile)"
   ]
  },
  {
   "cell_type": "code",
   "execution_count": 60,
   "metadata": {},
   "outputs": [
    {
     "data": {
      "text/plain": [
       "'/tmp/tmppt2pwnu1.tex'"
      ]
     },
     "execution_count": 60,
     "metadata": {},
     "output_type": "execute_result"
    }
   ],
   "source": [
    "f.name"
   ]
  },
  {
   "cell_type": "code",
   "execution_count": 61,
   "metadata": {
    "collapsed": true
   },
   "outputs": [],
   "source": [
    "f.close()"
   ]
  },
  {
   "cell_type": "code",
   "execution_count": 62,
   "metadata": {
    "collapsed": true
   },
   "outputs": [],
   "source": [
    "lo=subprocess.Popen('pdflatex {:s}'.format(f.name).split(),cwd='/tmp',stdout=subprocess.PIPE,stderr=subprocess.PIPE).communicate()"
   ]
  },
  {
   "cell_type": "code",
   "execution_count": 63,
   "metadata": {},
   "outputs": [
    {
     "name": "stdout",
     "output_type": "stream",
     "text": [
      "output in http://gfif.udea.edu.co/downloads/carta_99.pdf\n"
     ]
    }
   ],
   "source": [
    "pdffile='{:s}'.format(f.name).split('.tex')[0]+'.pdf'\n",
    "if lo[0].decode('utf8').find(pdffile.split('/')[-1])>-1:\n",
    "    pdf='carta_{:d}.pdf'.format(c['id'])\n",
    "    dwld_dir='downloads'\n",
    "    kk=subprocess.Popen('mv {:s} /var/www/{:s}/{:s}'.format(pdffile,dwld_dir,pdf).split()).communicate()\n",
    "    print('output in http://gfif.udea.edu.co/{:s}/{:s}'.format(dwld_dir,pdf))\n",
    "    for suffix in  ['.aux','.log','.out','.tex']:\n",
    "        subprocess.Popen( ['rm', '{:s}'.format(f.name).split('.tex')[0]+suffix] ).communicate()\n",
    "else:\n",
    "    sys.exit('LaTeX ERROR:')    "
   ]
  },
  {
   "cell_type": "code",
   "execution_count": null,
   "metadata": {
    "collapsed": true
   },
   "outputs": [],
   "source": []
  }
 ],
 "metadata": {
  "kernelspec": {
   "display_name": "Python 3",
   "language": "python",
   "name": "python3"
  },
  "language_info": {
   "codemirror_mode": {
    "name": "ipython",
    "version": 3
   },
   "file_extension": ".py",
   "mimetype": "text/x-python",
   "name": "python",
   "nbconvert_exporter": "python",
   "pygments_lexer": "ipython3",
   "version": "3.5.3"
  },
  "latex_envs": {
   "LaTeX_envs_menu_present": true,
   "bibliofile": "biblio.bib",
   "cite_by": "apalike",
   "current_citInitial": 1,
   "eqLabelWithNumbers": true,
   "eqNumInitial": 1,
   "labels_anchors": false,
   "latex_user_defs": false,
   "report_style_numbering": false,
   "user_envs_cfg": false
  }
 },
 "nbformat": 4,
 "nbformat_minor": 2
}
