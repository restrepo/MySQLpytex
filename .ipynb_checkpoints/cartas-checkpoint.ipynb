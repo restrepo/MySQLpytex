{
 "cells": [
  {
   "cell_type": "markdown",
   "metadata": {},
   "source": [
    "# Read a MySQL DataBase and generate specific output"
   ]
  },
  {
   "cell_type": "code",
   "execution_count": 1,
   "metadata": {},
   "outputs": [],
   "source": [
    "import getpass\n",
    "import pymysql\n",
    "import unidecode\n",
    "import pandas as pd\n",
    "import tempfile\n",
    "import subprocess\n",
    "import sys\n",
    "\n",
    "pd.set_option('display.max_rows', 500)\n",
    "pd.set_option('display.max_columns', 500)\n",
    "pd.set_option('display.max_colwidth',500)\n",
    "\n",
    "def generate_pdf(row):\n",
    "    \n",
    "    if row.opening is  None:\n",
    "        row.opening=''\n",
    "    if row.closing is  None:\n",
    "        row.closing=''\n",
    "    \n",
    "    latexfile=r'''\n",
    "%'''+row.description+r'''\n",
    "\\documentclass{letter}\n",
    "\\usepackage[utf8]{inputenc}\n",
    "'''+row.preamble+r'''\n",
    "'''+row.address+r'''\n",
    "\\signature{'''+row.sign+r'''}\n",
    "\\begin{document}\n",
    "\\begin{letter}{'''+row.para+r'''}\n",
    "\n",
    "\\opening{'''+row.opening+r'''} \n",
    "\n",
    "'''+row.body+r'''\n",
    "\n",
    "\\closing{'''+row.closing+r'''}\n",
    "\\end{letter}\n",
    "\\end{document}\n",
    "'''\n",
    "    f=tempfile.NamedTemporaryFile('w',suffix='.tex',delete=False)\n",
    "    f.write(latexfile)\n",
    "    f.close()\n",
    "    lo=subprocess.Popen('pdflatex {:s}'.format(f.name).split(),cwd='/tmp',\n",
    "                        stdout=subprocess.PIPE,stderr=subprocess.PIPE).communicate()\n",
    "    pdffile='{:s}'.format(f.name).split('.tex')[0]+'.pdf'\n",
    "    if lo[0].decode('utf8').find(pdffile.split('/')[-1])>-1:\n",
    "        pdf='carta_{:d}.pdf'.format(row['id'])\n",
    "        dwld_dir='downloads'\n",
    "        kk=subprocess.Popen('mv {:s} /home/restrepo/{:s}/{:s}'.format(pdffile,dwld_dir,pdf).split()).communicate()\n",
    "        print('output in http://fisica.udea.edu.co/{:s}/{:s}'.format(dwld_dir,pdf))\n",
    "        for suffix in  ['.aux','.log','.out','.tex']:\n",
    "            subprocess.Popen( ['rm', '{:s}'.format(f.name).split('.tex')[0]+suffix] ).communicate()\n",
    "    else:\n",
    "        sys.exit('LaTeX ERROR:')    \n",
    "    return latexfile\n",
    "\n",
    "def db_to_pdf(choose_db=0,verbose=False):\n",
    "    '''\n",
    "    Obtain letter from the last DB entry\n",
    "    Type of letter: \n",
    "      * 0 Personal\n",
    "      * 1 Group\n",
    "    '''\n",
    "    password=getpass.getpass()\n",
    "    tipo_carta=['Diego_Restrepo', 'cartas_gfif']\n",
    "    conn = pymysql.connect(host='localhost', port=3306, user='root', passwd=password, db=tipo_carta[choose_db])\n",
    "\n",
    "    df=pd.read_sql('select * from cartas;', con=conn)\n",
    "\n",
    "    sg=pd.read_sql('select * from cartas_sign;', con=conn)\n",
    "    \n",
    "    \n",
    "    conn.close()\n",
    "    \n",
    "    #print(df.shape[0])\n",
    "    #return df,sg\n",
    "    if df.shape[0]:\n",
    "        c=df[df.id==df.id.values[-1]].reset_index(drop=True).loc[0]\n",
    "        c['sign']=sg[sg.signature==c.signature].reset_index(drop=True).loc[0,'sign']\n",
    "        if verbose:\n",
    "            print(c)\n",
    "    else:\n",
    "        return df\n",
    "\n",
    "    \n",
    "    \n",
    "    return generate_pdf(c)\n",
    "\n",
    "def backup_database(choose_db=0):\n",
    "    '''\n",
    "    Obtain letter from the last DB entry\n",
    "    Type of letter: \n",
    "      * 0 Personal\n",
    "      * 1 Group\n",
    "    '''\n",
    "    password=getpass.getpass()\n",
    "    tipo_carta=['Diego_Restrepo', 'cartas_gfif']\n",
    "    \n",
    "    print('Trying to create backup file db_{:s}_backup.sql'.format( tipo_carta[choose_db]  )   )\n",
    "    ok=subprocess.Popen('mysqldump -u root -p{:s} {:s} > db_{:s}_backup.sql'.format(\n",
    "                     password,tipo_carta[choose_db],tipo_carta[choose_db]),shell=True,\n",
    "                     stdout=subprocess.PIPE,stderr=subprocess.PIPE).communicate()\n",
    "    \n",
    "    print()\n",
    "    \n",
    "    return ok"
   ]
  },
  {
   "cell_type": "code",
   "execution_count": 2,
   "metadata": {},
   "outputs": [
    {
     "name": "stdout",
     "output_type": "stream",
     "text": [
      "········\n",
      "output in http://fisica.udea.edu.co/downloads/carta_100.pdf\n"
     ]
    }
   ],
   "source": [
    "choose_db=1\n",
    "latexfile=db_to_pdf(choose_db)"
   ]
  },
  {
   "cell_type": "code",
   "execution_count": null,
   "metadata": {},
   "outputs": [],
   "source": [
    "df,sg=latexfile"
   ]
  },
  {
   "cell_type": "markdown",
   "metadata": {},
   "source": [
    "### Backup database"
   ]
  },
  {
   "cell_type": "code",
   "execution_count": 4,
   "metadata": {},
   "outputs": [
    {
     "name": "stdout",
     "output_type": "stream",
     "text": [
      "········\n",
      "Trying to create backup file db_cartas_gfif_backup.sql\n",
      "\n"
     ]
    },
    {
     "data": {
      "text/plain": [
       "(b'', b'')"
      ]
     },
     "execution_count": 4,
     "metadata": {},
     "output_type": "execute_result"
    }
   ],
   "source": [
    "backup_database(choose_db)"
   ]
  },
  {
   "cell_type": "markdown",
   "metadata": {},
   "source": [
    "## Manual"
   ]
  },
  {
   "cell_type": "code",
   "execution_count": 15,
   "metadata": {},
   "outputs": [
    {
     "name": "stdout",
     "output_type": "stream",
     "text": [
      "········\n"
     ]
    }
   ],
   "source": [
    "password=getpass.getpass()"
   ]
  },
  {
   "cell_type": "code",
   "execution_count": 16,
   "metadata": {
    "collapsed": true
   },
   "outputs": [],
   "source": [
    "tipo_carta=['Diego_Restrepo', 'cartas_gfif']\n",
    "\n",
    "conn = pymysql.connect(host='localhost', port=3306, user='root', passwd=password, db=tipo_carta[choose_db])\n",
    "\n",
    "df=pd.read_sql('select * from cartas;', con=conn)\n",
    "\n",
    "sg=pd.read_sql('select * from cartas_sign;', con=conn)"
   ]
  },
  {
   "cell_type": "code",
   "execution_count": 17,
   "metadata": {
    "collapsed": true
   },
   "outputs": [],
   "source": [
    "conn.close()"
   ]
  },
  {
   "cell_type": "markdown",
   "metadata": {},
   "source": [
    "Last entry"
   ]
  },
  {
   "cell_type": "code",
   "execution_count": 18,
   "metadata": {
    "collapsed": true
   },
   "outputs": [],
   "source": [
    "c=df[df.id==df.id.values[-1]].reset_index(drop=True).loc[0]\n",
    "c['sign']=sg[sg.signature==c.signature].reset_index(drop=True).loc[0,'sign']"
   ]
  },
  {
   "cell_type": "code",
   "execution_count": 19,
   "metadata": {},
   "outputs": [
    {
     "data": {
      "text/plain": [
       "id                                                                                                                                                                                                                                                                                                                                                                                                                                                   100\n",
       "description                                                                                                                                                                                                                                                                                                                                                                                                                                 Aval postdoc\n",
       "preamble                                                                                                                                                                                                                                                                                                                                                                                                    \\usepackage{udea}\\usepackage[spanish]{babel}\n",
       "para                                                                                                                                                                                                                                                                                                                                                                                                    Señores:\\\\\\r\\nCODI\\\\\\r\\nUniversidad de Antioquia\n",
       "address                                                                                                                                                                                                                                                                                                                                                                                                                                                 \n",
       "signature                                                                                                                                                                                                                                                                                                                                                                                                                                  Diego_es_sign\n",
       "opening                                                                                                                                                                                                                                                                                                                                                                                                                              Respetados señores:\n",
       "body           Por medio de la presente, avalo el proyecto titulado ``Materia oscura, masa de neutrinos y rayos gama\" que va a someterse a evaluación a la Convocatoria ``Programa de \\r\\nEstancias Postdoctorales Beneficiarios Colciencias 2017\". El proyecto se llevará a cabo en el Grupo de Fenomenología de Interacciones Fundamentales (GFIF). Manifiesto que el grupo de investigación cuenta con una contrapartida por un valor de $5.000.000$.\n",
       "closing                                                                                                                                                                                                                                                                                                                                                                                                                                      Atentamente\n",
       "fecha                                                                                                                                                                                                                                                                                                                                                                                                                                         2017-09-18\n",
       "link                                                                                                                                                                                                                                                                                                                                                                                                http://gfif.udea.edu.co/cartas/cartas.php?step=1&id=\n",
       "sign                                                                                                                                                                                                                              \\includegraphics[scale=0.4]{firma}\\\\\\r\\n\\noindent\\r\\nDiego A. Restrepo Quintero\\\\\\r\\nCoordinador\\\\\\r\\nGrupo de Fenomenología de Interacciones Fundamentales\\\\\\r\\nInstituto de F\\'\\i sica\\\\\\r\\nUniversidad de Antioquia\n",
       "Name: 0, dtype: object"
      ]
     },
     "execution_count": 19,
     "metadata": {},
     "output_type": "execute_result"
    }
   ],
   "source": [
    "c"
   ]
  },
  {
   "cell_type": "code",
   "execution_count": 20,
   "metadata": {},
   "outputs": [
    {
     "data": {
      "text/plain": [
       "'Respetados señores:'"
      ]
     },
     "execution_count": 20,
     "metadata": {},
     "output_type": "execute_result"
    }
   ],
   "source": [
    "c.opening"
   ]
  },
  {
   "cell_type": "code",
   "execution_count": 21,
   "metadata": {},
   "outputs": [
    {
     "data": {
      "text/plain": [
       "\"\\\\includegraphics[scale=0.4]{firma}\\\\\\\\\\r\\n\\\\noindent\\r\\nDiego A. Restrepo Quintero\\\\\\\\\\r\\nCoordinador\\\\\\\\\\r\\nGrupo de Fenomenología de Interacciones Fundamentales\\\\\\\\\\r\\nInstituto de F\\\\'\\\\i sica\\\\\\\\\\r\\nUniversidad de Antioquia\""
      ]
     },
     "execution_count": 21,
     "metadata": {},
     "output_type": "execute_result"
    }
   ],
   "source": [
    "c.sign"
   ]
  },
  {
   "cell_type": "code",
   "execution_count": 18,
   "metadata": {},
   "outputs": [
    {
     "data": {
      "text/plain": [
       "(b'', b'')"
      ]
     },
     "execution_count": 18,
     "metadata": {},
     "output_type": "execute_result"
    }
   ],
   "source": [
    "ok"
   ]
  },
  {
   "cell_type": "code",
   "execution_count": 10,
   "metadata": {},
   "outputs": [
    {
     "data": {
      "text/plain": [
       "['mysqldump',\n",
       " '-u',\n",
       " 'root',\n",
       " '-ppoioiulkj',\n",
       " 'cartas_gfif',\n",
       " '>',\n",
       " 'db_cartas_gfif_backup.sql']"
      ]
     },
     "execution_count": 10,
     "metadata": {},
     "output_type": "execute_result"
    }
   ],
   "source": [
    "'mysqldump -u root -p{:s} {:s} > db_{:s}_backup.sql'.format(password,tipo_carta[NTC],tipo_carta[NTC]).split()"
   ]
  },
  {
   "cell_type": "markdown",
   "metadata": {},
   "source": [
    "## Search in body"
   ]
  },
  {
   "cell_type": "code",
   "execution_count": 50,
   "metadata": {
    "collapsed": true
   },
   "outputs": [],
   "source": [
    "id=99\n",
    "if id >0:\n",
    "    dfs=df[df.id==id].reset_index(drop=True)\n",
    "else:    \n",
    "    dfs=df[df.body.str.lower().map(unidecode.unidecode).str.contains('impacto social')].reset_index(drop=True)"
   ]
  },
  {
   "cell_type": "code",
   "execution_count": null,
   "metadata": {
    "collapsed": true
   },
   "outputs": [],
   "source": [
    "dfs"
   ]
  },
  {
   "cell_type": "code",
   "execution_count": 52,
   "metadata": {
    "collapsed": true
   },
   "outputs": [],
   "source": [
    "c=dfs.loc[dfs.index.values[-1]]"
   ]
  },
  {
   "cell_type": "code",
   "execution_count": null,
   "metadata": {
    "collapsed": true
   },
   "outputs": [],
   "source": [
    "c"
   ]
  },
  {
   "cell_type": "code",
   "execution_count": null,
   "metadata": {
    "collapsed": true
   },
   "outputs": [],
   "source": [
    "c.keys().values"
   ]
  },
  {
   "cell_type": "code",
   "execution_count": null,
   "metadata": {
    "collapsed": true
   },
   "outputs": [],
   "source": [
    "for k in c.keys():\n",
    "    print(k)\n",
    "    if c[k]==None:\n",
    "        c[k]=''"
   ]
  },
  {
   "cell_type": "code",
   "execution_count": 52,
   "metadata": {
    "collapsed": true
   },
   "outputs": [],
   "source": [
    "c.closing"
   ]
  },
  {
   "cell_type": "code",
   "execution_count": 61,
   "metadata": {},
   "outputs": [],
   "source": [
    "latexfile=r'''\n",
    "%'''+c.description+r'''\n",
    "\\documentclass{letter}\n",
    "\\usepackage[utf8]{inputenc}\n",
    "'''+c.preamble+r'''\n",
    "'''+c.address+r'''\n",
    "\\signature{'''+sg[sg.signature==c.signature].sign.values[0]+r'''}\n",
    "\\begin{document}\n",
    "\\begin{letter}{'''+c.para+r'''}\n",
    "\n",
    "\\opening{'''+c.opening+r'''} \n",
    "\n",
    "'''+c.body+r'''\n",
    "\n",
    "\\closing{'''+c.closing+r'''}\n",
    "\\end{letter}\n",
    "\\end{document}\n",
    "'''"
   ]
  },
  {
   "cell_type": "code",
   "execution_count": null,
   "metadata": {
    "collapsed": true
   },
   "outputs": [],
   "source": [
    "print(latexfile)"
   ]
  },
  {
   "cell_type": "code",
   "execution_count": 58,
   "metadata": {
    "collapsed": true
   },
   "outputs": [],
   "source": [
    "f=tempfile.NamedTemporaryFile('w',suffix='.tex',delete=False)"
   ]
  },
  {
   "cell_type": "code",
   "execution_count": 59,
   "metadata": {},
   "outputs": [
    {
     "data": {
      "text/plain": [
       "2017"
      ]
     },
     "execution_count": 59,
     "metadata": {},
     "output_type": "execute_result"
    }
   ],
   "source": [
    "f.write(latexfile)"
   ]
  },
  {
   "cell_type": "code",
   "execution_count": 60,
   "metadata": {},
   "outputs": [
    {
     "data": {
      "text/plain": [
       "'/tmp/tmppt2pwnu1.tex'"
      ]
     },
     "execution_count": 60,
     "metadata": {},
     "output_type": "execute_result"
    }
   ],
   "source": [
    "f.name"
   ]
  },
  {
   "cell_type": "code",
   "execution_count": 61,
   "metadata": {
    "collapsed": true
   },
   "outputs": [],
   "source": [
    "f.close()"
   ]
  },
  {
   "cell_type": "code",
   "execution_count": 62,
   "metadata": {
    "collapsed": true
   },
   "outputs": [],
   "source": [
    "lo=subprocess.Popen('pdflatex {:s}'.format(f.name).split(),cwd='/tmp',stdout=subprocess.PIPE,stderr=subprocess.PIPE).communicate()"
   ]
  },
  {
   "cell_type": "code",
   "execution_count": null,
   "metadata": {
    "collapsed": true
   },
   "outputs": [],
   "source": [
    "pdffile='{:s}'.format(f.name).split('.tex')[0]+'.pdf'\n",
    "if lo[0].decode('utf8').find(pdffile.split('/')[-1])>-1:\n",
    "    pdf='carta_{:d}.pdf'.format(c['id'])\n",
    "    dwld_dir='downloads'\n",
    "    kk=subprocess.Popen('mv {:s} /var/www/{:s}/{:s}'.format(pdffile,dwld_dir,pdf).split()).communicate()\n",
    "    print('output in http://gfif.udea.edu.co/{:s}/{:s}'.format(dwld_dir,pdf))\n",
    "    for suffix in  ['.aux','.log','.out','.tex']:\n",
    "        subprocess.Popen( ['rm', '{:s}'.format(f.name).split('.tex')[0]+suffix] ).communicate()\n",
    "else:\n",
    "    sys.exit('LaTeX ERROR:')    "
   ]
  },
  {
   "cell_type": "code",
   "execution_count": null,
   "metadata": {
    "collapsed": true
   },
   "outputs": [],
   "source": []
  }
 ],
 "metadata": {
  "kernelspec": {
   "display_name": "Python 3",
   "language": "python",
   "name": "python3"
  },
  "language_info": {
   "codemirror_mode": {
    "name": "ipython",
    "version": 3
   },
   "file_extension": ".py",
   "mimetype": "text/x-python",
   "name": "python",
   "nbconvert_exporter": "python",
   "pygments_lexer": "ipython3",
   "version": "3.4.2"
  },
  "latex_envs": {
   "LaTeX_envs_menu_present": true,
   "bibliofile": "biblio.bib",
   "cite_by": "apalike",
   "current_citInitial": 1,
   "eqLabelWithNumbers": true,
   "eqNumInitial": 1,
   "labels_anchors": false,
   "latex_user_defs": false,
   "report_style_numbering": false,
   "user_envs_cfg": false
  }
 },
 "nbformat": 4,
 "nbformat_minor": 2
}
