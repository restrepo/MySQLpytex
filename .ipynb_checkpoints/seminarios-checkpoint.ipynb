{
 "cells": [
  {
   "cell_type": "code",
   "execution_count": 20,
   "metadata": {},
   "outputs": [],
   "source": [
    "import getpass\n",
    "import pymysql\n",
    "import unidecode\n",
    "import pandas as pd"
   ]
  },
  {
   "cell_type": "code",
   "execution_count": 2,
   "metadata": {},
   "outputs": [],
   "source": [
    "import sys"
   ]
  },
  {
   "cell_type": "code",
   "execution_count": 3,
   "metadata": {},
   "outputs": [
    {
     "data": {
      "text/plain": [
       "sys.version_info(major=3, minor=5, micro=3, releaselevel='final', serial=0)"
      ]
     },
     "execution_count": 3,
     "metadata": {},
     "output_type": "execute_result"
    }
   ],
   "source": [
    "sys.version_info"
   ]
  },
  {
   "cell_type": "code",
   "execution_count": 21,
   "metadata": {},
   "outputs": [
    {
     "name": "stdout",
     "output_type": "stream",
     "text": [
      "········\n"
     ]
    }
   ],
   "source": [
    "password=getpass.getpass()"
   ]
  },
  {
   "cell_type": "code",
   "execution_count": 22,
   "metadata": {},
   "outputs": [],
   "source": [
    "pd.set_option('display.max_rows', 500)\n",
    "pd.set_option('display.max_columns', 500)\n",
    "pd.set_option('display.max_colwidth',500)"
   ]
  },
  {
   "cell_type": "code",
   "execution_count": 23,
   "metadata": {},
   "outputs": [],
   "source": [
    "conn = pymysql.connect(host='localhost', port=3306, user='root', passwd=password, db='seminarios')"
   ]
  },
  {
   "cell_type": "code",
   "execution_count": 24,
   "metadata": {},
   "outputs": [],
   "source": [
    "df=pd.read_sql('select * from talks;', con=conn)"
   ]
  },
  {
   "cell_type": "code",
   "execution_count": 25,
   "metadata": {},
   "outputs": [
    {
     "data": {
      "text/html": [
       "<div>\n",
       "<style>\n",
       "    .dataframe thead tr:only-child th {\n",
       "        text-align: right;\n",
       "    }\n",
       "\n",
       "    .dataframe thead th {\n",
       "        text-align: left;\n",
       "    }\n",
       "\n",
       "    .dataframe tbody tr th {\n",
       "        vertical-align: top;\n",
       "    }\n",
       "</style>\n",
       "<table border=\"1\" class=\"dataframe\">\n",
       "  <thead>\n",
       "    <tr style=\"text-align: right;\">\n",
       "      <th></th>\n",
       "      <th>id</th>\n",
       "      <th>fecha</th>\n",
       "      <th>name</th>\n",
       "      <th>institution</th>\n",
       "      <th>title</th>\n",
       "      <th>abstract</th>\n",
       "      <th>lugar</th>\n",
       "      <th>hora</th>\n",
       "      <th>User</th>\n",
       "      <th>Passwd</th>\n",
       "    </tr>\n",
       "  </thead>\n",
       "  <tbody>\n",
       "    <tr>\n",
       "      <th>301</th>\n",
       "      <td>304</td>\n",
       "      <td>2017-11-21</td>\n",
       "      <td>William J. Torres Bobadilla</td>\n",
       "      <td>IFIC CSIC-Universitat de València</td>\n",
       "      <td>Mathematical aspects of Scattering Amplitudes</td>\n",
       "      <td>The calculation of scattering amplitudes has been playing a very important\\r\\nrole in the physics of the LHC. In particular, more accuracy is required\\r\\nto compare our theoretical predictions with the experiments. In this\\r\\ntalk, we review modern techniques for analytic calculation of scattering\\r\\namplitudes. At tree level, with the knowledge of the S-matrix and\\r\\nformal properties of gauge invariant objects, we discuss the advantage\\r\\nof reformulating traditional methods based on the L...</td>\n",
       "      <td>6-307</td>\n",
       "      <td>2 PM</td>\n",
       "      <td></td>\n",
       "      <td></td>\n",
       "    </tr>\n",
       "  </tbody>\n",
       "</table>\n",
       "</div>"
      ],
      "text/plain": [
       "      id       fecha                           name  \\\n",
       "301  304  2017-11-21   William J. Torres Bobadilla    \n",
       "\n",
       "                           institution  \\\n",
       "301  IFIC CSIC-Universitat de València   \n",
       "\n",
       "                                              title  \\\n",
       "301  Mathematical aspects of Scattering Amplitudes    \n",
       "\n",
       "                                                                                                                                                                                                                                                                                                                                                                                                                                                                                                                abstract  \\\n",
       "301  The calculation of scattering amplitudes has been playing a very important\\r\\nrole in the physics of the LHC. In particular, more accuracy is required\\r\\nto compare our theoretical predictions with the experiments. In this\\r\\ntalk, we review modern techniques for analytic calculation of scattering\\r\\namplitudes. At tree level, with the knowledge of the S-matrix and\\r\\nformal properties of gauge invariant objects, we discuss the advantage\\r\\nof reformulating traditional methods based on the L...   \n",
       "\n",
       "     lugar  hora User Passwd  \n",
       "301  6-307  2 PM              "
      ]
     },
     "execution_count": 25,
     "metadata": {},
     "output_type": "execute_result"
    }
   ],
   "source": [
    "df[-1:]"
   ]
  },
  {
   "cell_type": "code",
   "execution_count": 26,
   "metadata": {},
   "outputs": [],
   "source": [
    "#df[df.name.str.lower().map(unidecode.unidecode).str.contains('camilo')].name"
   ]
  },
  {
   "cell_type": "code",
   "execution_count": 52,
   "metadata": {},
   "outputs": [],
   "source": [
    "row=df.loc[[301]].reset_index(drop=True).loc[0]"
   ]
  },
  {
   "cell_type": "code",
   "execution_count": 89,
   "metadata": {},
   "outputs": [
    {
     "data": {
      "text/plain": [
       "'Tuesday'"
      ]
     },
     "execution_count": 89,
     "metadata": {},
     "output_type": "execute_result"
    }
   ],
   "source": [
    "calendar.day_name[row.fecha.weekday()]"
   ]
  },
  {
   "cell_type": "code",
   "execution_count": 101,
   "metadata": {},
   "outputs": [
    {
     "name": "stdout",
     "output_type": "stream",
     "text": [
      "21\n"
     ]
    }
   ],
   "source": [
    "s='{}'.format(row.fecha.day)\n",
    "print(s)"
   ]
  },
  {
   "cell_type": "code",
   "execution_count": 90,
   "metadata": {},
   "outputs": [
    {
     "data": {
      "text/plain": [
       "'2 PM'"
      ]
     },
     "execution_count": 90,
     "metadata": {},
     "output_type": "execute_result"
    }
   ],
   "source": [
    "row.hora"
   ]
  },
  {
   "cell_type": "code",
   "execution_count": 51,
   "metadata": {},
   "outputs": [
    {
     "data": {
      "text/plain": [
       "' William J. Torres Bobadilla '"
      ]
     },
     "execution_count": 51,
     "metadata": {},
     "output_type": "execute_result"
    }
   ],
   "source": [
    "df[-1:].reset_index(drop=True).loc[0]['name']"
   ]
  },
  {
   "cell_type": "code",
   "execution_count": 102,
   "metadata": {},
   "outputs": [],
   "source": [
    "if True:\n",
    "    latexfile='\\n'\n",
    "    latexfile=latexfile+r'\\documentclass[xcolor=pdftex,dvipsnames,table]{beamer}'+'\\n'\n",
    "    latexfile=latexfile+r'\\pdfoutput=1'+'\\n'\n",
    "    latexfile=latexfile+r'\\mode<presentation>'+'\\n'\n",
    "    latexfile=latexfile+r'{'+'\\n'\n",
    "    latexfile=latexfile+r'  \\setbeamercovered{transparent}'+'\\n'\n",
    "    latexfile=latexfile+r'  \\setbeamertemplate{blocks}[rounded][shadow=true]'+'\\n'\n",
    "    latexfile=latexfile+r'  \\setbeamertemplate{navigation symbols}{}'+'\\n'\n",
    "    latexfile=latexfile+r'  \\setbeamertemplate{footline}{%\\hspace*{.5cm}'+'\\n'\n",
    "    latexfile=latexfile+r'    \\scriptsize{\\phantom{Gg}%\\insertauthor'+'\\n' \n",
    "    latexfile=latexfile+r'      \\hspace*{50pt}'+'\\n'\n",
    "    latexfile=latexfile+r'      \\hfill \\insertframenumber'+'\\n'\n",
    "    latexfile=latexfile+r'      \\hspace*{.5cm}}}'+'\\n'\n",
    "    latexfile=latexfile+r'}'+'\\n'\n",
    "    latexfile=latexfile+r'\\usepackage[T1]{fontenc}'+'\\n'\n",
    "    latexfile=latexfile+r'\\usepackage[latin1]{inputenc}'+'\\n'\n",
    "    latexfile=latexfile+r'\\usepackage[spanish]{babel}'+'\\n'\n",
    "    latexfile=latexfile+r'\\spanishdecimal{.}'+'\\n'\n",
    "    latexfile=latexfile+r'\\usepackage{beamerprosper}'+'\\n'\n",
    "    latexfile=latexfile+r'\\usepackage{amsmath,amssymb}'+'\\n'\n",
    "    latexfile=latexfile+r'\\usepackage{graphicx}'+'\\n'\n",
    "    latexfile=latexfile+r'\\usepackage{mycolors}'+'\\n'\n",
    "    latexfile=latexfile+r'\\usepackage{pgf}'+'\\n'\n",
    "    latexfile=latexfile+r'\\setlength{\\textwidth}{120 mm}'+'\\n'\n",
    "    latexfile=latexfile+r'\\setbeamersize{text margin left=10pt,text margin right=10pt}'+'\\n'\n",
    "    latexfile=latexfile+r'\\newcommand{\\widescreen}{'+'\\n'\n",
    "    latexfile=latexfile+r'\\setlength{\\paperwidth}{171 mm}'+'\\n'\n",
    "    latexfile=latexfile+r'\\setlength{\\paperheight}{96 mm}'+'\\n'\n",
    "    latexfile=latexfile+r'\\setlength{\\textwidth}{161 mm}'+'\\n'\n",
    "    latexfile=latexfile+r'\\setlength{\\textheight}{86 mm}'+'\\n'\n",
    "    latexfile=latexfile+r'}'+'\\n'\n",
    "    latexfile=latexfile+r'\\begin{document}'+'\\n'\n",
    "    latexfile=latexfile+r'\\setbeamertemplate{background}{\\includegraphics[width=\\paperwidth]{gfifseminars}}'+'\\n'\n",
    "    latexfile=latexfile+r'\\begin{frame}[plain]'+'\\n'\n",
    "    latexfile=latexfile+r'\\begin{picture}(320,250)'+'\\n'\n",
    "    latexfile=latexfile+r'\\put(0,210){'+'\\n'\n",
    "    latexfile=latexfile+r'\\begin{minipage}[t]{1.0\\linewidth}'+'\\n'\n",
    "    latexfile=latexfile+r'\\begin{center}'+'\\n'\n",
    "    latexfile=latexfile+r'\\textbf{\\color{red}\\large'+'\\n'\n",
    "    latexfile=latexfile+row.title+'}\\\\\\\\'+'\\n'\n",
    "    latexfile=latexfile+r'\\textbf{\\color{blue}\\small '+row['name']+'}\\\\\\\\'+'\\n'\n",
    "    latexfile=latexfile+r'\\textbf{\\color{blue}\\scriptsize '+row.institution+'}\\\\\\\\'+'\\n'\n",
    "    latexfile=latexfile+r'\\textbf{\\color{blue}\\footnotesize{Resumen:}}'+'\\n'\n",
    "    latexfile=latexfile+r'\\end{center}'+'\\n'\n",
    "    latexfile=latexfile+r'\\end{minipage}'+'\\n'\n",
    "    latexfile=latexfile+r'}%'+'\\n'\n",
    "    latexfile=latexfile+r'\\put(0,0){'+'\\n'\n",
    "    latexfile=latexfile+r'  \\begin{minipage}[t]{1.0\\linewidth}'+'\\n'\n",
    "    latexfile=latexfile+r'\\parbox{0.2\\textwidth}{\\textbf{\\color{red}\\scriptsize Lugar: '+row.lugar+'}}%'+'\\n'\n",
    "    latexfile=latexfile+r'\\parbox{0.6\\textwidth}{\\centering{\\textbf{\\color{red}\\scriptsize '+'\\n'\n",
    "    latexfile=latexfile+r'Fecha: '+calendar.day_name[row.fecha.weekday()]+' '+'{}'.format(row.fecha.day)+' de '+'{}'.format(row.fecha.year)+'}}}%'+'\\n'\n",
    "    latexfile=latexfile+r'\\parbox{0.2\\textwidth}{\\raggedleft{\\textbf{\\color{red}\\scriptsize Hora: '+row.hora+'}}}%'+'\\n'\n",
    "    latexfile=latexfile+r'  \\end{minipage}'+'\\n'\n",
    "    latexfile=latexfile+r'}% '+'\\n'   \n",
    "    latexfile=latexfile+r'\\end{picture}'+'\\n'\n",
    "    latexfile=latexfile+r'\\end{frame}'+'\\n'\n",
    "    latexfile=latexfile+r'\\end{document}'+'\\n'    "
   ]
  },
  {
   "cell_type": "code",
   "execution_count": 103,
   "metadata": {},
   "outputs": [
    {
     "name": "stdout",
     "output_type": "stream",
     "text": [
      "\n",
      "\\documentclass[xcolor=pdftex,dvipsnames,table]{beamer}\n",
      "\\pdfoutput=1\n",
      "\\mode<presentation>\n",
      "{\n",
      "  \\setbeamercovered{transparent}\n",
      "  \\setbeamertemplate{blocks}[rounded][shadow=true]\n",
      "  \\setbeamertemplate{navigation symbols}{}\n",
      "  \\setbeamertemplate{footline}{%\\hspace*{.5cm}\n",
      "    \\scriptsize{\\phantom{Gg}%\\insertauthor\n",
      "      \\hspace*{50pt}\n",
      "      \\hfill \\insertframenumber\n",
      "      \\hspace*{.5cm}}}\n",
      "}\n",
      "\\usepackage[T1]{fontenc}\n",
      "\\usepackage[latin1]{inputenc}\n",
      "\\usepackage[spanish]{babel}\n",
      "\\spanishdecimal{.}\n",
      "\\usepackage{beamerprosper}\n",
      "\\usepackage{amsmath,amssymb}\n",
      "\\usepackage{graphicx}\n",
      "\\usepackage{mycolors}\n",
      "\\usepackage{pgf}\n",
      "\\setlength{\\textwidth}{120 mm}\n",
      "\\setbeamersize{text margin left=10pt,text margin right=10pt}\n",
      "\\newcommand{\\widescreen}{\n",
      "\\setlength{\\paperwidth}{171 mm}\n",
      "\\setlength{\\paperheight}{96 mm}\n",
      "\\setlength{\\textwidth}{161 mm}\n",
      "\\setlength{\\textheight}{86 mm}\n",
      "}\n",
      "\\begin{document}\n",
      "\\setbeamertemplate{background}{\\includegraphics[width=\\paperwidth]{gfifseminars}}\n",
      "\\begin{frame}[plain]\n",
      "\\begin{picture}(320,250)\n",
      "\\put(0,210){\n",
      "\\begin{minipage}[t]{1.0\\linewidth}\n",
      "\\begin{center}\n",
      "\\textbf{\\color{red}\\large\n",
      "Mathematical aspects of Scattering Amplitudes }\\\\\n",
      "\\textbf{\\color{blue}\\small  William J. Torres Bobadilla }\\\\\n",
      "\\textbf{\\color{blue}\\scriptsize IFIC CSIC-Universitat de València}\\\\\n",
      "\\textbf{\\color{blue}\\footnotesize{Resumen:}}\n",
      "\\end{center}\n",
      "\\end{minipage}\n",
      "}%\n",
      "\\put(0,0){\n",
      "  \\begin{minipage}[t]{1.0\\linewidth}\n",
      "\\parbox{0.2\\textwidth}{\\textbf{\\color{red}\\scriptsize Lugar: 6-307}}%\n",
      "\\parbox{0.6\\textwidth}{\\centering{\\textbf{\\color{red}\\scriptsize \n",
      "Fecha: Tuesday 21 de 2017}}}%\n",
      "\\parbox{0.2\\textwidth}{\\raggedleft{\\textbf{\\color{red}\\scriptsize Hora: 2 PM}}}%\n",
      "  \\end{minipage}\n",
      "}% \n",
      "\\end{picture}\n",
      "\\end{frame}\n",
      "\\end{document}\n",
      "\n"
     ]
    }
   ],
   "source": [
    "print(latexfile)"
   ]
  },
  {
   "cell_type": "code",
   "execution_count": null,
   "metadata": {},
   "outputs": [],
   "source": [
    "def get_latexfile(row):\n",
    "    import calendar\n",
    "\n",
    "\\put(0,140){\n",
    "  \\begin{minipage}[t]{1.0\\linewidth}\n",
    "\\footnotesize\n",
    "'.$abstract.'\n",
    "\\end{minipage}\n",
    "}\n",
    "\\put(0,0){\n",
    "  \\begin{minipage}[t]{1.0\\linewidth}\n",
    "\\parbox{0.2\\textwidth}{\\textbf{\\color{red}\\scriptsize Lugar: '.$lugar.'}}\\parbox{0.6\\textwidth}{\\centering{\\textbf{\\color{red}\\scriptsize Fecha: '.$valueday[$weekday].' '.$dia.' de '.$valuemes[$mes].'}}}\\parbox{0.2\\textwidth}{\\raggedleft{\\textbf{\\color{red}\\scriptsize Hora: '.$hora.'}}}%\n",
    "  \\end{minipage}\n",
    "}%    \n",
    "\\end{picture}\n",
    "\n",
    "\\end{frame}\n",
    "\n",
    "\\end{document}';    \n",
    "    \n",
    "    \n",
    "    \n",
    "    \n",
    "    \n",
    "    \n",
    "    \n",
    "    return latexfile\n"
   ]
  },
  {
   "cell_type": "code",
   "execution_count": null,
   "metadata": {
    "collapsed": true
   },
   "outputs": [],
   "source": [
    "import getpass\n",
    "import pymysql\n",
    "import unidecode\n",
    "import pandas as pd\n",
    "import tempfile\n",
    "import subprocess\n",
    "import sys\n",
    "\n",
    "pd.set_option('display.max_rows', 500)\n",
    "pd.set_option('display.max_columns', 500)\n",
    "pd.set_option('display.max_colwidth',500)\n",
    "\n",
    "def generate_pdf(row):\n",
    "    \n",
    "    if row.opening is  None:\n",
    "        row.opening=''\n",
    "    if row.closing is  None:\n",
    "        row.closing=''\n",
    "\n",
    "    latexfile=get_latexfile(row)\n",
    "\n",
    "    f=tempfile.NamedTemporaryFile('w',suffix='.tex',delete=False)\n",
    "    f.write(latexfile)\n",
    "    f.close()\n",
    "    lo=subprocess.Popen('pdflatex {:s}'.format(f.name).split(),cwd='/tmp',\n",
    "                        stdout=subprocess.PIPE,stderr=subprocess.PIPE).communicate()\n",
    "    pdffile='{:s}'.format(f.name).split('.tex')[0]+'.pdf'\n",
    "    if lo[0].decode('utf8').find(pdffile.split('/')[-1])>-1:\n",
    "        pdf='carta_{:d}.pdf'.format(row['id'])\n",
    "        dwld_dir='downloads'\n",
    "        kk=subprocess.Popen('mv {:s} /home/restrepo/{:s}/{:s}'.format(pdffile,dwld_dir,pdf).split()).communicate()\n",
    "        print('output in http://fisica.udea.edu.co/{:s}/{:s}'.format(dwld_dir,pdf))\n",
    "        for suffix in  ['.aux','.log','.out','.tex']:\n",
    "            sc=subprocess.Popen( ['rm', '{:s}'.format(f.name).split('.tex')[0]+suffix] ).communicate()\n",
    "    else:\n",
    "        print(lo[0].decode('utf8'))\n",
    "        sys.exit('LaTeX ERROR:')    \n",
    "    return latexfile\n",
    "\n",
    "def db_to_pdf(choose_db=0,id=None,verbose=False):\n",
    "    '''\n",
    "    Obtain letter from the last DB entry\n",
    "    Type of letter: \n",
    "      * 0 Personal\n",
    "      * 1 Group\n",
    "    '''\n",
    "    password=getpass.getpass()\n",
    "    tipo_carta=['Diego_Restrepo', 'cartas_gfif']\n",
    "    conn = pymysql.connect(host='localhost', port=3306, user='root', passwd=password, db=tipo_carta[choose_db])\n",
    "\n",
    "    df=pd.read_sql('select * from cartas;', con=conn)\n",
    "\n",
    "    sg=pd.read_sql('select * from cartas_sign;', con=conn)\n",
    "    \n",
    "    \n",
    "    conn.close()\n",
    "    \n",
    "    #print(df.shape[0])\n",
    "    #return df,sg\n",
    "    if df.shape[0]:\n",
    "        if not id:\n",
    "            id=df.id.values[-1]\n",
    "        c=df[df.id==id].reset_index(drop=True).loc[0]\n",
    "        c['sign']=sg[sg.signature==c.signature].reset_index(drop=True).loc[0,'sign']\n",
    "        if verbose:\n",
    "            print(c)\n",
    "    else:\n",
    "        sys.exit('Error reading databases')\n",
    "        return df\n",
    "\n",
    "    \n",
    "    \n",
    "    return generate_pdf(c)\n",
    "\n",
    "def backup_database(choose_db=0):\n",
    "    '''\n",
    "    Obtain letter from the last DB entry\n",
    "    Type of letter: \n",
    "      * 0 Personal\n",
    "      * 1 Group\n",
    "    '''\n",
    "    password=getpass.getpass()\n",
    "    tipo_carta=['Diego_Restrepo', 'cartas_gfif']\n",
    "    \n",
    "    print('Trying to create backup file db_{:s}_backup.sql'.format( tipo_carta[choose_db]  )   )\n",
    "    ok=subprocess.Popen('mysqldump -u root -p{:s} {:s} > db_{:s}_backup.sql'.format(\n",
    "                     password,tipo_carta[choose_db],tipo_carta[choose_db]),shell=True,\n",
    "                     stdout=subprocess.PIPE,stderr=subprocess.PIPE).communicate()\n",
    "    \n",
    "    print()\n",
    "    \n",
    "    return ok"
   ]
  }
 ],
 "metadata": {
  "kernelspec": {
   "display_name": "Python 3",
   "language": "python",
   "name": "python3"
  },
  "language_info": {
   "codemirror_mode": {
    "name": "ipython",
    "version": 3
   },
   "file_extension": ".py",
   "mimetype": "text/x-python",
   "name": "python",
   "nbconvert_exporter": "python",
   "pygments_lexer": "ipython3",
   "version": "3.5.3"
  }
 },
 "nbformat": 4,
 "nbformat_minor": 2
}
