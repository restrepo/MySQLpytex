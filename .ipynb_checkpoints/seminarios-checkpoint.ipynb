{
 "cells": [
  {
   "cell_type": "code",
   "execution_count": 14,
   "metadata": {
    "collapsed": true
   },
   "outputs": [],
   "source": [
    "import getpass\n",
    "import pymysql\n",
    "import unidecode\n",
    "import pandas as pd"
   ]
  },
  {
   "cell_type": "code",
   "execution_count": null,
   "metadata": {
    "collapsed": true
   },
   "outputs": [],
   "source": [
    "password=getpass.getpass()"
   ]
  },
  {
   "cell_type": "code",
   "execution_count": 24,
   "metadata": {
    "collapsed": true
   },
   "outputs": [],
   "source": [
    "pd.set_option('display.max_rows', 500)\n",
    "pd.set_option('display.max_columns', 500)\n",
    "pd.set_option('display.max_colwidth',500)"
   ]
  },
  {
   "cell_type": "code",
   "execution_count": 5,
   "metadata": {
    "collapsed": true
   },
   "outputs": [],
   "source": [
    "conn = pymysql.connect(host='localhost', port=3306, user='root', passwd=password, db='seminarios')"
   ]
  },
  {
   "cell_type": "code",
   "execution_count": 10,
   "metadata": {
    "collapsed": true
   },
   "outputs": [],
   "source": [
    "df=pd.read_sql('select * from talks;', con=conn)"
   ]
  },
  {
   "cell_type": "code",
   "execution_count": 25,
   "metadata": {},
   "outputs": [
    {
     "data": {
      "text/html": [
       "<div>\n",
       "<table border=\"1\" class=\"dataframe\">\n",
       "  <thead>\n",
       "    <tr style=\"text-align: right;\">\n",
       "      <th></th>\n",
       "      <th>id</th>\n",
       "      <th>fecha</th>\n",
       "      <th>name</th>\n",
       "      <th>institution</th>\n",
       "      <th>title</th>\n",
       "      <th>abstract</th>\n",
       "      <th>lugar</th>\n",
       "      <th>hora</th>\n",
       "      <th>User</th>\n",
       "      <th>Passwd</th>\n",
       "    </tr>\n",
       "  </thead>\n",
       "  <tbody>\n",
       "    <tr>\n",
       "      <th>0</th>\n",
       "      <td>1</td>\n",
       "      <td>2003-02-24</td>\n",
       "      <td>GFIF</td>\n",
       "      <td>Instituto de Física, Universidad de Antioquia</td>\n",
       "      <td>Presentación seminarios 2003</td>\n",
       "      <td>Se cita a los miembros del Grupo de Fenomenología de Interacciones Fundamentales y a los estudiates interesados, a la reunión para la planeación de los seminarios correspondientes al primer semestre del 2003.</td>\n",
       "      <td>5-308</td>\n",
       "      <td>11 A.M</td>\n",
       "      <td></td>\n",
       "      <td></td>\n",
       "    </tr>\n",
       "  </tbody>\n",
       "</table>\n",
       "</div>"
      ],
      "text/plain": [
       "   id       fecha  name                                    institution  \\\n",
       "0   1  2003-02-24  GFIF  Instituto de Física, Universidad de Antioquia   \n",
       "\n",
       "                           title  \\\n",
       "0   Presentación seminarios 2003   \n",
       "\n",
       "                                                                                                                                                                                                           abstract  \\\n",
       "0  Se cita a los miembros del Grupo de Fenomenología de Interacciones Fundamentales y a los estudiates interesados, a la reunión para la planeación de los seminarios correspondientes al primer semestre del 2003.   \n",
       "\n",
       "   lugar    hora User Passwd  \n",
       "0  5-308  11 A.M              "
      ]
     },
     "execution_count": 25,
     "metadata": {},
     "output_type": "execute_result"
    }
   ],
   "source": [
    "df[:1]"
   ]
  },
  {
   "cell_type": "code",
   "execution_count": 20,
   "metadata": {},
   "outputs": [
    {
     "data": {
      "text/plain": [
       "63         Camilo Valencia Balvin\n",
       "89         Camilo Valencia Balvín\n",
       "104        Camilo Valencia Balvín\n",
       "123        Camilo Valencia Balvín\n",
       "172        Camilo Valencia Balvín\n",
       "229    Juan Camilo Macias Ramirez\n",
       "263            Camilo García Cely\n",
       "277            Camilo García Cely\n",
       "288                Camilo Salazar\n",
       "292                  Camilo Santa\n",
       "Name: name, dtype: object"
      ]
     },
     "execution_count": 20,
     "metadata": {},
     "output_type": "execute_result"
    }
   ],
   "source": [
    "df[df.name.str.lower().map(unidecode.unidecode).str.contains('camilo')].name"
   ]
  },
  {
   "cell_type": "code",
   "execution_count": 28,
   "metadata": {},
   "outputs": [
    {
     "data": {
      "text/html": [
       "<div>\n",
       "<table border=\"1\" class=\"dataframe\">\n",
       "  <thead>\n",
       "    <tr style=\"text-align: right;\">\n",
       "      <th></th>\n",
       "      <th>id</th>\n",
       "      <th>fecha</th>\n",
       "      <th>name</th>\n",
       "      <th>institution</th>\n",
       "      <th>title</th>\n",
       "      <th>abstract</th>\n",
       "      <th>lugar</th>\n",
       "      <th>hora</th>\n",
       "      <th>User</th>\n",
       "      <th>Passwd</th>\n",
       "    </tr>\n",
       "  </thead>\n",
       "  <tbody>\n",
       "    <tr>\n",
       "      <th>288</th>\n",
       "      <td>291</td>\n",
       "      <td>2016-05-25</td>\n",
       "      <td>Camilo Salazar</td>\n",
       "      <td>Instituto de Física, Universidad de Antioquia</td>\n",
       "      <td>Phenomenology of 3-3-1 gauge group based models: Colliders constraints\\\\ {\\small Trabajo de Investigación de Maestría }\\r\\n</td>\n",
       "      <td>\\ \\\\\\r\\n\\r\\nThe ATLAS detector data on di-lepton production is used in order to impose\\r\\nconstraints on Z' boson masses associated with a variety of 3-3-1 and E6 motivated Z'\\r\\nmodels. Lower mass bounds for the different models are established at 95\\% confidence\\r\\nlevel. Our numerical analysis is extrapolated up to 14 TeV, and further to 30 TeV and\\r\\n100 TeV, for a broad range of luminosities. Some of our results can be compared with the\\r\\nATLAS published bounds, being, for those cases,...</td>\n",
       "      <td>6-435</td>\n",
       "      <td>2 P.M</td>\n",
       "      <td></td>\n",
       "      <td></td>\n",
       "    </tr>\n",
       "  </tbody>\n",
       "</table>\n",
       "</div>"
      ],
      "text/plain": [
       "      id       fecha            name  \\\n",
       "288  291  2016-05-25  Camilo Salazar   \n",
       "\n",
       "                                       institution  \\\n",
       "288  Instituto de Física, Universidad de Antioquia   \n",
       "\n",
       "                                                                                                                           title  \\\n",
       "288  Phenomenology of 3-3-1 gauge group based models: Colliders constraints\\\\ {\\small Trabajo de Investigación de Maestría }\\r\\n   \n",
       "\n",
       "                                                                                                                                                                                                                                                                                                                                                                                                                                                                                                                abstract  \\\n",
       "288  \\ \\\\\\r\\n\\r\\nThe ATLAS detector data on di-lepton production is used in order to impose\\r\\nconstraints on Z' boson masses associated with a variety of 3-3-1 and E6 motivated Z'\\r\\nmodels. Lower mass bounds for the different models are established at 95\\% confidence\\r\\nlevel. Our numerical analysis is extrapolated up to 14 TeV, and further to 30 TeV and\\r\\n100 TeV, for a broad range of luminosities. Some of our results can be compared with the\\r\\nATLAS published bounds, being, for those cases,...   \n",
       "\n",
       "     lugar   hora User Passwd  \n",
       "288  6-435  2 P.M              "
      ]
     },
     "execution_count": 28,
     "metadata": {},
     "output_type": "execute_result"
    }
   ],
   "source": [
    "df.loc[[288]]"
   ]
  },
  {
   "cell_type": "code",
   "execution_count": null,
   "metadata": {
    "collapsed": true
   },
   "outputs": [],
   "source": []
  }
 ],
 "metadata": {
  "kernelspec": {
   "display_name": "Python 3",
   "language": "python",
   "name": "python3"
  },
  "language_info": {
   "codemirror_mode": {
    "name": "ipython",
    "version": 3
   },
   "file_extension": ".py",
   "mimetype": "text/x-python",
   "name": "python",
   "nbconvert_exporter": "python",
   "pygments_lexer": "ipython3",
   "version": "3.4.2"
  }
 },
 "nbformat": 4,
 "nbformat_minor": 2
}
