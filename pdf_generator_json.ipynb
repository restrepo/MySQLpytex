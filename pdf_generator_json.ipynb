{
 "cells": [
  {
   "cell_type": "markdown",
   "metadata": {},
   "source": [
    "# Read a MySQL DataBase and generate specific output\n",
    "Hint: Works with real index"
   ]
  },
  {
   "cell_type": "code",
   "execution_count": 126,
   "metadata": {},
   "outputs": [],
   "source": [
    "from database_to_pandas import *\n",
    "import sys"
   ]
  },
  {
   "cell_type": "code",
   "execution_count": 127,
   "metadata": {},
   "outputs": [],
   "source": [
    "import pandas as pd"
   ]
  },
  {
   "cell_type": "code",
   "execution_count": 128,
   "metadata": {},
   "outputs": [],
   "source": [
    "df=pd.read_json('data/db.json')\n",
    "df=df.reset_index(drop=True)"
   ]
  },
  {
   "cell_type": "code",
   "execution_count": 129,
   "metadata": {},
   "outputs": [],
   "source": [
    "dfid=df[df['id']==id].index.values[0]"
   ]
  },
  {
   "cell_type": "code",
   "execution_count": 130,
   "metadata": {},
   "outputs": [
    {
     "data": {
      "text/plain": [
       "308"
      ]
     },
     "execution_count": 130,
     "metadata": {},
     "output_type": "execute_result"
    }
   ],
   "source": [
    "df.shape[0]"
   ]
  },
  {
   "cell_type": "code",
   "execution_count": 131,
   "metadata": {},
   "outputs": [],
   "source": [
    "NEW=True\n",
    "if NEW:\n",
    "    dfid=df.shape[0]\n",
    "    df=df.append(df.loc[[dfid-1]]).reset_index(drop=True)"
   ]
  },
  {
   "cell_type": "code",
   "execution_count": 132,
   "metadata": {},
   "outputs": [
    {
     "data": {
      "text/plain": [
       "address                                                                                                                                                                                                                                                                                                                                                                                                                                                                                                                           \n",
       "body           \\n    Solicito la inscripción del Proyecto ``MÉTRICAS DE VINCULACIÓN UNIVERSIDAD ENTORNO ETAPA 3.'' \\n    con una duración de 8 mesesy el cual se encuentrá financiado por varias instancias de la Universidad. \\n    El proyecto se encuentra ya diligenciado en la plataforma SIIU de acuerdo al documento anexo. \\n    El equipo de trabajo es el siguiente: \\n    \\begin{itemize}\\n    \\item Diego Restrepo, Investigador Principal, 5h/semana\\n    \\item Alejandro Uribe Tirado, 5h/semana\\n    \\item Astri...\n",
       "closing                                                                                                                                                                                                                                                                                                                                                                                                                                                                               Agradeciendo su colaboración en este sentido\n",
       "description                                                                                                                                                                                                                                                                                                                                                                                                                                                                                                Inscripción de proyecto\n",
       "fecha                                                                                                                                                                                                                                                                                                                                                                                                                                                                                                                1595030400000\n",
       "id                                                                                                                                                                                                                                                                                                                                                                                                                                                                                                                             307\n",
       "link                                                                                                                                                                                                                                                                                                                                                                                                                                                                          http://gfif.udea.edu.co/cartas/cartas.php?step=1&id=\n",
       "opening                                                                                                                                                                                                                                                                                                                                                                                                                                                                                                        Respetados señores:\n",
       "para                                                                                                                                                                                                                                                                                                                                                                                                                                     \\n    Señores\\\\\\n    Comité Técnico\\\\\\n    Facultad de Ciencias Exactas y Naturales\\n    \n",
       "preamble                                                                                                                                                                                                                                                                                                                                                                                                                                                                       \\n\\usepackage{udea}\\n%\\usepackage[spanish]{babel}\\n\n",
       "signature                                                                                                                                                                                                                                                                                                                                                                                                                                                                                                            Diego_en_sign\n",
       "Name: 308, dtype: object"
      ]
     },
     "execution_count": 132,
     "metadata": {},
     "output_type": "execute_result"
    }
   ],
   "source": [
    "df.loc[dfid]"
   ]
  },
  {
   "cell_type": "code",
   "execution_count": 133,
   "metadata": {},
   "outputs": [],
   "source": [
    "body=r'''\n",
    "    Solicito una prorroga por 6 meses para la ejecución de la Estrategía de Sostenibilidad del\n",
    "    Grupo de Fenomenología de Interacciones Fundamentales, 2018-2020 debido a los problemas de\n",
    "    gestión de los recursos originados por la pandemía de Covid-19.\n",
    "'''"
   ]
  },
  {
   "cell_type": "code",
   "execution_count": 134,
   "metadata": {},
   "outputs": [],
   "source": [
    "EDIT=True\n",
    "if EDIT:\n",
    "    df.loc[dfid,'description']=r'Inscripción de proyecto'\n",
    "    df.loc[dfid,'para']=r'''\n",
    "    Señores\\\\\n",
    "    Comité Técnico\\\\\n",
    "    Facultad de Ciencias Exactas y Naturales\n",
    "    '''    \n",
    "    df.loc[dfid,'body']=r'{}'.format(body)\n",
    "    df.loc[dfid,'closing']=r'Agradeciendo su colaboración en este sentido'"
   ]
  },
  {
   "cell_type": "code",
   "execution_count": 135,
   "metadata": {},
   "outputs": [],
   "source": [
    "df.loc[dfid,'preamble']=r'''\n",
    "\\usepackage{udea}\n",
    "%\\usepackage[spanish]{babel}\n",
    "'''"
   ]
  },
  {
   "cell_type": "code",
   "execution_count": 136,
   "metadata": {},
   "outputs": [
    {
     "data": {
      "text/html": [
       "<div>\n",
       "<style scoped>\n",
       "    .dataframe tbody tr th:only-of-type {\n",
       "        vertical-align: middle;\n",
       "    }\n",
       "\n",
       "    .dataframe tbody tr th {\n",
       "        vertical-align: top;\n",
       "    }\n",
       "\n",
       "    .dataframe thead th {\n",
       "        text-align: right;\n",
       "    }\n",
       "</style>\n",
       "<table border=\"1\" class=\"dataframe\">\n",
       "  <thead>\n",
       "    <tr style=\"text-align: right;\">\n",
       "      <th></th>\n",
       "      <th>address</th>\n",
       "      <th>body</th>\n",
       "      <th>closing</th>\n",
       "      <th>description</th>\n",
       "      <th>fecha</th>\n",
       "      <th>id</th>\n",
       "      <th>link</th>\n",
       "      <th>opening</th>\n",
       "      <th>para</th>\n",
       "      <th>preamble</th>\n",
       "      <th>signature</th>\n",
       "    </tr>\n",
       "  </thead>\n",
       "  <tbody>\n",
       "    <tr>\n",
       "      <th>308</th>\n",
       "      <td></td>\n",
       "      <td>\\n    Solicito una prorroga por 6 meses para la ejecución de la Estrategía de Sostenibilidad del\\n    Grupo de Fenomenología de Interacciones Fundamentales, 2018-2020 debido a los problemas de\\n    gestión de los recursos originados por la pandemía de Covid-19.\\n</td>\n",
       "      <td>Agradeciendo su colaboración en este sentido</td>\n",
       "      <td>Inscripción de proyecto</td>\n",
       "      <td>1595030400000</td>\n",
       "      <td>307</td>\n",
       "      <td>http://gfif.udea.edu.co/cartas/cartas.php?step=1&amp;id=</td>\n",
       "      <td>Respetados señores:</td>\n",
       "      <td>\\n    Señores\\\\\\n    Comité Técnico\\\\\\n    Facultad de Ciencias Exactas y Naturales\\n</td>\n",
       "      <td>\\n\\usepackage{udea}\\n%\\usepackage[spanish]{babel}\\n</td>\n",
       "      <td>Diego_en_sign</td>\n",
       "    </tr>\n",
       "  </tbody>\n",
       "</table>\n",
       "</div>"
      ],
      "text/plain": [
       "    address  \\\n",
       "308           \n",
       "\n",
       "                                                                                                                                                                                                                                                                        body  \\\n",
       "308  \\n    Solicito una prorroga por 6 meses para la ejecución de la Estrategía de Sostenibilidad del\\n    Grupo de Fenomenología de Interacciones Fundamentales, 2018-2020 debido a los problemas de\\n    gestión de los recursos originados por la pandemía de Covid-19.\\n   \n",
       "\n",
       "                                          closing              description  \\\n",
       "308  Agradeciendo su colaboración en este sentido  Inscripción de proyecto   \n",
       "\n",
       "             fecha   id                                                  link  \\\n",
       "308  1595030400000  307  http://gfif.udea.edu.co/cartas/cartas.php?step=1&id=   \n",
       "\n",
       "                 opening  \\\n",
       "308  Respetados señores:   \n",
       "\n",
       "                                                                                          para  \\\n",
       "308  \\n    Señores\\\\\\n    Comité Técnico\\\\\\n    Facultad de Ciencias Exactas y Naturales\\n       \n",
       "\n",
       "                                                preamble      signature  \n",
       "308  \\n\\usepackage{udea}\\n%\\usepackage[spanish]{babel}\\n  Diego_en_sign  "
      ]
     },
     "execution_count": 136,
     "metadata": {},
     "output_type": "execute_result"
    }
   ],
   "source": [
    "df.iloc[-1:]"
   ]
  },
  {
   "cell_type": "code",
   "execution_count": 137,
   "metadata": {},
   "outputs": [],
   "source": [
    "df[\"id\"]=df.index"
   ]
  },
  {
   "cell_type": "code",
   "execution_count": 138,
   "metadata": {},
   "outputs": [],
   "source": [
    "df.to_json('data/db.json',orient='records',force_ascii=False)"
   ]
  },
  {
   "cell_type": "code",
   "execution_count": 139,
   "metadata": {},
   "outputs": [],
   "source": [
    "import getpass\n",
    "import pymysql\n",
    "import unidecode\n",
    "import pandas as pd\n",
    "import tempfile\n",
    "import subprocess\n",
    "import sys\n",
    "from latexfiles import *\n",
    "\n",
    "\n",
    "pd.set_option('display.max_rows', 500)\n",
    "pd.set_option('display.max_columns', 500)\n",
    "pd.set_option('display.max_colwidth',500)\n",
    "\n",
    "def generate_pdf(latexfile,\n",
    "    pdf='output.pdf',\n",
    "    dwld_dir='/home/restrepo/downloads',\n",
    "    url_dir='file:///home/restrepo/downloads',id=None):\n",
    "    \"\"\"\n",
    "    pdflatex upon latexfile to generate 'pdf'  file in \n",
    "    'dwld_dir' with browser link 'url_dir'\n",
    "    \"\"\"\n",
    "\n",
    "    f=tempfile.NamedTemporaryFile('w',suffix='.tex',delete=False)\n",
    "    f.write(latexfile)\n",
    "    f.close()\n",
    "    lo=subprocess.Popen('pdflatex {:s}'.format(f.name).split(),cwd='/tmp',\n",
    "                        stdout=subprocess.PIPE,stderr=subprocess.PIPE).communicate()\n",
    "    pdffile='{:s}'.format(f.name).split('.tex')[0]+'.pdf'\n",
    "    if lo[0].decode('utf8').find(pdffile.split('/')[-1])>-1:\n",
    "        \n",
    "        kk=subprocess.Popen('mv {:s} {:s}/{:s}'.format(pdffile,dwld_dir,pdf).split()).communicate()\n",
    "        print('output in {:s}/{:s}'.format(url_dir,pdf))\n",
    "        for suffix in  ['.aux','.log','.out','.tex']:\n",
    "            sc=subprocess.Popen( ['rm', '{:s}'.format(f.name).split('.tex')[0]+suffix] ).communicate()\n",
    "    else:\n",
    "        print(lo[0].decode('utf8'))\n",
    "        sys.exit('LaTeX ERROR:')    \n",
    "    return latexfile\n",
    "\n",
    "class database_to_pandas(object):\n",
    "    \"\"\"\n",
    "    Convert Data Base  to pandas and filtered index to Series and \n",
    "    define methods to use them.\n",
    "    Intialize with choose_db and main_table to build attibute: choose_db[main_table]\n",
    "    See for example:\n",
    "    {'Diego_Restrepo':'cartas','cartas_gfif':'cartas','seminarios':'talks'}\n",
    "    The optional aux_tables must be set to '' if not required, otherwise \n",
    "    'cartas_sign' is used\n",
    "    udea.sty and udea.pdf must be instaled\n",
    "    \"\"\"\n",
    "    def __init__(self,host='localhost',user='root',choose_db='Diego_Restrepo',main_table='cartas',id=None,\n",
    "                 aux_tables='cartas_sign',common_columns='signature',DB=True,verbose=False):\n",
    "        if DB:\n",
    "            password=getpass.getpass()\n",
    "            self.choose_db={choose_db:main_table}\n",
    "            self.DataBase=choose_db\n",
    "            conn = pymysql.connect(host=host, port=3306, user=user, passwd=password, db=choose_db)\n",
    "            df=pd.read_sql('select * from {};'.format(self.choose_db[choose_db]), con=conn)\n",
    "        else:\n",
    "            df=pd.read_json('data/db.json')\n",
    "        #TODO: generilize to addtional tables\n",
    "        if aux_tables:\n",
    "            if DB:\n",
    "                sg=pd.read_sql('select * from {};'.format(aux_tables), con=conn)\n",
    "                conn.close()\n",
    "            else:\n",
    "                sg=pd.read_json('data/sg.json')\n",
    "\n",
    "        self.pandas_DataFrame=df\n",
    "        self.pandas_signature=sg\n",
    "        #print(df.shape[0])\n",
    "        #return df,sg\n",
    "        if df.shape[0]:\n",
    "            if not id:\n",
    "                id=df.id.values[-1]\n",
    "            self.pandas_Series=df[df.id==id].reset_index(drop=True).loc[0]\n",
    "            if aux_tables:\n",
    "                #TODO:\n",
    "                self.pandas_Series['common_{}'.format(common_columns)]=sg[\n",
    "                    sg[common_columns]==self.pandas_Series[common_columns]].reset_index(drop=True).loc[0,'sign']\n",
    "            if verbose:\n",
    "                print(self.pandas_Series)\n",
    "        else:\n",
    "            sys.exit('Error reading databases')\n",
    "            return df\n",
    "\n",
    "    \n",
    "    def to_latex(self,func):\n",
    "        '''Build a function to build the latex file with the self.Series keys\n",
    "           and call it from here\n",
    "        '''\n",
    "        #TODO: check if class has methoed\n",
    "        self.latexfile=func(self.pandas_Series)\n",
    "        return self.latexfile\n",
    "    #return generate_pdf(c)\n",
    "    def to_pdf(self,func,**kwargs):\n",
    "        '''Build a function to build the latex file with the self.Series keys\n",
    "           and call it from here\n",
    "        '''\n",
    "        self.latexfile=func(self.pandas_Series)\n",
    "        return generate_pdf(self.latexfile,**kwargs)\n",
    "        \n",
    "    def backup_database(self):\n",
    "        '''\n",
    "        Backup DB\n",
    "        '''\n",
    "    \n",
    "        password=getpass.getpass()\n",
    "\n",
    "        print('Trying to create backup file db_{:s}_backup.sql'.format( self.DataBase  )   )\n",
    "        ok=subprocess.Popen('mysqldump -u root -p{:s} {:s} > db_{:s}_backup.sql'.format(\n",
    "                         password,self.DataBase,self.DataBase),shell=True,\n",
    "                         stdout=subprocess.PIPE,stderr=subprocess.PIPE).communicate()\n",
    "\n",
    "        print()\n",
    "\n",
    "        return ok\n",
    "import getpass"
   ]
  },
  {
   "cell_type": "code",
   "execution_count": 143,
   "metadata": {},
   "outputs": [],
   "source": [
    "id=308"
   ]
  },
  {
   "cell_type": "code",
   "execution_count": 144,
   "metadata": {},
   "outputs": [],
   "source": [
    "data_base='Diego_Restrepo'\n",
    "db=database_to_pandas(choose_db=data_base,main_table='cartas',id=id,DB=False)"
   ]
  },
  {
   "cell_type": "code",
   "execution_count": 145,
   "metadata": {},
   "outputs": [
    {
     "name": "stdout",
     "output_type": "stream",
     "text": [
      "output in http://localhost/downloads/cartas.pdf\n"
     ]
    }
   ],
   "source": [
    "latexfile=db.to_pdf(cartas,pdf='cartas.pdf',\n",
    "            dwld_dir='/home/restrepo/downloads',\n",
    "            url_dir='http://localhost/downloads',id=id)"
   ]
  },
  {
   "cell_type": "code",
   "execution_count": 30,
   "metadata": {},
   "outputs": [
    {
     "ename": "KeyboardInterrupt",
     "evalue": "Interrupted by user",
     "output_type": "error",
     "traceback": [
      "\u001b[0;31m---------------------------------------------------------------------------\u001b[0m",
      "\u001b[0;31mKeyboardInterrupt\u001b[0m                         Traceback (most recent call last)",
      "\u001b[0;32m<ipython-input-30-4a58d099eacc>\u001b[0m in \u001b[0;36m<module>\u001b[0;34m()\u001b[0m\n\u001b[1;32m     13\u001b[0m         \u001b[0mdb\u001b[0m\u001b[0;34m=\u001b[0m\u001b[0mdatabase_to_pandas\u001b[0m\u001b[0;34m(\u001b[0m\u001b[0mchoose_db\u001b[0m\u001b[0;34m=\u001b[0m\u001b[0mdata_base\u001b[0m\u001b[0;34m,\u001b[0m\u001b[0mmain_table\u001b[0m\u001b[0;34m=\u001b[0m\u001b[0;34m'cartas'\u001b[0m\u001b[0;34m,\u001b[0m\u001b[0mid\u001b[0m\u001b[0;34m=\u001b[0m\u001b[0mid\u001b[0m\u001b[0;34m)\u001b[0m\u001b[0;34m\u001b[0m\u001b[0;34m\u001b[0m\u001b[0m\n\u001b[1;32m     14\u001b[0m     \u001b[0;32melse\u001b[0m\u001b[0;34m:\u001b[0m\u001b[0;34m\u001b[0m\u001b[0;34m\u001b[0m\u001b[0m\n\u001b[0;32m---> 15\u001b[0;31m         \u001b[0mdb\u001b[0m\u001b[0;34m=\u001b[0m\u001b[0mdatabase_to_pandas\u001b[0m\u001b[0;34m(\u001b[0m\u001b[0mchoose_db\u001b[0m\u001b[0;34m=\u001b[0m\u001b[0mdata_base\u001b[0m\u001b[0;34m,\u001b[0m\u001b[0mmain_table\u001b[0m\u001b[0;34m=\u001b[0m\u001b[0;34m'cartas'\u001b[0m\u001b[0;34m)\u001b[0m\u001b[0;34m\u001b[0m\u001b[0;34m\u001b[0m\u001b[0m\n\u001b[0m\u001b[1;32m     16\u001b[0m \u001b[0;32mexcept\u001b[0m \u001b[0mKeyError\u001b[0m\u001b[0;34m:\u001b[0m\u001b[0;34m\u001b[0m\u001b[0;34m\u001b[0m\u001b[0m\n\u001b[1;32m     17\u001b[0m     \u001b[0msys\u001b[0m\u001b[0;34m.\u001b[0m\u001b[0mexit\u001b[0m\u001b[0;34m(\u001b[0m\u001b[0;34m'Uncomment Personal Data Base'\u001b[0m\u001b[0;34m)\u001b[0m\u001b[0;34m\u001b[0m\u001b[0;34m\u001b[0m\u001b[0m\n",
      "\u001b[0;32m<ipython-input-27-f30075efb997>\u001b[0m in \u001b[0;36m__init__\u001b[0;34m(self, host, user, choose_db, main_table, id, aux_tables, common_columns, DB, verbose)\u001b[0m\n\u001b[1;32m     53\u001b[0m                  aux_tables='cartas_sign',common_columns='signature',DB=True,verbose=False):\n\u001b[1;32m     54\u001b[0m         \u001b[0;32mif\u001b[0m \u001b[0mDB\u001b[0m\u001b[0;34m:\u001b[0m\u001b[0;34m\u001b[0m\u001b[0;34m\u001b[0m\u001b[0m\n\u001b[0;32m---> 55\u001b[0;31m             \u001b[0mpassword\u001b[0m\u001b[0;34m=\u001b[0m\u001b[0mgetpass\u001b[0m\u001b[0;34m.\u001b[0m\u001b[0mgetpass\u001b[0m\u001b[0;34m(\u001b[0m\u001b[0;34m)\u001b[0m\u001b[0;34m\u001b[0m\u001b[0;34m\u001b[0m\u001b[0m\n\u001b[0m\u001b[1;32m     56\u001b[0m             \u001b[0mself\u001b[0m\u001b[0;34m.\u001b[0m\u001b[0mchoose_db\u001b[0m\u001b[0;34m=\u001b[0m\u001b[0;34m{\u001b[0m\u001b[0mchoose_db\u001b[0m\u001b[0;34m:\u001b[0m\u001b[0mmain_table\u001b[0m\u001b[0;34m}\u001b[0m\u001b[0;34m\u001b[0m\u001b[0;34m\u001b[0m\u001b[0m\n\u001b[1;32m     57\u001b[0m             \u001b[0mself\u001b[0m\u001b[0;34m.\u001b[0m\u001b[0mDataBase\u001b[0m\u001b[0;34m=\u001b[0m\u001b[0mchoose_db\u001b[0m\u001b[0;34m\u001b[0m\u001b[0;34m\u001b[0m\u001b[0m\n",
      "\u001b[0;32m/usr/local/lib/python3.7/dist-packages/ipykernel/kernelbase.py\u001b[0m in \u001b[0;36mgetpass\u001b[0;34m(self, prompt, stream)\u001b[0m\n\u001b[1;32m    844\u001b[0m             \u001b[0mself\u001b[0m\u001b[0;34m.\u001b[0m\u001b[0m_parent_ident\u001b[0m\u001b[0;34m,\u001b[0m\u001b[0;34m\u001b[0m\u001b[0;34m\u001b[0m\u001b[0m\n\u001b[1;32m    845\u001b[0m             \u001b[0mself\u001b[0m\u001b[0;34m.\u001b[0m\u001b[0m_parent_header\u001b[0m\u001b[0;34m,\u001b[0m\u001b[0;34m\u001b[0m\u001b[0;34m\u001b[0m\u001b[0m\n\u001b[0;32m--> 846\u001b[0;31m             \u001b[0mpassword\u001b[0m\u001b[0;34m=\u001b[0m\u001b[0;32mTrue\u001b[0m\u001b[0;34m,\u001b[0m\u001b[0;34m\u001b[0m\u001b[0;34m\u001b[0m\u001b[0m\n\u001b[0m\u001b[1;32m    847\u001b[0m         )\n\u001b[1;32m    848\u001b[0m \u001b[0;34m\u001b[0m\u001b[0m\n",
      "\u001b[0;32m/usr/local/lib/python3.7/dist-packages/ipykernel/kernelbase.py\u001b[0m in \u001b[0;36m_input_request\u001b[0;34m(self, prompt, ident, parent, password)\u001b[0m\n\u001b[1;32m    902\u001b[0m             \u001b[0;32mexcept\u001b[0m \u001b[0mKeyboardInterrupt\u001b[0m\u001b[0;34m:\u001b[0m\u001b[0;34m\u001b[0m\u001b[0;34m\u001b[0m\u001b[0m\n\u001b[1;32m    903\u001b[0m                 \u001b[0;31m# re-raise KeyboardInterrupt, to truncate traceback\u001b[0m\u001b[0;34m\u001b[0m\u001b[0;34m\u001b[0m\u001b[0;34m\u001b[0m\u001b[0m\n\u001b[0;32m--> 904\u001b[0;31m                 \u001b[0;32mraise\u001b[0m \u001b[0mKeyboardInterrupt\u001b[0m\u001b[0;34m(\u001b[0m\u001b[0;34m\"Interrupted by user\"\u001b[0m\u001b[0;34m)\u001b[0m \u001b[0;32mfrom\u001b[0m \u001b[0;32mNone\u001b[0m\u001b[0;34m\u001b[0m\u001b[0;34m\u001b[0m\u001b[0m\n\u001b[0m\u001b[1;32m    905\u001b[0m             \u001b[0;32mexcept\u001b[0m \u001b[0mException\u001b[0m \u001b[0;32mas\u001b[0m \u001b[0me\u001b[0m\u001b[0;34m:\u001b[0m\u001b[0;34m\u001b[0m\u001b[0;34m\u001b[0m\u001b[0m\n\u001b[1;32m    906\u001b[0m                 \u001b[0mself\u001b[0m\u001b[0;34m.\u001b[0m\u001b[0mlog\u001b[0m\u001b[0;34m.\u001b[0m\u001b[0mwarning\u001b[0m\u001b[0;34m(\u001b[0m\u001b[0;34m\"Invalid Message:\"\u001b[0m\u001b[0;34m,\u001b[0m \u001b[0mexc_info\u001b[0m\u001b[0;34m=\u001b[0m\u001b[0;32mTrue\u001b[0m\u001b[0;34m)\u001b[0m\u001b[0;34m\u001b[0m\u001b[0;34m\u001b[0m\u001b[0m\n",
      "\u001b[0;31mKeyboardInterrupt\u001b[0m: Interrupted by user"
     ]
    }
   ],
   "source": [
    "id=None # last\n",
    "#id=176 #Invitation letter\n",
    "#id=281 # Invitado Nacional\n",
    "#id=289 # Super recommendation corrected\n",
    "#id=283 #certificado estancia\n",
    "#id=307 # Generic Recommmendation letter\n",
    "#id=306 #Generic Aval horas de investigación\n",
    "#id=105\n",
    "data_base='Diego_Restrepo' #Diego_Restrepo;cartas_gfif;seminarios\n",
    "#data_base='cartas_gfif' #Diego_Restrepo;cartas_gfif;seminarios\n",
    "try:\n",
    "    if id:\n",
    "        db=database_to_pandas(choose_db=data_base,main_table='cartas',id=id)\n",
    "    else:    \n",
    "        db=database_to_pandas(choose_db=data_base,main_table='cartas')\n",
    "except KeyError:\n",
    "    sys.exit('Uncomment Personal Data Base')       "
   ]
  },
  {
   "cell_type": "code",
   "execution_count": null,
   "metadata": {},
   "outputs": [],
   "source": [
    "if id:\n",
    "    latexfile=db.to_pdf(cartas,pdf='cartas.pdf',\n",
    "            dwld_dir='/home/restrepo/downloads',\n",
    "            url_dir='http://fisica.udea.edu.co/downloads',id=id)\n",
    "else:\n",
    "    latexfile=db.to_pdf(cartas,pdf='cartas.pdf',\n",
    "            dwld_dir='/home/restrepo/downloads',\n",
    "            url_dir='http://fisica.udea.edu.co/downloads')"
   ]
  },
  {
   "cell_type": "markdown",
   "metadata": {},
   "source": [
    "### Backup database"
   ]
  },
  {
   "cell_type": "code",
   "execution_count": null,
   "metadata": {},
   "outputs": [],
   "source": [
    "db.pandas_DataFrame.to_json('data/db.json',orient='records',force_ascii=False)\n",
    "db.pandas_signature.to_json('data/sg.json',orient='records',force_ascii=False)\n",
    "db.backup_database()"
   ]
  },
  {
   "cell_type": "code",
   "execution_count": null,
   "metadata": {},
   "outputs": [],
   "source": [
    "!git commit -am 'fix signature json' > /dev/null\n",
    "!git push origin master > /dev/null"
   ]
  },
  {
   "cell_type": "code",
   "execution_count": null,
   "metadata": {},
   "outputs": [],
   "source": [
    "db.pandas_DataFrame.loc[300]"
   ]
  },
  {
   "cell_type": "code",
   "execution_count": null,
   "metadata": {},
   "outputs": [],
   "source": [
    "print( db.pandas_DataFrame.loc[300,'para'] )"
   ]
  },
  {
   "cell_type": "code",
   "execution_count": null,
   "metadata": {},
   "outputs": [],
   "source": [
    "print( db.pandas_DataFrame.loc[300,'body'] )"
   ]
  },
  {
   "cell_type": "markdown",
   "metadata": {},
   "source": [
    "\\def\\proyecto{\n",
    "%1: de movilidad Sao Paulo - Universidad de Antioquia  ``SPRINT – 3rd Edition 2019''\n",
    "%2:``FAPESP - UNIVERSIDAD DE ANTIOQUIA 2019''\n",
    "%3: MÉTRICAS DE VINCULACIÓN UNIVERSIDAD ENTORNO ETAPA 3\n",
    "%4:\n",
    "``Desarrollo de algoritmos para la detección de neumonía y SARS-Cov-2 usando imágenes de Rayos-X.''\n",
    "}\n",
    "\n",
    "Solicito el aval para enviar el proyecto  \\proyecto \n",
    "y del cual soy el investigador principal. Dicho proyecto se realiza en el marco del  \n",
    "Fondo de apoyo a los grupos de trabajo de la iniciativa \\#UdeA responde al Covid-19.\n",
    "Dicho proyecto se hace en conjunto con la Facultad de Medicina y el CERN a través de un\n",
    "convenio interinsitucional con la dedicación de 6 horas semanalas del coinvestigador del CERN: Omar Zapata.\n",
    "\n",
    "La duración del proyecto será de 9 meses. \n",
    "\n",
    "Se adjunta el borrador de la propuesta en trámite y el presupuesto"
   ]
  },
  {
   "cell_type": "markdown",
   "metadata": {},
   "source": [
    "### Other databases"
   ]
  },
  {
   "cell_type": "code",
   "execution_count": null,
   "metadata": {},
   "outputs": [],
   "source": [
    "dbs=database_to_pandas(choose_db='seminarios',main_table='talks',aux_tables='')"
   ]
  },
  {
   "cell_type": "code",
   "execution_count": null,
   "metadata": {},
   "outputs": [],
   "source": [
    "lfs=dbs.to_pdf(seminarios,pdf='seminarios.pdf',\n",
    "        dwld_dir='/home/restrepo/downloads',\n",
    "        url_dir='http://gfif.udea.edu.co/downloads')"
   ]
  },
  {
   "cell_type": "markdown",
   "metadata": {},
   "source": [
    "### Get DataFrame"
   ]
  },
  {
   "cell_type": "code",
   "execution_count": null,
   "metadata": {},
   "outputs": [],
   "source": [
    "db.pandas_DataFrame.to_excel('kk.xlsx',index=False)"
   ]
  },
  {
   "cell_type": "markdown",
   "metadata": {},
   "source": [
    "## Manual"
   ]
  },
  {
   "cell_type": "code",
   "execution_count": null,
   "metadata": {},
   "outputs": [],
   "source": [
    "latexfile"
   ]
  },
  {
   "cell_type": "code",
   "execution_count": null,
   "metadata": {},
   "outputs": [],
   "source": [
    "password=getpass.getpass()"
   ]
  },
  {
   "cell_type": "code",
   "execution_count": null,
   "metadata": {},
   "outputs": [],
   "source": [
    "choose_db=0\n",
    "tipo_carta=['Diego_Restrepo', 'cartas_gfif']\n",
    "\n",
    "conn = pymysql.connect(host='localhost', port=3306, user='root', passwd=password, db=tipo_carta[choose_db])\n",
    "\n",
    "df=pd.read_sql('select * from cartas;', con=conn)\n",
    "\n",
    "sg=pd.read_sql('select * from cartas_sign;', con=conn)"
   ]
  },
  {
   "cell_type": "code",
   "execution_count": null,
   "metadata": {},
   "outputs": [],
   "source": [
    "conn.close()Implicaciones de modelos de materia oscura en experimentos de detección directa"
   ]
  },
  {
   "cell_type": "code",
   "execution_count": null,
   "metadata": {},
   "outputs": [],
   "source": [
    "df=df[df.body.str.lower().str.contains('editor')]"
   ]
  },
  {
   "cell_type": "code",
   "execution_count": null,
   "metadata": {},
   "outputs": [],
   "source": [
    "df=df[df.id==281]"
   ]
  },
  {
   "cell_type": "markdown",
   "metadata": {},
   "source": [
    "Last entry"
   ]
  },
  {
   "cell_type": "code",
   "execution_count": null,
   "metadata": {},
   "outputs": [],
   "source": [
    "df"
   ]
  },
  {
   "cell_type": "code",
   "execution_count": null,
   "metadata": {},
   "outputs": [],
   "source": [
    "c=df[df.id==df.id.values[-1]].reset_index(drop=True).loc[0]\n",
    "c['sign']=sg[sg.signature==c.signature].reset_index(drop=True).loc[0,'sign']"
   ]
  },
  {
   "cell_type": "code",
   "execution_count": null,
   "metadata": {},
   "outputs": [],
   "source": [
    "c"
   ]
  },
  {
   "cell_type": "code",
   "execution_count": null,
   "metadata": {},
   "outputs": [],
   "source": [
    "row=c"
   ]
  },
  {
   "cell_type": "code",
   "execution_count": null,
   "metadata": {},
   "outputs": [],
   "source": [
    "lo=generate_pdf(row)"
   ]
  },
  {
   "cell_type": "code",
   "execution_count": null,
   "metadata": {},
   "outputs": [],
   "source": [
    "print(lo[0].decode('utf8'))Implicaciones de modelos de materia oscura en experimentos de detección directa"
   ]
  },
  {
   "cell_type": "code",
   "execution_count": null,
   "metadata": {},
   "outputs": [],
   "source": [
    "c.sign"
   ]
  },
  {
   "cell_type": "code",
   "execution_count": null,
   "metadata": {},
   "outputs": [],
   "source": [
    "ok"
   ]
  },
  {
   "cell_type": "code",
   "execution_count": null,
   "metadata": {},
   "outputs": [],
   "source": [
    "'mysqldump -u root -p{:s} {:s} > db_{:s}_backup.sql'.format(password,tipo_carta[NTC],tipo_carta[NTC]).split()"
   ]
  },
  {
   "cell_type": "markdown",
   "metadata": {},
   "source": [
    "## Search in body"
   ]
  },
  {
   "cell_type": "code",
   "execution_count": null,
   "metadata": {},
   "outputs": [],
   "source": [
    "id=99\n",
    "if id >0:\n",
    "    dfs=df[df.id==id].reset_index(drop=True)\n",
    "else:    \n",
    "    dfs=df[df.body.str.lower().map(unidecode.unidecode).str.contains('impacto social')].reset_index(drop=True)"
   ]
  },
  {
   "cell_type": "code",
   "execution_count": null,
   "metadata": {},
   "outputs": [],
   "source": [
    "dfs"
   ]
  },
  {
   "cell_type": "code",
   "execution_count": null,
   "metadata": {},
   "outputs": [],
   "source": [
    "c=dfs.loc[dfs.index.values[-1]]"
   ]
  },
  {
   "cell_type": "code",
   "execution_count": null,
   "metadata": {},
   "outputs": [],
   "source": [
    "c"
   ]
  },
  {
   "cell_type": "code",
   "execution_count": null,
   "metadata": {},
   "outputs": [],
   "source": [
    "c.keys().values"
   ]
  },
  {
   "cell_type": "code",
   "execution_count": null,
   "metadata": {},
   "outputs": [],
   "source": [
    "for k in c.keys():\n",
    "    print(k)\n",
    "    if c[k]==None:\n",
    "        c[k]=''Implicaciones de modelos de materia oscura en experimentos de detección directa"
   ]
  },
  {
   "cell_type": "code",
   "execution_count": null,
   "metadata": {},
   "outputs": [],
   "source": [
    "c.closing"
   ]
  },
  {
   "cell_type": "code",
   "execution_count": null,
   "metadata": {},
   "outputs": [],
   "source": [
    "c.closing"
   ]
  },
  {
   "cell_type": "code",
   "execution_count": null,
   "metadata": {},
   "outputs": [],
   "source": [
    "latexfile=r'''\n",
    "%'''+c.description+r'''\n",
    "\\documentclass{letter}\n",
    "\\usepackage[utf8]{inputenc}\n",
    "'''+c.preamble+r'''\n",
    "'''+c.address+r'''\n",
    "\\signature{'''+sg[sg.signature==c.signature].sign.values[0]+r'''}\n",
    "\\begin{document}\n",
    "\\begin{letter}{'''+c.para+r'''}\n",
    "\n",
    "\\opening{'''+c.opening+r'''} \n",
    "\n",
    "'''+c.body+r'''\n",
    "\n",
    "\\closing{'''+c.closing+r'''}\n",
    "\\end{letter}\n",
    "\\end{document}\n",
    "'''"
   ]
  },
  {
   "cell_type": "code",
   "execution_count": null,
   "metadata": {},
   "outputs": [],
   "source": [
    "print(latexfile)"
   ]
  },
  {
   "cell_type": "code",
   "execution_count": null,
   "metadata": {},
   "outputs": [],
   "source": [
    "f=tempfile.NamedTemporaryFile('w',suffix='.tex',delete=False)"
   ]
  },
  {
   "cell_type": "code",
   "execution_count": null,
   "metadata": {},
   "outputs": [],
   "source": [
    "f.write(latexfile)"
   ]
  },
  {
   "cell_type": "code",
   "execution_count": null,
   "metadata": {},
   "outputs": [],
   "source": [
    "f.name"
   ]
  },
  {
   "cell_type": "code",
   "execution_count": null,
   "metadata": {},
   "outputs": [],
   "source": [
    "f.close()"
   ]
  },
  {
   "cell_type": "code",
   "execution_count": null,
   "metadata": {},
   "outputs": [],
   "source": [
    "lo=subprocess.Popen('pdflatex {:s}'.format(f.name).split(),cwd='/tmp',stdout=subprocess.PIPE,stderr=subprocess.PIPE).communicate()"
   ]
  },
  {
   "cell_type": "code",
   "execution_count": null,
   "metadata": {},
   "outputs": [],
   "source": [
    "pdffile='{:s}'.format(f.name).split('.tex')[0]+'.pdf'\n",
    "if lo[0].decode('utf8').find(pdffile.split('/')[-1])>-1:\n",
    "    pdf='carta_{:d}.pdf'.format(c['id'])\n",
    "    dwld_dir='downloads'\n",
    "    kk=subprocess.Popen('mv {:s} /var/www/{:s}/{:s}'.format(pdffile,dwld_dir,pdf).split()).communicate()\n",
    "    print('output in http://gfif.udea.edu.co/{:s}/{:s}'.format(dwld_dir,pdf))\n",
    "    for suffix in  ['.aux','.log','.out','.tex']:\n",
    "        subprocess.Popen( ['rm', '{:s}'.format(f.name).split('.tex')[0]+suffix] ).communicate()\n",
    "else:\n",
    "    sys.exit('LaTeX ERROR:')    "
   ]
  },
  {
   "cell_type": "code",
   "execution_count": null,
   "metadata": {},
   "outputs": [],
   "source": [
    "%pycat database_to_pandas.py"
   ]
  },
  {
   "cell_type": "code",
   "execution_count": null,
   "metadata": {},
   "outputs": [],
   "source": [
    "r'https://scholar.google.com/scholar?hl=en&q=doi'"
   ]
  },
  {
   "cell_type": "code",
   "execution_count": null,
   "metadata": {},
   "outputs": [],
   "source": []
  }
 ],
 "metadata": {
  "kernelspec": {
   "display_name": "Python 3",
   "language": "python",
   "name": "python3"
  },
  "language_info": {
   "codemirror_mode": {
    "name": "ipython",
    "version": 3
   },
   "file_extension": ".py",
   "mimetype": "text/x-python",
   "name": "python",
   "nbconvert_exporter": "python",
   "pygments_lexer": "ipython3",
   "version": "3.7.3"
  },
  "latex_envs": {
   "LaTeX_envs_menu_present": true,
   "autoclose": false,
   "autocomplete": true,
   "bibliofile": "biblio.bib",
   "cite_by": "apalike",
   "current_citInitial": 1,
   "eqLabelWithNumbers": true,
   "eqNumInitial": 1,
   "hotkeys": {
    "equation": "Ctrl-E",
    "itemize": "Ctrl-I"
   },
   "labels_anchors": false,
   "latex_user_defs": false,
   "report_style_numbering": false,
   "user_envs_cfg": false
  }
 },
 "nbformat": 4,
 "nbformat_minor": 4
}
