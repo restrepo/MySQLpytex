{
 "cells": [
  {
   "cell_type": "markdown",
   "metadata": {},
   "source": [
    "# Read a MySQL DataBase and generate specific output\n",
    "Hint: Works with real index"
   ]
  },
  {
   "cell_type": "code",
   "execution_count": 1,
   "metadata": {},
   "outputs": [],
   "source": [
    "from database_to_pandas import *\n",
    "import sys"
   ]
  },
  {
   "cell_type": "code",
   "execution_count": 2,
   "metadata": {},
   "outputs": [],
   "source": [
    "import pandas as pd"
   ]
  },
  {
   "cell_type": "code",
   "execution_count": 3,
   "metadata": {},
   "outputs": [],
   "source": [
    "df=pd.read_json('data/db.json')\n",
    "df=df.reset_index(drop=True)"
   ]
  },
  {
   "cell_type": "code",
   "execution_count": 4,
   "metadata": {},
   "outputs": [
    {
     "data": {
      "text/plain": [
       "313"
      ]
     },
     "execution_count": 4,
     "metadata": {},
     "output_type": "execute_result"
    }
   ],
   "source": [
    "df.shape[0]"
   ]
  },
  {
   "cell_type": "code",
   "execution_count": 5,
   "metadata": {},
   "outputs": [],
   "source": [
    "#300 → Aval proyecto de investigación\n",
    "#309 → Mención Especial\n",
    "#TODO → check id:\n",
    "#id=176 #Invitation letter\n",
    "#id=272 #Contrapartida de proyecto de \n",
    "#id=281 # Invitado Nacional\n",
    "#id=289 # Super recommendation corrected\n",
    "#id=283 #certificado estancia\n",
    "#id=296 # Comisión de servicios\n",
    "#id=307 # Generic Recommmendation letter\n",
    "#df.iloc[300:310]"
   ]
  },
  {
   "cell_type": "code",
   "execution_count": 13,
   "metadata": {},
   "outputs": [
    {
     "data": {
      "text/plain": [
       "address                                                                                                                                                                                                                                                                                                                                                                                                                                                                                                                           \n",
       "body           Solicito una comisión de servicio para atender una posición de profesor visitante del 1 de noviembre de 2021 al 31 de enero de 2022. \\n\\nMi primera visita está relacionada con  un proyecto que me han aprobado para ser desarrollado durante una visita científica de dos meses al ``International Institute of Physics (IIP) - Universidade Federal do Rio Grande do Norte\",\\ en Natal, del 1 de agosto al 30 de septiembre de 2019. \\emph{Adjunto  la carta de aprobación e invitación} enviada por el Direc...\n",
       "closing                                                                                                                                                                                                                                                                                                                                                                                                                                                                               Agradeciendo su colaboración en este sentido\n",
       "description                                                                                                                                                                                                                                                                                                                                                                                                                                                                                                  Vacaciones acumuladas\n",
       "fecha                                                                                                                                                                                                                                                                                                                                                                                                                                                                                                                1595030400000\n",
       "id                                                                                                                                                                                                                                                                                                                                                                                                                                                                                                                             312\n",
       "link                                                                                                                                                                                                                                                                                                                                                                                                                                                                          http://gfif.udea.edu.co/cartas/cartas.php?step=1&id=\n",
       "opening                                                                                                                                                                                                                                                                                                                                                                                                                                                                                                                           \n",
       "para                                                                                                                                                                                                                                                                                                                                                                                             \\n    %To Whom It May Concern'\\n    Señores Consejo de Instituto\\\\\\n    Instituto de Física\\\\\\n    Universidad de Antioquia\\n    \n",
       "preamble                                                                                                                                                                                                                                                                                                                                                                                                                              \\n    \\usepackage{udea}\\n    \\usepackage[spanish]{babel}\\n    %\\date{January 31, 2021}\\n    \n",
       "signature                                                                                                                                                                                                                                                                                                                                                                                                                                                                                                            Diego_en_sign\n",
       "Name: 312, dtype: object"
      ]
     },
     "execution_count": 13,
     "metadata": {},
     "output_type": "execute_result"
    }
   ],
   "source": [
    "df.iloc[-1]"
   ]
  },
  {
   "cell_type": "code",
   "execution_count": 14,
   "metadata": {},
   "outputs": [
    {
     "name": "stdout",
     "output_type": "stream",
     "text": [
      "Solicito una comisión de servicio para atender una posición de profesor visitante del 1 de noviembre de 2021 al 31 de enero de 2022. \n",
      "\n",
      "Mi primera visita está relacionada con  un proyecto que me han aprobado para ser desarrollado durante una visita científica de dos meses al ``International Institute of Physics (IIP) - Universidade Federal do Rio Grande do Norte\",\\ en Natal, del 1 de agosto al 30 de septiembre de 2019. \\emph{Adjunto  la carta de aprobación e invitación} enviada por el Director del IPP Alvaro Ferraz. Es de aclarar que los gastos de estancia estarán  cubiertos por dicho instituto.\n",
      "\n",
      "Allí trabajaré con el Grupo del Profesor Farinaldo Queiroz, asesor internacional del proyecto de Colciencias  del cual soy investigador principal: ``Implicaciones de modelos de materia oscura en experimentos de detección directa\",  desarrollando actividades de investigación relacionadas con ambos proyectos. Durante este período se realizará el evento ``Dark Matter and Weak Interactions (Darkwin) Conference\", del 2 al 13 de  septiembre de 2019 en el IPP y en el cual figuro como conferencista plenario.  \\emph{Se adjunta poster del evento con mi nombre y afiliación institucional}\n",
      "\n",
      "Adicionalmente he sido invitado para participar en el ``Program on Particle Physics in São Paulo\", del 1  al 25 de octubre de 2019 en las instalaciones del ``International Center for Theoretical Physics - South American Institute for Fundamental Research\" (ICTP-SAIFR).  Durante este período se realizarán dos conferencias en\n",
      "tópicos relacionados:   el ``Workshop on Determination of Fundamental QCD Parameters\" (Sept. 30th-Oct. 4th) y el ``Dark Universe Workshop – Early Universe Cosmology, Baryogenesis and Dark Matter\" (Oct. 21-25).   Durante el programa como tal, se planea tener dos o tres charlas por semana por los participantes, dejando un amplio espacio para discusión y colaboración en una atmósfera relajada y creativa. \n",
      "\\emph{Se adjunta poster del evento con mi nombre y afiliación institucional, carta de invitación general y carta de invitación con fechas específicas a mi visita}, donde se aclara también que los gastos de estancia estarán cubierto por la organización del evento\n",
      "\n",
      "Es un gran honor en mi carrera investigativa tener la oportunidad de ser invitado a estas redes de colaboración gracias a nuestros trabajos recientes en el área: \\url{http://inspirehep.net/search?p=a+restrepo,+d} \n",
      "\n",
      "Con respecto a mi carga académica para el semestre 2019-2, me es grato informar que el curso de física subatómica lo podré dictar en su totalidad como uno de los cursos intensivos del Instituto a iniciar próximamente. La dirección de un trabajo de grado, la asesoría de una Joven Investigador CODI, de una estudiante de maestría y de un estudiante de doctorado; continuarán de forma virtual. Además soy investigador principal del proyecto de Colciencias antes mencionado y coinvestigador de un proyecto del CODI a cargo del profesor Óscar Zapata.\n",
      "\n",
      "\n",
      "\\textbf{El compromiso} es dictar un seminario en el Instituto de Física sobre los principales resultados obtenidos durante la colaboración y los presentados en los eventos en lo que participaré.\n",
      "\n",
      "Adjunto:\n",
      "\n",
      "\\begin{itemize}\n",
      "\\item Proyecto aprobado por el IPP.\n",
      "\\item Cartas de invitación. \n",
      "\\item Poster de los eventos.\n",
      "\\item Poster Seminario comisión anterior.\n",
      "\\end{itemize}\n",
      "\n"
     ]
    }
   ],
   "source": [
    "print(df.loc[312,'body'])"
   ]
  },
  {
   "cell_type": "code",
   "execution_count": 15,
   "metadata": {},
   "outputs": [],
   "source": [
    "NEW=False\n",
    "if NEW:\n",
    "    dfid=df.shape[0]\n",
    "    df=df.append(df.loc[[dfid-1]]).reset_index(drop=True)\n",
    "else:\n",
    "    dfid=312\n",
    "    \n",
    "#Buscador semántico para facilitar la detección de los artículos más importantes \n",
    "# para el campo de la medicina respecto al COVI    \n",
    "# 18, meses a partir del 15 de diciembre de 2020"
   ]
  },
  {
   "cell_type": "code",
   "execution_count": 16,
   "metadata": {},
   "outputs": [
    {
     "data": {
      "text/plain": [
       "312"
      ]
     },
     "execution_count": 16,
     "metadata": {},
     "output_type": "execute_result"
    }
   ],
   "source": [
    "dfid"
   ]
  },
  {
   "cell_type": "code",
   "execution_count": 17,
   "metadata": {},
   "outputs": [],
   "source": [
    "#df[df.body.str.lower().str.contains('fredy')]#.loc[dfid,'body']"
   ]
  },
  {
   "cell_type": "code",
   "execution_count": 18,
   "metadata": {},
   "outputs": [],
   "source": [
    "f=open('body.txt','w')\n",
    "f.write(df.loc[dfid,'body'])\n",
    "f.close()"
   ]
  },
  {
   "cell_type": "markdown",
   "metadata": {},
   "source": [
    "Use your favorite editor HERE!"
   ]
  },
  {
   "cell_type": "code",
   "execution_count": 20,
   "metadata": {},
   "outputs": [
    {
     "name": "stdout",
     "output_type": "stream",
     "text": [
      "Overwriting body.txt\n"
     ]
    }
   ],
   "source": [
    "%%writefile body.txt\n",
    "Solicito una comisión de servicio para atender una posición de profesor visitante del 1 de noviembre de 2021 al 31 de enero de 2022 en el Instituto de Física Gleb Wataghin\n",
    "de la  Universidade Estadual de Campinas en Brasil.\n",
    "\n",
    "Dicha Universidad ya ha retomado las actividades presenciales desde el comienzo del mes de septiembre del presente año. En el marco de proyectos conjuntos sobre fotones oscuros,\n",
    "incluyendo un proyecto de Minciencias de reciente aprobación, planeamos implementar varios modelos de masas de neutrinos y materia oscura en el \n",
    "Software de física de altas energías SARAH del cual soy un reconocido experto internacional. Durante mi estancia como profesor visitante planeamos \n",
    "asesorar a los estudiantes de posgrado de dicha Universidad en la correcta implementación y la obtención de resultados de las mencionadas implementaciones. \n",
    "Debido a las cadena de herramientas que debe ser usada para la correcta implementación, las cuales incluyen los software: SPheno, MicrOMEGAS, y MadGraph/Pythia, es muy \n",
    "recomendable una interacción presencial con los estudiantes para una rápida solución a los problemas que puedan surgir. En particular, en mi experiencia  con mi estudiante de doctorado pronto a graduarse, la implementación de correcciones a Next to Leading Order a las secciones eficaces de producción \n",
    "de señales en el LHC es bastante propensa a generar errores inesperados difíciles de corregir para los iniciados en el tema.\n",
    "\n",
    "Los cursos y las asesorías a mis estudiantes de la Universidad de Antioquia los podré continuar en modalidad virtual.\n",
    "\n",
    "Debo aclarar que cuento con mi cuadro de vacunación de Covid-19 completo con las dos dosis de Pfizer\n",
    "\n",
    "\\textbf{El compromiso} asociado a la comisión es el dictar un seminario en el Instituto de Física sobre los principales resultados obtenidos durante la colaboración.\n",
    "\n",
    "Adjunto:\n",
    "\n",
    "\\begin{itemize}\n",
    "\\item Cartas de invitación. \n",
    "\\item Certificado de vacunación.\n",
    "\\end{itemize}"
   ]
  },
  {
   "cell_type": "code",
   "execution_count": 21,
   "metadata": {},
   "outputs": [],
   "source": [
    "f=open('body.txt','r')\n",
    "body=f.read()\n",
    "f.close()"
   ]
  },
  {
   "cell_type": "markdown",
   "metadata": {},
   "source": [
    "Cambiar destinatario, idioma y closing"
   ]
  },
  {
   "cell_type": "code",
   "execution_count": 22,
   "metadata": {},
   "outputs": [],
   "source": [
    "EDIT=True\n",
    "if EDIT:\n",
    "    df.loc[dfid,'description']=df.loc[dfid,'description']#r'Vacaciones acumuladas'\n",
    "    #df.loc[dfid,'para']=r'''\n",
    "    #Señora Decana\\\\\n",
    "    #%Señores\\\\\n",
    "    #%Vicerrectoría de Investigación\\\\\n",
    "    #%Comité Técnico\\\\\n",
    "    #%Consejo de Instituto\\\\\n",
    "    #%Instituto de Física Universidad de Antioquia\n",
    "    #%Facultad de Ciencias Exactas y Naturales\n",
    "    #%Universidad de Antioquia\n",
    "    df.loc[dfid,'para']=r'''\n",
    "    %To Whom It May Concern'\n",
    "    Señores Consejo de Instituto\\\\\n",
    "    Instituto de Física\\\\\n",
    "    Universidad de Antioquia\n",
    "    '''\n",
    "    df.loc[dfid,'opening']=''#df.loc[dfid,'opening']#r'Respetada Decana'\n",
    "    df.loc[dfid,'body']=r'{}'.format(body)\n",
    "    df.loc[dfid,'closing']=df.loc[dfid,'closing']#r'Agradeciendo su colaboración en este sentido'\n",
    "    #df.loc[dfid,'closing']=r'Agradeciendo su colaboración en este sentido'#r'Atentamente'#r'Best regards'\n",
    "\n",
    "    df.loc[dfid,'preamble']=r'''\n",
    "    \\usepackage{udea}\n",
    "    \\usepackage[spanish]{babel}\n",
    "    %\\date{January 31, 2021}\n",
    "    '''\n",
    "    df.loc[dfid,'signature']='Diego_es_sign' #['Diego_en_sign', 'Diego', 'Diego_cc', 'Diego Enrico Nelson', 'Diego_simple',\n",
    "       #'Diego Nelson', 'Nelson Decano', 'Diego editable', 'Diego_en_sign',\n",
    "       #'Diego_en', 'Diego_es_sign', 'Coordinador_E', 'VBo', 'Diego IP',\n",
    "       #'Diego IP_sign', 'oscar']\n",
    "    FIX_INDEX=True\n",
    "    if FIX_INDEX:\n",
    "        df[\"id\"]=df.index    \n",
    "        \n",
    "    df.to_json('data/db.json',orient='records',force_ascii=False)"
   ]
  },
  {
   "cell_type": "code",
   "execution_count": 23,
   "metadata": {},
   "outputs": [
    {
     "data": {
      "text/html": [
       "<div>\n",
       "<style scoped>\n",
       "    .dataframe tbody tr th:only-of-type {\n",
       "        vertical-align: middle;\n",
       "    }\n",
       "\n",
       "    .dataframe tbody tr th {\n",
       "        vertical-align: top;\n",
       "    }\n",
       "\n",
       "    .dataframe thead th {\n",
       "        text-align: right;\n",
       "    }\n",
       "</style>\n",
       "<table border=\"1\" class=\"dataframe\">\n",
       "  <thead>\n",
       "    <tr style=\"text-align: right;\">\n",
       "      <th></th>\n",
       "      <th>address</th>\n",
       "      <th>body</th>\n",
       "      <th>closing</th>\n",
       "      <th>description</th>\n",
       "      <th>fecha</th>\n",
       "      <th>id</th>\n",
       "      <th>link</th>\n",
       "      <th>opening</th>\n",
       "      <th>para</th>\n",
       "      <th>preamble</th>\n",
       "      <th>signature</th>\n",
       "    </tr>\n",
       "  </thead>\n",
       "  <tbody>\n",
       "    <tr>\n",
       "      <th>312</th>\n",
       "      <td></td>\n",
       "      <td>Solicito una comisión de servicio para atender una posición de profesor visitante del 1 de noviembre de 2021 al 31 de enero de 2022 en el Instituto de Física Gleb Wataghin\\nde la  Universidade Estadual de Campinas en Brasil.\\n\\nDicha Universidad ya ha retomado las actividades presenciales desde el comienzo del mes de septiembre del presente año. En el marco de proyectos conjuntos sobre fotones oscuros,\\nincluyendo un proyecto de Minciencias de reciente aprobación, planeamos implementar vario...</td>\n",
       "      <td>Agradeciendo su colaboración en este sentido</td>\n",
       "      <td>Vacaciones acumuladas</td>\n",
       "      <td>1595030400000</td>\n",
       "      <td>312</td>\n",
       "      <td>http://gfif.udea.edu.co/cartas/cartas.php?step=1&amp;id=</td>\n",
       "      <td></td>\n",
       "      <td>\\n    %To Whom It May Concern'\\n    Señores Consejo de Instituto\\\\\\n    Instituto de Física\\\\\\n    Universidad de Antioquia\\n</td>\n",
       "      <td>\\n    \\usepackage{udea}\\n    \\usepackage[spanish]{babel}\\n    %\\date{January 31, 2021}\\n</td>\n",
       "      <td>Diego_en_sign</td>\n",
       "    </tr>\n",
       "  </tbody>\n",
       "</table>\n",
       "</div>"
      ],
      "text/plain": [
       "    address  \\\n",
       "312           \n",
       "\n",
       "                                                                                                                                                                                                                                                                                                                                                                                                                                                                                                                    body  \\\n",
       "312  Solicito una comisión de servicio para atender una posición de profesor visitante del 1 de noviembre de 2021 al 31 de enero de 2022 en el Instituto de Física Gleb Wataghin\\nde la  Universidade Estadual de Campinas en Brasil.\\n\\nDicha Universidad ya ha retomado las actividades presenciales desde el comienzo del mes de septiembre del presente año. En el marco de proyectos conjuntos sobre fotones oscuros,\\nincluyendo un proyecto de Minciencias de reciente aprobación, planeamos implementar vario...   \n",
       "\n",
       "                                          closing            description  \\\n",
       "312  Agradeciendo su colaboración en este sentido  Vacaciones acumuladas   \n",
       "\n",
       "             fecha   id                                                  link  \\\n",
       "312  1595030400000  312  http://gfif.udea.edu.co/cartas/cartas.php?step=1&id=   \n",
       "\n",
       "    opening  \\\n",
       "312           \n",
       "\n",
       "                                                                                                                                  para  \\\n",
       "312  \\n    %To Whom It May Concern'\\n    Señores Consejo de Instituto\\\\\\n    Instituto de Física\\\\\\n    Universidad de Antioquia\\n       \n",
       "\n",
       "                                                                                         preamble  \\\n",
       "312  \\n    \\usepackage{udea}\\n    \\usepackage[spanish]{babel}\\n    %\\date{January 31, 2021}\\n       \n",
       "\n",
       "         signature  \n",
       "312  Diego_en_sign  "
      ]
     },
     "execution_count": 23,
     "metadata": {},
     "output_type": "execute_result"
    }
   ],
   "source": [
    "df.loc[[dfid]]"
   ]
  },
  {
   "cell_type": "code",
   "execution_count": 24,
   "metadata": {},
   "outputs": [],
   "source": [
    "df.to_json('data/db.json',orient='records',force_ascii=False)"
   ]
  },
  {
   "cell_type": "markdown",
   "metadata": {},
   "source": [
    "## Load Final DataBase"
   ]
  },
  {
   "cell_type": "code",
   "execution_count": 25,
   "metadata": {},
   "outputs": [],
   "source": [
    "import getpass\n",
    "import pymysql\n",
    "import unidecode\n",
    "import pandas as pd\n",
    "import tempfile\n",
    "import subprocess\n",
    "import sys\n",
    "from latexfiles import *\n",
    "\n",
    "\n",
    "pd.set_option('display.max_rows', 500)\n",
    "pd.set_option('display.max_columns', 500)\n",
    "pd.set_option('display.max_colwidth',500)\n",
    "\n",
    "def generate_pdf(latexfile,\n",
    "    pdf='output.pdf',\n",
    "    dwld_dir='/home/restrepo/downloads',\n",
    "    url_dir='file:///home/restrepo/downloads',id=None):\n",
    "    \"\"\"\n",
    "    pdflatex upon latexfile to generate 'pdf'  file in \n",
    "    'dwld_dir' with browser link 'url_dir'\n",
    "    \"\"\"\n",
    "\n",
    "    f=tempfile.NamedTemporaryFile('w',suffix='.tex',delete=False)\n",
    "    f.write(latexfile)\n",
    "    f.close()\n",
    "    lo=subprocess.Popen('pdflatex {:s}'.format(f.name).split(),cwd='/tmp',\n",
    "                        stdout=subprocess.PIPE,stderr=subprocess.PIPE).communicate()\n",
    "    pdffile='{:s}'.format(f.name).split('.tex')[0]+'.pdf'\n",
    "    if lo[0].decode('utf8').find(pdffile.split('/')[-1])>-1:\n",
    "        \n",
    "        kk=subprocess.Popen('mv {:s} {:s}/{:s}'.format(pdffile,dwld_dir,pdf).split()).communicate()\n",
    "        print('output in {:s}/{:s}'.format(url_dir,pdf))\n",
    "        for suffix in  ['.aux','.log','.out','.tex']:\n",
    "            sc=subprocess.Popen( ['rm', '{:s}'.format(f.name).split('.tex')[0]+suffix] ).communicate()\n",
    "    else:\n",
    "        print(lo[0].decode('utf8'))\n",
    "        sys.exit('LaTeX ERROR:')    \n",
    "    return latexfile\n",
    "\n",
    "class database_to_pandas(object):\n",
    "    \"\"\"\n",
    "    Convert Data Base  to pandas and filtered index to Series and \n",
    "    define methods to use them.\n",
    "    Intialize with choose_db and main_table to build attibute: choose_db[main_table]\n",
    "    See for example:\n",
    "    {'Diego_Restrepo':'cartas','cartas_gfif':'cartas','seminarios':'talks'}\n",
    "    The optional aux_tables must be set to '' if not required, otherwise \n",
    "    'cartas_sign' is used\n",
    "    udea.sty and udea.pdf must be instaled\n",
    "    \"\"\"\n",
    "    def __init__(self,host='localhost',user='root',choose_db='Diego_Restrepo',main_table='cartas',id=None,\n",
    "                 aux_tables='cartas_sign',common_columns='signature',DB=True,verbose=False):\n",
    "        if DB:\n",
    "            password=getpass.getpass()\n",
    "            self.choose_db={choose_db:main_table}\n",
    "            self.DataBase=choose_db\n",
    "            conn = pymysql.connect(host=host, port=3306, user=user, passwd=password, db=choose_db)\n",
    "            df=pd.read_sql('select * from {};'.format(self.choose_db[choose_db]), con=conn)\n",
    "        else:\n",
    "            df=pd.read_json('data/db.json')\n",
    "        #TODO: generilize to addtional tables\n",
    "        if aux_tables:\n",
    "            if DB:\n",
    "                sg=pd.read_sql('select * from {};'.format(aux_tables), con=conn)\n",
    "                conn.close()\n",
    "            else:\n",
    "                sg=pd.read_json('data/sg.json')\n",
    "\n",
    "        self.pandas_DataFrame=df\n",
    "        self.pandas_signature=sg\n",
    "        #print(df.shape[0])\n",
    "        #return df,sg\n",
    "        if df.shape[0]:\n",
    "            if not id:\n",
    "                id=df.id.values[-1]\n",
    "            self.pandas_Series=df[df.id==id].reset_index(drop=True).loc[0]\n",
    "            if aux_tables:\n",
    "                #TODO:\n",
    "                self.pandas_Series['common_{}'.format(common_columns)]=sg[\n",
    "                    sg[common_columns]==self.pandas_Series[common_columns]].reset_index(drop=True).loc[0,'sign']\n",
    "            if verbose:\n",
    "                print(self.pandas_Series)\n",
    "        else:\n",
    "            sys.exit('Error reading databases')\n",
    "            return df\n",
    "\n",
    "    \n",
    "    def to_latex(self,func):\n",
    "        '''Build a function to build the latex file with the self.Series keys\n",
    "           and call it from here\n",
    "        '''\n",
    "        #TODO: check if class has methoed\n",
    "        self.latexfile=func(self.pandas_Series)\n",
    "        return self.latexfile\n",
    "    #return generate_pdf(c)\n",
    "    def to_pdf(self,func,**kwargs):\n",
    "        '''Build a function to build the latex file with the self.Series keys\n",
    "           and call it from here\n",
    "        '''\n",
    "        self.latexfile=func(self.pandas_Series)\n",
    "        return generate_pdf(self.latexfile,**kwargs)\n",
    "        \n",
    "    def backup_database(self):\n",
    "        '''\n",
    "        Backup DB\n",
    "        '''\n",
    "    \n",
    "        password=getpass.getpass()\n",
    "\n",
    "        print('Trying to create backup file db_{:s}_backup.sql'.format( self.DataBase  )   )\n",
    "        ok=subprocess.Popen('mysqldump -u root -p{:s} {:s} > db_{:s}_backup.sql'.format(\n",
    "                         password,self.DataBase,self.DataBase),shell=True,\n",
    "                         stdout=subprocess.PIPE,stderr=subprocess.PIPE).communicate()\n",
    "\n",
    "        print()\n",
    "\n",
    "        return ok\n",
    "import getpass"
   ]
  },
  {
   "cell_type": "code",
   "execution_count": 26,
   "metadata": {},
   "outputs": [],
   "source": [
    "data_base='Diego_Restrepo'\n",
    "db=database_to_pandas(choose_db=data_base,main_table='cartas',id=dfid,DB=False)"
   ]
  },
  {
   "cell_type": "code",
   "execution_count": 27,
   "metadata": {},
   "outputs": [
    {
     "name": "stdout",
     "output_type": "stream",
     "text": [
      "output in http://localhost/downloads/cartas.pdf\n"
     ]
    }
   ],
   "source": [
    "latexfile=db.to_pdf(cartas,pdf='cartas.pdf',\n",
    "            dwld_dir='/home/restrepo/downloads',\n",
    "            url_dir='http://localhost/downloads',id=id)"
   ]
  },
  {
   "cell_type": "markdown",
   "metadata": {},
   "source": [
    "data_base='Diego_Restrepo'\n",
    "db=database_to_pandas(choose_db=data_base,main_table='cartas',id=id,DB=False)### Backup database"
   ]
  },
  {
   "cell_type": "code",
   "execution_count": 41,
   "metadata": {},
   "outputs": [],
   "source": [
    "db.pandas_DataFrame.to_json('data/db.json',orient='records',force_ascii=False)\n",
    "db.pandas_signature.to_json('data/sg.json',orient='records',force_ascii=False)\n",
    "#db.backup_database()"
   ]
  },
  {
   "cell_type": "code",
   "execution_count": 42,
   "metadata": {},
   "outputs": [
    {
     "name": "stdout",
     "output_type": "stream",
     "text": [
      "Enumerating objects: 5, done.\n",
      "Counting objects: 100% (5/5), done.\n",
      "Delta compression using up to 8 threads\n",
      "Compressing objects: 100% (3/3), done.\n",
      "Writing objects: 100% (3/3), 649 bytes | 649.00 KiB/s, done.\n",
      "Total 3 (delta 2), reused 0 (delta 0)\n",
      "remote: Resolving deltas: 100% (2/2), completed with 2 local objects.\u001b[K\n",
      "To github.com:restrepo/MySQLpytex.git\n",
      "   6513a10..b92362a  master -> master\n"
     ]
    }
   ],
   "source": [
    "!git commit -am 'fix signature json' > /dev/null\n",
    "!git push origin master > /dev/null"
   ]
  },
  {
   "cell_type": "code",
   "execution_count": 19,
   "metadata": {},
   "outputs": [],
   "source": [
    "sg=pd.read_json('data/sg.json')"
   ]
  },
  {
   "cell_type": "code",
   "execution_count": 23,
   "metadata": {},
   "outputs": [
    {
     "data": {
      "text/plain": [
       "array(['Diego', 'Diego_cc', 'Diego Enrico Nelson', 'Diego_simple',\n",
       "       'Diego Nelson', 'Nelson Decano', 'Diego editable', 'Diego_en_sign',\n",
       "       'Diego_en', 'Diego_es_sign', 'Coordinador_E', 'VBo', 'Diego IP',\n",
       "       'Diego IP_sign', 'oscar'], dtype=object)"
      ]
     },
     "execution_count": 23,
     "metadata": {},
     "output_type": "execute_result"
    }
   ],
   "source": [
    "sg.signature.values"
   ]
  },
  {
   "cell_type": "code",
   "execution_count": 24,
   "metadata": {},
   "outputs": [
    {
     "data": {
      "text/html": [
       "<div>\n",
       "<style scoped>\n",
       "    .dataframe tbody tr th:only-of-type {\n",
       "        vertical-align: middle;\n",
       "    }\n",
       "\n",
       "    .dataframe tbody tr th {\n",
       "        vertical-align: top;\n",
       "    }\n",
       "\n",
       "    .dataframe thead th {\n",
       "        text-align: right;\n",
       "    }\n",
       "</style>\n",
       "<table border=\"1\" class=\"dataframe\">\n",
       "  <thead>\n",
       "    <tr style=\"text-align: right;\">\n",
       "      <th></th>\n",
       "      <th>signature</th>\n",
       "      <th>sign</th>\n",
       "      <th>idsing</th>\n",
       "    </tr>\n",
       "  </thead>\n",
       "  <tbody>\n",
       "    <tr>\n",
       "      <th>0</th>\n",
       "      <td>Diego</td>\n",
       "      <td>Diego Restrepo\\\\\\r\\nProfesor  de Tiempo Completo\\\\\\r\\nInstituto de F\\'\\i sica\\\\\\r\\nUniversidad de Antioquia</td>\n",
       "      <td>1</td>\n",
       "    </tr>\n",
       "    <tr>\n",
       "      <th>1</th>\n",
       "      <td>Diego_cc</td>\n",
       "      <td>Diego Alejandro Restrepo Quintero\\\\\\r\\nC\\'edula de Ciudadania: 98554575</td>\n",
       "      <td>2</td>\n",
       "    </tr>\n",
       "    <tr>\n",
       "      <th>2</th>\n",
       "      <td>Diego Enrico Nelson</td>\n",
       "      <td>\\parbox[t]{6cm}{\\r\\n\\hrulefill\\hspace{1cm}{\\quad}\\\\\\r\\nDiego Restrepo\\\\\\r\\nDocente aspirante a\\\\\\r\\nProfesor Auxiliar\\\\\\r\\nInstituto de F\\'\\i sica\\\\\\r\\nUniversidad de Antioquia}\\parbox[t]{6cm}{\\r\\n\\hrulefill\\hspace{1cm}{\\quad}\\\\\\r\\nVo. Bo.\\\\\\r\\nEnrico Nardi\\\\\\r\\nCoordinador\\\\\\r\\nGrupo de Fenomenolog\\'\\i a de\\\\\\r\\nInteracciones Fundamentales\\\\\\r\\nInstituto de F\\'\\i sica\\\\\\r\\nUniversidad de Antioquia}\\parbox[t]{6cm}{\\r\\n\\hrulefill\\hspace{1cm}{\\quad}\\\\\\r\\nVo. Bo.\\\\\\r\\nNelson Vanegas A.\\\\\\r\\nDir...</td>\n",
       "      <td>3</td>\n",
       "    </tr>\n",
       "    <tr>\n",
       "      <th>3</th>\n",
       "      <td>Diego_simple</td>\n",
       "      <td>Diego Restrepo\\\\\\r\\nFull  Time Professor\\\\\\r\\nInstituto de F\\'\\i sica\\\\\\r\\nUniversidad de Antioquia</td>\n",
       "      <td>4</td>\n",
       "    </tr>\n",
       "    <tr>\n",
       "      <th>4</th>\n",
       "      <td>Diego Nelson</td>\n",
       "      <td>\\parbox[t]{9cm}{Diego Restrepo\\\\\\r\\nProfesor de Tiempo Completo\\\\\\r\\nInstituto de Física\\\\\\r\\nUniversidad de Antioquia}\\parbox[t]{4cm}{\\r\\n%Oscar Zapata\\\\\\r\\n%Profesor de Tiempo Completo\\\\\\r\\n%Instituto de Física\\\\\\r\\n%Universidad de Antioquia\\r\\nVo. Bo.\\\\\\r\\nJohans Restrepo\\\\\\r\\nDirector\\\\\\r\\nInstituto de Física\\\\\\r\\nUniversidad de Antioquia.\\r\\n}</td>\n",
       "      <td>5</td>\n",
       "    </tr>\n",
       "    <tr>\n",
       "      <th>5</th>\n",
       "      <td>Nelson Decano</td>\n",
       "      <td>\\parbox[t]{9cm}{Vo. Bo.\\\\\\r\\nNelson Vanegas A.\\\\\\r\\nDirector\\\\\\r\\nInstituto de Física\\\\\\r\\nUniversidad de Antioquia}\\parbox[t]{4cm}{Vo. Bo.\\\\\\r\\nNéstor López Aristizabal\\\\\\r\\nDecano\\\\\\r\\nFacultad de Ciencias Exáctas y Naturales\\\\\\r\\nUniversidad de Antioquia}</td>\n",
       "      <td>6</td>\n",
       "    </tr>\n",
       "    <tr>\n",
       "      <th>6</th>\n",
       "      <td>Diego editable</td>\n",
       "      <td>Diego Alejandro Restrepo Quintero\\\\\\r\\nProfesor Asociado\\\\\\r\\nUniversidad de Antioquia\\\\\\r\\nCoordinador Comité Organizador,\\\\\\r\\nX Simposio Latinoamericano de Física de Altas Energías</td>\n",
       "      <td>7</td>\n",
       "    </tr>\n",
       "    <tr>\n",
       "      <th>7</th>\n",
       "      <td>Diego_en_sign</td>\n",
       "      <td>\\includegraphics[scale=0.4]{firma}\\\\\\r\\n\\noindent\\r\\nDiego Restrepo\\\\\\r\\nFull  Time Professor\\\\\\r\\nInstituto de F\\'\\i sica\\\\\\r\\nUniversidad de Antioquia</td>\n",
       "      <td>8</td>\n",
       "    </tr>\n",
       "    <tr>\n",
       "      <th>8</th>\n",
       "      <td>Diego_en</td>\n",
       "      <td>Diego Restrepo\\\\\\r\\nFull  Time Professor\\\\\\r\\nInstituto de F\\'\\i sica\\\\\\r\\nUniversidad de Antioquia</td>\n",
       "      <td>9</td>\n",
       "    </tr>\n",
       "    <tr>\n",
       "      <th>9</th>\n",
       "      <td>Diego_es_sign</td>\n",
       "      <td>\\includegraphics[scale=0.4]{firma}\\\\\\r\\n\\noindent\\r\\nDiego Restrepo\\\\\\r\\nProfesor Titular\\\\\\r\\nInstituto de Física\\\\\\r\\nUniversidad de Antioquia</td>\n",
       "      <td>10</td>\n",
       "    </tr>\n",
       "    <tr>\n",
       "      <th>10</th>\n",
       "      <td>Coordinador_E</td>\n",
       "      <td>Diego Restrepo\\\\\\r\\nCoordinador de Posgrado\\\\\\r\\nInstituto de Física\\\\\\r\\nUniversidad de Antioquia</td>\n",
       "      <td>11</td>\n",
       "    </tr>\n",
       "    <tr>\n",
       "      <th>11</th>\n",
       "      <td>VBo</td>\n",
       "      <td>\\parbox[t]{10cm}{Diego Restrepo\\\\\\r\\nProfesor de Tiempo Completo\\\\\\r\\nInstituto de Física\\\\\\r\\nUniversidad de Antioquia}\\parbox[t]{5cm}{V$^{\\hbox{o}}$B$^{\\hbox{o}}$\\\\\\r\\nNora E. Restrepo Sánchez\\\\\\r\\nDecana\\\\\\r\\nFacultad de Ciencias Exactas y Naturales\\\\\\r\\nUniversidad de Antioquia}</td>\n",
       "      <td>12</td>\n",
       "    </tr>\n",
       "    <tr>\n",
       "      <th>12</th>\n",
       "      <td>Diego IP</td>\n",
       "      <td>Diego Restrepo\\\\\\r\\nInvestigador Principal\\\\\\r\\nProfesor  de Tiempo Completo\\\\\\r\\nInstituto de F\\'\\i sica\\\\\\r\\nUniversidad de Antioquia</td>\n",
       "      <td>13</td>\n",
       "    </tr>\n",
       "    <tr>\n",
       "      <th>13</th>\n",
       "      <td>Diego IP_sign</td>\n",
       "      <td>\\includegraphics[scale=0.4]{firma}\\\\\\r\\n\\noindent\\r\\nDiego Restrepo\\\\\\r\\nInvestigador Principal\\\\\\r\\nProfesor  de Tiempo Completo\\\\\\r\\nInstituto de Física\\\\\\r\\nUniversidad de Antioquia</td>\n",
       "      <td>14</td>\n",
       "    </tr>\n",
       "    <tr>\n",
       "      <th>14</th>\n",
       "      <td>oscar</td>\n",
       "      <td>Óscar Zapata\\\\\\r\\nProfesor  de Tiempo Completo\\\\\\r\\nInstituto de F\\'\\i sica\\\\\\r\\nUniversidad de Antioquia</td>\n",
       "      <td>15</td>\n",
       "    </tr>\n",
       "  </tbody>\n",
       "</table>\n",
       "</div>"
      ],
      "text/plain": [
       "              signature  \\\n",
       "0                 Diego   \n",
       "1              Diego_cc   \n",
       "2   Diego Enrico Nelson   \n",
       "3          Diego_simple   \n",
       "4          Diego Nelson   \n",
       "5         Nelson Decano   \n",
       "6        Diego editable   \n",
       "7         Diego_en_sign   \n",
       "8              Diego_en   \n",
       "9         Diego_es_sign   \n",
       "10        Coordinador_E   \n",
       "11                  VBo   \n",
       "12             Diego IP   \n",
       "13        Diego IP_sign   \n",
       "14                oscar   \n",
       "\n",
       "                                                                                                                                                                                                                                                                                                                                                                                                                                                                                                                   sign  \\\n",
       "0                                                                                                                                                                                                                                                                                                                                                                                                           Diego Restrepo\\\\\\r\\nProfesor  de Tiempo Completo\\\\\\r\\nInstituto de F\\'\\i sica\\\\\\r\\nUniversidad de Antioquia   \n",
       "1                                                                                                                                                                                                                                                                                                                                                                                                                                               Diego Alejandro Restrepo Quintero\\\\\\r\\nC\\'edula de Ciudadania: 98554575   \n",
       "2   \\parbox[t]{6cm}{\\r\\n\\hrulefill\\hspace{1cm}{\\quad}\\\\\\r\\nDiego Restrepo\\\\\\r\\nDocente aspirante a\\\\\\r\\nProfesor Auxiliar\\\\\\r\\nInstituto de F\\'\\i sica\\\\\\r\\nUniversidad de Antioquia}\\parbox[t]{6cm}{\\r\\n\\hrulefill\\hspace{1cm}{\\quad}\\\\\\r\\nVo. Bo.\\\\\\r\\nEnrico Nardi\\\\\\r\\nCoordinador\\\\\\r\\nGrupo de Fenomenolog\\'\\i a de\\\\\\r\\nInteracciones Fundamentales\\\\\\r\\nInstituto de F\\'\\i sica\\\\\\r\\nUniversidad de Antioquia}\\parbox[t]{6cm}{\\r\\n\\hrulefill\\hspace{1cm}{\\quad}\\\\\\r\\nVo. Bo.\\\\\\r\\nNelson Vanegas A.\\\\\\r\\nDir...   \n",
       "3                                                                                                                                                                                                                                                                                                                                                                                                                   Diego Restrepo\\\\\\r\\nFull  Time Professor\\\\\\r\\nInstituto de F\\'\\i sica\\\\\\r\\nUniversidad de Antioquia   \n",
       "4                                                                                                                                                        \\parbox[t]{9cm}{Diego Restrepo\\\\\\r\\nProfesor de Tiempo Completo\\\\\\r\\nInstituto de Física\\\\\\r\\nUniversidad de Antioquia}\\parbox[t]{4cm}{\\r\\n%Oscar Zapata\\\\\\r\\n%Profesor de Tiempo Completo\\\\\\r\\n%Instituto de Física\\\\\\r\\n%Universidad de Antioquia\\r\\nVo. Bo.\\\\\\r\\nJohans Restrepo\\\\\\r\\nDirector\\\\\\r\\nInstituto de Física\\\\\\r\\nUniversidad de Antioquia.\\r\\n}   \n",
       "5                                                                                                                                                                                                                                                    \\parbox[t]{9cm}{Vo. Bo.\\\\\\r\\nNelson Vanegas A.\\\\\\r\\nDirector\\\\\\r\\nInstituto de Física\\\\\\r\\nUniversidad de Antioquia}\\parbox[t]{4cm}{Vo. Bo.\\\\\\r\\nNéstor López Aristizabal\\\\\\r\\nDecano\\\\\\r\\nFacultad de Ciencias Exáctas y Naturales\\\\\\r\\nUniversidad de Antioquia}   \n",
       "6                                                                                                                                                                                                                                                                                                                               Diego Alejandro Restrepo Quintero\\\\\\r\\nProfesor Asociado\\\\\\r\\nUniversidad de Antioquia\\\\\\r\\nCoordinador Comité Organizador,\\\\\\r\\nX Simposio Latinoamericano de Física de Altas Energías   \n",
       "7                                                                                                                                                                                                                                                                                                                                                              \\includegraphics[scale=0.4]{firma}\\\\\\r\\n\\noindent\\r\\nDiego Restrepo\\\\\\r\\nFull  Time Professor\\\\\\r\\nInstituto de F\\'\\i sica\\\\\\r\\nUniversidad de Antioquia   \n",
       "8                                                                                                                                                                                                                                                                                                                                                                                                                   Diego Restrepo\\\\\\r\\nFull  Time Professor\\\\\\r\\nInstituto de F\\'\\i sica\\\\\\r\\nUniversidad de Antioquia   \n",
       "9                                                                                                                                                                                                                                                                                                                                                                      \\includegraphics[scale=0.4]{firma}\\\\\\r\\n\\noindent\\r\\nDiego Restrepo\\\\\\r\\nProfesor Titular\\\\\\r\\nInstituto de Física\\\\\\r\\nUniversidad de Antioquia   \n",
       "10                                                                                                                                                                                                                                                                                                                                                                                                                   Diego Restrepo\\\\\\r\\nCoordinador de Posgrado\\\\\\r\\nInstituto de Física\\\\\\r\\nUniversidad de Antioquia   \n",
       "11                                                                                                                                                                                                                          \\parbox[t]{10cm}{Diego Restrepo\\\\\\r\\nProfesor de Tiempo Completo\\\\\\r\\nInstituto de Física\\\\\\r\\nUniversidad de Antioquia}\\parbox[t]{5cm}{V$^{\\hbox{o}}$B$^{\\hbox{o}}$\\\\\\r\\nNora E. Restrepo Sánchez\\\\\\r\\nDecana\\\\\\r\\nFacultad de Ciencias Exactas y Naturales\\\\\\r\\nUniversidad de Antioquia}   \n",
       "12                                                                                                                                                                                                                                                                                                                                                                              Diego Restrepo\\\\\\r\\nInvestigador Principal\\\\\\r\\nProfesor  de Tiempo Completo\\\\\\r\\nInstituto de F\\'\\i sica\\\\\\r\\nUniversidad de Antioquia   \n",
       "13                                                                                                                                                                                                                                                                                                                             \\includegraphics[scale=0.4]{firma}\\\\\\r\\n\\noindent\\r\\nDiego Restrepo\\\\\\r\\nInvestigador Principal\\\\\\r\\nProfesor  de Tiempo Completo\\\\\\r\\nInstituto de Física\\\\\\r\\nUniversidad de Antioquia   \n",
       "14                                                                                                                                                                                                                                                                                                                                                                                                            Óscar Zapata\\\\\\r\\nProfesor  de Tiempo Completo\\\\\\r\\nInstituto de F\\'\\i sica\\\\\\r\\nUniversidad de Antioquia   \n",
       "\n",
       "    idsing  \n",
       "0        1  \n",
       "1        2  \n",
       "2        3  \n",
       "3        4  \n",
       "4        5  \n",
       "5        6  \n",
       "6        7  \n",
       "7        8  \n",
       "8        9  \n",
       "9       10  \n",
       "10      11  \n",
       "11      12  \n",
       "12      13  \n",
       "13      14  \n",
       "14      15  "
      ]
     },
     "execution_count": 24,
     "metadata": {},
     "output_type": "execute_result"
    }
   ],
   "source": [
    "sg"
   ]
  },
  {
   "cell_type": "code",
   "execution_count": null,
   "metadata": {},
   "outputs": [],
   "source": [
    "id=None # last\n",
    "#id=176 #Invitation letter\n",
    "#id=281 # Invitado Nacional\n",
    "#id=289 # Super recommendation corrected\n",
    "#id=283 #certificado estancia\n",
    "#id=307 # Generic Recommmendation letter\n",
    "#id=300 #Generic Aval horas de investigación\n",
    "#id=105\n",
    "data_base='Diego_Restrepo' #Diego_Restrepo;cartas_gfif;seminarios\n",
    "#data_base='cartas_gfif' #Diego_Restrepo;cartas_gfif;seminarios\n",
    "try:\n",
    "    if id:\n",
    "        db=database_to_pandas(choose_db=data_base,main_table='cartas',id=id)\n",
    "    else:    \n",
    "        db=database_to_pandas(choose_db=data_base,main_table='cartas')\n",
    "except KeyError:\n",
    "    sys.exit('Uncomment Personal Data Base')       "
   ]
  },
  {
   "cell_type": "code",
   "execution_count": null,
   "metadata": {},
   "outputs": [],
   "source": [
    "if id:\n",
    "    latexfile=db.to_pdf(cartas,pdf='cartas.pdf',\n",
    "            dwld_dir='/home/restrepo/downloads',\n",
    "            url_dir='http://fisica.udea.edu.co/downloads',id=id)\n",
    "else:\n",
    "    latexfile=db.to_pdf(cartas,pdf='cartas.pdf',\n",
    "            dwld_dir='/home/restrepo/downloads',\n",
    "            url_dir='http://fisica.udea.edu.co/downloads')"
   ]
  },
  {
   "cell_type": "code",
   "execution_count": null,
   "metadata": {},
   "outputs": [],
   "source": [
    "db.pandas_DataFrame.loc[300]"
   ]
  },
  {
   "cell_type": "code",
   "execution_count": null,
   "metadata": {},
   "outputs": [],
   "source": [
    "print( db.pandas_DataFrame.loc[300,'para'] )"
   ]
  },
  {
   "cell_type": "code",
   "execution_count": null,
   "metadata": {},
   "outputs": [],
   "source": [
    "print( db.pandas_DataFrame.loc[300,'body'] )"
   ]
  },
  {
   "cell_type": "markdown",
   "metadata": {},
   "source": [
    "\\def\\proyecto{\n",
    "%1: de movilidad Sao Paulo - Universidad de Antioquia  ``SPRINT – 3rd Edition 2019''\n",
    "%2:``FAPESP - UNIVERSIDAD DE ANTIOQUIA 2019''\n",
    "%3: MÉTRICAS DE VINCULACIÓN UNIVERSIDAD ENTORNO ETAPA 3\n",
    "%4:\n",
    "``Desarrollo de algoritmos para la detección de neumonía y SARS-Cov-2 usando imágenes de Rayos-X.''\n",
    "}\n",
    "\n",
    "Solicito el aval para enviar el proyecto  \\proyecto \n",
    "y del cual soy el investigador principal. Dicho proyecto se realiza en el marco del  \n",
    "Fondo de apoyo a los grupos de trabajo de la iniciativa \\#UdeA responde al Covid-19.\n",
    "Dicho proyecto se hace en conjunto con la Facultad de Medicina y el CERN a través de un\n",
    "convenio interinsitucional con la dedicación de 6 horas semanalas del coinvestigador del CERN: Omar Zapata.\n",
    "\n",
    "La duración del proyecto será de 9 meses. \n",
    "\n",
    "Se adjunta el borrador de la propuesta en trámite y el presupuesto"
   ]
  },
  {
   "cell_type": "markdown",
   "metadata": {},
   "source": [
    "### Other databases"
   ]
  },
  {
   "cell_type": "code",
   "execution_count": null,
   "metadata": {},
   "outputs": [],
   "source": [
    "dbs=database_to_pandas(choose_db='seminarios',main_table='talks',aux_tables='')"
   ]
  },
  {
   "cell_type": "code",
   "execution_count": null,
   "metadata": {},
   "outputs": [],
   "source": [
    "lfs=dbs.to_pdf(seminarios,pdf='seminarios.pdf',\n",
    "        dwld_dir='/home/restrepo/downloads',\n",
    "        url_dir='http://gfif.udea.edu.co/downloads')"
   ]
  },
  {
   "cell_type": "markdown",
   "metadata": {},
   "source": [
    "### Get DataFrame"
   ]
  },
  {
   "cell_type": "code",
   "execution_count": null,
   "metadata": {},
   "outputs": [],
   "source": [
    "db.pandas_DataFrame.to_excel('kk.xlsx',index=False)"
   ]
  },
  {
   "cell_type": "markdown",
   "metadata": {},
   "source": [
    "## Manual"
   ]
  },
  {
   "cell_type": "code",
   "execution_count": null,
   "metadata": {},
   "outputs": [],
   "source": [
    "latexfile"
   ]
  },
  {
   "cell_type": "code",
   "execution_count": null,
   "metadata": {},
   "outputs": [],
   "source": [
    "password=getpass.getpass()"
   ]
  },
  {
   "cell_type": "code",
   "execution_count": null,
   "metadata": {},
   "outputs": [],
   "source": [
    "choose_db=0\n",
    "tipo_carta=['Diego_Restrepo', 'cartas_gfif']\n",
    "\n",
    "conn = pymysql.connect(host='localhost', port=3306, user='root', passwd=password, db=tipo_carta[choose_db])\n",
    "\n",
    "df=pd.read_sql('select * from cartas;', con=conn)\n",
    "\n",
    "sg=pd.read_sql('select * from cartas_sign;', con=conn)"
   ]
  },
  {
   "cell_type": "code",
   "execution_count": null,
   "metadata": {},
   "outputs": [],
   "source": [
    "conn.close()Implicaciones de modelos de materia oscura en experimentos de detección directa"
   ]
  },
  {
   "cell_type": "code",
   "execution_count": null,
   "metadata": {},
   "outputs": [],
   "source": [
    "df=df[df.body.str.lower().str.contains('editor')]"
   ]
  },
  {
   "cell_type": "code",
   "execution_count": null,
   "metadata": {},
   "outputs": [],
   "source": [
    "df=df[df.id==281]"
   ]
  },
  {
   "cell_type": "markdown",
   "metadata": {},
   "source": [
    "Last entry"
   ]
  },
  {
   "cell_type": "code",
   "execution_count": null,
   "metadata": {},
   "outputs": [],
   "source": [
    "df"
   ]
  },
  {
   "cell_type": "code",
   "execution_count": null,
   "metadata": {},
   "outputs": [],
   "source": [
    "c=df[df.id==df.id.values[-1]].reset_index(drop=True).loc[0]\n",
    "c['sign']=sg[sg.signature==c.signature].reset_index(drop=True).loc[0,'sign']"
   ]
  },
  {
   "cell_type": "code",
   "execution_count": null,
   "metadata": {},
   "outputs": [],
   "source": [
    "c"
   ]
  },
  {
   "cell_type": "code",
   "execution_count": null,
   "metadata": {},
   "outputs": [],
   "source": [
    "row=c"
   ]
  },
  {
   "cell_type": "code",
   "execution_count": null,
   "metadata": {},
   "outputs": [],
   "source": [
    "lo=generate_pdf(row)"
   ]
  },
  {
   "cell_type": "code",
   "execution_count": null,
   "metadata": {},
   "outputs": [],
   "source": [
    "print(lo[0].decode('utf8'))Implicaciones de modelos de materia oscura en experimentos de detección directa"
   ]
  },
  {
   "cell_type": "code",
   "execution_count": null,
   "metadata": {},
   "outputs": [],
   "source": [
    "c.sign"
   ]
  },
  {
   "cell_type": "code",
   "execution_count": null,
   "metadata": {},
   "outputs": [],
   "source": [
    "ok"
   ]
  },
  {
   "cell_type": "code",
   "execution_count": null,
   "metadata": {},
   "outputs": [],
   "source": [
    "'mysqldump -u root -p{:s} {:s} > db_{:s}_backup.sql'.format(password,tipo_carta[NTC],tipo_carta[NTC]).split()"
   ]
  },
  {
   "cell_type": "markdown",
   "metadata": {},
   "source": [
    "## Search in body"
   ]
  },
  {
   "cell_type": "code",
   "execution_count": null,
   "metadata": {},
   "outputs": [],
   "source": [
    "id=99\n",
    "if id >0:\n",
    "    dfs=df[df.id==id].reset_index(drop=True)\n",
    "else:    \n",
    "    dfs=df[df.body.str.lower().map(unidecode.unidecode).str.contains('impacto social')].reset_index(drop=True)"
   ]
  },
  {
   "cell_type": "code",
   "execution_count": null,
   "metadata": {},
   "outputs": [],
   "source": [
    "dfs"
   ]
  },
  {
   "cell_type": "code",
   "execution_count": null,
   "metadata": {},
   "outputs": [],
   "source": [
    "c=dfs.loc[dfs.index.values[-1]]"
   ]
  },
  {
   "cell_type": "code",
   "execution_count": null,
   "metadata": {},
   "outputs": [],
   "source": [
    "c"
   ]
  },
  {
   "cell_type": "code",
   "execution_count": null,
   "metadata": {},
   "outputs": [],
   "source": [
    "c.keys().values"
   ]
  },
  {
   "cell_type": "code",
   "execution_count": null,
   "metadata": {},
   "outputs": [],
   "source": [
    "for k in c.keys():\n",
    "    print(k)\n",
    "    if c[k]==None:\n",
    "        c[k]=''Implicaciones de modelos de materia oscura en experimentos de detección directa"
   ]
  },
  {
   "cell_type": "code",
   "execution_count": null,
   "metadata": {},
   "outputs": [],
   "source": [
    "c.closing"
   ]
  },
  {
   "cell_type": "code",
   "execution_count": null,
   "metadata": {},
   "outputs": [],
   "source": [
    "c.closing"
   ]
  },
  {
   "cell_type": "code",
   "execution_count": null,
   "metadata": {},
   "outputs": [],
   "source": [
    "latexfile=r'''\n",
    "%'''+c.description+r'''\n",
    "\\documentclass{letter}\n",
    "\\usepackage[utf8]{inputenc}\n",
    "'''+c.preamble+r'''\n",
    "'''+c.address+r'''\n",
    "\\signature{'''+sg[sg.signature==c.signature].sign.values[0]+r'''}\n",
    "\\begin{document}\n",
    "\\begin{letter}{'''+c.para+r'''}\n",
    "\n",
    "\\opening{'''+c.opening+r'''} \n",
    "\n",
    "'''+c.body+r'''\n",
    "\n",
    "\\closing{'''+c.closing+r'''}\n",
    "\\end{letter}\n",
    "\\end{document}\n",
    "'''"
   ]
  },
  {
   "cell_type": "code",
   "execution_count": null,
   "metadata": {},
   "outputs": [],
   "source": [
    "print(latexfile)"
   ]
  },
  {
   "cell_type": "code",
   "execution_count": null,
   "metadata": {},
   "outputs": [],
   "source": [
    "f=tempfile.NamedTemporaryFile('w',suffix='.tex',delete=False)"
   ]
  },
  {
   "cell_type": "code",
   "execution_count": null,
   "metadata": {},
   "outputs": [],
   "source": [
    "f.write(latexfile)"
   ]
  },
  {
   "cell_type": "code",
   "execution_count": null,
   "metadata": {},
   "outputs": [],
   "source": [
    "f.name"
   ]
  },
  {
   "cell_type": "code",
   "execution_count": null,
   "metadata": {},
   "outputs": [],
   "source": [
    "f.close()"
   ]
  },
  {
   "cell_type": "code",
   "execution_count": null,
   "metadata": {},
   "outputs": [],
   "source": [
    "lo=subprocess.Popen('pdflatex {:s}'.format(f.name).split(),cwd='/tmp',stdout=subprocess.PIPE,stderr=subprocess.PIPE).communicate()"
   ]
  },
  {
   "cell_type": "code",
   "execution_count": null,
   "metadata": {},
   "outputs": [],
   "source": [
    "pdffile='{:s}'.format(f.name).split('.tex')[0]+'.pdf'\n",
    "if lo[0].decode('utf8').find(pdffile.split('/')[-1])>-1:\n",
    "    pdf='carta_{:d}.pdf'.format(c['id'])\n",
    "    dwld_dir='downloads'\n",
    "    kk=subprocess.Popen('mv {:s} /var/www/{:s}/{:s}'.format(pdffile,dwld_dir,pdf).split()).communicate()\n",
    "    print('output in http://gfif.udea.edu.co/{:s}/{:s}'.format(dwld_dir,pdf))\n",
    "    for suffix in  ['.aux','.log','.out','.tex']:\n",
    "        subprocess.Popen( ['rm', '{:s}'.format(f.name).split('.tex')[0]+suffix] ).communicate()\n",
    "else:\n",
    "    sys.exit('LaTeX ERROR:')    "
   ]
  },
  {
   "cell_type": "code",
   "execution_count": null,
   "metadata": {},
   "outputs": [],
   "source": [
    "%pycat database_to_pandas.py"
   ]
  },
  {
   "cell_type": "code",
   "execution_count": null,
   "metadata": {},
   "outputs": [],
   "source": [
    "r'https://scholar.google.com/scholar?hl=en&q=doi'"
   ]
  },
  {
   "cell_type": "code",
   "execution_count": null,
   "metadata": {},
   "outputs": [],
   "source": []
  }
 ],
 "metadata": {
  "kernelspec": {
   "display_name": "Python 3 (ipykernel)",
   "language": "python",
   "name": "python3"
  },
  "language_info": {
   "codemirror_mode": {
    "name": "ipython",
    "version": 3
   },
   "file_extension": ".py",
   "mimetype": "text/x-python",
   "name": "python",
   "nbconvert_exporter": "python",
   "pygments_lexer": "ipython3",
   "version": "3.7.3"
  },
  "latex_envs": {
   "LaTeX_envs_menu_present": true,
   "autoclose": false,
   "autocomplete": true,
   "bibliofile": "biblio.bib",
   "cite_by": "apalike",
   "current_citInitial": 1,
   "eqLabelWithNumbers": true,
   "eqNumInitial": 1,
   "hotkeys": {
    "equation": "Ctrl-E",
    "itemize": "Ctrl-I"
   },
   "labels_anchors": false,
   "latex_user_defs": false,
   "report_style_numbering": false,
   "user_envs_cfg": false
  }
 },
 "nbformat": 4,
 "nbformat_minor": 4
}
