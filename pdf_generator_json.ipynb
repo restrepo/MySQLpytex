{
 "cells": [
  {
   "cell_type": "markdown",
   "metadata": {},
   "source": [
    "# Read a MySQL DataBase and generate specific output\n",
    "Hint: Works with real index\n",
    "\n",
    "TODO: Move config to the beginning"
   ]
  },
  {
   "cell_type": "markdown",
   "metadata": {},
   "source": [
    "__Jupyter lab widgets__\n",
    "```bash\n",
    "pip install ipywidgets jupyterlab_widgets\n",
    "```\n",
    "[Widget list](https://ipywidgets.readthedocs.io/en/latest/examples/Widget%20List.html)"
   ]
  },
  {
   "cell_type": "code",
   "execution_count": 1,
   "metadata": {},
   "outputs": [
    {
     "data": {
      "application/vnd.jupyter.widget-view+json": {
       "model_id": "b027e1c7a8d141f8a1f00691fec01d42",
       "version_major": 2,
       "version_minor": 0
      },
      "text/plain": [
       "RadioButtons(description='New letter?', index=1, options=(True, False), value=False)"
      ]
     },
     "metadata": {},
     "output_type": "display_data"
    }
   ],
   "source": [
    "from database_to_pandas import *\n",
    "import sys\n",
    "from IPython.display import display\n",
    "from ipywidgets import widgets\n",
    "from IPython.display import JSON\n",
    "from unidecode import unidecode\n",
    "\n",
    "def radio(description,options=[True, False]):\n",
    "    w = widgets.RadioButtons(\n",
    "        options=options,\n",
    "    #    layout={'width': 'max-content'}, # If the self.items' names are long\n",
    "        description=description,\n",
    "        disabled=False\n",
    "    )\n",
    "    if False in options:\n",
    "        w.value = False # Defaults to 'pineapple'\n",
    "    return w\n",
    "\n",
    "radios = {}\n",
    "radios[\"New letter?\"] = radio(\"New letter?\")\n",
    "radios[\"Load Body?\"] = radio(\"Load Body?\")\n",
    "radios[\"Edit cells?\"] = radio(\"Edit cells?\")\n",
    "radios[\"Edit what?\"] = radio(\"Edit what?\",options=[\"Body\", \"Body and Para\",\"All\"])\n",
    "# Default values\n",
    "radios[\"New letter?\"].value = False\n",
    "display(radios[\"New letter?\"])\n"
   ]
  },
  {
   "cell_type": "code",
   "execution_count": 2,
   "metadata": {},
   "outputs": [
    {
     "data": {
      "application/vnd.jupyter.widget-view+json": {
       "model_id": "dd22c33ecda0428cb003bb93296151a1",
       "version_major": 2,
       "version_minor": 0
      },
      "text/plain": [
       "RadioButtons(description='Load Body?', options=(True, False), value=True)"
      ]
     },
     "metadata": {},
     "output_type": "display_data"
    },
    {
     "data": {
      "application/vnd.jupyter.widget-view+json": {
       "model_id": "d9a1db28dfaa417da6d90d22811bbe2d",
       "version_major": 2,
       "version_minor": 0
      },
      "text/plain": [
       "RadioButtons(description='Edit cells?', options=(True, False), value=True)"
      ]
     },
     "metadata": {},
     "output_type": "display_data"
    },
    {
     "data": {
      "application/vnd.jupyter.widget-view+json": {
       "model_id": "26bcc1f6c82249cc877c2d53beff7a54",
       "version_major": 2,
       "version_minor": 0
      },
      "text/plain": [
       "RadioButtons(description='Edit what?', index=1, options=('Body', 'Body and Para', 'All'), value='Body and Para…"
      ]
     },
     "metadata": {},
     "output_type": "display_data"
    }
   ],
   "source": [
    "radios[\"Load Body?\"].value = True\n",
    "radios[\"Edit cells?\"].value = True\n",
    "if radios[\"New letter?\"].value:\n",
    "    radios[\"Edit what?\"].value = \"All\"\n",
    "else:\n",
    "    radios[\"Edit what?\"].value = \"Body and Para\"\n",
    "display(radios[\"Load Body?\"])\n",
    "display(radios[\"Edit cells?\"])\n",
    "display(radios[\"Edit what?\"])"
   ]
  },
  {
   "cell_type": "code",
   "execution_count": 3,
   "metadata": {},
   "outputs": [
    {
     "name": "stdout",
     "output_type": "stream",
     "text": [
      "False\n"
     ]
    },
    {
     "name": "stdin",
     "output_type": "stream",
     "text": [
      "Search in body for: \n"
     ]
    },
    {
     "name": "stdout",
     "output_type": "stream",
     "text": [
      "{'id': 0, 'body_short': \"Yo Diego Alejandro Restrepo Quintero con cédula No 98554575, autorizo\\r\\na mi hija Sara Restrepo Fern\\\\'andez con pasaporte No. 24740777 para\\r\\nsalir del pa\\\\'\\\\i s hacia Barcelona (Espa\\\\~na), entre los d\\\\'\\\\i as 6 de\\r\\nmayo a 5 de junio, en compa\\\\~nia de su madre Tatiana Fern\\\\'andez Maya\\r\\ncon pasaporte 438\"}\n",
      "{'id': 1, 'body_short': \"Como figura en la Credencial adjunta, el Ministerio de Educaci\\\\'on\\r\\nCultura y Deporte del Gobierno Espa\\\\~nol me ha concedido una beca\\r\\npostdoctoral por un a\\\\~no en la Universidad de Valencia, a partir de la\\r\\nentrega de la Visa correspondiente (Finales de mayo del presente a\\\\~no\\r\\naproximadamente, com\"}\n",
      "{'id': 2, 'body_short': 'Considerando que:\\r\\n\\r\\n1. De acuerdo a la documentación adjunta, se me ha concedido por parte del Gobierno Español una pasantía postdoctoral en la Universidad de Valencia, para la cual ya tengo la correspondiente Visa aprobada. Además dicha pasantía la debo iniciar a la mayor brevedad para poder cumpl'}\n",
      "{'id': 3, 'body_short': 'Te envio los examenes de Luis Carlos Sanchez y Luis Alfredo Muñoz de 6 páginas cada uno\\r\\n\\r\\n'}\n",
      "{'id': 4, 'body_short': 'Adjunto los documentos relevantes para la evaluación de mi actividad profesional con miras al ingreso al Escalafón una vez se cumpla mi primer año de servicio a la Universidad de Antioquia el 25 de Julio del presente año:\\r\\n\\\\begin{itemize}\\r\\n\\\\item Hoja de Vida\\r\\n\\\\item Planes de trabajo de los dos últim'}\n",
      "{'id': 5, 'body_short': 'Adjunto la documentación acordada para un tiquete aéreo a Valencia (España) para la realización de Estudios Postdoctorales en la Universidad de Valencia por un año. Ya hice la reserva en Iberia quienes quedaron de enviar el respectivo printer a sus oficinas. La clave de dicha reserva es: X2M8ZX. Adj'}\n",
      "{'id': 6, 'body_short': 'Como es de su conocimiento, en días pasados ocurrió un conato de incendio en la Oficina 6-415 del Instituto de Física. Como consecuencia del mencionado incidente un equipo marca COMPAQ, con número de inventario 106435 a mi nombre, resulto averiado. \\r\\n\\r\\nLe solicito muy comedidamente que adelante las '}\n",
      "{'id': 7, 'body_short': 'En vista a que aún no he sido notificado de la expedición de mi título definitivo de Doctorado, el cual obtuve en octubre del 2001 en Valencia España, y el cual tarda normalmente dos años en ser emitido por parte del Ministerio de Educación Español, solicito muy comedidamente una prorroga de un año '}\n",
      "{'id': 8, 'body_short': 'Le solicito muy comedidamente me\\r\\npermita adelantar mi viaje de inicio de mi estancia postdoctoral para el día 19 de junio del 2003, dos días antes del inicio oficial de mi comisión de servicios por un año, para aprovechar la estancia del Profesor José Valle quien dirigirá mi postdoc, antes de una s'}\n",
      "{'id': 9, 'body_short': 'Certifico que el Prof. Diego Alejandro Restrepo Quintero tendrá una dedicación del 100\\\\% durante su estancia postdoctoral en la Universidad de Valencia bajo la dirección del Prof. Jose W. F. Valle. Entre las actividades asociadas a su beca postdoctoral se incluye la realización de proyectos de inves'}\n",
      "{'id': 10, 'body_short': 'I am sending the requested Credit Card information in order to confirm my reservation as a participant of  EuroGDR-Orsay\\r\\n\\r\\nFull name: Diego Alejandro Restrepo\\\\\\\\\\r\\nArriving date: 10-12-2003\\\\\\\\\\r\\nDeparture date: 14-12-2003\\\\\\\\\\r\\nCredit Card:  \\\\\\\\ \\r\\nExp: \\r\\n\\r\\nThanks in advance.'}\n",
      "{'id': 11, 'body_short': 'De acuerdo con la conversación telefónica sobre las deducciones salariales de mi contrato, le envió copia de aprobación de la Tarjeta de Residente. Note que mi N.I.E: X02297265W, aparece en la parte superior de dicho documento, así como en la copia de una Tarjeta de Residente anterior que también ad'}\n",
      "{'id': 12, 'body_short': 'Le solicitó muy comedidamente la extensión de mi seguro de asistencia sanitaria a mi hijo \\\\textbf{Simón Restrepo Fernández} nacido el 13 de noviembre del 2003. Mi nombre completo es \\\\textbf{Diego Alejandro Restrepo Quintero} y pertenezco al programa de Becarios Doctores Extranjeros en España, bajo l'}\n",
      "{'id': 13, 'body_short': 'Adjunto el informe de actividades desde Enero de 2002 a la fecha. Como figura allí ahora me encuentro realizando una estancia postdoctoral en la Universidad de Valencia en comisión parcialmente remunerada de la Universidad de Antioquia. Adjunto copia del correo electrónico donde se me oficializa el '}\n",
      "{'id': 14, 'body_short': 'Te envio las firmas de la parte española para el proyecto. Confirmame la recepción del mismo'}\n",
      "{'id': 15, 'body_short': \"Envio el informe de ``Estancias de Doctores y Tecn\\\\'ologos Extranjeros\\r\\nen Espa\\\\~na''y el ``Certificado acreditativo de la estancia'' para\\r\\nsolicitar la firma por el Representate Legal del CSIC y su envio al\\r\\nServicio de Acciones de Promoci\\\\'on y Movilidad, C/Serrano, 150, 28071\\r\\nMADRID.\\r\\n\\r\\nLe ruego\"}\n",
      "{'id': 16, 'body_short': \"En vista a que no he podido conseguir vuelo en las fechas apropiadas,\\r\\nsolicito muy comedidamente una comisi\\\\'on no remunerada desde el 24 de\\r\\nenero, hasta la fecha de mi llegada el d\\\\'\\\\i a 28 de enero. Le pido mis\\r\\nm\\\\'as sinceras disculpas por las molestias y problemas que esto pueda\\r\\nocasionar al \"}\n",
      "{'id': 17, 'body_short': 'Te envio el FAX acordado. Muchísimas gracias por tus gestiones y disculpa tanta molestia.'}\n",
      "{'id': 18, 'body_short': 'Debido a que me encontraba fuera del pais realizando una estancia postoctoral no me había sido posible entregar la copia del diploma de doctorado en la fecha acordada de julio del año pasado.\\r\\n\\r\\nAdjunto a continuación dicha copia y le solicito muy comedidamente se me otorge un tiempo prudencial para'}\n",
      "{'id': 19, 'body_short': 'Adjunto el informe sobre mi estancia postdoctoral en Valencia, España, bajo la asesoría del Profesor José W. F. Valle. Incluyo también el certificado de dicha estancia postdoctoral.\\r\\n\\r\\nRuego disculpe el retraso en la entrega de dicho informe, que se debió a mi desconocimiento de los trámites a segui'}\n",
      "{'id': 20, 'body_short': 'Adjunto el informe sobre mi estancia postdoctoral en Valencia, España, bajo la asesoría del Profesor José W. F. Valle. Incluyo también el certificado de dicha estancia postdoctoral.\\r\\n\\r\\nRuego disculpe el retraso en la entrega de dicho informe, que se debió a mi desconocimiento de los trámites a segui'}\n",
      "{'id': 21, 'body_short': 'Le solicito muy comedidamente me autorice a ausentarme del Instituto de Física del 4 al 15\\r\\nde abril del 2005, para, como miembro del corresponiente Comité Local, colaborar con la organización y participar en  la \\\\textsl{First annual\\r\\n  meeting of the European Network on theoretical astroparticle\\r\\n '}\n",
      "{'id': 22, 'body_short': 'Adjunto el certificado de estancia al congreso ENTApP al que asistí en Valencia.'}\n",
      "{'id': 23, 'body_short': 'Le solicito muy comedidamente me autorice a ausentarme del Instituto de Física del 13 al 24\\r\\nde junio del 2005, para realizar una estancia en el Grupo del Profesor José Valle de la Universidad de Valencia hasta el 8 julio. El fin de la misma es dar continuidad a los trabajos de investigación que est'}\n",
      "{'id': 24, 'body_short': 'Adjunto el certificado de la estancia que he realizado en Instituto de Física Corpuscular de la Universidad de Valencia con el Grupo del Profesor José Valle, entre el 13 de junio al 8 de julio del 2005.\\r\\n\\r\\n'}\n",
      "{'id': 25, 'body_short': 'Con respecto a la propuesta de trabajo de grado: \\\\textbf{Simulación de señales supersimétricas en aceleradores de partículas} del estudiante Rafael Uribe Guerra sometida a su consideración, quiero aclarar que ésta si se puede realizar en el plazo establecido.\\r\\n\\r\\nLa razón es que el estudiante sólo ne'}\n",
      "{'id': 26, 'body_short': 'Con respecto a la propuesta de trabajo de grado: \\\\textbf{Fenomenología del Modelo Estándar Supersimétrico} del estudiante Mauricio de Jesús Velásquez sometida a su consideración, quiero aclarar que ésta si se puede realizar en el plazo establecido.\\r\\n\\r\\nLa razón es que el estudiante sólo necesitará ap'}\n",
      "{'id': 27, 'body_short': 'Le solicito muy comedidamente un permiso para viajar a Bogotá el viernes 2 de septiembre con el fin de adelantar gestiones ante el Ministerio de Educación'}\n",
      "{'id': 28, 'body_short': 'Como habíamos acordado telefónicamente les solicito que hagan una reserva de un cuarto, con la tarifa corporativa, al Doctor Javier Ferrandis por nueve noches, desde el lunes 12 de septiembre al miércoles 21 del mismo mes.  Él pagará los dos primeras días al momento de la llegada, y el saldo restant'}\n",
      "{'id': 29, 'body_short': 'Adjunto copias del certificado de entrega de los documentos para la\\r\\nconvalidación de mi título se Doctor en Física ante el Ministerio de\\r\\nEducación Nacional y de la Información del Requerimiento. \\r\\n\\r\\nComo la fecha estimada de respuesta a dicha solicitud es el 31 de\\r\\ndiciembre del 2005, solicito muy'}\n",
      "{'id': 30, 'body_short': 'Adjunto los documentos relevantes para la evaluación de mi actividad profesional con miras al ascenso en el  Escalafón en la categoría de profesor asistente, una vez cumplidos tres años de servicio en la Universidad de Antioquia el pasado 25 de julio.\\r\\n\\\\begin{itemize}\\r\\n\\\\item Hoja de Vida\\r\\n\\\\item Plan'}\n",
      "{'id': 31, 'body_short': \"Todos los autores del artículo:\\r\\n\\r\\nM. Hirsch, E. Nardi and D. Restrepo,\\r\\n ``Bounds on the tau and muon neutrino vector and axial vector charge radius,''\\r\\n  Phys.\\\\ Rev.\\\\ D {\\\\bf 67} (2003) 033005\\r\\n  [arXiv:hep-ph/0210137],\\r\\n\\r\\nsomos igualmente responsables del contenido del mismo\"}\n",
      "{'id': 32, 'body_short': 'Con gran placer recomiendo la renovación de la Beca Mazda al Señor Juan José Quiros Arroyave para continuar con sus estudios de Maestría en el Instituto de Física de la Universidad de Antioquia.\\r\\n\\r\\nAunque conozco a Juan José desde hace algún tiempo, sólo hasta este semestre he tenido la oportunidad '}\n",
      "{'id': 33, 'body_short': 'Es para mi un placer recomendar a Mauricio de Jesús Velásquez para adelantar estudios de posgrado en  institución.\\r\\n\\r\\nConozco a  Mauricio desde que me propuso hace varios meses que fuera el director de su trabajo de grado. Durante ese tiempo me ha sorprendido el empeño y constancia que ha mostrado p'}\n",
      "{'id': 34, 'body_short': 'Es para mi un placer recomendar a Oscar Zapata Noreña para una de las becas HELEN\\r\\n\\r\\nConozco a Oscar  desde que dirigí su trabajo de grado hace algunos años.  El pasado semestre he tenido la oportunidad de ser su profesor en la electiva de la Maestría “Tópicos avanzados en Física de Partículas II” .'}\n",
      "{'id': 35, 'body_short': 'Con gran placer recomiendo la aplicación a una de las Beca Mazda del Señor Oscar Zapata Noreña para adelantar  sus estudios de Doctorales en el Instituto de Física de la Universidad de Antioquia.\\r\\n\\r\\nConozco a Oscar  desde que dirigí su trabajo de grado hace algunos años sobre aspectos teóricos del M'}\n",
      "{'id': 36, 'body_short': 'Con gran placer recomiendo al Señor Juan José Quiros Arroyave para que sea admitido al Doctorado en Física\\r\\n\\r\\nAunque conozco a Juan José desde hace algún tiempo, sólo hasta este semestre he tenido la oportunidad de ser su profesor en una electiva de la Maestría de Física en nuestra especialidad llam'}\n",
      "{'id': 37, 'body_short': 'Le solicito muy comedidamente me autorice a ausentarme del Instituto de Física del 14 de febrero al 7 de marzo de 2006,  para visitar el Instituto de Física Corpuscular de la Universidad de Valencia en el marco del Proyecto HELEN: \"High Energy Physics Latinamerican-European Network\". \\r\\n\\r\\nDe común ac'}\n",
      "{'id': 38, 'body_short': 'Fui profesor de la estudiante Juliana Restrepo Cadavid en dos cursos del Pregrado de Física. En ellos la estudiante no sólo mostró un rendimiento sobresaliente sino además una participación activa en la clase a través de preguntas muy acertadas sobre los tópicos desarrollados, a un nivel muy superio'}\n",
      "{'id': 39, 'body_short': 'Le solicito muy comedidamente me autorice a ausentarme del Instituto de Física del 6 al 27 de junio  de 2006,  para visitar hasta el 30 de  junio, el Instituto de Física Corpuscular de la Universidad de Valencia y adelantar proyectos en marcha sobre simulaciones de señales supersimétricas en el LHC.'}\n",
      "{'id': 40, 'body_short': 'Adjunto el certificado de la estancia que he realizado en Instituto de Física Corpuscular de la Universidad de Valencia con el Grupo del Profesor José Valle, entre el 14 de febrero al 7 de marzo de 2006. \\r\\n\\r\\nDurante esa estancia hemos terminado el artículo:\\r\\n\\r\\nD.~Aristizabal Sierra and D.~Restrepo,\\r'}\n",
      "{'id': 41, 'body_short': 'Envió los pasabordos de regreso, y el billete de autobus del trayecto Bogotá Medellín, correspondientes a mi visita al IFIC entre el 7 y el 30 de junio, para la continuación del trámite reembolso de los gastos de viaje. Le solicito también que me confirme por correo electrónico el ingreso a mi cuent'}\n",
      "{'id': 42, 'body_short': 'Es para mi un placer recomendar a Néstor  Cifuentes  Taborda para adelantar aplicar a las becas de doctorado de Conicyt\\r\\n\\r\\nConocí a Néstor como el director de su trabajo de grado que iniciamos desde mediados del 2005. Durante ese tiempo me ha sorprendido el empeño y constancia que ha mostrado para a'}\n",
      "{'id': 43, 'body_short': 'I know Oscar Zapata since I supervised his bachelor degree work three\\r\\nyears ago. I have been his professor in several magister and doctoral\\r\\ncourses.  Moreover I am his advisor in the doctoral studies that he start this year.\\r\\n\\r\\nOscar have solid basis, no only in the fundamentals and concepts of\\r\\nt'}\n",
      "{'id': 44, 'body_short': 'Es para mi un placer recomendar a Mauricio de Jesús Velásquez para adelantar estudios de posgrado en  institución.\\r\\n\\r\\nConozco a  Mauricio desde que me propuso en el 2005 que fuera el director de su trabajo de grado. Durante ese tiempo me ha sorprendido el empeño y constancia que ha mostrado para adq'}\n",
      "{'id': 45, 'body_short': 'Es para mi un placer recomendar a Rafael Uribe para adelantar estudios de Maestría en Física.\\r\\n\\r\\nConocí a Rafael como el director de su trabajo de grado que iniciamos desde mediados del 2005. Durante ese tiempo me ha sorprendido el empeño y constancia que ha mostrado para adquirir los conocimientos '}\n",
      "{'id': 46, 'body_short': 'I have the pleasure to invite \\\\fullname\\\\ for a\\r\\nvisit to our research group at Insituto de Física, Universidad de\\r\\nAntioquia from November 27 to December 1 of present year, in order to continue\\r\\nwith research works that we are developing within the framework of our\\r\\ncollaboration and to  give a cour'}\n",
      "{'id': 47, 'body_short': 'Comedidamente solicito la asignación de la contrapartida para el proyecto de COLCIENCIAS \\\\textbf{Reconstrucción de matrices de masa de neutrinos en aceleradores futuros}, 1115-333-18740, CT-181-2006, del cual soy investigador principal.'}\n",
      "{'id': 48, 'body_short': 'I know Walter Tangarife since he was my student in several undergraduate courses, such as, mathematical physics,  Introduction to Particle Physics, and Supersymmetry (MSSM). In addition he has took additional courses offered by our Group in Quantum Field Theory. Because of his excellent academic lev'}\n",
      "{'id': 49, 'body_short': 'Le solicito muy comedidamente me autorice a ausentarme del Instituto de Física del 21 de mayo al 1 de junio  de 2007,  para visitar  el Instituto de Física de la Universidad de Sao Paulo y adelantar proyectos en marcha sobre simulaciones de señales supersimétricas en el LHC. \\r\\n\\r\\nDe común acuerdo con'}\n",
      "{'id': 50, 'body_short': 'Por medio de la presente recomiendo que se apoye la solicitud de ayuda financiera de Walter Tangarife para participar en la Escuela: \"Geometric and Topological Methods for Quantum Field Theory\"\\r\\n\\r\\nConozco a Walter Tangarife desde que fue mi estudiante en varios cursos de la carrera incluyendo varios'}\n",
      "{'id': 51, 'body_short': 'Adjunto el certificado de la estancia que he realizado en el Departameno de Física Matemática del Instituto de Física de la Universidad de Sao Paulo con el Grupo del Profesor Oscar Eboli, entre el 22 de mayo al 2 de junio de 2007. \\r\\n\\r\\nDurante esa estancia hemos adelantado trabajos relacionados con e'}\n",
      "{'id': 52, 'body_short': 'Le solicito muy comedidamente me autorice a ausentarme del Instituto de Física del 9 al 20 de julio  de 2007,  para visitar  el Instituto de Física de la Universidad Nacional de La Plata del  5 al 20 julio de 2007, en el marco del proyecto \"High Energy Physics Latinamerican-European Network\"\\\\ (HELEN'}\n",
      "{'id': 53, 'body_short': 'Adjunto el certificado de la estancia que he realizado en el Instituto de Física de la Universidad de la Plata con el Grupo del Profesor Daniel Gómez Dumm, entre el 4 al 19 de julio de 2007, en el marco del Proyecto  \\r\\n\"High Energy Physics Latinamerican-European Network\"\\\\ (HELEN):  http://www.roma1.'}\n",
      "{'id': 54, 'body_short': 'Por medio de la presente recomiendo que se apoye la solicitud de ayuda financiera de Walter Tangarife para participar en el \"Workshop Integrability and the Gauge/String Correspondence\",\\\\  a realizarse entre  el 10 al 14 de diciembre de 2007, en \\r\\nIsaac Newton Institute for Mathematical Sciences, Cam'}\n",
      "{'id': 55, 'body_short': 'I know Walter Tangarife since he was my student in several undergraduate courses, such as, mathematical physics,  Introduction to Particle Physics, and Supersymmetry (MSSM). In addition he has took additional courses offered by our Group in Quantum Field Theory. Because of his excellent academic lev'}\n",
      "{'id': 56, 'body_short': 'Por medio de la presente recomiendo que se apoye la solicitud de ayuda financiera de \\r\\n  Jhovanny Andrés Mejía Guisao para participar en el Congreso de Gravitación: Grav 07, a realizarse en La Falda en Cordoba, Argentina, del 5 al7 de noviembre.\\r\\n\\r\\nConozco a  Jhovanny desde que fue mi estudiante en '}\n",
      "{'id': 57, 'body_short': 'Le solicito muy comedidamente me autorice a ausentarme del Instituto de Física del 3 al 6 de diciembre  de 2007,  para participar en  el International Meeting on Lepton Properties\\r\\nand the Cosmological Origin of Matter, a realizarse en el  Recinto Quirama, Rionegro, del 2 al 6 de diciembre. Dicho ev'}\n",
      "{'id': 58, 'body_short': 'I know Walter Tangarife since he was my student in several undergraduate courses, such as, mathematical physics,  Introduction to Particle Physics, and Supersymmetry (MSSM). In addition he has took additional courses offered by our Group in Quantum Field Theory. Because of his excellent academic lev'}\n",
      "{'id': 59, 'body_short': 'I know Walter Tangarife since he was my student in several undergraduate courses, such as, mathematical physics,  Introduction to Particle Physics, and Supersymmetry (MSSM). In addition he has took additional courses offered by our Group in Quantum Field Theory. Because of his excellent academic lev'}\n",
      "{'id': 60, 'body_short': 'I know Walter Tangarife since he was my student in several undergraduate courses, such as, mathematical physics,  Introduction to Particle Physics, and Supersymmetry (MSSM). In addition he has took additional courses offered by our Group in Quantum Field Theory. Because of his excellent academic lev'}\n",
      "{'id': 61, 'body_short': 'I know Walter Tangarife since he was my student in several undergraduate courses, such as, mathematical physics,  Introduction to Particle Physics, and Supersymmetry (MSSM). In addition he has took additional courses offered by our Group in Quantum Field Theory. Because of his excellent academic lev'}\n",
      "{'id': 62, 'body_short': 'I know Walter Tangarife since he was my student in several undergraduate courses, such as, mathematical physics,  Introduction to Particle Physics, and Supersymmetry (MSSM). In addition he has took additional courses offered by our Group in Quantum Field Theory. Because of his excellent academic lev'}\n",
      "{'id': 63, 'body_short': 'I am sending the board cards from my visit to your institute from may 21, to june27,  2007. \\r\\n\\r\\nI am very sorry for the delay but I lost the board cards for some months. \\r\\n\\r\\nThanks in advance'}\n",
      "{'id': 64, 'body_short': 'I am sending the board cards from my visit to your institute from may 21, to june27,  2007. \\r\\n\\r\\nI am very sorry for the inconveniences, but I do not understand why the letter have yet no arrived. \\r\\n\\r\\nThanks in advance'}\n",
      "{'id': 65, 'body_short': 'I know Walter Tangarife since he was my student in several undergraduate courses, such as, mathematical physics,  Introduction to Particle Physics, and Supersymmetry (MSSM). In addition he has took additional courses offered by our Group in Quantum Field Theory. Because of his excellent academic lev'}\n",
      "{'id': 66, 'body_short': 'nada de nada'}\n",
      "{'id': 67, 'body_short': 'I know Juan Yepes since he was my student in several undergraduate courses, such as, mathematical physics,  Introduction to Particle Physics, and Relativistic Quantum Mechanics. In addition he has took additional courses offered by our Group in Quantum Field Theory. \\r\\n\\r\\nHe finish under my supervisio'}\n",
      "{'id': 68, 'body_short': 'Solicito muy comedidamente una prorroga  para el inicio del Proyecto de Mediana Cuantía: \\\\textsl{Computing Yukawa couplings for Up quarks and neutrinos in $SU(5)\\\\times U(1)$}, aprobado en la última convocatoria del CODI.    Dicha prorroga se solicita hasta que se realice la admisión de la próxima Co'}\n",
      "{'id': 69, 'body_short': 'I know German Alberto Hernandez Herrerra since he was my student in several undergraduate courses, such as, Mathematical Physics,  Introduction to Particle Physics, and Relativistic Quantum Mechanics. In addition he has took additional courses offered by our Group in Quantum Field Theory and  Supers'}\n",
      "{'id': 70, 'body_short': 'Entrego certificado de asistencia al \\\\textsl{International Meeting on Lepton Properties\\r\\nand the Cosmological Origin of Matter} realizado  del 3 al 6 de diciembre  de 2007, en el  Recinto Quirama, Rionegro. '}\n",
      "{'id': 71, 'body_short': 'Tenemos el placer de invitar al Profesor Daniel Gómez Dumm a una visita a nuestro grupo de Investigación en el Instituto de Física de la Universidad de Antioquia, del  31 de marzo al 9 de abril del presente año. Dentro del marco de esta visita esperamos continuar con trabajos de investigación que he'}\n",
      "{'id': 72, 'body_short': 'Conozco a Andrés Felipe Rivera Romero desde que fue mi estudiante en varias asignaturas de pregrado, tales como física matemática y mecánica cuántica relativista.\\r\\nAdemás ha tomado varias asignaturas ofrecidas por nuestro grupo en Mecánica cuántica relativista. \\r\\n\\r\\nActualmente el está desarrollando '}\n",
      "{'id': 73, 'body_short': 'Los gastos de viaje y estancia para la pasantía  al Grupo de Profesor Jose W. Furtado Valle del IFIC\\r\\nCSIC-Universidad de Valencia, que se realizará a finales del mese de\\r\\njulio, estarán cubiertos por el proyecto de COLCIENCIAS,\\r\\n\\r\\nTítulo: Reconstrucción de matrices de masa de neutrinos en acelerado'}\n",
      "{'id': 74, 'body_short': 'El trabajo de Grado \\\\textsl{Métodos de integración numérica en Física} del estudiante Carlos Andrés Vera Ciro, después de una moderna formulación del formalismo de la Mecánica Clásica, considera los métodos de integración numérica para sistemas Hamiltonianos. En particular, con interés en la integra'}\n",
      "{'id': 75, 'body_short': 'Le solicito muy comedidamente me autorice a ausentarme del Instituto de Física del 7 de al 14 de septiembre  de 2008,  para visitar  el Instituto de Física de la Universidad de Sao Paulo y adelantar proyectos en marcha sobre simulaciones de señales supersimétricas en el LHC.  Como resultado de la vi'}\n",
      "{'id': 76, 'body_short': 'Adjunto el proyecto de Dedicación Exclusiva para el presente año, titulado ``Fenomenología del Modelo Estándar y más allá\". \\r\\n\\r\\n'}\n",
      "{'id': 77, 'body_short': 'Entrego el informe final del proyecto de Dedicación Exclusiva ``Lagrangiano Bosónico del Modelo Estándar\", Resolución Rectoral 24542.  Se adjunta\\r\\n\\\\begin{itemize}\\r\\n\\\\item Versión web del Capítulo II\\r\\n\\\\item Versión completa en LaTeX (cinco capítulos)\\r\\n\\\\item Versión web del Apéndice.\\r\\n\\\\item Poster del '}\n",
      "{'id': 78, 'body_short': 'Solicito la evaluación del Trabajo de Grado de Juan Alberto Yepes ``Masas de Majorana para neutrinos en el MSSM con violación de R-paridad y límites en acoples $\\\\lambda$, $\\\\lambda\\'$ a 1 y 2 loops\", con miras a una posible Mención Especial. \\r\\n\\r\\n'}\n",
      "{'id': 79, 'body_short': 'Todas las actividades que viene realizando el profesor Enrico Nardi en el exterior, están relacionadas con el proyecto de investigación de Colciencias \\\\textsl{Flavor Effects in Leptogenesis and Neutino Physics}, código 1115-333-18739, del cual es investigador principal.'}\n",
      "{'id': 80, 'body_short': 'Es para mi un placer recomendar a Néstor  Cifuentes  Taborda para su programa de Doctorado\\r\\n\\r\\nConocí a Néstor como el director de su trabajo de grado que fue terminado a mediados del 2006. Durante ese tiempo me ha sorprendido el empeño y constancia que ha mostrado para adquirir los conocimientos teó'}\n",
      "{'id': 81, 'body_short': 'Es para mi un placer recomendar a Néstor  Cifuentes  Taborda para su programa de Doctorado\\r\\n\\r\\nConocí a Néstor como el director de su trabajo de grado que fue terminado a mediados del 2006. Durante ese tiempo me ha sorprendido el empeño y constancia que ha mostrado para adquirir los conocimientos teó'}\n",
      "{'id': 82, 'body_short': 'I am sending the board cards from my visit to your institute from September 7th to 14th. Thanks  again for the kind invitation from your group and for the fruitfully enviroment \\r\\n\\r\\n'}\n",
      "{'id': 83, 'body_short': 'Solicito el envío de la correspondencia adjunta al Departamento de Física Matemática de la Universidad de Sao Paulo a la Dirección: \\r\\n\\r\\nProfessor\\\\\\\\\\r\\nOscar J P Éboli\\\\\\\\\\r\\nDepartamento de Física Matemática\\\\\\\\\\r\\nInstituto de Física\\\\\\\\\\r\\nUniversidade de São Paulo\\\\\\\\\\r\\nC.P. 66318\\\\\\\\\\r\\n05315-970, São Paulo, Brazil\\\\'}\n",
      "{'id': 84, 'body_short': 'Adjunto el certificado de la estancia que he realizado en el Departameno de Física Matemática del Instituto de Física de la Universidad de Sao Paulo con el Grupo del Profesor Oscar Eboli, entre el 7 al 14 de septiembre de 2008. \\r\\n\\r\\nDurante esa estancia hemos adelantado trabajos relacionados con el p'}\n",
      "{'id': 85, 'body_short': 'I know Mauricio Velásquez since he was my student in several undergraduate courses, such as, mathematical physics, and\\r\\nIntroduction to Particle Physics. In addition, as a postgraduate student he has took additional courses in Quantum Field Theory, Standard Model, Supersymmetry (MSSM) anc omputation'}\n",
      "{'id': 86, 'body_short': 'Conozco a Jhovanny Mejia Guisao desde que fue mi estudiante en varias asignaturas de pregrado, tales como física matemática,  introducción a la física de particulas,  mecánica cuántica relativista, además de seminarios en tópicos del Modelo Estándar y Supersimetría.  En el trabajo realizado destaca '}\n",
      "{'id': 87, 'body_short': 'Le solicito muy comedidamente una comisión de estudios breve del 1 al 15 de diciembre  de 2008,  para visitar  el Instituto de Física Corpuscular CSIC-Universidad de Valencia hasta el 25 de diciembre. Esta visita  es para desarrollar trabajos de investigación  enmarcados dentro de los compromisos de'}\n",
      "{'id': 88, 'body_short': 'Adjunto el certificado de la estancia que he realizado en el Instituto de Física Curpuscular CSIC-Universidad de Valencia con el Grupo del Profesor Jose Valle, entre el 1 al 25 de diciembre de 2008.  También el certificado de Participación en el evento  \"Signaling the Arrival of the LHC Era\" realiza'}\n",
      "{'id': 89, 'body_short': \"Recommendation letter for Omar Alberto Rold\\\\'an Garc\\\\'\\\\i a.\\r\\n\\r\\nI know Omar  since he was my student in an undergraduate course  in Relativistic Quantum Mechanics.  During this he was very fluently in several cumbersome calculations, and in the involved physical concepts.  His participation during th\"}\n",
      "{'id': 90, 'body_short': 'Le solicito muy comedidamente una comisión de estudios breve del 15 al 28 de marzo  de 2009,  para participar como Lider de Discusión en la \\\\textsl{5th Cern-Latin American School of High--Energy Physics}, a realizarse en el Recinto de Quirama, en Rionegro.     Es de anotar que  nuestro grupo de inve'}\n",
      "{'id': 91, 'body_short': 'cuerpo'}\n",
      "{'id': 92, 'body_short': 'Solicito encarecidamente acepten la solicitud de fechas para la visita del Jurado internacional para la defensa de la Tesis de Doctorado del estudiante Diego A. Gurierrez que estamos haciendo dentro del último mes a su llegada. \\r\\n\\r\\nDebido a la apretada agenta del profesor Daniel Gómez Dumm  de la Un'}\n",
      "{'id': 93, 'body_short': 'En el marco de la Movilidad de Colciencias correspondiente al contrato 165/07 a ejecutarse hasta el 23 de mayo de 2009, solicito la aprobación de los 2.000.000 millones de pesos, concedidos al Doctorado de Física, para los viáticos del profesor \\r\\n Daniel Gómez Dumm  de la Universidad de la Plata. Su'}\n",
      "{'id': 94, 'body_short': '\\\\textbf{Asunto:} Informe Final proyecto de Colciencias\\r\\n\\r\\n\\\\vspace{1cm}\\r\\n\\r\\nEnvío el Informe Final y el Informe Financiero del proyecto de Colciencias:\\r\\n\\r\\n\\\\bigskip\\r\\n\\r\\n\\\\textsl{Reconstrucción de matrices de masa de neutrinos en aceleradores futuros.}\\r\\n\\r\\nCódigo: 1115-333-18740\\r\\n\\r\\nContrato: CT-181-2006\\r\\n\\r'}\n",
      "{'id': 95, 'body_short': 'Ángela María Barragan reemplazó a Eliana María Chaverra como la Auxiliar del Grupo de Fenomenología de Interacciones Fundamentales de la Universidad de Antioquia a partir del 2008. Debido a una confusión en la administración de los dos proyectos de Colciencias que tenía el grupo, Ángela María Barrag'}\n",
      "{'id': 96, 'body_short': 'Carta de recomendación para Mariano Celada\\r\\n\\r\\n\\\\bigskip\\r\\nConozco a Mariano Celada desde que fue mi estudiante en varias asignaturas de pregrado, tales como física matemática,  introducción a la física de partículas,  mecánica cuántica relativista, además de seminarios en tópicos del Modelo Estándar y'}\n",
      "{'id': 97, 'body_short': 'Carta de recomendación para Mariano Celada\\r\\n\\r\\n\\\\bigskip\\r\\nConozco a Mariano Celada desde que fue mi estudiante en varias asignaturas de pregrado, tales como física matemática,  introducción a la física de partículas,  mecánica cuántica relativista, además de seminarios en tópicos del Modelo Estándar y'}\n",
      "{'id': 98, 'body_short': 'Envío la evaluación del informe técnico del proyecto:\\r\\n\\\\textsl{Apoyo al grupo de altas energías del Departamento de Física de la Universidad de los Andes para ingresar al experimentos CMS del acelerador LHC e iniciar actividades de cooperación científica y técnica con el CERN en el marco del conveni'}\n",
      "{'id': 99, 'body_short': 'Objeto: Solicitud de cambio de rubro del Proyecto \\\\textsl{Computing Yukawa couplings for Up quarks and neutrinos in SU(5) X U(1). }. \\r\\n\\r\\nComo Investigador Principal, solicito un cambio dentro del rubro viajes para financiar la estancia del Profesor Enrico Nardi por 15 días, del 19  al 31 de julio de'}\n",
      "{'id': 100, 'body_short': 'Le solicito muy comedidamente permiso por un día para servir de jurado en la propuesta de Tesis de Doctorado del estudiante de la Universidad Nacional de Colombia, en Bogotá, Javier Alberto Duarte titulada: Construcción de un Modelo $SU(3)_C \\\\times SU(3)_L\\\\times U(1)_X$ con Supersimetría y Mecanismo'}\n",
      "{'id': 101, 'body_short': 'Autorizo a Sara Restrepo Fernández para ir hoy, 6 de agosto de 2009, a la casa de Ana María Gómez'}\n",
      "{'id': 102, 'body_short': '\\\\begin{small}\\r\\nObjeto: Prorroga del Proyecto \\\\textsl{Computing Yukawa couplings for Up quarks and neutrinos in $SU(5) \\\\times U(1)_H$ }. \\r\\n\\r\\nComo Investigador Principal, solicito una prorroga por seis meses, a partir del 17 de septiembre de 2009, para el proyecto de Mediana Cuantía \\\\textsl{Computing '}\n",
      "{'id': 103, 'body_short': 'Entrego el primer informe del proyecto de Dedicación Exclusiva `` Fenomenología del Modelo Estándar y más allá\", Resolución Rectoral 26663.  Se adjunta\\r\\nla versión web de los primeros dos capítulos.\\r\\n'}\n",
      "{'id': 104, 'body_short': 'Solicito muy comedidamente se me conceda una prorroga de un mes para entregar los informes segundo, tercero y final del proyecto de Dedicación Exclusiva `` Fenomenología del Modelo Estándar y más allá\", Resolución Rectoral 26663.\\r\\n\\r\\nAunque el material ya se encuentra desarrollado en su totalidad com'}\n",
      "{'id': 105, 'body_short': 'Autorizo a Sara Restrepo Fernández para ir salir hoy, 29 de septiembre de 2009, a la Unidad Deportiva Norte en Sabaneta\\r\\n\\r\\n '}\n",
      "{'id': 106, 'body_short': 'Entrego el segundo, tercer y el informe final del proyecto de Dedicación Exclusiva `` Fenomenología del Modelo Estándar y más allá\", Resolución Rectoral 26663.  \\r\\n\\r\\nEl 1 de septiembre de 2009, había solicitado una prorroga de un mes para presentar estos informes, la cual me fue aprobada.\\r\\n\\r\\nSe adjun'}\n",
      "{'id': 107, 'body_short': 'Solicito su aval para presentar ante el CODI, el proyecto con cargo al presupuesto de Sostenibilidad 2009-2010 del Grupo de Fenomenología de Interacciones Fundamentales, titulado\\r\\n\\\\textsl{Implicaciones de una simetría $U(1)_H$ en experimentos de rayos cósmicos y de aceleradores}.\\r\\n\\r\\nEn dicho proyect'}\n",
      "{'id': 108, 'body_short': 'Yo, Diego Alejandro Restrepo Quintero, con cédula de ciudadanía 98.554.575 de Envigado, autorizo a la abogada Patricia Arias Muñoz identificada con C.C. 43.085.529 de Medellín para adelantar las diligencias de la visa ante el consulado y reclamar el correspondiente pasaporte. '}\n",
      "{'id': 109, 'body_short': 'Envío la documentación para la solicitud de visa a España. Por favor confirmeme la recepción de la documentación y cualquier inquietud en mi correo electrónico adjunto, o al celular 3147667600.\\r\\n'}\n",
      "{'id': 110, 'body_short': 'Solicito la evaluación del proyecto adjunto \\\\textsl{Implicaciones de una simetría $U(1)_H$ en experimentos de rayos cósmicos y de aceleradores}, versión corregida, con miras a su inscripción en el CODI.  El presupuesto de dicho proyecto corre con cargo al presupuesto de la estrategia de Sostenibilid'}\n",
      "{'id': 111, 'body_short': 'Le solicito muy comedidamente una comisión de estudios breve del 1 al 20 de diciembre  de 2009,  para visitar  el Instituto de Física Corpuscular CSIC-Universidad de Valencia y el Laboratorio Nacional de Frascati hasta finales de diciembre. Esta visita  es para desarrollar trabajos de investigación '}\n",
      "{'id': 112, 'body_short': 'Conozco a Jhovanny Mejia Guisao desde que fue mi estudiante en varias asignaturas de pregrado, tales como física matemática, introducción a la física de particulas, mecánica cuántica relativista, además de seminarios en tópicos del Modelo Estándar y Supersimetría. En el trabajo realizado destaca su '}\n",
      "{'id': 113, 'body_short': 'Conozco a Carolina Arbelaez desde que fue mi estudiante en el curso de introducción a física de partículas de la Universidad de Antioquia. Posteriormente tuve la posibilidad de interactuar con ella cuando estaba haciendo su Trabajo de Gruado bajo la asesoría del profesor Enrico Nardi sobre un modelo'}\n",
      "{'id': 114, 'body_short': 'I know Victor Giraldo since he was my student in several undergraduate courses, such as, Introduction to particle physics, and several seminars. He was also working under my supervision on his bachelor thesis about the calculation of fermion mass matrices in supersimmetric models with flavor symmetr'}\n",
      "{'id': 115, 'body_short': \"Conozco a Carlos Andrés Flórez desde que comenzó a desarrollar su Trabajo de Grado ``Mecanismo de seesaw radiativo para masas de neutrinos''. Él implemento un programa numérico para comparar las predicciones del modelo con los resultados experimentales. En el trabajo realizado destacó por su habilid\"}\n",
      "{'id': 116, 'body_short': \"Solicito comedidamente se me haga una corrección a la puntuación obtenida por la publicación del artículo ``Probing bilinear R-Parity violating supergravity at the LHC''  el día 14 de mayo de 2008 en la revista Journal of High Energy Physics, cuyo ISBN es el 1126-6708 y que aparece en Colciencias co\"}\n",
      "{'id': 117, 'body_short': 'I know to Andres Felipe Rivera since he was my student in several undergraduate courses, such as, mathematical physics, relativistic quantum mechanics, and several seminars given by our Group. He was also working under my supervision on his bachelor thesis about stau decays in the minimal supersymme'}\n",
      "{'id': 118, 'body_short': 'I know José David Ruiz since he was my student in several undergraduate courses, such as, Introduction to particle physics, Introduction to Quantum Field Theory, and several seminars. He is now working under my supervision on his bachelor thesis about the implementation of dark matter models with a '}\n",
      "{'id': 119, 'body_short': 'Solicito el nombramiento de los jurados del Trabajo de Investigación de\\r\\nmaestría del estudiante  Mauricio Velasquez, titulada\\r\\n\\\\textsl{Reconstrucción de las matrices de masa para los neutrinos en un modelo\\r\\nsupersimétrico $SU(5)\\\\times U(1)$}. Se propone a los profesores:\\r\\n\\r\\n\\r\\nWilliam Ponce Gutierre'}\n",
      "{'id': 120, 'body_short': 'Le solicito muy comedidamente permiso por un día para servir de jurado en la propuesta de Tesis de Doctorado del estudiante de la Universidad Nacional de Colombia, en Bogotá, Carlos Alberto Gómez titulada: Factores de forma electromagnéticos para neutrinos de Majorana y de Dirac.  Dicha actividad se'}\n",
      "{'id': 121, 'body_short': 'I know to Carlos Florez since three years ago. He was working under my supervision on his bachelor thesis  about the calculation of neutrino masses and mixings in the radiative seesaw model. Since then he has been working on his master thesis under my supervision about supersymmetric models with R-p'}\n",
      "{'id': 122, 'body_short': 'Mauricio Velásquez López ha defendido y aprobado el Trabajo de Investigación (como requesito para optar al título de Maestría en Física) bajo mi dirección. Para graduarse sólo tiene pendiente enviar a publicación el artículo que estamos finalizando al respecto de dicho trabajo.'}\n",
      "{'id': 123, 'body_short': 'I know Richard Benavides since he started his Master studies in our University. I have interacted with him in several seminars, schools and workshops. From there I have seen his fast evolution as a physicist, applying his acquired knowledge to solve the problems of his thesis. During the talks that '}\n",
      "{'id': 124, 'body_short': 'Después de averiguar la disponibilidad horaria, solicito muy comedidamente que se nos permita usar el aula de computadores 5-104 los miércoles y viernes de 14-16 desde la fecha y hasta el 10 septiembre para impartir el curso del posgrado de Física de Programación Científica.'}\n",
      "{'id': 125, 'body_short': 'Solicito su aval para presentar ante Fundación para la Promoción de la Investigación y la Tecnología del Banco de la Repúbluca, el proyecto  del Grupo de Fenomenología de Interacciones Fundamentales, titulado\\r\\n\\\\textsl{Estudio computacional de la densidad de reliquia de materia oscura en el modelo se'}\n",
      "{'id': 126, 'body_short': \"Solicito su aval para presentar ante el\\r\\nfondo para la organización de eventos nacionales e internacionales de la Vicerrectoría de Investigación, la solicitud de financiamiento del evento:   ``Workshop on physics and technology at CERN'' a realizarse en Bogotá del 20 al 22 de octubre de 2010.\"}\n",
      "{'id': 127, 'body_short': \"Solicitó muy comedidamente 600,000 pesos para ayudar a financiar los jurados de la  Tesis de doctorado del estudiante Oscar Zapata Noreña, titulada: ``Indirect and collider detection of Dark Matter models'' a realizarse el jueves 4 de noviembre de 2010.\\r\\n\\r\\nEl jurado propuesto es:\\r\\n\\\\begin{itemize}\\r\\n\\\\\"}\n",
      "{'id': 128, 'body_short': 'Con el fin de adelantar algunos análisis teóricos tendientes a estudios de fenomenología de partículas elementales, específicamente en el tema búsqueda del Bosón de Higgs Cargado, nos permitimos invitarle a trabajar con nuestro grupo de investigación en el Instituto de Física de la universidad de An'}\n",
      "{'id': 129, 'body_short': 'I know Juan Camilo Macias Ramirez since he was my student in several undergraduate courses, such as  Introduction to Particle Physics, and several seminars. In addition he has took additional courses offered by our Group in Quantum Field Theory.\\r\\n\\r\\nCurrently he is working under my supervision on his'}\n",
      "{'id': 130, 'body_short': 'Le solicito muy comedidamente una comisión de estudios breve del 19 al 22 de octubre de 2010,  para participar en el evento \"Workshop on Physiscs and Technology at CERN\", como coorganizador y ponente. \\r\\n\\r\\nEl evento se realizará en la Hemeroteca Nacional en Bogotá y esta siendo organizado conjuntamen'}\n",
      "{'id': 131, 'body_short': \"Solicito el aval para que en caso de ser aceptada la solicitud de movilidad ante Colciencias para asistir al ``VIII Latinamerican Symposium on High Energy Physics'', 6-12 de diciembre, Valparaiso-Chile, me sea concedida   una comisión de estudios breve.\\r\\n\\r\\nPara esas fechas ya espero haber terminado \"}\n",
      "{'id': 132, 'body_short': \"A nombre del comité organizador  del ``Workshop on Physics and Technology at CERN'' , me permito informar que el estudiante Anyeres N. Atehortúa Jiménez  ha sido aceptado al evento, el cual se llevará a cabo en la ciudad de Bogotá entre el 20 y el 23 de octubre del presente año, y en el cuál present\"}\n",
      "{'id': 133, 'body_short': 'Tenemos el placer de invitarlo a una visita a nuestro grupo de Investigación  del 16 al 20 de mayo del presente año. Dentro del marco de esta visita esperamos continuar con trabajos de investigación que hemos venido desarrollando sobre  fenomenología de partículas elementales, específicamente en el '}\n",
      "{'id': 134, 'body_short': ''}\n",
      "{'id': 135, 'body_short': 'I have known José David Ruiz since he was my student in several undergraduate courses, such as, Introduction to particle physics, Introduction to Quantum Field Theory, and several seminars.  He also did his bachelor thesis under my supervision about the implementation of dark matter models with a $Z'}\n",
      "{'id': 136, 'body_short': 'I know Alvaro Ochoa Calle since he was my student in several undergraduate courses, such as  Introduction to Particle Physics, Quantum Field Theory, and several seminars. \\r\\n\\r\\nFrom the beginning I was impressed with his ability to understand involved concepts about particle physics. He has been very '}\n",
      "{'id': 137, 'body_short': 'I know Carlos Florez since three years ago. He was working under my supervision on his bachelor thesis about the calculation of neutrino masses and mixings in the radiative seesaw model. Since then he has been working on his master thesis under my supervision about supersymmetric models with R-parit'}\n",
      "{'id': 138, 'body_short': '\\\\textbf{Ref:} Proyecto de Dedicación Exclusiva\\r\\n\\r\\n\\\\vspace{1cm}\\r\\n\\r\\nSolicito muy comedidamente que sea considerado el Proyecto de Dedicación exclusiva adjunto como Coordinador del Grupo de Fenomenología de Interacciones Fundamentes, GFIF, Grupo A en la actual clasificación de Colciencias y como invest'}\n",
      "{'id': 139, 'body_short': 'El profesor Jairo Alexis Rodríguez López ha visitado el Instituto de Física de la Universidad de Antioquia del 16 al 29 de noviembre de 2013. Durante su visita al Grupo de Fenomenología de Interacciones Fundamentales, hemos estado trabajando en un proyecto conjunto en marcha sobre fenomenología del '}\n",
      "{'id': 140, 'body_short': 'Herberth Jesús Cárdenas Ramirez ha visitado el Instituto de Física de la Universidad de Antioquia del 4 al 6 de noviembre de 2010. Durante su visita al Grupo de Fenomenología de Interacciones Fundamentales de dicho Instituto, hemos estado trabajando en un proyecto conjunto en marcha sobre fenomenolo'}\n",
      "{'id': 141, 'body_short': 'Es para mi un placer recomendar a Mauricio de Jesús Velásquez para la Beca Mazda.\\r\\n\\r\\nConozco a Mauricio Velásquez desde que fue mi estudiante en varios cursos de pregrado como física matemática, e introducción a física de partículas. También fui su asesor en su Trabajo de Grado en el 2006 sobre feno'}\n",
      "{'id': 142, 'body_short': 'Entrego certificado de asistencia al \\\\textsl{Workshop on Physics and Technology at CERN} realizado  del 20 al 22 de octubre  de 2010, en la Hemeroteca Nacional de Bogotá, y del cual fui uno de los organizadores. \\r\\n\\r\\nAsí mismo entrego el certificado de la charla impartida durante el evento. '}\n",
      "{'id': 143, 'body_short': 'Le solicito muy comedidamente una comisión de estudios breve del 16 al 19 de noviembre de 2010,  para visitar el grupo de investigación del profesor Alexis Rodriguez con el fin de:\\r\\n\\r\\n\\\\begin{itemize}\\r\\n\\\\item Continuar con nuestra colaboración en lo que se refiere a la fenomenología del bosón de Higgs'}\n",
      "{'id': 144, 'body_short': \"Solicito la bonificación por concepto de dirección de la Tesis Doctoral del estudiante Oscar Alberto Zapata Noreña titulada ``Indirect and Colliders Signals of Dark Matter Models'', la cual fue defendida y aprobada el 4 de noviembre de 2010. \"}\n",
      "{'id': 145, 'body_short': 'Después de revisar la Tesis de Maestría del estudiante Oscar Macias, considero que no hay correcciones que requieran ser implementadas en el texto. Por consiguiente, recomiendo que el estudiante pueda proceder con la defensa de su tesis.'}\n",
      "{'id': 146, 'body_short': 'Solicito muy comedidamente el ascenso a la categoría de Profesor Asociado pues considero que cumplo los requisitos requeridos. He sido profesor asistente desde el 12 de diciembre de 2005.\\r\\n\\r\\nComo trabajo realizado durante el tiempo que he estado como profesor asistente presento el artículo:\\r\\n\\r\\nD.~Ar'}\n",
      "{'id': 147, 'body_short': 'Entrego certificado de asistencia de la visita al grupo de investigación del profesor Alexis Rodriguez de la Universidad Nacional, sede Bogotá, \\r\\ndel 16 al 19 de noviembre de 2010.'}\n",
      "{'id': 148, 'body_short': 'Oscar Zapata asked me to write a letter of recommendation on his behalf, and I am very glad to do this.\\r\\n\\r\\nI know Oscar since he did his bachelor thesis under my supervision about discrete gauge symmetries in Supersymmetry. He finished his doctoral thesis in November of 2010 under my supervision. Cu'}\n",
      "{'id': 149, 'body_short': 'I know Omar Andrés Zapata from 5 years ago, when he started to work as the system manager of the research group led by me on Phenomenology of Fundamental Interactions (GFIF) \\\\textt{http://gfif.udea.edu.co}. Since then, his participation in the research activities of the Group has been increasing. \\r\\n'}\n",
      "{'id': 150, 'body_short': 'I know Victor Giraldo since he was my student in several undergraduate courses, such as, Introduction to particle physics, and several seminars. He was also working under my supervision on his bachelor thesis about the calculation of fermion mass matrices in supersimmetric models with flavor symmetr'}\n",
      "{'id': 151, 'body_short': '  I know Mauricio Velásquez since he was my student in several undergraduate courses, such as, mathematical physics, and Introduction to Particle Physics, Cosmology and early Universe. In addition, as a postgraduate student he has took additional courses in Quantum Field Theory, Standard Model and S'}\n",
      "{'id': 152, 'body_short': '\\r\\n  I know Carlos Florez since he was my student in several undergraduate course like mathematical physics, and introduction to particle physics. I was the adviser of his bachelor thesis about neutrino masses and mixing in the radiative seesaw model. Because of the quality of this thesis, it got an '}\n",
      "{'id': 153, 'body_short': 'Le solicito muy comedidamente una comisión de estudios corta entre los días: 20 a 24 de marzo de 2010, en la la Universidad Nacional de Colombia, sede Bogotá, para continuar con la colaboración científica que he vendido manteniendo con el Profesor Jairo Alexis Rodriguez.\\r\\n\\r\\nLe ruego disculpe la prem'}\n",
      "{'id': 154, 'body_short': 'Hago entrega del proyecto de Mediana Cuntía para la convocatoria del 2011 \\\\textsl{Fenomenología de modelos con violación de número leptónico} del cual soy investigador principal, y en la cual participa el Profesor William Ponce como coinvestigador.'}\n",
      "{'id': 155, 'body_short': 'Hago entrega del proyecto de Mediana Cuantía para la convocatoria del 2011 \\\\textsl{Implementación y evaluación de un modelo pegagógico 1:1 en el municipio de Itagüi} del cual soy coinvestigador (5 horas de dedicación) y en la cual participa el Profesor Alexander Jímenez del  Grupo de Educación en Ci'}\n",
      "{'id': 156, 'body_short': 'Tenemos el placer de invitarlo a una visita a nuestro grupo de Investigación en el Instituto de Física de la Universidad de Antioquia, del\\r\\n% 15 al 26 de octubre \\r\\n4 al 19 de agosto\\r\\ndel presente año.\\r\\n Dentro del marco de esta visita esperamos continuar con nuestro trabajo en modelos de Lee-Wick y '}\n",
      "{'id': 157, 'body_short': 'He acogido las observaciones de uno de los evaluadores: \\r\\n\\\\begin{itemize}\\r\\n\\\\item Para que el proyecto no sea tan general se ha quitado la parte no supersimétrica asociada al seesaw radiativo y lo concerniente a detección directa de materia oscura, de manera que el problema sea más específico. Con es'}\n",
      "{'id': 158, 'body_short': 'I have known Sebastián Duque since he was my student in an advanced course in scientific computing with python. Yet the course was targeted to more advanced students, Sebastian was selected for his excellent background in programming. He worked in my research group helping us with the port of our co'}\n",
      "{'id': 159, 'body_short': 'Le solicito licencia por un día para adelantar trámites personales en  Bogotá el día viernes 15 de mayo de 2015.\\r\\n\\r\\n\\r\\n\\r\\n'}\n",
      "{'id': 160, 'body_short': 'I have known John David Gómez since 2009 when he was my student in courses on Relativistic Quantum Mechanics, and Supersymmetry. Additionally, we participated in a course of Leptogenesis given by Prof. Enrico Nardi in our Institute. From almost two years he participated in our Group supported with t'}\n",
      "{'id': 161, 'body_short': 'Le solicito muy comedidamente una comisión de estudios breve del 19 al 23 de mayo de 2011,  para asistir a  \\\\textsl{III Uniandes Particle Physics School - Dark Matter}, \\\\url{http://fisindico.uniandes.edu.co/indico/conferenceDisplay.py?confId=64} y presentar la charla magistral \\\\textsl{Modelos de mat'}\n",
      "{'id': 162, 'body_short': 'Entrego certificado de asistencia al \\\\textsl{Beyond the Standard Model: Results with the 7 TeV LHC Collision Data} realizado  del 18 al 23 de septiembre  de 2011, en el ICTP, Trieste, Italia.\\r\\n\\r\\nAsí mismo entrego copia de la programación del evento, disponible en\\\\\\\\ \\\\url{http://cdsagenda5.ictp.triest'}\n",
      "{'id': 163, 'body_short': 'Le solicito muy comedidamente una comisión de estudios breve del 3 al 7 de octubre de 2011,  para participar en el \\\\textsl{XXIV Congreso Colombiano de Física}, \\r\\n\\r\\n\\\\url{http://www.ciencias.unal.edu.co/xxivcongresonacionaldefisica/} \\r\\n\\r\\nAllí presentaré la charla plenaria \\\\textsl{La era de los detectr'}\n",
      "{'id': 164, 'body_short': 'Hago entrega del proyecto para la convocatoria de Colciencias: \\\\textsl{Conformación de banco de proyectos para estimular la creación de vínculos colaborativos en el campo de la ciencia, la tecnología y la innovación entre la diáspora científica colombiana y los actores del sistema nacional de cienci'}\n",
      "{'id': 165, 'body_short': 'Solicito muy comedidamente se aprueba una contrapartida de \\\\$14,000,000  sobre el monto solicitado a COLCIENCIAS de \\\\$150,000,000 en caso de ser aprobado el proyecto  \\\\textsl{Implicaciones de modelos de materia oscura y masas de neutrinos en las fronteras de física de partículas y cosmología}, prese'}\n",
      "{'id': 166, 'body_short': 'Hago entrega del proyecto: \\\\textsl{Implicaciones de modelos de materia oscura y de masas de neutrinos en las fronteras de la física de partículas y la cosmología.} para la convocatoria de Colciencias: \\\\textsl{Conformación de banco de proyectos para estimular la creación de vínculos colaborativos en '}\n",
      "{'id': 167, 'body_short': 'Le solicito muy comedidamente una comisión de estudios breve del 21 a la mañana del 23 noviembre para aside 2011,  para participar en el \\\\textsl{XXIV Congreso Colombiano de Física}, \\r\\n\\r\\n\\\\url{http://www.ciencias.unal.edu.co/xxivcongresonacionaldefisica/} \\r\\n\\r\\nAllí presentaré la charla plenaria \\\\textsl'}\n",
      "{'id': 168, 'body_short': 'Solicito muy comedidamente me sea reconocido el día compensatorio por haber sido jurado de votación y el medio día por haber ejercido mi derecho al voto en las pasadas elecciones del 30 de octubre de 2011, para el día 22 y la mañana del 23 de noviembre.\\r\\n\\r\\n'}\n",
      "{'id': 169, 'body_short': 'Le solicito permiso por un día para asistir al curso de uso de infraestructuras Clúster y Grid para proyectos de e-ciencia, a realizarse del 21 de noviembre hasta el medio día del 23 de noviembre de 2011 en la Universidad de Medellín. Para él otro día y medio he solicitado los días compensatorios de'}\n",
      "{'id': 170, 'body_short': '\\nI have known José David Ruíz since 2009 when he was my student in several undergraduate courses,\\nsuch as, Introduction to particle physics, Introduction to Quantum Field Theory, and several seminars.\\nHe also did his bachelor thesis under my supervision about the implementation of dark matter models'}\n",
      "{'id': 171, 'body_short': '\\\\def\\\\nombre{\\n%1 Elaine Forte\\n%2 Farinaldo Queiroz\\n%3 Celso Nishi\\n%4 Hiroshi Nunokawa\\n%5 you, Dr. Restrepo, %Tulio Eduardo \\n%6 \\nyou, %Leonardo Leite \\n}\\n\\\\def\\\\instituto{\\n%1. Insituto de Física Teórica\\\\\\\\ UNESP\\n%2. International Institute of Physics\\\\\\\\ Universidade Federal do Rio Grande do Norte\\n%3. Unive'}\n",
      "{'id': 172, 'body_short': 'Solicito la cesión de la hipoteca a favor de Bancolombia, según escritura 3307, del 25-11-2011 de la Notaría 3 de Medellín, del apartamento situado en la Crr 53 No 73s-40 int 2510 al Fondo de Bienestar Universitario de la Universidad de Antioquia. Manifiesto pleno conocimiento y aceptación de la ces'}\n",
      "{'id': 173, 'body_short': 'Autorizo a la estudiante Carmenza Jaramillo López con identificación No 43010784, a matricular el Curso de Mecánica a mi cargo'}\n",
      "{'id': 174, 'body_short': 'Entrego certificado de la pasantía realiaza en la Universidad Nacional sede Bogotá del 20 al 24 de marzo de 2012'}\n",
      "{'id': 175, 'body_short': 'Solicito muy comedidamente se aprueba una contrapartida de \\\\$14,275,000  sobre el monto solicitado a COLCIENCIAS de \\\\$340,726,155 en caso de ser aprobado el proyecto  \\\\textsl{Implicaciones de modelos supersimétricos con violación de paridad R en las fronteras de física de partículas y cosmología}, p'}\n",
      "{'id': 176, 'body_short': 'Solicito el aval al proyecto: \\\\textsl{Implicaciones de modelos supersimétricos con violación de paridad R en las fronteras de física de partículas y cosmología} para la \\\\textsl{Convocatoria Nacional para la Conformación de un Banco de Proyectos Elegibles de CTeI Año 2012} de Colciencias del cual soy'}\n",
      "{'id': 177, 'body_short': 'Solicito que el Doctor Carlos Yaguna sea coasesor del Trabajo de Investigación de Maestría del estudiante José David Ruíz.\\r\\n\\r\\nEl ha venido trabajando con José David en todas las fases del artículo que se encuentra en preparación sobre Materia Oscura, el cual será la base del Trabajo de Investigación'}\n",
      "{'id': 178, 'body_short': 'Asunto: Certificación de originalidad del proyecto\\r\\n\\\\bigspace\\r\\nEn mi calidad de investigador principal del proyecto titulado \\\\textsl{Implicaciones de\\r\\nmodelos supersimétricos con violación de paridad R en las fronteras de\\r\\nfísica de partículas y cosmología}, registrado en el Sistema Integral de Gest'}\n",
      "{'id': 179, 'body_short': 'Le solicito muy comedidamente una comisión de estudios breve desde la tarde del 5 junio al 8 de junio de 2012,  para participar en la \\\\textsl{2a Escuela de Física de Partículas, Física del Boson de Higgs},  \\r\\n\\r\\n\\\\url{http://escueladeparticulas.uniandes.edu.co/} \\r\\n\\r\\nAllí presentaré la charla plenaria '}\n",
      "{'id': 180, 'body_short': \"Presento el Trabajo de Investigación de Maestría ``Un modelo autoconsistente de ruptura de paridad R y violación de número bariónico'' del estudiante Carlos Andrés Florez.\\r\\n\\r\\nSe Sugiere como revisor interno al profesor Jesús Mira y como revisor externo al profesor del ITM Diego Gutierrez.\\r\\n\\r\\nSolicit\"}\n",
      "{'id': 181, 'body_short': 'Omar Andres Zapata Mesa tiene un contrato por 18 meses como auxiliar de computo del proyecto de Mediana Cuantía E01614 \\\\textsl{Fenomenología de modelos con violación de número leptónico} adscrito al CIEN y del cual soy investigador principal. Dicho contrato se inicio en febrero de 2012.\\r\\n\\r\\n'}\n",
      "{'id': 182, 'body_short': 'Eduard Bautista con identificación No 1093738497 tiene programado un supletorio del segundo examen parcial del curso de Mecánica, el día 6 de agosto de 2012.'}\n",
      "{'id': 183, 'body_short': 'Solicito permiso por un día el martes 28 de agosto para participar como ponente en un Coloquio sobre el descubrimiento del Higgs en la Universidad Nacional en Bogotá.\\r\\n\\r\\nAdjunto carta de invitación'}\n",
      "{'id': 184, 'body_short': \"I know Alvaro de Jes\\\\'us Ramirez Ortiz since he was my student in the undergraduate course: Introduction to Particle Physics.\\r\\n\\r\\nFrom the beginning I was impressed with his ability to understand involved concepts about particle physics. He has been very reliable when performing several cumbersome ca\"}\n",
      "{'id': 185, 'body_short': 'Farinaldo Queiroz asked me to write a letter of recommendation on his behalf, and I am very glad to do this.\\r\\n\\r\\nI have been collaborating with Farinaldo from a year ago in extensions of the standard model with a discrete symmetry which ensures the stability of the lightest odd particle, in order to '}\n",
      "{'id': 186, 'body_short': '\\\\textbf{Asunto:} Informe final Joven Investigador para la estudiante Dilia Maria Portillo Quintero\\r\\n\\r\\n\\\\bigskip\\r\\n\\r\\nDurante el período como Joven Investigadora del Grupo de Fenomenología de Interacciones fundamentales Dilia ha trabajado en la línea de divulgación científica en el área de la física de '}\n",
      "{'id': 187, 'body_short': 'Hago entrega del Acuerdo de Facultad No. 103 de Septiembre 26 de 2012 por medio del cual se modifica el plan de estudios de la Maestría en Física, sin alterar el número de créditos y de acuerdo al plan de mejoramientos con miras a la acreditación del programa ante el Ministerio de Educación Nacional'}\n",
      "{'id': 188, 'body_short': 'Solicito permiso por un día el lunes 17 de junio para participar como jurado en la sustentación de la Tesis de Maestría del estudiante José Manuel Quimbayo García de la Universidad Nacional de Colombia  en Bogotá.\\r\\n\\r\\nAdjunto la documentación de soporte'}\n",
      "{'id': 189, 'body_short': 'Tenemos el placer de invitarlo a una visita a nuestro grupo de Investigación  del 10 al 14 de diciembre  del presente año, para  continuar con los trabajos de investigación que hemos venido desarrollando sobre extensiones gauge del modelo estándar, específicamente en el contexto de modelos 331.\\r\\n'}\n",
      "{'id': 190, 'body_short': 'Le solicito muy comedidamente una comisión de servicios del 10 al 14 de diciembre de 2012,  para participar en la \\\\textsl{IX Latin American Symposium on High Energy Physics} la cual se realizará en Sao Paulo, Brasil: \\\\url{http://www.ictp-saifr.org/?page_id=1080} \\r\\n\\r\\nAllí presentaré la charla \\\\textsl'}\n",
      "{'id': 191, 'body_short': 'Alexis Rodriguez asked me to write a letter of recommendation on his behalf, and I am very glad to do this.\\r\\n\\r\\nI have been collaborating with Alexis from two ago in extensions of the standard model with a additional Higgs doublets, in order to implement constraint from flavor physics. In our first p'}\n",
      "{'id': 192, 'body_short': 'I have known Camilo Andres Salazar Gonzalez since he was my student in one elective undergraduate course on Introduction to Quantum Field Theory. From then he have been working in my research group helping us with the port of our codes for dark matter and collider physics to Python. Meanwhile, I hav'}\n",
      "{'id': 193, 'body_short': 'I know Guillermo Palacio when he started to participate in the Journal Club organized by my research Group in a weekly basis, three years ago. He  finished his Master Thesis in the Medellin Campus of Universidad Nacional, under the supervision of Prof. Luis Alberto Sanchez about phenomenology of 341'}\n",
      "{'id': 194, 'body_short': 'Conozco a Omar Andrés Zapata desde hace cinco años cuando comenzó a trabajar como el administrador de sistema del Grupo de Investigación de Fenomenología de Interacciones Fundamentales del cual soy actualmente su coordinador. Desde entonces, las actividades de investigación de Omar siempre se han id'}\n",
      "{'id': 195, 'body_short': 'Después de revisar el programa Física I de la Universidad de Medellín impartido a ingenierías, puedo afirmar que su contenido es homologable por el del curso de Mecánica del Instituto de Física. \\r\\n\\r\\nAsí mismo informo que después de revisara el programa de Física Mecánica de la Universidad Nacional d'}\n",
      "{'id': 196, 'body_short': 'Solicito comedidamente permiso por un día para realizar trámites personales fuera de la ciudad el jueves 25 de septiembre.\\r\\n\\r\\n'}\n",
      "{'id': 197, 'body_short': 'Informo que he perdido el Certificado correspondiente al CDT que tengo con ustedes con código: CDAT No. 01-014-000-000-018-080.\\r\\n\\r\\nDiculpen los incovenientes causados.\\r\\n'}\n",
      "{'id': 198, 'body_short': 'Solicito permiso por un día el 18 de abril de 2013 para presentar \\r\\nla candidatura de Medellín como sede del \\r\\n\\\\textsl{X atin American Symposium on High Energy Physics -- SILAFAE}\\r\\na realizarse en Colombia del 24 al 28 de noviembre del 2014. Ese día \\r\\nse hará una reunión del pleno del Comité Organiz'}\n",
      "{'id': 199, 'body_short': 'He evaluado la Tesis de Maestría del estidiante Guillermo Palacio y considero que está ya puede ser defendidad. He hecho algunas correcciones menores de tipo ortográifico y de estilo que ya he hecho llegar directamente al estudiante.'}\n",
      "{'id': 200, 'body_short': 'Sobre el fondo para la compra de equipos robustos que se viene debatiendo, me permito hacer la siguiente propuesta: Se podría contemplar la posibilidad de aceptar proyectos a largo plazo para financiar los costos asociados con pertenecer a una colaboración experimental internacional. Por ejemplo par'}\n",
      "{'id': 201, 'body_short': 'Solicito que se tramite ante la Dirección de Posgrado la ampliación de la fecha de inscripción a los posgrados de Física. \\r\\n\\r\\nLa razón es que el 27 de mayo deben salir los resultados de la convocatoria de proyectos del área de ciencias exactas y naturales y el tiempo hasta el 31 de mayo puede ser in'}\n",
      "{'id': 202, 'body_short': 'El estudiante de posgrado en física, Mauricio Velásquez López identificado con el documento 15329643, y perteneciente al Grupo de Fenomenología de las interacciones fundamentales (GFIF) del Instituto de Física de la Universidad de Antioquia, cursa su último semestre de doctorado realizando su Tesis '}\n",
      "{'id': 203, 'body_short': 'Considero que el contenido del Curso de Física I de la Universidad Eafit puede ser reconocido como el Curso de Mecánica del Instituto. El programa coincide en un 90\\\\% y sólo queda faltando la parte de Fuerzas Centrales y Relatividad Especial '}\n",
      "{'id': 204, 'body_short': 'Hago entrega de los informes parciales y finales de la Dedicación Exclusiva otorgada mediante Resolución Rectoral  3163 del 1 de febrero de 2011. \\r\\n\\r\\nA pesar de terminar el proyecto de investigación sobre el cual está basada la Dedicación Exclusiva sin retrasos, y de entregar a tiempo la correspondi'}\n",
      "{'id': 205, 'body_short': 'Como profesor asociado, y después de cumplir desde hace un par de años con el tiempo estipulado, solicito formalmente se me conceda un año sabático para desarrollar el proyecto adjunto. \\r\\n\\r\\nAnexo además los documentos de soporte correspondientes.\\r\\n\\r\\n'}\n",
      "{'id': 206, 'body_short': \"Hacemos entrega de la Tesis de Doctorado titulada ``Phenomenology of supersymmetric models with\\r\\nanomalous symmetries $U(1)_H$'' del estudiante Mauricio Velasquez López. \\r\\n\\r\\nSugerimos como Jurados al Dr. Diego Aristizabal de la Universidad de Leige en Bélgica, y al Profesor Luis Alfredo Muñoz del IT\"}\n",
      "{'id': 207, 'body_short': 'I have known Dilia Portillo since she was my student in several undergraduate courses, such as, Introduction to particle physics, Introduction to Quantum Field Theory, and several seminars. She also did his bachelor thesis under my supervision about popularization of the Standard Model of elementary'}\n",
      "{'id': 208, 'body_short': \"Propongo al Profesor William Ponce como el tercer jurado Tesis de Doctorado titulada ``Phenomenology of supersymmetric models with\\r\\nanomalous symmetries $U(1)_H$'' del estudiante Mauricio Velasquez López.\\r\\n\\r\\n \"}\n",
      "{'id': 209, 'body_short': 'Dilia Portillo Quintero es la beneficiaria de una beca de maestría asociada al proyecto de Colciencias \\\\textsl{Implicaciones de modelos supersimétricos con violación de paridad R en las fronteras de física de partículas y cosmología}, y del cual soy investigador principal.\\r\\n\\r\\nDicha beca con una dura'}\n",
      "{'id': 210, 'body_short': 'como investigador principal del Proyecto de Colciencias \\r\\n\\\\textsl{Implicaciones de modelos supersimétricos con violación de paridad R en las fronteras de física de partículas y cosmología}, en el rubro de Viajes se ha destinado un monto de \\\\$5,300,000 para la asistencia a un evento en Europa que ser'}\n",
      "{'id': 211, 'body_short': 'Le solicito muy comedidamente una comisión de servicios de corta duración, del 22 al 25 de julio de 2012,  para participar en la \\\\textsl{ First Workshop Colombia-USP/IFSC} la cual se realizará en Sao Carlos, Brasil: \\\\url{http://goo.gl/0jS2t} \\r\\n\\r\\nEl Workshop tiene como objetivo reforzar las relacione'}\n",
      "{'id': 212, 'body_short': 'Justificación de distinción Meritoria a Tesis de Maestría.\\r\\n\\r\\n\\r\\nLa Tesis de Maestría \\\\textsl{Neutrino Phenomenology in a little Higgs model with a gauge symmetry $SU(3)_c\\\\times SU(4)_L\\\\times U(1)_X$} presentada por el estudiante Guillermo Alberto Palacio Cárdenas merece, a juicio del jurado, la dist'}\n",
      "{'id': 213, 'body_short': 'Solicito una comisión de servicios por tres meses: del 23 de\\r\\nagosto al 22 de noviembre, para asistir a la conferencia internacional SUSY 2013 y\\r\\nrealizar visitas a varias instituciones en Europa programadas dentro\\r\\nde los proyectos de investigación en marcha en los cuales me encuentro\\r\\nparticipando'}\n",
      "{'id': 214, 'body_short': 'Ante todo, muchas gracias por considerar mi nombre como candidato al premio de Extensión. \\r\\n\\r\\n\\r\\nA continuación resumo mis actividades asociadadas con actividades de extensión en los últimos años. \\r\\n\\r\\n\\r\\n\\\\begin{itemize}\\r\\n\\\\item He participado activamente en la organización de las dos versiones del Cong'}\n",
      "{'id': 215, 'body_short': 'Como director del trabajo de tesis del estudiante de Doctorado en Física, Mauricio Velásquez López con identificación 15329643, solicito muy comedidamente el levantamiento extemporáneo de la nota del curso de 0306960 Tesis. \\r\\n\\r\\nEl estudiante ha defendido satisfactoriamente su Tesis de Doctorado el d'}\n",
      "{'id': 216, 'body_short': 'Es un placer invitarlo del 16 de Septiembre al 31 de Octubre a visitar nuestro Instituto de Física con el\\r\\nfin de adelantar los trabajos de investigación que actualmente se realizan en el estudio de la\\r\\nfenomenologia de los procesos con violación de sabor leptónico en un modelo con simetria S3.\\r\\n'}\n",
      "{'id': 217, 'body_short': \"Presento el proyecto de tesis de doctorado del estudiante Guillermo Palacio titulado ``Implicaciones de modelos supersimétricos con violación de paridad R en las fronteras de la física de partículas y la cosmología''. Se proponen como evaluadores a los profesores  Luis Alberto Sánchez de la Universi\"}\n",
      "{'id': 218, 'body_short': 'He revisado la última versión de la Tesis de Maestría de la estudiante Sally Valbuena después de que implemento las correcciones sugeridas aclarando las aproximaciones usadas en el cálculo de los estados de masa escalares y los ángulo de mezcla. Considero que la Tesis ya puede ser defendida. He hech'}\n",
      "{'id': 219, 'body_short': 'Como representate de la Universidad de Antioquia ante el comité organizador local del X SILAFAE, lamento informarle que su solicitud para ser miembro de dicho comité  no fue aceptada porque sólo debe existir un representante por institución. Asumo toda la responsabilidad de haberle entregado informa'}\n",
      "{'id': 220, 'body_short': 'Solicito muy comedidamente el préstamo de la bandera de la Universidad para ser exhibida en el auditorio principal del evento: \\\\textsl{XII icfa school on instrumentation in elementary particle physics}\\r\\n\\r\\n\\\\url{http://icfa_school_bogota.uniandes.edu.co}\\r\\n\\r\\na realizarse en Bogotá del 25 de noviembre a'}\n",
      "{'id': 221, 'body_short': 'Informo de mi regreso de la comisión de servicios aprobada por Resolución Rectoral No 37692 de 20 de agosto de 2013, del 23 de agosto al 22 de noviembre de 2013. \\r\\n\\r\\nAdjunto los certificados de estancia respectivos. \\r\\n\\r\\n'}\n",
      "{'id': 222, 'body_short': 'Solicito permiso por un día el jueves 28 de noviembre para participar como jurado del examen de calificación doctoral del estudiante Andrés Fernando Castillo de la Universidad Nacional, Sede Bogotá\\r\\n\\r\\nAdjunto la documentación de soporte'}\n",
      "{'id': 223, 'body_short': 'Hago entrega del Acta de Finalización del proyecto de Mediana Cuantía \\\\textsl{Fenomenología de modelos supersimétricos con ruptura de paridad R y violación de número leptónico.}\\r\\n\\r\\nSe anexan los soportes correspondientes.'}\n",
      "{'id': 224, 'body_short': 'Con respecto a la solicitud de espacios a Ruta N para la realización del evento: \\\\textsl{X Simposio Latinoamerica de Física de Altas Energías} (X SILAFAE) a realizarse en Medellín del 24 al 28 de noviembre de 2014, adjuntamos la siguiente información relacionada con el evento:\\r\\n\\\\begin{itemize}\\r\\n\\\\ite'}\n",
      "{'id': 225, 'body_short': 'Envío el informe técnico y financiero del primer año del proyecto de Colciencias \\\\textsl{Implicaciones de modelos supersimétricos con violación de paridad R en las fronteras de física de partículas y cosmología}, con Código:  111556934918 y número de contrato: 0044-2013, para su firma por el represe'}\n",
      "{'id': 226, 'body_short': 'Dear Prof. Cecire\\r\\n\\r\\n\\r\\nIs is for me a pleasure to invite you to our Phenomenology of Fundamental interactions Group to participate in activities of research  and scientific cooperation from February 26 and 27, 2014. \\r\\n\\r\\nI am glad to inform you that your living expenses in Medellin will be covered by'}\n",
      "{'id': 227, 'body_short': 'Conozco a Marcela Marín desde que fue mi estudiante en varias asignaturas de pregrado, tales como introducción a la física de partículas y mecánica cuántica relativista. \\r\\n\\r\\nRecientemente desarrolló bajo mi supervisión su Trabajo de Grado sobre modelos con violación de paridad R. \\r\\nElla realizó cálc'}\n",
      "{'id': 228, 'body_short': 'Solicito la inclusión del Doctor Federico Ignacio von der Pahlen con cédula de extranjería 475452 en la base de datos de docentes de cátedra. Esto con el fin de contrarlo como docente de cátedra para investigación asociado al proyecto de Colciencias a mi cargo: implicaciones de modelos supersimético'}\n",
      "{'id': 229, 'body_short': 'Solicito un sobreincremento del 200\\\\% en el valor de hora cátedra en categoría 1 para el Doctor Federico Ignacio von der Pahlen con cédula de extranjería 475452, para los semestres 2014-1, 2014-2 y 2015-1. \\r\\n\\r\\nEl doctor Fedérico von der Pahlen ha sido seleccionado como el investigador postdoctoral d'}\n",
      "{'id': 230, 'body_short': 'Solicito un sobreincremento del 200\\\\% en el valor de hora cátedra en categoría 1 para el Doctor Federico Ignacio von der Pahlen con cédula de extranjería 475452, para los semestres 2014-1, 2014-2 y 2015-1. \\n\\nEl doctor Fedérico von der Pahlen ha sido seleccionado como el investigador postdoctoral del'}\n",
      "{'id': 231, 'body_short': 'Solicito dedicación exclusiva como investigador principal del proyecto de investigación de Colciencias: \\\\textsl{Implicaciones de modelos supersimétricos con violación de paridad R en las fronteras de física de partículas y cosmología} que inició en febrero de 2013 y terminará el 14 de febrero de 201'}\n",
      "{'id': 232, 'body_short': 'Solicito su aval para presentar ante el CODI, el proyecto de la convocatoria programática de Ciencias Exactas y Naturales titulado\\r\\n\\\\textsl{Fenomenología de modelos con materia oscura escalar y masas de neutrinos}.\\r\\n\\r\\nEn dicho proyecto se solicito una descarga horaria de 10 horas como investigador p'}\n",
      "{'id': 233, 'body_short': 'Le solicito muy comedidamente un permiso remunerado del 19 al 23 de mayo de 2014,  para asistir a  \\\\textsl{III Uniandes Particle Physics School - Dark Matter}, \\\\url{http://fisindico.uniandes.edu.co/indico/conferenceDisplay.py?confId=64} y presentar la charla magistral \\\\textsl{Modelos de materia oscu'}\n",
      "{'id': 234, 'body_short': 'Avalo la inscripción para la Maestría en Física de la aspirante Sheryl Avendaño en el cupo: Inversión y tomografía sísmica'}\n",
      "{'id': 235, 'body_short': 'Solicito la inclusión del Doctor Enrico Nardi con cédula de extranjería 475452 en la base de datos de docentes de cátedra. Esto con el fin de contrarlo como docente de cátedra para investigación asociado a la Estrategia de Sostenibilidad del Grupo de Fenomenología de Interacciones Fundamentales 2013'}\n",
      "{'id': 236, 'body_short': 'Solicito la excepción de título de pregrado para el Profesor Enrico Nardi  con cédula de extranjeria  279748,  con el fin de contratarlo como profesor de cátedra de investigación para realizar actividades de investigación durante los meses de agosto y septiembre  del 2014, en el marco de la Estrateg'}\n",
      "{'id': 237, 'body_short': 'Solicito la cancelación a partir del 1 de agosto de 2014, del contrato de Federico von der Pahlen con CE 475452, asociado al proyecto de Colciencias \\\\textsl{Implicaciones de modelos supersimétricos con violación de paridad r en las fronteras de física de partículas y cosmología}.\\r\\n\\r\\nEl motivo de la '}\n",
      "{'id': 238, 'body_short': 'We are very glad to invite you to visit and to take part in the investigations of our group at Universidad de Antioquia in Medellin, Colombia, from August 17 through September 6, 2014. \\r\\n\\r\\n\\r\\nAll expenses during his visit will be covered by the invited person. \\r\\n\\r\\nWe look forward to welcome you in Me'}\n",
      "{'id': 239, 'body_short': 'A través de esta comunicación deseo presentarles el proyecto de extensión titulado  X Latin American Symposium on High Energy Physics (X SILAFAE) a celebrarse en la ciudad de Medellín entre el 24 y 28 de noviembre de 2014 (\\\\url{http://gfif.udea.edu.co/xsilafae}). Ver proyecto adjunto para más detall'}\n",
      "{'id': 240, 'body_short': '%Solicito muy comedidamente \\r\\nSolicitamos su aval para tramitar ante la Vicerrectoria de Docencia\\r\\nun apoyo por \\\\$10,000,000 de pesos para el pago de viajes y viáticos de dos de los 23 conferencistas plenarios de la conferencia \"X Latin American Symposium on High Energy Physics\" (X SILAFAE); \\\\url{ht'}\n",
      "{'id': 241, 'body_short': 'Le solicito muy comedidamente una comisión de servicios de corta duración, del 24 al 28  de 2014,  para participar como organizador local en la \\\\textsl{X Latin American Symposium on High Energy Physics (SILAFAE)} la cual se realizará en las instalaciones de Ruta-n: \\\\url{http://gfif.udea.edu.co/xsila'}\n",
      "{'id': 242, 'body_short': 'Ref. Recommendation letter for Jonathan Javier Montes Castro\\r\\n\\r\\nI have known Jonathan since he was my student in two courses. one in scientific computing with python and another in subatomic physics. \\r\\n\\r\\n    He is a very motivated student which imprints passion to everything the he makes, and is sel'}\n",
      "{'id': 243, 'body_short': ''}\n",
      "{'id': 244, 'body_short': \"\\r\\n\\r\\nSolicito muy comedidamente su aval de prorroga por 8 meses para la culminación\\r\\ndel proyecto de Colciencias ``Implicaciones de modelos\\r\\nsupersimétricos con violación de paridad R en las fronteras de física\\r\\nde partículas y cosmología'' contrato No 111556934918 a finalizar el 14 de febrero de 201\"}\n",
      "{'id': 245, 'body_short': 'Ref: Contrato 0044-2013,  con codigo: 111556934918\\r\\n\\\\bigskip\\r\\n\\\\bigskip\\r\\n\\r\\nSolicito muy comedidamente se permita pagar el máximo mensual establecido para el contrato final de 7 meses a partir de marzo de 2015 a la estudiante de Maestría  Dilia Maria Portillo Quintero del proyecto: \\\\textsl{Implicacion'}\n",
      "{'id': 246, 'body_short': 'Dear Organizers\\r\\n\\\\bigskip\\r\\n\\r\\nI know Marta Liliana Sánchez Peláez since I was one of the juries on his Master Thesis Dissertation. In that work about a gauge extension of the standard model based in a gauge group $SU(4)_L$ she studied in detail the structure of the complicated scalar sector including'}\n",
      "{'id': 247, 'body_short': '\\\\textbf{Asunto: Otrosí para corrección de convenio.}\\r\\n\\r\\nSolicito muy comedidamente que se genere un otrosí para modificar la clausula 2.1.6  del \\\\textsl{CONVENIO ESPECIAL DE COOPERACIÓN No. 538-2014 CELEBRADO ENTRE COLCIENCIAS Y LA UNIVERSIDAD DE ANTIOQUIA} con el objeto de aunar esfuerzos para la r'}\n",
      "{'id': 248, 'body_short': 'Le solicito muy comedidamente una comisión de servicio desde el 25 de mayo hasta el 19 de junio del 2015. Durante esta comisión se realizará una pasantía de investigación en el Centro Internacional de Física Teórica (ICTP), ubicado en Trieste-Italia. Esta pasantía la realizaré como beneficiario del '}\n",
      "{'id': 249, 'body_short': 'En nombre de la Universidad de Antioquia y del grupo de fenomenología de interacciones\\r\\nfundamentales, me complace invitarlo para visitar la Universidad para trabajar con el investigador postdoctoral Dr. Eduardo Rojas Peña con el fin de desarrollar un software necesario para su trabajo de maestría. '}\n",
      "{'id': 250, 'body_short': 'I have known Dario Blandón since he was my student in several undergraduate courses, such as introduction to particle physics. He also received a scholarship to work under my supervision in topics of  particle physics related with two Higgs doublet models. His bachelor thesis was about the implement'}\n",
      "{'id': 251, 'body_short': 'Tenemos el placer de invitarla a una visita a nuestro grupo de Investigación en el Instituto de Física de la Universidad de Antioquia, del\\r\\n% 15 al 26 de octubre \\r\\n%10 de julio al 6 de agosto\\r\\n11 al 20 de mayo\\r\\ndel presente año.\\r\\n Dentro del marco de esta visita esperamos continuar con nuestro colab'}\n",
      "{'id': 252, 'body_short': 'Janeth Jaramillo Jiménez estuvo contratada durante los meses de septiembre a diciembre del 2014, tiempo durante el cual se desempeño como comunicadora social del evento: \\\\textsl{X The Latin American Symposium on High Energy Physics}: \\\\url{http://gfif.udea.edu.co/xsilafae}, realizado en las instalaci'}\n",
      "{'id': 253, 'body_short': 'En nombre de la Universidad de Antioquia y del grupo de Fenomenología de Interacciones Fundamentales, me complace invitarlo para visitar la Universidad para trabajar en el desarrollo de  un software para calcular observables de mesones vectoriales sin sabor, con el investigador postdoctoral del Grup'}\n",
      "{'id': 254, 'body_short': 'I have known Amalia Betancur since she started her doctoral studies working under my  co-supervision in scotogenic models. She was selected between several candidates as the recipient of a full-time scholarship by Colciencias, the colombia.  There, she have been taking the advanced courses in quantu'}\n",
      "{'id': 255, 'body_short': 'I have known Sally Valbuena as a professor and as a master thesis jury member.\\r\\n\\r\\nI have taught her the course of subatomic physics which cover classical field theory until the formulation of the standard model Lagrangian and also the course of introduction to quantum field theory.\\r\\n\\r\\nShe is  very p'}\n",
      "{'id': 256, 'body_short': \"Envío el informe final \\r\\ndel proyecto de Colciencias ``Implicaciones de modelos\\r\\nsupersimétricos con violación de paridad R en las fronteras de física\\r\\nde partículas y cosmología'' contrato No 111556934918 que finalizó el 14 de octubre de 2015, después de una prorroga de 8 meses. La razón del retras\"}\n",
      "{'id': 257, 'body_short': 'Envío el informe final del Convenio  538-2014 correspondiente al evento: X Simposio Latinoamericano de Física de Altas Energías, realizado en Medellín del 24 al 28 de noviembre de 2014. Adjunto el informe financiero consolidado y detallado, así como las correspondientes copias electrónicas'}\n",
      "{'id': 258, 'body_short': 'I know Federico von der Pahlen since he was hired as the postdoc of a Colciencias project under my supervision two years ago. Four months later, he changed his position to a temporal full time professor position at Universidad de Antioquia. \\r\\n\\r\\nAfter his arrival we started a project with one Ph.D st'}\n",
      "{'id': 259, 'body_short': 'I know Tulio Eduardo Restrepo from 2004 since he was my student in several undergraduate courses, such as  Mathematical Physics, Introduction to Particle Physics, and in one advanced seminar about Leptogenesis. \\r\\n\\r\\nFrom the beginning I was impressed with his ability to understand involved concepts a'}\n",
      "{'id': 260, 'body_short': 'Cordial Saludo\\r\\nTenemos el placer de invitarlo a una visita al Instituto de Física de\\r\\nla Universidad de Antioquia, del 11 al 20 de Mayo del presente año. Dentro del marco de esta visita esperamos establecer colaboración entre nuestras instituciones y así fomentar vínculos entre los diferentes grupo'}\n",
      "{'id': 261, 'body_short': 'Tenemos el placer de invitarla a una visita al Instituto de Física de\\r\\nla Universidad de Antioquia, del 20 de julio al 2 de agosto del presente año. Dentro del marco de esta visita esperamos iniciar una colaboración científica en áreas de interés común relacionada con física de neutrinos. En particu'}\n",
      "{'id': 262, 'body_short': 'Solicito el reingreso como afiliado al Fondo de Bienestar Universitario luego de pasado un año de mi retiro voluntario.'}\n",
      "{'id': 263, 'body_short': 'I am writing this letter to document the teaching activities of\\r\\nDr. Diego Aristizabal during his visits to our particle physics\\r\\nresearch group in University of Antioquia (Colombia) in 2008 and 2013.\\r\\nHe is applying for a tenure-track Assistant Professorship at the Niels\\r\\nBohr Institute.\\r\\n\\r\\nIn 2008'}\n",
      "{'id': 264, 'body_short': 'Solicito muy comedidamente el inicio del trámite ante las instancias pertinentes de una licencia por dos días, del 6 al 7 de octubre de 2016.\\r\\n\\r\\nMi solicitud se deba al caso fortuito creado por una interpretación incorrecta del artículo 110 del Estatuto Docente relacionado con la duración de las com'}\n",
      "{'id': 265, 'body_short': '\\nDr Cesar Peralta has asked me to write a letter of recommendation to accompany his application for a postdoctoral position with Group. I am very pleased to do so.\\n\\nCesar was enrolled in the Ph.D program in our Instituto at Universidad de Antioquia. In our program it is possible to have an external '}\n",
      "{'id': 266, 'body_short': '\\\\def\\\\Title{ }\\r\\n\\\\def\\\\name{Julian }\\r\\n\\\\def\\\\lastname{Calle }\\r\\n\\\\def\\\\ApplicationFor{``2019 CERN Latin-American School of HEP\"}\\r\\n\\\\def\\\\possessive{his } %{her}\\r\\n\\\\def\\\\Possessive{His } %{Her}\\r\\n\\\\def\\\\gender{he } %{she}\\r\\n\\\\def\\\\Gender{He }\\r\\n\\\\def\\\\pronoun{him } %{her}\\r\\n\\\\def\\\\Pronoun{Him } %{Her}\\r\\n\\r\\n\\\\def\\\\position{stude'}\n",
      "{'id': 267, 'body_short': '\\\\def\\\\Title{}\\r\\n\\\\def\\\\name{Heisman }\\r\\n\\\\def\\\\lastname{Arcila }\\r\\n\\\\def\\\\possessive{his } %{her}\\r\\n\\\\def\\\\Possessive{His } %{Her}\\r\\n\\\\def\\\\gender{he } %{she}\\r\\n\\\\def\\\\Gender{He }\\r\\n\\\\def\\\\position{student}\\r\\n\\r\\n\\\\def\\\\ApplicationFor{``CERN Studentships in Summer\"}\\r\\n\\r\\n%%Opening\\r\\n%% From when and how\\r\\nI have known \\\\name \\\\last'}\n",
      "{'id': 268, 'body_short': '\\\\def\\\\Title{ }\\r\\n\\\\def\\\\name{Alexis }\\r\\n\\\\def\\\\lastname{Rodriguez }\\r\\n\\\\def\\\\possessive{his } %{her}\\r\\n\\\\def\\\\Possessive{His } %{Her}\\r\\n\\\\def\\\\gender{he } %{she}\\r\\n\\\\def\\\\Gender{He }\\r\\n\\\\def\\\\position{student}\\r\\n\\r\\n\\\\def\\\\ApplicationFor{``CERN Studentships in Summer\"}\\r\\n\\r\\nIt is a moment of great pleasure for me in introducing'}\n",
      "{'id': 269, 'body_short': 'Solicito el aval para participar como investigador principal del proyecto de investigación “Implicaciones de modelos de materia oscura en experimentos de detección directa\" con 15 horas de descarga académica. Dicho proyecto será presentado en la convocatoria 776-2017  Conformación de un banco de pro'}\n",
      "{'id': 270, 'body_short': 'CTP Summer School\\r\\nDr. Robinson Longas has asked me to write a letter of recommendation to accompany his application\\r\\nfor “ICTP Summer School\". I am very pleased to do so.\\r\\nI have known Robinson Longas since he was my student in several undergraduate courses, such as,\\r\\nIntroduction to Quantum Field '}\n",
      "{'id': 271, 'body_short': 'Me dirijo hacia ustedes con el fin de solicitar el aval para el proyecto {\\\\bf Implicaciones de modelos de materia oscura en experimentos de detección directa}, que se presentará a la {\\\\it Convocatoria nacional para la conformación de un banco de proyectos elegibles de generación de nuevo conocimient'}\n",
      "{'id': 272, 'body_short': '\\n\\\\def\\\\monto{\\n%1:200,000\\n%2:\\\\$544.925.410\\n%3:\\n\\\\$50.000.000\\n}\\n\\\\def\\\\proyecto{\\n%1: Implicaciones de modelos de materia oscura en experimentos de detección directa\\n%2: Explorando las fronteras del Modelo Estándar: Neutrinos y  Materia Oscura.\\n%3: \\nMateria oscura al alcance de  todos\\n}\\n\\\\def\\\\convocatoria{\\n'}\n",
      "{'id': 273, 'body_short': '%%normal version\\r\\nValentina Montoya Velásquez has asked me to write a letter of recommendation to accompany her  application for \\r\\nthe doctoral program of your institution. \\r\\n%Cosmology on the Beach School,\\r\\n%2019 CERN Latin-American School of HEP,\\r\\nI am very pleased to do so.\\r\\n\\r\\nI have known Valent'}\n",
      "{'id': 274, 'body_short': 'Solicitamos aval para presentar solicitud al CODI de hacer un aplazamiento a la firma del acta de inicio del proyecto intitulado ``IMPACTO SOCIAL, CIENTÍFICO Y ACTIVIDADES DE VINCULACIÓN CON EL ENTORNO DE CENTROS DE INVESTIGACIÓN DE LA UNIVERSIDAD DE ANTIOQUIA\". Este proyecto fue aprobado por el COD'}\n",
      "{'id': 275, 'body_short': 'Tenemos el placer de invitarlo a una visita a nuestro grupo de Investigación en el Instituto de Física de la Universidad de Antioquia, del\\r\\n% 15 al 26 de octubre \\r\\n% 9 al 13 de octubre\\r\\n%12 al 16 febrero \\r\\n26 al 30 de marzo\\r\\n%\\r\\ndel presente año.\\r\\n\\r\\n Dentro del marco de esta visita esperamos continua'}\n",
      "{'id': 276, 'body_short': 'Our paper makes the connection that $U(1)_L = U(1)_{PQ}$ which brings a conceptual understanding of lepton number violation. It is also worth mentioning that the model we are presenting is a simple and very minimal extension of the SM which combines a mixed WIMP-Axion dark matter scenario with radia'}\n",
      "{'id': 277, 'body_short': '\\\\def\\\\visitor{\\n%1:William  J. Torres Bobadilla\\n%2:Carlos Esteba Yaguna Toro\\n%3: Nicolás Bernal \\n%4: Carlos Eduardo Vera Aguirre\\n%5: Juan Alberto Yepes Tamayo.\\n%6: Diego Aristizabal\\n%7: Celso Nishi\\n%8: Enrico Nardi\\n%9: Carlos Esteba Yaguna Toro \\n%10: Farinaldo Queiroz\\n%11: Hiroshi Nunokawa\\n%12: Edwin '}\n",
      "{'id': 278, 'body_short': 'I know Alexander Gallego from 2006 since he was my student in several undergraduate courses, such as  Mathematical Physics, and Introduction to Particle Physics.\\r\\n\\r\\nLater, at the posgraduate level, I was give him a course about the early universe with focus in the quantum field aspects of the genera'}\n",
      "{'id': 279, 'body_short': 'Solicito el pago anticipado de las matrículas de maestría para los estudiantes\\r\\n\\\\begin{itemize}\\r\\n\\\\item María Coral Correa Tabares cc: 1.152.184.983, estudiante de la maestría en Ciencia, Tecnología e innovación,\\r\\n\\\\item Julian Andrés Calle Mosquera, C.C. 1.017.220.257, estudiante de la Maestría en Fí'}\n",
      "{'id': 280, 'body_short': 'Autorizo a Gabriel Jaime Vélez Cuartas,  coinvestigador del proyecto IMPACTO SOCIAL, CIENTÍFICO Y ACTIVIDADES DE VINCULACIÓN CON EL ENTORNO DECENTROS DE INVESTIGACIÓN DE LA UNIVERSIDAD DE ANTIOQUIA (Acta 2016-13236), a gestionar dicho proyecto, con las funciones de investigador principal, durante mi'}\n",
      "{'id': 281, 'body_short': 'Solicito muy comedidamente que se ofrezcan los siguientes cursos:\\r\\n\\r\\n\\\\begin{itemize}\\r\\n\\\\item investigación IV \\r\\n\\\\item Trabajo de investigación \\r\\n\\\\end{itemize}\\r\\n\\r\\nal estudiante de maestría Julian Andrés Calle Mosquera. Él logró adelantar un año de cursos de maestría durante el pregrado\\r\\ny ya ha aproba'}\n",
      "{'id': 282, 'body_short': 'Óscar Alberto Zapata Noreña es el autor principal del artículo\\r\\n\\r\\nThe Inert Zee Model\\\\\\\\\\r\\nR. Longas, D. Portillo, D. Restrepo and O. Zapata, \\\\\\\\\\r\\nJHEP  1603, 162 (2016)\\\\\\\\\\r\\ndoi:10.1007/JHEP03(2016)162\\r\\n\\r\\nQuedo atento a cualquier inquietud al respecto.'}\n",
      "{'id': 283, 'body_short': '%% Upper version\\r\\n\\\\def\\\\Title{ }\\r\\n\\\\def\\\\name{Valentina }\\r\\n\\\\def\\\\ApplicationFor{\\r\\n%``Summer School on Cosmology 2018\"\\r\\ndoctoral studies at your institution\\r\\n}\\r\\n\\\\def\\\\lastname{Montoya }\\r\\n\\\\def\\\\possessive{her } %{his}\\r\\n\\\\def\\\\Possessive{Her } %{His}\\r\\n\\\\def\\\\gender{she } %{}\\r\\n\\\\def\\\\Gender{She }\\r\\n\\\\def\\\\pronoun{her '}\n",
      "{'id': 284, 'body_short': 'Solicito se realice un Convenio de Pasantía entre los meses de abril a diciembre de \\r\\nde 2018 y por un monto total de 10,484,000 pesos (diez millones cuatrocientos ochenta y cuatro mil pesos)  para Julian Andrés Calle Mosquera, C.C. 1.017.220.257. El es el estudiante de maestría del proyecto de la c'}\n",
      "{'id': 285, 'body_short': '\\n\\\\def\\\\Title{ }\\n\\\\def\\\\name{Fredy }\\n\\\\def\\\\lastname{Jiménez }\\n\\\\def\\\\possessive{him } %{her}\\n\\\\def\\\\Possessive{Him } %{Her}\\n\\\\def\\\\gender{he } %{she}\\n\\\\def\\\\Gender{He }\\n\\\\def\\\\pronoun{his } %{her}\\n\\\\def\\\\Pronoun{His } %{Him}\\n\\n\\\\def\\\\position{student}\\n\\n\\\\def\\\\ApplicationFor{%for the``Visiting Graduate Fellow at Perimeter'}\n",
      "{'id': 286, 'body_short': '\\nJuan Pablo Montoya Ortega did his bachelor on Physics in my Institution. \\nI know him from 2016 when I was his professor in the introductory course on Particle Physics which is an optional course in our career. There, I teach the full Lagrangian of the Standard Model of particle physics at the class'}\n",
      "{'id': 287, 'body_short': '\\r\\nSolicito una comisión de servicio para asistir al International Center of Theoretical Physics (ICTP) del 3 junio al 29 julio de 2018.\\r\\n\\r\\nDesde el 1 de enero de 2014  he sido beneficiario del Programa de Miembros Asociados del ICTP.  Está será la\\r\\núltima visita que realice en el marco de ese progra'}\n",
      "{'id': 288, 'body_short': '\\\\def\\\\gender{o\\\\ }\\n\\\\def\\\\dates{\\n%10 de julio al 6 de agosto\\n%11 al 20 de mayo\\n%16 de diciembre del 2022 al 25 de enero del 2023%8 al 31 de enero del 2019. %Diego Aristizabal\\n%29 de noviembre del presente año al 15 de enero del 2022. %Carolina Arbeláez\\n%del 18 al 29 de julio del 2022. \\ndel 23 al 26 de j'}\n",
      "{'id': 289, 'body_short': 'Solicito se acepte mi firma virtual, o se me indiquen el procedimiento a seguir, pues me encuentro fuera del país hasta el el 29 de Julio en comisión de servicios y debo tramitar la vinculación del estudiante de doctorado Julian Andrés Calle Mosquera\\r\\nal proyecto de investigación de Colciencias \"Imp'}\n",
      "{'id': 290, 'body_short': '%% Upper version\\n\\\\def\\\\Title{ }\\n\\\\def\\\\name{Kimy }\\n\\\\def\\\\lastname{Agudelo }\\n\\\\def\\\\ApplicationFor{the PhD student position at your Insitution}  % in the Department of Physics at the Universidad Católica del Norte in Chile\\n\\\\def\\\\years{two }\\n\\\\def\\\\program{program\\n%school\\n}\\n\\\\def\\\\possessive{her } %{his}\\n\\\\def\\\\Po'}\n",
      "{'id': 291, 'body_short': 'Asunto: Informe %de seis meses como tutor de profesor en período de prueba.\\r\\n\\r\\n\\\\bigskip\\r\\n\\r\\nPor medio de la presente hago una valoración muy positiva de\\r\\nla labor del profesor José David Ruíz durante \\r\\n%sus primeros seis meses en el\\r\\nsu período de prueba en el\\r\\nInstituto de Física de la Universidad d'}\n",
      "{'id': 292, 'body_short': 'Autorizo a Kimy Johana Agudelo Jaramillo a matricular el curso de maestría en física a mi cargo: \\r\\n``Teoría cuántica de campos de muchos cuerpos\" (306226) con horario Miércoles-Viernes de 8-10 en el 6-426. Es de aclarar que la estudiante está dentro del 10\\\\% de su grupo. '}\n",
      "{'id': 293, 'body_short': 'Me postulo como candidatos para representante profesoral ante el Comité Interno de Asignación y Reconocimiento de Puntaje por el Área de Ciencias Exactas y Naturales, Ingenierías y Económicas.\\r\\n'}\n",
      "{'id': 294, 'body_short': '\\r\\n\\\\def\\\\proyecto{3099 FENOMENOLOGÍA DE MODELOS DE MATERIA OSCURA CON PARTÍCULAS AXIÓNICAS\\r\\n%3105-CORRECCIÓN A LA MASA DEL BOSON DE HIGGS EN EL MODELO ESTANDAR NO-CONMUTATIVO CON CANDIDATOS A MATERIA OSCURA Y MASA DE NEUTRINOS A 1-LOOP\\r\\n}\\r\\n\\\\def\\\\valor{1,500,000}\\r\\n\\\\def\\\\desde{Material Bibliográfico y Mat'}\n",
      "{'id': 295, 'body_short': 'I herewith certify that Fredy Angel Jimenez Giraldo is currently a PhD student forming part of the Group of Phenomenology of Fundamental Interactions in the Institute of Physics at Antioquia University, from January of 2016. He is working on the dissertation project : \"Higgs boson mass on the noncom'}\n",
      "{'id': 296, 'body_short': '\\\\def\\\\tipo{%1: keynote speaker \\n%2:Conferencista en sesión paralela\\n%2:\\nConferencista\\n}\\n\\\\def\\\\evento{%1:Nature of Dark Matter Workshop\\n%2: XIV Latin American Symposium on High Energy Physics (SILAFAE), \\\\url{https://indico.cern.ch/event/1151741}\\n%3:\\n7th Meeting on High Energy Physics (7th ComHEP) \\\\url{'}\n",
      "{'id': 297, 'body_short': 'Solicito el cierre del proyecto  ``IMPACTO SOCIAL, CIENTÍFICO Y ACTIVIDADES DE VINCULACIÓN CON EL ENTORNO DECENTROS DE INVESTIGACIÓN DE LA UNIVERSIDAD DE ANTIOQUIA\". el cual a la fecha ya ha finalizado cumpliendo con todos los compromisos, incluyendo la formación del estudiante de Maestría en Física'}\n",
      "{'id': 298, 'body_short': 'Solicito el aval para participar como\\r\\ncoinvestigador con una dedicación de 8 horas/semana en el proyecto: ``Constitución de colegios invisibles y dinámicas de visibilidad en Colombia a partir de la producción disponibles en bases de datos globales y regionales 2010-2020.\"  Dicho proyecto se present'}\n",
      "{'id': 299, 'body_short': \"Solicito la ayuda del posgrado para Organización de eventos con motivo de la realización del evento internacional: \\r\\n``The 20th International Workshop on Next generation Nucleon Decay and Neutrino Detectors'' (NNN19) \\r\\na realizarse en la Universidad de Medellín del 7-9 de noviembre de 2019 y del cua\"}\n",
      "{'id': 300, 'body_short': \"\\\\def\\\\proyecto{\\n%1: de movilidad Sao Paulo - Universidad de Antioquia  ``SPRINT – 3rd Edition 2019''\\n%2:``FAPESP - UNIVERSIDAD DE ANTIOQUIA 2019''\\n%3: MÉTRICAS DE VINCULACIÓN UNIVERSIDAD ENTORNO ETAPA 3\\n%4: Explorando las fronteras del Modelo Estándar: Neutrinos y  Materia Oscura\\n%5:Desarrollo e impl\"}\n",
      "{'id': 301, 'body_short': '\\\\def\\\\Title{}\\r\\n\\\\def\\\\name{Tessio }\\r\\n\\\\def\\\\lastname{Melo }\\r\\n\\\\def\\\\possessive{his } %{her}\\r\\n\\\\def\\\\Possessive{His } %{Her}\\r\\n\\\\def\\\\gender{he } %{she}\\r\\n\\\\def\\\\Gender{He }\\r\\n\\\\def\\\\position{student}\\r\\n\\r\\n\\\\def\\\\ApplicationFor{``Postdoc\"}\\r\\n\\r\\n\\\\begin{show}\\r\\n\\r\\n%%Opening\\r\\n%% From when and how\\r\\nI have known \\\\name \\\\lastname si'}\n",
      "{'id': 302, 'body_short': '\\\\textbf{Subject:} Letter of Collaboration\\r\\n\\r\\nIf the proposal submitted by Dr. Walter Tangarife entitled \\\\textbf{Intersections Between Dark Matter and Neutrinos} is selected for funding by NSF, it is my intent to collaborate as detailed in the\\r\\nProject Description or the Facilities, Equipment and Oth'}\n",
      "{'id': 303, 'body_short': '\\\\def\\\\Title{}\\r\\n\\\\def\\\\name{Tessio }\\r\\n\\\\def\\\\lastname{Melo }\\r\\n\\\\def\\\\possessive{his } %{her}\\r\\n\\\\def\\\\Possessive{His } %{Her}\\r\\n\\\\def\\\\gender{he } %{she}\\r\\n\\\\def\\\\Gender{He }\\r\\n\\\\def\\\\position{student}\\r\\n\\r\\n\\\\def\\\\ApplicationFor{``Postdoc\"}\\r\\n\\r\\n\\\\begin{show}\\r\\n\\r\\n%%Opening\\r\\n%% From when and how\\r\\nI have known \\\\name \\\\lastname si'}\n",
      "{'id': 304, 'body_short': 'Solicito una descarga de horario por 5 horas semana y durante cuatro meses para la realización como investigador princioal del proyecto: ``PILOTO DE APLICACIÓN DEL INDICADOR RELACIONAL DE PRODUCTOS DE INVESTIGACIÓN, DOCENCIA Y EXTENSIÓN EN LOS DOCENTES DE CARRERA DE LA FACULTAD DE CIENCIAS SOCIALES '}\n",
      "{'id': 305, 'body_short': 'Como tutor del estudiante y profesor de su curso Tesis de Doctorado  IV:\\r\\navalo la solicitud de matrícula extemporánea de doctorado de Julian Andrés Calle Mosquera con cc 1017220257.'}\n",
      "{'id': 306, 'body_short': 'Me dirijo a ustedes en esta oportunidad para hacer constar que  Kimy Johana Agudelo Jaramillo, con\\r\\nnúmero de identificación 1036956587, y estudiante del instituto de Física ha terminado su pasantía\\r\\ncomo joven investigador en el grupo GFIF, dicha pasantía se llevó a cabo desde el 15 de marzo de 201'}\n",
      "{'id': 307, 'body_short': \"\\n    Solicito la inscripción del Proyecto ``MÉTRICAS DE VINCULACIÓN UNIVERSIDAD ENTORNO ETAPA 3.'' \\n    con una duración de 8 mesesy el cual se encuentrá financiado por varias instancias de la Universidad. \\n    El proyecto se encuentra ya diligenciado en la plataforma SIIU de acuerdo al documento an\"}\n",
      "{'id': 308, 'body_short': '\\n    Solicito una prorroga por 6 meses para la ejecución de la Estrategía de Sostenibilidad del\\n    Grupo de Fenomenología de Interacciones Fundamentales, 2018-2020 debido a los problemas de\\n    gestión de los recursos originados por la pandemía de Covid-19.\\n'}\n",
      "{'id': 309, 'body_short': '\\n\\\\def\\\\estudiante{David Alejandro Suarez Roldan}\\n\\\\def\\\\title{``Materia oscura de espín tres medios en el seesaw radiativo\"}\\nSolicito Mención Especial  para el Trabajo de Grado titulado \\\\title, del estudiante de pregrado de Física \\\\estudiante.\\n\\nEl estudiante ha abordado un trabajo de investigación de f'}\n",
      "{'id': 310, 'body_short': '\\n\\\\def\\\\monto{\\n%1:\\n\\\\$29,494,181\\n}\\n\\\\def\\\\proyecto{\\n%1: \\nImplicaciones de modelos de materia oscura en experimentos de detección directa\\n}\\n\\\\def\\\\convocatoria{\\n%1: \\nConvocatoria nacional para la conformación de un banco de proyectos elegibles de generación de nuevo conocimiento 2017\\n}\\n\\nComo coordinador del'}\n",
      "{'id': 311, 'body_short': '\\nSolicito muy comedidamente usar parte de las vacaciones que tengo acumuladas para ausentarme los días 10, 11, y 12 de marzo de 2021.\\n\\nLas clases que tengo durante esos días serán grabadas con antelación para dejarlas a los estudiantes en los respectivos classroom de Google que manejo.\\n'}\n",
      "{'id': 312, 'body_short': 'Solicito una comisión de servicio para atender una posición de profesor visitante del 1 de noviembre de 2021 al 31 de enero de 2022 en el Instituto de Física Gleb Wataghin\\nde la \\xa0Universidade Estadual de Campinas en Brasil.\\n\\nDicha Universidad ya ha retomado las actividades presenciales desde el comi'}\n",
      "{'id': 313, 'body_short': 'I am glad to accept your invitation to be a visiting professor from November 1, 2021 through January 31, at ``Instituto de Física Gleb Wataghin de la Universidade Estadual de Campinas\" to develop the project ``Use of automatic resources to compute Beyond the Standard Model physics\"\\n'}\n",
      "{'id': 314, 'body_short': 'Después de revisar el informe informe final del estímulo del Año Sabático desde el 1 de diciembre de 2019 hasta el 30 de noviembre de 2020 del profesor Óscar Alberto Zapata Noreña, puedo confirmar que ha cumplido todos los compromisos a cabalidad dando lugar a:\\n\\\\begin{itemize}\\n\\\\item Dos artículos ci'}\n",
      "{'id': 315, 'body_short': 'Me permito informar que como tutor de doctorado del señor Dr. Andrés Felipe Rivera Romera (c.c 8.161.616)\\nautoricé su vinculación laboral como docente de pregrado de la Universidad de Antioquia durante el desarrollo de sus estudios de doctorado.\\n\\nQuedo atento a cualquier inquietud o comentario al re'}\n",
      "{'id': 316, 'body_short': \"\\\\renewcommand{\\\\theenumi}{\\\\Alph{enumi}}\\n\\nSolicito el Aval de éste comité para solicitar el apoyo del ``Fondo para la democratización del conocimiento académico de la Universidad de Antioquia'' con miras a obtener la financiación para el pago del APC del artículo titulado ``Effective Dirac neutrino ma\"}\n",
      "{'id': 317, 'body_short': 'Como Coordinador del cluster de computación de alto rendimiento que se encuentra alojado en el Datacenter de la UdeA, me permito informar\\nque para usar el cluster a través de colas de alta prioridad para un nodo de computación de alto rendimiento específico, el grupo o unidad interesada  \\ndebe inver'}\n",
      "{'id': 318, 'body_short': 'Solicito muy comedidamente la inscripción de mi estudiante de doctorado David Alejandro Suarez Roldan, con\\ncédula 1152193008,\\nen el banco de profesores de cátedra de la Facultad con excepción de título de Maestría. \\nEl estudiante fue admitido directamente al Doctorado en Física inmediatamente despué'}\n",
      "{'id': 319, 'body_short': 'I declare that I have received BRL 51\\\\;275,00 reais from Professor Orlando L. G. Peres, \\nconcerning to my stay at Instituto de Fisica Gleb Wataghin of Universidade Estadual de Campinas - UNICAMP, as a visiting professor (Februray 1 -April 29 2022).\\n\\n'}\n",
      "{'id': 320, 'body_short': 'I have known Jonathan since he was my student in two courses: one in scientific computing with python\\nand another in subatomic physics.\\n\\nHe is a very motivated student which imprints passion to everything the he makes, and is self-sufficient\\nand productive. Jonathan has proved to be a very good stud'}\n",
      "{'id': 321, 'body_short': 'Solicito muy comedidamente una comisión de servicio en el Departamento de Raios Cósmicos e Cronologia del Instituto de Física Gleb Wataghin de la Universidade Estadual de Campinas - UNICAMP del 9 al 17 de junio del presente año, \\npara avanzar en proyectos conjuntos y discutir la propuesta en prepara'}\n",
      "{'id': 322, 'body_short': 'It is my pleasure to write a letter supporting the proposal ``Probing new physics with neutrino models\\nand dark matter\" led by Dr. Carolina Arbeláez R as IR / Universidad Técnica Federico Santa María and\\nDr. Juan Carlos Helo as CI / Universidad de la Serena.\\nThis proposal opens the possibility to bo'}\n",
      "{'id': 323, 'body_short': \"\\\\def\\\\proyecto{\\n%1: de movilidad Sao Paulo - Universidad de Antioquia  ``SPRINT – 3rd Edition 2019''\\n%2:``FAPESP - UNIVERSIDAD DE ANTIOQUIA 2019''\\n%3: MÉTRICAS DE VINCULACIÓN UNIVERSIDAD ENTORNO ETAPA 3\\n%4: Explorando las fronteras del Modelo Estándar: Neutrinos y  Materia Oscura\\n%5:Desarrollo e impl\"}\n",
      "{'id': 324, 'body_short': '\\\\def\\\\solicitud{%1: los costos de inscripción por valor de 200 USD\\n%2:\\nlos costos del tiquete aéreo por valor de $\\\\$ 2,783,638$\\n}\\n\\\\def\\\\evento{%1: XIV Latin American Symposium on High Energy Physics (SILAFAE)\\n%2:\\nNature of Dark Matter Workshop\\n}\\n\\\\def\\\\link{%1:\\\\url{https://indico.cern.ch/event/1151741}\\n'}\n",
      "{'id': 325, 'body_short': 'Teniendo en cuenta que es un visitante es extranjero, solicito un aumento en \\\\$500,000,oo para los viáticos del Profesor Orlando Peres. Esto con el fin de  cubrir parte de sus gastos para su posterior traslado a Medellin donde nos estará visitando por varios días. '}\n",
      "{'id': 326, 'body_short': \"Cómo una de las coinvestigadoras del proyecto de Minciencias CD 82315 CT ICETEX 2021-1080 ``Explorando las fronteras del Modelo Estándar: Neutrinos y Materia Oscura'', le extiendo está invitación a una reunión de planeación y ejecución que se realizará de forma presencial el día jueves 1 de diciembr\"}\n",
      "{'id': 327, 'body_short': 'En seguimiento al caso 22998, solicito la excepción de título de Maestría para la en el banco de profesores de cátedra y el correspondiente  aval para\\nque el estudiante de Doctorado en Física David Alejandro Suárez Roldán, identificado con\\ncédula de ciudadanía 1152193008, pueda ocupar una plaza vaca'}\n",
      "{'id': 328, 'body_short': None}\n",
      "{'id': 329, 'body_short': '\\\\def\\\\Title{ }\\n\\\\def\\\\name{David }\\n\\\\def\\\\lastname{Suarez }\\n\\\\def\\\\ApplicationFor{``Summer School on Particle Physics\"}\\n\\\\def\\\\possessive{his } %{her}\\n\\\\def\\\\Possessive{His } %{Her}\\n\\\\def\\\\gender{he } %{she}\\n\\\\def\\\\Gender{He }\\n\\\\def\\\\pronoun{him } %{her}\\n\\\\def\\\\Pronoun{Him } %{Her}\\n\\n\\\\def\\\\position{student}\\n\\n\\n%%Opening\\n'}\n",
      "{'id': 330, 'body_short': '\\\\def\\\\Title{ }\\n\\\\def\\\\name{Gerardo }\\n\\\\def\\\\lastname{Gutierrez }\\n\\\\def\\\\ApplicationFor{``School on Nonlinear Dynamics, Complex Networks, Information Theory and Machine Learning in Neuroscience\\'\"}\\n\\\\def\\\\possessive{his } %{her}\\n\\\\def\\\\Possessive{His } %{Her}\\n\\\\def\\\\gender{he } %{she}\\n\\\\def\\\\Gender{He }\\n\\\\def\\\\pronoun'}\n",
      "{'id': 331, 'body_short': '\\\\def\\\\role{\\n%1: coinvestigador%\\n%2: investigador principal%\\n%3: investigador principal%\\n%4:\\ncoinvestigador%\\n}\\n\\\\def\\\\hours{\\n%1: 1\\n%2: 10\\n%3: 15\\n%4:\\n2\\n}\\n\\\\def\\\\months{\\n%1: 9\\n%2: 24\\n%3: 36\\n%4:\\n36\\n}\\n\\\\def\\\\project{%\\n%1: Connecting the origin of neutrino masses with the dark matter of the Universe\\n%2: Beyond t'}\n",
      "{'id': 332, 'body_short': '\\\\def\\\\role{coinvestigador}\\n\\\\def\\\\hours{1}\\n\\\\def\\\\months{9}\\n\\\\def\\\\project{Connecting the origin of neutrino masses with the dark matter of the Universe}\\n\\\\def\\\\description{el cual será enmarcado en la Convocatoria Movilidad Académica con Europa 2021 de MINCIENCIAS, en su Capítulo Dos: Programa DAAD-PROCOL}\\n'}\n",
      "{'id': 333, 'body_short': '\\\\def\\\\role{\\n%1: \\nla vinculación del estudiante de Maestría\\n}\\n\\\\def\\\\hours{\\n%1:\\n20\\n}\\n\\\\def\\\\project{%\\n%1: \\n2023-59130, Beyond the standard model in neutrino experiments%\\n}\\nSolicito \\\\role\\\\ para el proyecto \\\\project. \\nLa vinculación del estudiante es un compromiso del proyecto y figuraba inicialmente como N'}\n",
      "{'id': 334, 'body_short': 'Por la presente me permito informar que los docentes Richard Hamilton Benavides Palacios identificado con CC 12751939 y Luis Alfredo Muñoz Hernández identificado con CC 15512823, han participado con una dedicación  de 5 horas/semana y 4 horas/semana, respectivamente, en el proyecto de investigación '}\n",
      "{'id': 335, 'body_short': '\\\\def\\\\Title{ }\\n\\\\def\\\\name{Simón }\\n\\\\def\\\\lastname{González }\\n\\\\def\\\\ApplicationFor{``Bonn-Cologne Graduate School of Physics and Astronomy\"}\\n\\\\def\\\\possessive{his } %{her}\\n\\\\def\\\\Possessive{His } %{Her}\\n\\\\def\\\\gender{he } %{she}\\n\\\\def\\\\Gender{He }\\n\\\\def\\\\pronoun{him } %{her}\\n\\\\def\\\\Pronoun{Him } %{Her}\\n\\n\\\\def\\\\position'}\n",
      "{'id': 336, 'body_short': 'Solicito muy comedidamente la excepción de título de pregrado para contratación por horas cátedra de investigación por un mes, con cargo a la Vicerrectoría de Investigación, del Tecnólogo de Sistemas Ómar Andrés Zapata Mesa con cédula de ciudadaná 98.761.145, con la Actividad y Justifación siguiente'}\n",
      "{'id': 337, 'body_short': \"Solicito muy comedidamente disfrutar parcialmente las vacaciones a partir del 1 de julio, pues en la semana del 24 al 28 de junio debo entregar un informe del avance del proyecto 2022-54209 ``Explorando las fronteras del Modelo Estándar: Neutrinos y  Materia Oscura'' de la\\nConvocatoria 890: Fortalec\"}\n",
      "{'id': 338, 'body_short': 'Solicito una prórroga para el proyecto de Minciencias 2022-54209 Explorando las fronteras del Modelo Estándar: Neutrinos y \\xa0Materia Oscura.\\nConvocatoria: Convocatoria 890. Fortalecimiento de CTEI en Instituciones de Educación Superior (IES) públicas 2020\\nCÓDIGO MINCIENCIAS CD 82315 CT ICETEX 2021-10'}\n",
      "{'id': 339, 'body_short': 'Solicitud una prórroga para el proyecto de Minciencias 2022-54209 Explorando las fronteras del Modelo Estándar: Neutrinos y \\xa0Materia Oscura.\\nConvocatoria: Convocatoria 890. Fortalecimiento de CTEI en Instituciones de Educación Superior (IES) públicas 2020\\nCÓDIGO MINCIENCIAS CD 82315 CT ICETEX 2021-1'}\n",
      "\n"
     ]
    },
    {
     "name": "stdin",
     "output_type": "stream",
     "text": [
      "give 'ID' 339\n"
     ]
    }
   ],
   "source": [
    "import pandas as pd\n",
    "# Get config\n",
    "NEW        = radios[\"New letter?\"].get_interact_value()\n",
    "LOAD_BODY  = radios[\"Load Body?\" ].get_interact_value()\n",
    "EDIT_CELLS = radios[\"Edit cells?\"].get_interact_value()\n",
    "if not EDIT_CELLS:\n",
    "    EDIT=False\n",
    "else:\n",
    "    EDIT=True\n",
    "\n",
    "if NEW:\n",
    "    EDIT =True\n",
    "\n",
    "what_edit = None\n",
    "if not NEW and EDIT:\n",
    "    what_edit = radios[\"Edit what?\"].get_interact_value()\n",
    "elif NEW:\n",
    "    what_edit = 'All'\n",
    "\n",
    "\n",
    "\n",
    "df=pd.read_json('data/db.json')\n",
    "df=df.reset_index(drop=True)\n",
    "\n",
    "#300 → Aval proyecto de investigación\n",
    "#309 → Mención Especial\n",
    "#TODO → check id:\n",
    "#id=171 #Invitation letter\n",
    "#id=272 #Contrapartida de proyecto de \n",
    "# id=288 # Invitado Nacional\n",
    "#id=289 # Super recommendation corrected\n",
    "#id=283 #certificado estancia #277\n",
    "#id=296 # Comisión de servicios\n",
    "#id=329 # Generic Recommmendation letter\n",
    "#id=288 # Invitation letter in Spanish → Carta de recomendación\n",
    "#id=324 # Aplicación fondo de movilidad\n",
    "#id=331 # Ad-honorem \n",
    "#id=334 # Aval horas ITM\n",
    "# #Cambio de participante en proyecto\n",
    "#df.iloc[300:310]\n",
    "\n",
    "#NEW = radiobutton.get_interact_value()\n",
    "print(NEW)\n",
    "dfid=0\n",
    "if NEW:\n",
    "    ID=df[\"id\"].abs().astype(int).max()+1\n",
    "    df=pd.concat([df,pd.DataFrame([{\"id\":ID}])]).reset_index(drop=True)\n",
    "    df[\"id\"]=df['id'].astype(int)\n",
    "    dfid=df[df['id']==ID].index[0]\n",
    "    df['address']=''\n",
    "    df['fecha']=1595030400000\n",
    "    df['link']='http://gfif.udea.edu.co/cartas/cartas.php?step=1&id='\n",
    "    if dfid!=ID:\n",
    "        raise BaseException('Index mismatch')\n",
    "else:\n",
    "    s=input('Search in body for:')\n",
    "    tmp = df[df.body.astype(str).str.lower().apply(unidecode\n",
    "                ).str.contains(unidecode(s).lower())].reset_index(drop=True)\n",
    "    tmp['body_short'] = tmp['body'].str[:300]\n",
    "    [print(d) for d in tmp[['id','body_short']].to_dict(orient='records') if not tmp.empty]\n",
    "    print()\n",
    "    ID=input(\"give 'ID'\")\n",
    "    if ID:\n",
    "        ID=int(ID)\n",
    "        dfid=df[df['id']==ID].index[0]\n",
    "        if dfid!=ID:\n",
    "            raise BaseException('Index mismatch')\n",
    "\n",
    "        #display(radiobutton,output_radiobutton)\n",
    "    else:\n",
    "        print(\"'ID' not selected\")"
   ]
  },
  {
   "cell_type": "markdown",
   "metadata": {},
   "source": [
    "Edit the previous body here:"
   ]
  },
  {
   "cell_type": "code",
   "execution_count": 4,
   "metadata": {},
   "outputs": [],
   "source": [
    "if not NEW:\n",
    "    f=open('body.tex','w')\n",
    "    f.write(df.loc[dfid,'body'])\n",
    "    f.close()"
   ]
  },
  {
   "cell_type": "markdown",
   "metadata": {},
   "source": [
    "Use your favorite editor HERE!:\n",
    "\n",
    "[body.tex](./body.tex)"
   ]
  },
  {
   "cell_type": "markdown",
   "metadata": {},
   "source": [
    "Cambiar destinatario, idioma y closing"
   ]
  },
  {
   "cell_type": "code",
   "execution_count": 5,
   "metadata": {},
   "outputs": [],
   "source": [
    "#radiobutton.description = \"Load Body?\"\n",
    "#radiobutton.value = True\n",
    "#display(radiobutton,output_radiobutton)"
   ]
  },
  {
   "cell_type": "code",
   "execution_count": 5,
   "metadata": {},
   "outputs": [],
   "source": [
    "#LOAD_BODY = radiobutton.get_interact_value()\n",
    "if LOAD_BODY:\n",
    "    f=open('body.tex','r')\n",
    "    body=f.read()\n",
    "    f.close()\n",
    "else:\n",
    "    body=df.loc[dfid,'body']\n",
    "\n",
    "#body\n",
    "\n",
    "#radiobutton.description = \"Edit cells?\"\n",
    "#radiobutton.value = False\n",
    "#display(radiobutton,output_radiobutton)\n",
    "\n",
    "if not EDIT:\n",
    "    df.to_json('data/db.json',orient='records',force_ascii=False)\n",
    "\n",
    "#EDIT_CELLS = radiobutton.get_interact_value()\n",
    "#if not EDIT_CELLS:\n",
    "#    EDIT=False\n",
    "#    df.to_json('data/db.json',orient='records',force_ascii=False)\n",
    "#else:\n",
    "#    EDIT=True\n",
    "#\n",
    "#if NEW:\n",
    "#    EDIT =True\n",
    "\n",
    "\n",
    "#what_edit = None\n",
    "#if not NEW and EDIT:\n",
    "#    display(radiobutton2,output_radiobutton2)\n",
    "#elif NEW:\n",
    "#    EDIT = True\n",
    "\n",
    "#if not NEW and EDIT:\n",
    "#    what_edit = radiobutton2.get_interact_value()\n",
    "#elif NEW:\n",
    "#    what_edit = 'All'\n",
    "if what_edit == \"Body and Para\":\n",
    "    print(df.loc[dfid,'para'])\n",
    "    lines = []\n",
    "    print('Hit <Enter> to finish')\n",
    "    while True:\n",
    "        line = input()\n",
    "        if not line:\n",
    "             break\n",
    "        lines.append(line)\n",
    "    para = '\\n'.join(lines)\n",
    "    print(para)"
   ]
  },
  {
   "cell_type": "code",
   "execution_count": 6,
   "metadata": {},
   "outputs": [],
   "source": [
    "if what_edit == \"Body\":\n",
    "    df.loc[dfid,'body']=r'{}'.format(body)\n",
    "elif what_edit == \"Body and Para\":\n",
    "    df.loc[dfid,'para'] = para\n",
    "    #'To Whom It May Concern'\n",
    "    #r'''\n",
    "    #Prof. Cesar Bonilla\\\\\n",
    "    #Departmento de Física\\\\\n",
    "    #Universidad Católica del Norte\n",
    "    #'''\n",
    "    #r'''\n",
    "    #Profesora Adriana Echavarría Isaza\\\\\n",
    "    #Decana\\\\\n",
    "    #Facultad de Ciencias Exactas y Naturales\\\\\n",
    "    #Universidad de Antioquia\n",
    "    #'''\n",
    "    #''\n",
    "    #'To Whom It May Concern'\n",
    "    #r'''\n",
    "    #Organizers\\\\\n",
    "    #Origin of matter domination in the Universe at the ICTP-SAIFR\n",
    "    #'''        \n",
    "    #r'''Organizers\\\\\n",
    "    #Summer School on Particle Physics.'''        \n",
    "    #r'''\n",
    "    #Señores\\\\ \n",
    "    #Consejo de Facultad,\\\\\n",
    "    #Facultad de Ciencias Exactas y Naturales,\\\\\n",
    "    #Universidad de Antioquia.\n",
    "    #'''        \n",
    "    #r'''Organizers\\\\\n",
    "    #Latin-American School on CTA Science'''\n",
    "    #r'''Kate Ross,\\\\ \n",
    "    #CERN Schools of Physics'''\n",
    "    #r'''Prof. Diego Aristizabal,\\\\\n",
    "    #Departamento de Física,\\\\\n",
    "    #Universidad Técnica Federico Santa María,\\\\\n",
    "    #Valparaíso, Chile.\\\\        '''\n",
    "    #r'''\n",
    "    #'To Whom It May Concern'#r'''\n",
    "    #Señores Comité Técnico,\n",
    "    #Centro de Investigaciones Facultad de Ciencias Exactas y Naturales (CIEN),\n",
    "    #Universidad de Antioquia.\n",
    "    #'''\n",
    "    #r'''\n",
    "    #Señores Consejo de Instituto,\n",
    "    #Instituto de Física,\n",
    "    #Universidad de Antioquia.\n",
    "    #'''\n",
    "    #r'''\n",
    "    # Prof. Antonio Carcamo,\\\\\n",
    "    # Departamento de Física,\\\\\n",
    "    # Universidad Técnica Federico Santa María,\\\\\n",
    "    # Valparaíso, Chile.\\\\        '''\n",
    "    #r'''\n",
    "    #Dra. Carolina Arbeláez Rodríguez,\\\\\n",
    "    #Departamento de Física,\\\\\n",
    "    #Universidad Técnica Federico Santa María,\\\\\n",
    "    #Valparaíso, Chile.\\\\\n",
    "    #'''\n",
    "    df.loc[dfid,'body']=r'{}'.format(body)    \n",
    "    #FIX_INDEX=False\n",
    "    #if FIX_INDEX:\n",
    "    #    df[\"id\"]=df.index    \n",
    "elif what_edit == \"All\": \n",
    "    df.loc[dfid,'description']=\"Solicitud prórroga\"#\"Excepción título de pregrado\"#'Recoomendation Letter'#'Aval horas ITM' #'solicitud de cambio de investigador'#'comision'#r'Fondo de movilidad'#'support grant project'#'declaración'#'Visisting professor Campinas'#df.loc[dfid,'description']#r'Vacaciones acumuladas'\n",
    "    df.loc[dfid,'para']=r'''\n",
    "    Señores Comité Técnico,\n",
    "    Centro de Investigaciones Facultad de Ciencias Exactas y Naturales (CIEN),\n",
    "    Universidad de Antioquia.\n",
    "    '''\n",
    "    #r'''Profesora Adriana Echavarría Isaza\\\\\n",
    "    #Decana\\\\\n",
    "    #Facultad de Ciencias Exatas y Naturales\\\\\n",
    "    #Universidad de Antioquia\n",
    "    #'''\n",
    "    #r'''Señores Consejo de Instituto,\\\\\n",
    "    #Instituto de Física,\\\\\n",
    "    #Universidad de Antioquia.\n",
    "    #'''\n",
    "    #'To Whom It May Concern'#'A quien pueda interesar'\n",
    "    #r'''\n",
    "    #Leonardo Leitte\\\\\n",
    "    #IFGW-UNICAMP\n",
    "    #Campinas\\\\\n",
    "    #Brazil\n",
    "    #'''\n",
    "    #r'''\n",
    "    #Señores Comité Técnico,\\\\\n",
    "    #Centro de Investigaciones Facultad de Ciencias Exactas y Naturales (CIEN),\\\\\n",
    "    #Universidad de Antioquia.\n",
    "    #'''\n",
    "    #r'''\n",
    "    #Señores\\\\ \n",
    "    #Consejo de Facultad,\\\\\n",
    "    #Facultad de Ciencias Exactas y Naturales,\\\\\n",
    "    #Universidad de Antioquia.\n",
    "    #'''\n",
    "    #'To Whom It May Concern'\n",
    "    #'A quien pueda interesar'#r'''\n",
    "    #Señores Consejo de Instituto,\\\\\n",
    "    #Instituto de Física,\\\\\n",
    "    #Universidad de Antioquia.\n",
    "    #'''\n",
    "    #r'''\n",
    "    #Profesora Blanca Cañas\\\\\n",
    "    #Departamento de Física y Geología\\\\\n",
    "    #Universidad de Pamplona\n",
    "    #'''\n",
    "    #r'''Profesora Adriana Patricia Echavarría Isaza\\\\\n",
    "    #Decana\\\\\n",
    "    #Facultad de Ciencias Exatas y Naturales\\\\\n",
    "    #Universidad de Antioquia\n",
    "    #'''\n",
    "    #r'''\n",
    "    #Señores\\\\\n",
    "    #Fondo de Movilidad Nacional e Internacional para la Participación en Eventos Científicos\\\\\n",
    "    #CODI\n",
    "    #'''\n",
    "    #r'''Profesora Adriana Patricia Echavarría Isaza\\\\\n",
    "    #Decana\\\\\n",
    "    #Facultad de Ciencias Exatas y Naturales\\\\\n",
    "    #Universidad de Antioquia\n",
    "    #'''\n",
    "    #r'''\n",
    "    #Señores Comité Técnico,\n",
    "    #Centro de Investigaciones Facultad de Ciencias Exactas y Naturales (CIEN),\n",
    "    #Universidad de Antioquia.\n",
    "    #'''\n",
    "    #r'''\n",
    "    #'To Whom It May Concern'\n",
    "    #r'''\n",
    "    #Señores Consejo de Instituto,\n",
    "    #Instituto de Física,\n",
    "    #Universidad de Antioquia.\n",
    "    #'''\n",
    "    #'Adriana Patricia Echavarría Isaza'\n",
    "    #r'''\n",
    "    #Colfuturo\\\\\n",
    "    #Gestión de Becas Externas - GBE\\\\\n",
    "    #Carrera 15 \\# 37-15, Bogotá, Colombia        \n",
    "    #'''\n",
    "\n",
    "    #df.loc[dfid,'para']=r'''\n",
    "    #%To Whom It May Concern'\n",
    "    #Professor Orlando L. G. Peres\\\\\n",
    "    #Universidade Estadual de Campinas - UNICAMP\\\\\n",
    "    #Instituto de Fisica Gleb Wataghin\\\\\n",
    "    #Departamento de Raios Cosmicos e Cronologia\\\\\n",
    "    #Rua Sergio Buarque de Holanda, 777\\\\\n",
    "    #Bairro Barão Geraldo\\\\\n",
    "    #CEP 13083-859  Campinas,SP, Brazil\n",
    "    #'''\n",
    "    df.loc[dfid,'opening']='Respetados señores' #'Respetada Decana' #'Dear Leonardo'#r'Respetada Profesora'#r'Respetados señores' #\"Dear Dr. Tulio Eduardo Restrepo\" #r'Cordial saludo.'#'Dear Professor' \n",
    "    df.loc[dfid,'body']=r'{}'.format(body)\n",
    "    df.loc[dfid,'closing']=r'Agradeciendo su colaboración en este sentido'#'Sincerely yours,'#r'Atentamente'#r'Best regards'\n",
    "\n",
    "    df.loc[dfid,'preamble']=r'''\n",
    "    \\usepackage{udea}\n",
    "    \\usepackage[spanish]{babel}\n",
    "    %\\date{January 31, 2021}\n",
    "    '''\n",
    "    df.loc[dfid,'signature']='Diego_es_sign' #'Diego_en_sign' #['Diego_en_sign', 'Diego', 'Diego_cc', 'Diego Enrico Nelson', 'Diego_simple',\n",
    "       #'Diego Nelson', 'Nelson Decano', 'Diego editable', 'Diego_en_sign',\n",
    "       #'Diego_en', 'Diego_es_sign', 'Coordinador_E', 'VBo', 'Diego IP',\n",
    "       #'Diego IP_sign', 'oscar']\n",
    "    #FIX_INDEX=False\n",
    "    #if FIX_INDEX:\n",
    "    #    df[\"id\"]=df.index"
   ]
  },
  {
   "cell_type": "code",
   "execution_count": 7,
   "metadata": {},
   "outputs": [],
   "source": [
    "#df.loc[dfid]"
   ]
  },
  {
   "cell_type": "code",
   "execution_count": 8,
   "metadata": {},
   "outputs": [],
   "source": [
    "if EDIT:\n",
    "    df.to_json('data/db.json',orient='records',force_ascii=False)"
   ]
  },
  {
   "cell_type": "code",
   "execution_count": 9,
   "metadata": {},
   "outputs": [],
   "source": [
    "#df.iloc[-1]"
   ]
  },
  {
   "cell_type": "code",
   "execution_count": 10,
   "metadata": {},
   "outputs": [],
   "source": [
    "#df.to_json('data/db.json',orient='records',force_ascii=False)"
   ]
  },
  {
   "cell_type": "markdown",
   "metadata": {},
   "source": [
    "## Load Final DataBase"
   ]
  },
  {
   "cell_type": "code",
   "execution_count": 11,
   "metadata": {},
   "outputs": [],
   "source": [
    "import getpass\n",
    "import pymysql\n",
    "import unidecode\n",
    "import pandas as pd\n",
    "import tempfile\n",
    "import subprocess\n",
    "import sys\n",
    "from latexfiles import *\n",
    "\n",
    "\n",
    "pd.set_option('display.max_rows', 500)\n",
    "pd.set_option('display.max_columns', 500)\n",
    "pd.set_option('display.max_colwidth',500)\n",
    "\n",
    "def generate_pdf(latexfile,\n",
    "    pdf='output.pdf',\n",
    "    dwld_dir='/home/restrepo/downloads',\n",
    "    url_dir='file:///home/restrepo/downloads',id=None):\n",
    "    \"\"\"\n",
    "    pdflatex upon latexfile to generate 'pdf'  file in \n",
    "    'dwld_dir' with browser link 'url_dir'\n",
    "    \"\"\"\n",
    "\n",
    "    f=tempfile.NamedTemporaryFile('w',suffix='.tex',delete=False)\n",
    "    f.write(latexfile)\n",
    "    f.close()\n",
    "    lo=subprocess.Popen('pdflatex {:s}'.format(f.name).split(),cwd='/tmp',\n",
    "                        stdout=subprocess.PIPE,stderr=subprocess.PIPE).communicate()\n",
    "    pdffile='{:s}'.format(f.name).split('.tex')[0]+'.pdf'\n",
    "    if lo[0].decode('utf8').find(pdffile.split('/')[-1])>-1:\n",
    "        \n",
    "        kk=subprocess.Popen('mv {:s} {:s}/{:s}'.format(pdffile,dwld_dir,pdf).split()).communicate()\n",
    "        print('output in {:s}/{:s}'.format(url_dir,pdf))\n",
    "        for suffix in  ['.aux','.log','.out','.tex']:\n",
    "            sc=subprocess.Popen( ['rm', '{:s}'.format(f.name).split('.tex')[0]+suffix] ).communicate()\n",
    "    else:\n",
    "        print(lo[0].decode('utf8'))\n",
    "        sys.exit('LaTeX ERROR:')    \n",
    "    return latexfile\n",
    "\n",
    "class database_to_pandas(object):\n",
    "    \"\"\"\n",
    "    Convert Data Base  to pandas and filtered index to Series and \n",
    "    define methods to use them.\n",
    "    Intialize with choose_db and main_table to build attibute: choose_db[main_table]\n",
    "    See for example:\n",
    "    {'Diego_Restrepo':'cartas','cartas_gfif':'cartas','seminarios':'talks'}\n",
    "    The optional aux_tables must be set to '' if not required, otherwise \n",
    "    'cartas_sign' is used\n",
    "    udea.sty and udea.pdf must be instaled\n",
    "    \"\"\"\n",
    "    def __init__(self,host='localhost',user='root',choose_db='Diego_Restrepo',main_table='cartas',id=None,\n",
    "                 aux_tables='cartas_sign',common_columns='signature',DB=True,verbose=False):\n",
    "        if DB:\n",
    "            password=getpass.getpass()\n",
    "            self.choose_db={choose_db:main_table}\n",
    "            self.DataBase=choose_db\n",
    "            conn = pymysql.connect(host=host, port=3306, user=user, passwd=password, db=choose_db)\n",
    "            df=pd.read_sql('select * from {};'.format(self.choose_db[choose_db]), con=conn)\n",
    "        else:\n",
    "            df=pd.read_json('data/db.json')\n",
    "        #TODO: generilize to addtional tables\n",
    "        if aux_tables:\n",
    "            if DB:\n",
    "                sg=pd.read_sql('select * from {};'.format(aux_tables), con=conn)\n",
    "                conn.close()\n",
    "            else:\n",
    "                sg=pd.read_json('data/sg.json')\n",
    "\n",
    "        self.pandas_DataFrame=df\n",
    "        self.pandas_signature=sg\n",
    "        #print(df.shape[0])\n",
    "        #return df,sg\n",
    "        if df.shape[0]:\n",
    "            if not id:\n",
    "                id=df.id.values[-1]\n",
    "            self.pandas_Series=df[df.id==id].reset_index(drop=True).loc[0]\n",
    "            if aux_tables:\n",
    "                #TODO:\n",
    "                self.pandas_Series['common_{}'.format(common_columns)]=sg[\n",
    "                    sg[common_columns]==self.pandas_Series[common_columns]].reset_index(drop=True).loc[0,'sign']\n",
    "            if verbose:\n",
    "                print(self.pandas_Series)\n",
    "        else:\n",
    "            sys.exit('Error reading databases')\n",
    "            return df\n",
    "\n",
    "    \n",
    "    def to_latex(self,func):\n",
    "        '''Build a function to build the latex file with the self.Series keys\n",
    "           and call it from here\n",
    "        '''\n",
    "        #TODO: check if class has methoed\n",
    "        self.latexfile=func(self.pandas_Series)\n",
    "        return self.latexfile\n",
    "    #return generate_pdf(c)\n",
    "    def to_pdf(self,func,**kwargs):\n",
    "        '''Build a function to build the latex file with the self.Series keys\n",
    "           and call it from here\n",
    "        '''\n",
    "        self.latexfile=func(self.pandas_Series)\n",
    "        return generate_pdf(self.latexfile,**kwargs)\n",
    "        \n",
    "    def backup_database(self):\n",
    "        '''\n",
    "        Backup DB\n",
    "        '''\n",
    "    \n",
    "        password=getpass.getpass()\n",
    "\n",
    "        print('Trying to create backup file db_{:s}_backup.sql'.format( self.DataBase  )   )\n",
    "        ok=subprocess.Popen('mysqldump -u root -p{:s} {:s} > db_{:s}_backup.sql'.format(\n",
    "                         password,self.DataBase,self.DataBase),shell=True,\n",
    "                         stdout=subprocess.PIPE,stderr=subprocess.PIPE).communicate()\n",
    "\n",
    "        print()\n",
    "\n",
    "        return ok\n",
    "import getpass"
   ]
  },
  {
   "cell_type": "code",
   "execution_count": 12,
   "metadata": {},
   "outputs": [],
   "source": [
    "data_base='Diego_Restrepo'\n",
    "db=database_to_pandas(choose_db=data_base,main_table='cartas',id=dfid,DB=False)"
   ]
  },
  {
   "cell_type": "code",
   "execution_count": 13,
   "metadata": {},
   "outputs": [
    {
     "name": "stdout",
     "output_type": "stream",
     "text": [
      "output in file:///home/restrepo/downloads/cartas.pdf\n"
     ]
    }
   ],
   "source": [
    "latexfile=db.to_pdf(cartas,pdf='cartas.pdf',\n",
    "            dwld_dir='/home/restrepo/downloads',\n",
    "            url_dir='file:///home/restrepo/downloads',id=id)"
   ]
  },
  {
   "cell_type": "markdown",
   "metadata": {},
   "source": [
    "data_base='Diego_Restrepo'\n",
    "db=database_to_pandas(choose_db=data_base,main_table='cartas',id=id,DB=False)### Backup database"
   ]
  },
  {
   "cell_type": "code",
   "execution_count": null,
   "metadata": {},
   "outputs": [],
   "source": []
  },
  {
   "cell_type": "code",
   "execution_count": 21,
   "metadata": {},
   "outputs": [],
   "source": [
    "db.pandas_DataFrame.to_json('data/db.json',orient='records',force_ascii=False)\n",
    "db.pandas_signature.to_json('data/sg.json',orient='records',force_ascii=False)\n",
    "#db.backup_database()"
   ]
  },
  {
   "cell_type": "code",
   "execution_count": 28,
   "metadata": {},
   "outputs": [
    {
     "name": "stdout",
     "output_type": "stream",
     "text": [
      "Enumerating objects: 5, done.\n",
      "Counting objects: 100% (5/5), done.\n",
      "Delta compression using up to 72 threads\n",
      "Compressing objects: 100% (3/3), done.\n",
      "Writing objects: 100% (3/3), 666 bytes | 666.00 KiB/s, done.\n",
      "Total 3 (delta 2), reused 0 (delta 0), pack-reused 0\n",
      "remote: Resolving deltas: 100% (2/2), completed with 2 local objects.\u001b[K\n",
      "To github.com:restrepo/MySQLpytex.git\n",
      "   c7e860d..fd6a62f  master -> master\n"
     ]
    }
   ],
   "source": [
    "!git commit -am 'fix signature json' > /dev/null\n",
    "!git push origin master > /dev/null"
   ]
  },
  {
   "cell_type": "code",
   "execution_count": 19,
   "metadata": {},
   "outputs": [],
   "source": [
    "sg=pd.read_json('data/sg.json')"
   ]
  },
  {
   "cell_type": "code",
   "execution_count": 23,
   "metadata": {},
   "outputs": [
    {
     "data": {
      "text/plain": [
       "array(['Diego', 'Diego_cc', 'Diego Enrico Nelson', 'Diego_simple',\n",
       "       'Diego Nelson', 'Nelson Decano', 'Diego editable', 'Diego_en_sign',\n",
       "       'Diego_en', 'Diego_es_sign', 'Coordinador_E', 'VBo', 'Diego IP',\n",
       "       'Diego IP_sign', 'oscar'], dtype=object)"
      ]
     },
     "execution_count": 23,
     "metadata": {},
     "output_type": "execute_result"
    }
   ],
   "source": [
    "sg.signature.values"
   ]
  },
  {
   "cell_type": "code",
   "execution_count": 24,
   "metadata": {},
   "outputs": [
    {
     "data": {
      "text/html": [
       "<div>\n",
       "<style scoped>\n",
       "    .dataframe tbody tr th:only-of-type {\n",
       "        vertical-align: middle;\n",
       "    }\n",
       "\n",
       "    .dataframe tbody tr th {\n",
       "        vertical-align: top;\n",
       "    }\n",
       "\n",
       "    .dataframe thead th {\n",
       "        text-align: right;\n",
       "    }\n",
       "</style>\n",
       "<table border=\"1\" class=\"dataframe\">\n",
       "  <thead>\n",
       "    <tr style=\"text-align: right;\">\n",
       "      <th></th>\n",
       "      <th>signature</th>\n",
       "      <th>sign</th>\n",
       "      <th>idsing</th>\n",
       "    </tr>\n",
       "  </thead>\n",
       "  <tbody>\n",
       "    <tr>\n",
       "      <th>0</th>\n",
       "      <td>Diego</td>\n",
       "      <td>Diego Restrepo\\\\\\r\\nProfesor  de Tiempo Completo\\\\\\r\\nInstituto de F\\'\\i sica\\\\\\r\\nUniversidad de Antioquia</td>\n",
       "      <td>1</td>\n",
       "    </tr>\n",
       "    <tr>\n",
       "      <th>1</th>\n",
       "      <td>Diego_cc</td>\n",
       "      <td>Diego Alejandro Restrepo Quintero\\\\\\r\\nC\\'edula de Ciudadania: 98554575</td>\n",
       "      <td>2</td>\n",
       "    </tr>\n",
       "    <tr>\n",
       "      <th>2</th>\n",
       "      <td>Diego Enrico Nelson</td>\n",
       "      <td>\\parbox[t]{6cm}{\\r\\n\\hrulefill\\hspace{1cm}{\\quad}\\\\\\r\\nDiego Restrepo\\\\\\r\\nDocente aspirante a\\\\\\r\\nProfesor Auxiliar\\\\\\r\\nInstituto de F\\'\\i sica\\\\\\r\\nUniversidad de Antioquia}\\parbox[t]{6cm}{\\r\\n\\hrulefill\\hspace{1cm}{\\quad}\\\\\\r\\nVo. Bo.\\\\\\r\\nEnrico Nardi\\\\\\r\\nCoordinador\\\\\\r\\nGrupo de Fenomenolog\\'\\i a de\\\\\\r\\nInteracciones Fundamentales\\\\\\r\\nInstituto de F\\'\\i sica\\\\\\r\\nUniversidad de Antioquia}\\parbox[t]{6cm}{\\r\\n\\hrulefill\\hspace{1cm}{\\quad}\\\\\\r\\nVo. Bo.\\\\\\r\\nNelson Vanegas A.\\\\\\r\\nDir...</td>\n",
       "      <td>3</td>\n",
       "    </tr>\n",
       "    <tr>\n",
       "      <th>3</th>\n",
       "      <td>Diego_simple</td>\n",
       "      <td>Diego Restrepo\\\\\\r\\nFull  Time Professor\\\\\\r\\nInstituto de F\\'\\i sica\\\\\\r\\nUniversidad de Antioquia</td>\n",
       "      <td>4</td>\n",
       "    </tr>\n",
       "    <tr>\n",
       "      <th>4</th>\n",
       "      <td>Diego Nelson</td>\n",
       "      <td>\\parbox[t]{9cm}{Diego Restrepo\\\\\\r\\nProfesor de Tiempo Completo\\\\\\r\\nInstituto de Física\\\\\\r\\nUniversidad de Antioquia}\\parbox[t]{4cm}{\\r\\n%Oscar Zapata\\\\\\r\\n%Profesor de Tiempo Completo\\\\\\r\\n%Instituto de Física\\\\\\r\\n%Universidad de Antioquia\\r\\nVo. Bo.\\\\\\r\\nJohans Restrepo\\\\\\r\\nDirector\\\\\\r\\nInstituto de Física\\\\\\r\\nUniversidad de Antioquia.\\r\\n}</td>\n",
       "      <td>5</td>\n",
       "    </tr>\n",
       "    <tr>\n",
       "      <th>5</th>\n",
       "      <td>Nelson Decano</td>\n",
       "      <td>\\parbox[t]{9cm}{Vo. Bo.\\\\\\r\\nNelson Vanegas A.\\\\\\r\\nDirector\\\\\\r\\nInstituto de Física\\\\\\r\\nUniversidad de Antioquia}\\parbox[t]{4cm}{Vo. Bo.\\\\\\r\\nNéstor López Aristizabal\\\\\\r\\nDecano\\\\\\r\\nFacultad de Ciencias Exáctas y Naturales\\\\\\r\\nUniversidad de Antioquia}</td>\n",
       "      <td>6</td>\n",
       "    </tr>\n",
       "    <tr>\n",
       "      <th>6</th>\n",
       "      <td>Diego editable</td>\n",
       "      <td>Diego Alejandro Restrepo Quintero\\\\\\r\\nProfesor Asociado\\\\\\r\\nUniversidad de Antioquia\\\\\\r\\nCoordinador Comité Organizador,\\\\\\r\\nX Simposio Latinoamericano de Física de Altas Energías</td>\n",
       "      <td>7</td>\n",
       "    </tr>\n",
       "    <tr>\n",
       "      <th>7</th>\n",
       "      <td>Diego_en_sign</td>\n",
       "      <td>\\includegraphics[scale=0.4]{firma}\\\\\\r\\n\\noindent\\r\\nDiego Restrepo\\\\\\r\\nFull  Time Professor\\\\\\r\\nInstituto de F\\'\\i sica\\\\\\r\\nUniversidad de Antioquia</td>\n",
       "      <td>8</td>\n",
       "    </tr>\n",
       "    <tr>\n",
       "      <th>8</th>\n",
       "      <td>Diego_en</td>\n",
       "      <td>Diego Restrepo\\\\\\r\\nFull  Time Professor\\\\\\r\\nInstituto de F\\'\\i sica\\\\\\r\\nUniversidad de Antioquia</td>\n",
       "      <td>9</td>\n",
       "    </tr>\n",
       "    <tr>\n",
       "      <th>9</th>\n",
       "      <td>Diego_es_sign</td>\n",
       "      <td>\\includegraphics[scale=0.4]{firma}\\\\\\r\\n\\noindent\\r\\nDiego Restrepo\\\\\\r\\nProfesor Titular\\\\\\r\\nInstituto de Física\\\\\\r\\nUniversidad de Antioquia</td>\n",
       "      <td>10</td>\n",
       "    </tr>\n",
       "    <tr>\n",
       "      <th>10</th>\n",
       "      <td>Coordinador_E</td>\n",
       "      <td>Diego Restrepo\\\\\\r\\nCoordinador de Posgrado\\\\\\r\\nInstituto de Física\\\\\\r\\nUniversidad de Antioquia</td>\n",
       "      <td>11</td>\n",
       "    </tr>\n",
       "    <tr>\n",
       "      <th>11</th>\n",
       "      <td>VBo</td>\n",
       "      <td>\\parbox[t]{10cm}{Diego Restrepo\\\\\\r\\nProfesor de Tiempo Completo\\\\\\r\\nInstituto de Física\\\\\\r\\nUniversidad de Antioquia}\\parbox[t]{5cm}{V$^{\\hbox{o}}$B$^{\\hbox{o}}$\\\\\\r\\nNora E. Restrepo Sánchez\\\\\\r\\nDecana\\\\\\r\\nFacultad de Ciencias Exactas y Naturales\\\\\\r\\nUniversidad de Antioquia}</td>\n",
       "      <td>12</td>\n",
       "    </tr>\n",
       "    <tr>\n",
       "      <th>12</th>\n",
       "      <td>Diego IP</td>\n",
       "      <td>Diego Restrepo\\\\\\r\\nInvestigador Principal\\\\\\r\\nProfesor  de Tiempo Completo\\\\\\r\\nInstituto de F\\'\\i sica\\\\\\r\\nUniversidad de Antioquia</td>\n",
       "      <td>13</td>\n",
       "    </tr>\n",
       "    <tr>\n",
       "      <th>13</th>\n",
       "      <td>Diego IP_sign</td>\n",
       "      <td>\\includegraphics[scale=0.4]{firma}\\\\\\r\\n\\noindent\\r\\nDiego Restrepo\\\\\\r\\nInvestigador Principal\\\\\\r\\nProfesor  de Tiempo Completo\\\\\\r\\nInstituto de Física\\\\\\r\\nUniversidad de Antioquia</td>\n",
       "      <td>14</td>\n",
       "    </tr>\n",
       "    <tr>\n",
       "      <th>14</th>\n",
       "      <td>oscar</td>\n",
       "      <td>Óscar Zapata\\\\\\r\\nProfesor  de Tiempo Completo\\\\\\r\\nInstituto de F\\'\\i sica\\\\\\r\\nUniversidad de Antioquia</td>\n",
       "      <td>15</td>\n",
       "    </tr>\n",
       "  </tbody>\n",
       "</table>\n",
       "</div>"
      ],
      "text/plain": [
       "              signature  \\\n",
       "0                 Diego   \n",
       "1              Diego_cc   \n",
       "2   Diego Enrico Nelson   \n",
       "3          Diego_simple   \n",
       "4          Diego Nelson   \n",
       "5         Nelson Decano   \n",
       "6        Diego editable   \n",
       "7         Diego_en_sign   \n",
       "8              Diego_en   \n",
       "9         Diego_es_sign   \n",
       "10        Coordinador_E   \n",
       "11                  VBo   \n",
       "12             Diego IP   \n",
       "13        Diego IP_sign   \n",
       "14                oscar   \n",
       "\n",
       "                                                                                                                                                                                                                                                                                                                                                                                                                                                                                                                   sign  \\\n",
       "0                                                                                                                                                                                                                                                                                                                                                                                                           Diego Restrepo\\\\\\r\\nProfesor  de Tiempo Completo\\\\\\r\\nInstituto de F\\'\\i sica\\\\\\r\\nUniversidad de Antioquia   \n",
       "1                                                                                                                                                                                                                                                                                                                                                                                                                                               Diego Alejandro Restrepo Quintero\\\\\\r\\nC\\'edula de Ciudadania: 98554575   \n",
       "2   \\parbox[t]{6cm}{\\r\\n\\hrulefill\\hspace{1cm}{\\quad}\\\\\\r\\nDiego Restrepo\\\\\\r\\nDocente aspirante a\\\\\\r\\nProfesor Auxiliar\\\\\\r\\nInstituto de F\\'\\i sica\\\\\\r\\nUniversidad de Antioquia}\\parbox[t]{6cm}{\\r\\n\\hrulefill\\hspace{1cm}{\\quad}\\\\\\r\\nVo. Bo.\\\\\\r\\nEnrico Nardi\\\\\\r\\nCoordinador\\\\\\r\\nGrupo de Fenomenolog\\'\\i a de\\\\\\r\\nInteracciones Fundamentales\\\\\\r\\nInstituto de F\\'\\i sica\\\\\\r\\nUniversidad de Antioquia}\\parbox[t]{6cm}{\\r\\n\\hrulefill\\hspace{1cm}{\\quad}\\\\\\r\\nVo. Bo.\\\\\\r\\nNelson Vanegas A.\\\\\\r\\nDir...   \n",
       "3                                                                                                                                                                                                                                                                                                                                                                                                                   Diego Restrepo\\\\\\r\\nFull  Time Professor\\\\\\r\\nInstituto de F\\'\\i sica\\\\\\r\\nUniversidad de Antioquia   \n",
       "4                                                                                                                                                        \\parbox[t]{9cm}{Diego Restrepo\\\\\\r\\nProfesor de Tiempo Completo\\\\\\r\\nInstituto de Física\\\\\\r\\nUniversidad de Antioquia}\\parbox[t]{4cm}{\\r\\n%Oscar Zapata\\\\\\r\\n%Profesor de Tiempo Completo\\\\\\r\\n%Instituto de Física\\\\\\r\\n%Universidad de Antioquia\\r\\nVo. Bo.\\\\\\r\\nJohans Restrepo\\\\\\r\\nDirector\\\\\\r\\nInstituto de Física\\\\\\r\\nUniversidad de Antioquia.\\r\\n}   \n",
       "5                                                                                                                                                                                                                                                    \\parbox[t]{9cm}{Vo. Bo.\\\\\\r\\nNelson Vanegas A.\\\\\\r\\nDirector\\\\\\r\\nInstituto de Física\\\\\\r\\nUniversidad de Antioquia}\\parbox[t]{4cm}{Vo. Bo.\\\\\\r\\nNéstor López Aristizabal\\\\\\r\\nDecano\\\\\\r\\nFacultad de Ciencias Exáctas y Naturales\\\\\\r\\nUniversidad de Antioquia}   \n",
       "6                                                                                                                                                                                                                                                                                                                               Diego Alejandro Restrepo Quintero\\\\\\r\\nProfesor Asociado\\\\\\r\\nUniversidad de Antioquia\\\\\\r\\nCoordinador Comité Organizador,\\\\\\r\\nX Simposio Latinoamericano de Física de Altas Energías   \n",
       "7                                                                                                                                                                                                                                                                                                                                                              \\includegraphics[scale=0.4]{firma}\\\\\\r\\n\\noindent\\r\\nDiego Restrepo\\\\\\r\\nFull  Time Professor\\\\\\r\\nInstituto de F\\'\\i sica\\\\\\r\\nUniversidad de Antioquia   \n",
       "8                                                                                                                                                                                                                                                                                                                                                                                                                   Diego Restrepo\\\\\\r\\nFull  Time Professor\\\\\\r\\nInstituto de F\\'\\i sica\\\\\\r\\nUniversidad de Antioquia   \n",
       "9                                                                                                                                                                                                                                                                                                                                                                      \\includegraphics[scale=0.4]{firma}\\\\\\r\\n\\noindent\\r\\nDiego Restrepo\\\\\\r\\nProfesor Titular\\\\\\r\\nInstituto de Física\\\\\\r\\nUniversidad de Antioquia   \n",
       "10                                                                                                                                                                                                                                                                                                                                                                                                                   Diego Restrepo\\\\\\r\\nCoordinador de Posgrado\\\\\\r\\nInstituto de Física\\\\\\r\\nUniversidad de Antioquia   \n",
       "11                                                                                                                                                                                                                          \\parbox[t]{10cm}{Diego Restrepo\\\\\\r\\nProfesor de Tiempo Completo\\\\\\r\\nInstituto de Física\\\\\\r\\nUniversidad de Antioquia}\\parbox[t]{5cm}{V$^{\\hbox{o}}$B$^{\\hbox{o}}$\\\\\\r\\nNora E. Restrepo Sánchez\\\\\\r\\nDecana\\\\\\r\\nFacultad de Ciencias Exactas y Naturales\\\\\\r\\nUniversidad de Antioquia}   \n",
       "12                                                                                                                                                                                                                                                                                                                                                                              Diego Restrepo\\\\\\r\\nInvestigador Principal\\\\\\r\\nProfesor  de Tiempo Completo\\\\\\r\\nInstituto de F\\'\\i sica\\\\\\r\\nUniversidad de Antioquia   \n",
       "13                                                                                                                                                                                                                                                                                                                             \\includegraphics[scale=0.4]{firma}\\\\\\r\\n\\noindent\\r\\nDiego Restrepo\\\\\\r\\nInvestigador Principal\\\\\\r\\nProfesor  de Tiempo Completo\\\\\\r\\nInstituto de Física\\\\\\r\\nUniversidad de Antioquia   \n",
       "14                                                                                                                                                                                                                                                                                                                                                                                                            Óscar Zapata\\\\\\r\\nProfesor  de Tiempo Completo\\\\\\r\\nInstituto de F\\'\\i sica\\\\\\r\\nUniversidad de Antioquia   \n",
       "\n",
       "    idsing  \n",
       "0        1  \n",
       "1        2  \n",
       "2        3  \n",
       "3        4  \n",
       "4        5  \n",
       "5        6  \n",
       "6        7  \n",
       "7        8  \n",
       "8        9  \n",
       "9       10  \n",
       "10      11  \n",
       "11      12  \n",
       "12      13  \n",
       "13      14  \n",
       "14      15  "
      ]
     },
     "execution_count": 24,
     "metadata": {},
     "output_type": "execute_result"
    }
   ],
   "source": [
    "sg"
   ]
  },
  {
   "cell_type": "code",
   "execution_count": null,
   "metadata": {},
   "outputs": [],
   "source": [
    "id=None # last\n",
    "#id=176 #Invitation letter\n",
    "#id=281 # Invitado Nacional\n",
    "#id=289 # Super recommendation corrected\n",
    "#id=283 #certificado estancia\n",
    "#id=307 # Generic Recommmendation letter\n",
    "#id=300 #Generic Aval horas de investigación\n",
    "#id=105\n",
    "data_base='Diego_Restrepo' #Diego_Restrepo;cartas_gfif;seminarios\n",
    "#data_base='cartas_gfif' #Diego_Restrepo;cartas_gfif;seminarios\n",
    "try:\n",
    "    if id:\n",
    "        db=database_to_pandas(choose_db=data_base,main_table='cartas',id=id)\n",
    "    else:    \n",
    "        db=database_to_pandas(choose_db=data_base,main_table='cartas')\n",
    "except KeyError:\n",
    "    sys.exit('Uncomment Personal Data Base')       "
   ]
  },
  {
   "cell_type": "code",
   "execution_count": null,
   "metadata": {},
   "outputs": [],
   "source": [
    "if id:\n",
    "    latexfile=db.to_pdf(cartas,pdf='cartas.pdf',\n",
    "            dwld_dir='/home/restrepo/downloads',\n",
    "            url_dir='http://fisica.udea.edu.co/downloads',id=id)\n",
    "else:\n",
    "    latexfile=db.to_pdf(cartas,pdf='cartas.pdf',\n",
    "            dwld_dir='/home/restrepo/downloads',\n",
    "            url_dir='http://fisica.udea.edu.co/downloads')"
   ]
  },
  {
   "cell_type": "code",
   "execution_count": null,
   "metadata": {},
   "outputs": [],
   "source": [
    "db.pandas_DataFrame.loc[300]"
   ]
  },
  {
   "cell_type": "code",
   "execution_count": null,
   "metadata": {},
   "outputs": [],
   "source": [
    "print( db.pandas_DataFrame.loc[300,'para'] )"
   ]
  },
  {
   "cell_type": "code",
   "execution_count": null,
   "metadata": {},
   "outputs": [],
   "source": [
    "print( db.pandas_DataFrame.loc[300,'body'] )"
   ]
  },
  {
   "cell_type": "markdown",
   "metadata": {},
   "source": [
    "\\def\\proyecto{\n",
    "%1: de movilidad Sao Paulo - Universidad de Antioquia  ``SPRINT – 3rd Edition 2019''\n",
    "%2:``FAPESP - UNIVERSIDAD DE ANTIOQUIA 2019''\n",
    "%3: MÉTRICAS DE VINCULACIÓN UNIVERSIDAD ENTORNO ETAPA 3\n",
    "%4:\n",
    "``Desarrollo de algoritmos para la detección de neumonía y SARS-Cov-2 usando imágenes de Rayos-X.''\n",
    "}\n",
    "\n",
    "Solicito el aval para enviar el proyecto  \\proyecto \n",
    "y del cual soy el investigador principal. Dicho proyecto se realiza en el marco del  \n",
    "Fondo de apoyo a los grupos de trabajo de la iniciativa \\#UdeA responde al Covid-19.\n",
    "Dicho proyecto se hace en conjunto con la Facultad de Medicina y el CERN a través de un\n",
    "convenio interinsitucional con la dedicación de 6 horas semanalas del coinvestigador del CERN: Omar Zapata.\n",
    "\n",
    "La duración del proyecto será de 9 meses. \n",
    "\n",
    "Se adjunta el borrador de la propuesta en trámite y el presupuesto"
   ]
  },
  {
   "cell_type": "markdown",
   "metadata": {},
   "source": [
    "### Other databases"
   ]
  },
  {
   "cell_type": "code",
   "execution_count": null,
   "metadata": {},
   "outputs": [],
   "source": [
    "dbs=database_to_pandas(choose_db='seminarios',main_table='talks',aux_tables='')"
   ]
  },
  {
   "cell_type": "code",
   "execution_count": null,
   "metadata": {},
   "outputs": [],
   "source": [
    "lfs=dbs.to_pdf(seminarios,pdf='seminarios.pdf',\n",
    "        dwld_dir='/home/restrepo/downloads',\n",
    "        url_dir='http://gfif.udea.edu.co/downloads')"
   ]
  },
  {
   "cell_type": "markdown",
   "metadata": {},
   "source": [
    "### Get DataFrame"
   ]
  },
  {
   "cell_type": "code",
   "execution_count": null,
   "metadata": {},
   "outputs": [],
   "source": [
    "db.pandas_DataFrame.to_excel('kk.xlsx',index=False)"
   ]
  },
  {
   "cell_type": "markdown",
   "metadata": {},
   "source": [
    "## Manual"
   ]
  },
  {
   "cell_type": "code",
   "execution_count": null,
   "metadata": {},
   "outputs": [],
   "source": [
    "latexfile"
   ]
  },
  {
   "cell_type": "code",
   "execution_count": null,
   "metadata": {},
   "outputs": [],
   "source": [
    "password=getpass.getpass()"
   ]
  },
  {
   "cell_type": "code",
   "execution_count": null,
   "metadata": {},
   "outputs": [],
   "source": [
    "choose_db=0\n",
    "tipo_carta=['Diego_Restrepo', 'cartas_gfif']\n",
    "\n",
    "conn = pymysql.connect(host='localhost', port=3306, user='root', passwd=password, db=tipo_carta[choose_db])\n",
    "\n",
    "df=pd.read_sql('select * from cartas;', con=conn)\n",
    "\n",
    "sg=pd.read_sql('select * from cartas_sign;', con=conn)"
   ]
  },
  {
   "cell_type": "code",
   "execution_count": null,
   "metadata": {},
   "outputs": [],
   "source": [
    "conn.close()Implicaciones de modelos de materia oscura en experimentos de detección directa"
   ]
  },
  {
   "cell_type": "code",
   "execution_count": null,
   "metadata": {},
   "outputs": [],
   "source": [
    "df=df[df.body.str.lower().str.contains('editor')]"
   ]
  },
  {
   "cell_type": "code",
   "execution_count": null,
   "metadata": {},
   "outputs": [],
   "source": [
    "df=df[df.id==281]"
   ]
  },
  {
   "cell_type": "markdown",
   "metadata": {},
   "source": [
    "Last entry"
   ]
  },
  {
   "cell_type": "code",
   "execution_count": null,
   "metadata": {},
   "outputs": [],
   "source": [
    "df"
   ]
  },
  {
   "cell_type": "code",
   "execution_count": null,
   "metadata": {},
   "outputs": [],
   "source": [
    "c=df[df.id==df.id.values[-1]].reset_index(drop=True).loc[0]\n",
    "c['sign']=sg[sg.signature==c.signature].reset_index(drop=True).loc[0,'sign']"
   ]
  },
  {
   "cell_type": "code",
   "execution_count": null,
   "metadata": {},
   "outputs": [],
   "source": [
    "c"
   ]
  },
  {
   "cell_type": "code",
   "execution_count": null,
   "metadata": {},
   "outputs": [],
   "source": [
    "row=c"
   ]
  },
  {
   "cell_type": "code",
   "execution_count": null,
   "metadata": {},
   "outputs": [],
   "source": [
    "lo=generate_pdf(row)"
   ]
  },
  {
   "cell_type": "code",
   "execution_count": null,
   "metadata": {},
   "outputs": [],
   "source": [
    "print(lo[0].decode('utf8'))Implicaciones de modelos de materia oscura en experimentos de detección directa"
   ]
  },
  {
   "cell_type": "code",
   "execution_count": null,
   "metadata": {},
   "outputs": [],
   "source": [
    "c.sign"
   ]
  },
  {
   "cell_type": "code",
   "execution_count": null,
   "metadata": {},
   "outputs": [],
   "source": [
    "ok"
   ]
  },
  {
   "cell_type": "code",
   "execution_count": null,
   "metadata": {},
   "outputs": [],
   "source": [
    "'mysqldump -u root -p{:s} {:s} > db_{:s}_backup.sql'.format(password,tipo_carta[NTC],tipo_carta[NTC]).split()"
   ]
  },
  {
   "cell_type": "markdown",
   "metadata": {},
   "source": [
    "## Search in body"
   ]
  },
  {
   "cell_type": "code",
   "execution_count": null,
   "metadata": {},
   "outputs": [],
   "source": [
    "id=99\n",
    "if id >0:\n",
    "    dfs=df[df.id==id].reset_index(drop=True)\n",
    "else:    \n",
    "    dfs=df[df.body.str.lower().map(unidecode.unidecode).str.contains('impacto social')].reset_index(drop=True)"
   ]
  },
  {
   "cell_type": "code",
   "execution_count": null,
   "metadata": {},
   "outputs": [],
   "source": [
    "dfs"
   ]
  },
  {
   "cell_type": "code",
   "execution_count": null,
   "metadata": {},
   "outputs": [],
   "source": [
    "c=dfs.loc[dfs.index.values[-1]]"
   ]
  },
  {
   "cell_type": "code",
   "execution_count": null,
   "metadata": {},
   "outputs": [],
   "source": [
    "c"
   ]
  },
  {
   "cell_type": "code",
   "execution_count": null,
   "metadata": {},
   "outputs": [],
   "source": [
    "c.keys().values"
   ]
  },
  {
   "cell_type": "code",
   "execution_count": null,
   "metadata": {},
   "outputs": [],
   "source": [
    "for k in c.keys():\n",
    "    print(k)\n",
    "    if c[k]==None:\n",
    "        c[k]=''Implicaciones de modelos de materia oscura en experimentos de detección directa"
   ]
  },
  {
   "cell_type": "code",
   "execution_count": null,
   "metadata": {},
   "outputs": [],
   "source": [
    "c.closing"
   ]
  },
  {
   "cell_type": "code",
   "execution_count": null,
   "metadata": {},
   "outputs": [],
   "source": [
    "c.closing"
   ]
  },
  {
   "cell_type": "code",
   "execution_count": null,
   "metadata": {},
   "outputs": [],
   "source": [
    "latexfile=r'''\n",
    "%'''+c.description+r'''\n",
    "\\documentclass{letter}\n",
    "\\usepackage[utf8]{inputenc}\n",
    "'''+c.preamble+r'''\n",
    "'''+c.address+r'''\n",
    "\\signature{'''+sg[sg.signature==c.signature].sign.values[0]+r'''}\n",
    "\\begin{document}\n",
    "\\begin{letter}{'''+c.para+r'''}\n",
    "\n",
    "\\opening{'''+c.opening+r'''} \n",
    "\n",
    "'''+c.body+r'''\n",
    "\n",
    "\\closing{'''+c.closing+r'''}\n",
    "\\end{letter}\n",
    "\\end{document}\n",
    "'''"
   ]
  },
  {
   "cell_type": "code",
   "execution_count": null,
   "metadata": {},
   "outputs": [],
   "source": [
    "print(latexfile)"
   ]
  },
  {
   "cell_type": "code",
   "execution_count": null,
   "metadata": {},
   "outputs": [],
   "source": [
    "f=tempfile.NamedTemporaryFile('w',suffix='.tex',delete=False)"
   ]
  },
  {
   "cell_type": "code",
   "execution_count": null,
   "metadata": {},
   "outputs": [],
   "source": [
    "f.write(latexfile)"
   ]
  },
  {
   "cell_type": "code",
   "execution_count": null,
   "metadata": {},
   "outputs": [],
   "source": [
    "f.name"
   ]
  },
  {
   "cell_type": "code",
   "execution_count": null,
   "metadata": {},
   "outputs": [],
   "source": [
    "f.close()"
   ]
  },
  {
   "cell_type": "code",
   "execution_count": null,
   "metadata": {},
   "outputs": [],
   "source": [
    "lo=subprocess.Popen('pdflatex {:s}'.format(f.name).split(),cwd='/tmp',stdout=subprocess.PIPE,stderr=subprocess.PIPE).communicate()"
   ]
  },
  {
   "cell_type": "code",
   "execution_count": null,
   "metadata": {},
   "outputs": [],
   "source": [
    "pdffile='{:s}'.format(f.name).split('.tex')[0]+'.pdf'\n",
    "if lo[0].decode('utf8').find(pdffile.split('/')[-1])>-1:\n",
    "    pdf='carta_{:d}.pdf'.format(c['id'])\n",
    "    dwld_dir='downloads'\n",
    "    kk=subprocess.Popen('mv {:s} /var/www/{:s}/{:s}'.format(pdffile,dwld_dir,pdf).split()).communicate()\n",
    "    print('output in http://gfif.udea.edu.co/{:s}/{:s}'.format(dwld_dir,pdf))\n",
    "    for suffix in  ['.aux','.log','.out','.tex']:\n",
    "        subprocess.Popen( ['rm', '{:s}'.format(f.name).split('.tex')[0]+suffix] ).communicate()\n",
    "else:\n",
    "    sys.exit('LaTeX ERROR:')    "
   ]
  },
  {
   "cell_type": "code",
   "execution_count": null,
   "metadata": {},
   "outputs": [],
   "source": [
    "%pycat database_to_pandas.py"
   ]
  },
  {
   "cell_type": "code",
   "execution_count": null,
   "metadata": {},
   "outputs": [],
   "source": [
    "r'https://scholar.google.com/scholar?hl=en&q=doi'"
   ]
  },
  {
   "cell_type": "code",
   "execution_count": 1,
   "metadata": {},
   "outputs": [
    {
     "data": {
      "text/plain": [
       "'EFFECT+OF+CADMIUM+CONTAMINATION+ON+THE+RHIZOSPHERE+BACTERIAL+DIVERSITY+OF+Echinocactus+platyancanthus'"
      ]
     },
     "execution_count": 1,
     "metadata": {},
     "output_type": "execute_result"
    }
   ],
   "source": [
    "\"EFFECT OF CADMIUM CONTAMINATION ON THE RHIZOSPHERE BACTERIAL DIVERSITY OF Echinocactus platyancanthus\".replace(' ','+')"
   ]
  },
  {
   "cell_type": "code",
   "execution_count": null,
   "metadata": {},
   "outputs": [],
   "source": []
  }
 ],
 "metadata": {
  "kernelspec": {
   "display_name": "Python 3 (ipykernel)",
   "language": "python",
   "name": "python3"
  },
  "language_info": {
   "codemirror_mode": {
    "name": "ipython",
    "version": 3
   },
   "file_extension": ".py",
   "mimetype": "text/x-python",
   "name": "python",
   "nbconvert_exporter": "python",
   "pygments_lexer": "ipython3",
   "version": "3.11.2"
  },
  "latex_envs": {
   "LaTeX_envs_menu_present": true,
   "autoclose": false,
   "autocomplete": true,
   "bibliofile": "biblio.bib",
   "cite_by": "apalike",
   "current_citInitial": 1,
   "eqLabelWithNumbers": true,
   "eqNumInitial": 1,
   "hotkeys": {
    "equation": "Ctrl-E",
    "itemize": "Ctrl-I"
   },
   "labels_anchors": false,
   "latex_user_defs": false,
   "report_style_numbering": false,
   "user_envs_cfg": false
  }
 },
 "nbformat": 4,
 "nbformat_minor": 4
}
