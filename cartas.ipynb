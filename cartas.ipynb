{
 "cells": [
  {
   "cell_type": "markdown",
   "metadata": {},
   "source": [
    "# Read a MySQL DataBase and generate specific output"
   ]
  },
  {
   "cell_type": "code",
   "execution_count": 5,
   "metadata": {},
   "outputs": [],
   "source": [
    "import getpass\n",
    "import pymysql\n",
    "import unidecode\n",
    "import pandas as pd\n",
    "import tempfile\n",
    "import subprocess\n",
    "import sys\n",
    "\n",
    "pd.set_option('display.max_rows', 500)\n",
    "pd.set_option('display.max_columns', 500)\n",
    "pd.set_option('display.max_colwidth',500)\n",
    "\n",
    "def generate_pdf(row):\n",
    "    latexfile=r'''\n",
    "%'''+row.description+r'''\n",
    "\\documentclass{letter}\n",
    "\\usepackage[utf8]{inputenc}\n",
    "'''+row.preamble+r'''\n",
    "'''+row.address+r'''\n",
    "\\signature{'''+row.sign+r'''}\n",
    "\\begin{document}\n",
    "\\begin{letter}{'''+row.para+r'''}\n",
    "\n",
    "\\opening{'''+row.opening+r'''} \n",
    "\n",
    "'''+row.body+r'''\n",
    "\n",
    "\\closing{'''+row.closing+r'''}\n",
    "\\end{letter}\n",
    "\\end{document}\n",
    "'''\n",
    "    f=tempfile.NamedTemporaryFile('w',suffix='.tex',delete=False)\n",
    "    f.write(latexfile)\n",
    "    f.close()\n",
    "    lo=subprocess.Popen('pdflatex {:s}'.format(f.name).split(),cwd='/tmp',\n",
    "                        stdout=subprocess.PIPE,stderr=subprocess.PIPE).communicate()\n",
    "    pdffile='{:s}'.format(f.name).split('.tex')[0]+'.pdf'\n",
    "    if lo[0].decode('utf8').find(pdffile.split('/')[-1])>-1:\n",
    "        pdf='carta_{:d}.pdf'.format(row['id'])\n",
    "        dwld_dir='downloads'\n",
    "        kk=subprocess.Popen('mv {:s} /var/www/{:s}/{:s}'.format(pdffile,dwld_dir,pdf).split()).communicate()\n",
    "        print('output in http://gfif.udea.edu.co/{:s}/{:s}'.format(dwld_dir,pdf))\n",
    "        for suffix in  ['.aux','.log','.out','.tex']:\n",
    "            subprocess.Popen( ['rm', '{:s}'.format(f.name).split('.tex')[0]+suffix] ).communicate()\n",
    "    else:\n",
    "        sys.exit('LaTeX ERROR:')    \n",
    "    return latexfile\n",
    "\n",
    "def db_to_pdf(choose_db=0):\n",
    "    '''\n",
    "    Obtain letter from the last DB entry\n",
    "    Type of letter: \n",
    "      * 0 Personal\n",
    "      * 1 Group\n",
    "    '''\n",
    "    password=getpass.getpass()\n",
    "    tipo_carta=['Diego_Restrepo', 'cartas_gfif']\n",
    "    conn = pymysql.connect(host='localhost', port=3306, user='root', passwd=password, db=tipo_carta[0])\n",
    "\n",
    "    df=pd.read_sql('select * from cartas;', con=conn)\n",
    "\n",
    "    sg=pd.read_sql('select * from cartas_sign;', con=conn)\n",
    "    \n",
    "    \n",
    "    conn.close()\n",
    "    #print(df.shape[0])\n",
    "    #return df,sg\n",
    "    if df.shape[0]:\n",
    "        c=df[df.id==df.id.values[-1]].reset_index(drop=True).loc[0]\n",
    "        c['sign']=sg[sg.signature==c.signature].reset_index(drop=True).loc[0,'sign']\n",
    "    else:\n",
    "        return df\n",
    "\n",
    "    \n",
    "    \n",
    "    return generate_pdf(c)"
   ]
  },
  {
   "cell_type": "code",
   "execution_count": null,
   "metadata": {},
   "outputs": [],
   "source": [
    "latexfile=db_to_pdf()"
   ]
  },
  {
   "cell_type": "code",
   "execution_count": 17,
   "metadata": {},
   "outputs": [],
   "source": [
    "df,sg=latexfile"
   ]
  },
  {
   "cell_type": "code",
   "execution_count": 20,
   "metadata": {},
   "outputs": [],
   "source": [
    "c=df[df.id==df.id.values[-1]].reset_index(drop=True).loc[0]"
   ]
  },
  {
   "cell_type": "code",
   "execution_count": 21,
   "metadata": {},
   "outputs": [],
   "source": [
    "c['sign']=sg[sg.signature==c.signature].reset_index(drop=True).loc[0,'sign']"
   ]
  },
  {
   "cell_type": "code",
   "execution_count": null,
   "metadata": {},
   "outputs": [],
   "source": [
    "generate_pdf(c)"
   ]
  },
  {
   "cell_type": "markdown",
   "metadata": {},
   "source": [
    "## Manual"
   ]
  },
  {
   "cell_type": "code",
   "execution_count": 7,
   "metadata": {},
   "outputs": [
    {
     "name": "stdout",
     "output_type": "stream",
     "text": [
      "········\n"
     ]
    }
   ],
   "source": [
    "password=getpass.getpass()"
   ]
  },
  {
   "cell_type": "code",
   "execution_count": 8,
   "metadata": {
    "collapsed": true
   },
   "outputs": [],
   "source": [
    "tipo_carta=['Diego_Restrepo', 'cartas_gfif']\n",
    "conn = pymysql.connect(host='localhost', port=3306, user='root', passwd=password, db=tipo_carta[0])\n",
    "\n",
    "df=pd.read_sql('select * from cartas;', con=conn)\n",
    "\n",
    "sg=pd.read_sql('select * from cartas_sign;', con=conn)"
   ]
  },
  {
   "cell_type": "code",
   "execution_count": 9,
   "metadata": {},
   "outputs": [],
   "source": [
    "conn.close()"
   ]
  },
  {
   "cell_type": "markdown",
   "metadata": {},
   "source": [
    "Last entry"
   ]
  },
  {
   "cell_type": "code",
   "execution_count": 14,
   "metadata": {},
   "outputs": [],
   "source": [
    "c=df[df.id==df.id.values[-1]].reset_index(drop=True).loc[0]\n",
    "c['sign']=sg[sg.signature==c.signature].reset_index(drop=True).loc[0,'sign']"
   ]
  },
  {
   "cell_type": "code",
   "execution_count": null,
   "metadata": {},
   "outputs": [],
   "source": [
    "c"
   ]
  },
  {
   "cell_type": "code",
   "execution_count": null,
   "metadata": {},
   "outputs": [],
   "source": [
    "c.sign"
   ]
  },
  {
   "cell_type": "markdown",
   "metadata": {},
   "source": [
    "## Search in body"
   ]
  },
  {
   "cell_type": "code",
   "execution_count": 50,
   "metadata": {
    "collapsed": true
   },
   "outputs": [],
   "source": [
    "id=99\n",
    "if id >0:\n",
    "    dfs=df[df.id==id].reset_index(drop=True)\n",
    "else:    \n",
    "    dfs=df[df.body.str.lower().map(unidecode.unidecode).str.contains('impacto social')].reset_index(drop=True)"
   ]
  },
  {
   "cell_type": "code",
   "execution_count": null,
   "metadata": {},
   "outputs": [],
   "source": [
    "dfs"
   ]
  },
  {
   "cell_type": "code",
   "execution_count": 52,
   "metadata": {
    "collapsed": true
   },
   "outputs": [],
   "source": [
    "c=dfs.loc[dfs.index.values[-1]]"
   ]
  },
  {
   "cell_type": "code",
   "execution_count": null,
   "metadata": {},
   "outputs": [],
   "source": [
    "c"
   ]
  },
  {
   "cell_type": "code",
   "execution_count": null,
   "metadata": {},
   "outputs": [],
   "source": [
    "c.keys().values"
   ]
  },
  {
   "cell_type": "code",
   "execution_count": null,
   "metadata": {},
   "outputs": [],
   "source": [
    "for k in c.keys():\n",
    "    print(k)\n",
    "    if c[k]==None:\n",
    "        c[k]=''"
   ]
  },
  {
   "cell_type": "code",
   "execution_count": 56,
   "metadata": {
    "collapsed": true
   },
   "outputs": [],
   "source": [
    "latexfile=r'''\n",
    "%'''+c.description+r'''\n",
    "\\documentclass{letter}\n",
    "\\usepackage[utf8]{inputenc}\n",
    "'''+c.preamble+r'''\n",
    "'''+c.address+r'''\n",
    "\\signature{'''+sg[sg.signature==c.signature].sign.values[0]+r'''}\n",
    "\\begin{document}\n",
    "\\begin{letter}{'''+c.para+r'''}\n",
    "\n",
    "\\opening{'''+c.opening+r'''} \n",
    "\n",
    "'''+c.body+r'''\n",
    "\n",
    "\\closing{'''+c.closing+r'''}\n",
    "\\end{letter}\n",
    "\\end{document}\n",
    "'''"
   ]
  },
  {
   "cell_type": "code",
   "execution_count": null,
   "metadata": {},
   "outputs": [],
   "source": [
    "print(latexfile)"
   ]
  },
  {
   "cell_type": "code",
   "execution_count": 58,
   "metadata": {
    "collapsed": true
   },
   "outputs": [],
   "source": [
    "f=tempfile.NamedTemporaryFile('w',suffix='.tex',delete=False)"
   ]
  },
  {
   "cell_type": "code",
   "execution_count": 59,
   "metadata": {},
   "outputs": [
    {
     "data": {
      "text/plain": [
       "2017"
      ]
     },
     "execution_count": 59,
     "metadata": {},
     "output_type": "execute_result"
    }
   ],
   "source": [
    "f.write(latexfile)"
   ]
  },
  {
   "cell_type": "code",
   "execution_count": 60,
   "metadata": {},
   "outputs": [
    {
     "data": {
      "text/plain": [
       "'/tmp/tmppt2pwnu1.tex'"
      ]
     },
     "execution_count": 60,
     "metadata": {},
     "output_type": "execute_result"
    }
   ],
   "source": [
    "f.name"
   ]
  },
  {
   "cell_type": "code",
   "execution_count": 61,
   "metadata": {
    "collapsed": true
   },
   "outputs": [],
   "source": [
    "f.close()"
   ]
  },
  {
   "cell_type": "code",
   "execution_count": 62,
   "metadata": {
    "collapsed": true
   },
   "outputs": [],
   "source": [
    "lo=subprocess.Popen('pdflatex {:s}'.format(f.name).split(),cwd='/tmp',stdout=subprocess.PIPE,stderr=subprocess.PIPE).communicate()"
   ]
  },
  {
   "cell_type": "code",
   "execution_count": null,
   "metadata": {},
   "outputs": [],
   "source": [
    "pdffile='{:s}'.format(f.name).split('.tex')[0]+'.pdf'\n",
    "if lo[0].decode('utf8').find(pdffile.split('/')[-1])>-1:\n",
    "    pdf='carta_{:d}.pdf'.format(c['id'])\n",
    "    dwld_dir='downloads'\n",
    "    kk=subprocess.Popen('mv {:s} /var/www/{:s}/{:s}'.format(pdffile,dwld_dir,pdf).split()).communicate()\n",
    "    print('output in http://gfif.udea.edu.co/{:s}/{:s}'.format(dwld_dir,pdf))\n",
    "    for suffix in  ['.aux','.log','.out','.tex']:\n",
    "        subprocess.Popen( ['rm', '{:s}'.format(f.name).split('.tex')[0]+suffix] ).communicate()\n",
    "else:\n",
    "    sys.exit('LaTeX ERROR:')    "
   ]
  },
  {
   "cell_type": "code",
   "execution_count": null,
   "metadata": {
    "collapsed": true
   },
   "outputs": [],
   "source": []
  }
 ],
 "metadata": {
  "kernelspec": {
   "display_name": "Python 3",
   "language": "python",
   "name": "python3"
  },
  "language_info": {
   "codemirror_mode": {
    "name": "ipython",
    "version": 3
   },
   "file_extension": ".py",
   "mimetype": "text/x-python",
   "name": "python",
   "nbconvert_exporter": "python",
   "pygments_lexer": "ipython3",
   "version": "3.5.3"
  },
  "latex_envs": {
   "LaTeX_envs_menu_present": true,
   "bibliofile": "biblio.bib",
   "cite_by": "apalike",
   "current_citInitial": 1,
   "eqLabelWithNumbers": true,
   "eqNumInitial": 1,
   "labels_anchors": false,
   "latex_user_defs": false,
   "report_style_numbering": false,
   "user_envs_cfg": false
  }
 },
 "nbformat": 4,
 "nbformat_minor": 2
}
