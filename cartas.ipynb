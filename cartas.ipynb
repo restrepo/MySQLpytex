{
 "cells": [
  {
   "cell_type": "markdown",
   "metadata": {},
   "source": [
    "# Read a MySQL DataBase and generate specific output"
   ]
  },
  {
   "cell_type": "code",
   "execution_count": 32,
   "metadata": {
    "collapsed": true
   },
   "outputs": [],
   "source": [
    "import getpass\n",
    "import pymysql\n",
    "import unidecode\n",
    "import pandas as pd\n",
    "import tempfile\n",
    "import subprocess\n",
    "import sys\n",
    "\n",
    "pd.set_option('display.max_rows', 500)\n",
    "pd.set_option('display.max_columns', 500)\n",
    "pd.set_option('display.max_colwidth',500)\n",
    "\n",
    "def generate_pdf(row):\n",
    "    \n",
    "    if row.opening is  None:\n",
    "        row.opening=''\n",
    "    if row.closing is  None:\n",
    "        row.closing=''\n",
    "\n",
    "    latexfile='\\n'\n",
    "    latexfile=latexfile+'%'+row.description+'\\n'\n",
    "    latexfile=latexfile+r'\\documentclass{letter}'+'\\n'\n",
    "    latexfile=latexfile+r'\\usepackage[utf8]{inputenc}'+'\\n'\n",
    "    latexfile=latexfile+row.preamble+'\\n'\n",
    "    latexfile=latexfile+row.address+'\\n'\n",
    "    latexfile=latexfile+r'\\signature{'+row.sign+'}\\n'\n",
    "    latexfile=latexfile+r'\\begin{document}'+'\\n'\n",
    "    latexfile=latexfile+r'\\begin{letter}{'+row.para+'}\\n'\n",
    "    latexfile=latexfile+r'\\opening{'+row.opening+'}\\n'\n",
    "    latexfile=latexfile+row.body+'\\n'\n",
    "    latexfile=latexfile+r'\\closing{'+row.closing+'}\\n'\n",
    "    latexfile=latexfile+r'\\end{letter}'+'\\n'\n",
    "    latexfile=latexfile+r'\\end{document}'+'\\n'\n",
    "\n",
    "    f=tempfile.NamedTemporaryFile('w',suffix='.tex',delete=False)\n",
    "    f.write(latexfile)\n",
    "    f.close()\n",
    "    lo=subprocess.Popen('pdflatex {:s}'.format(f.name).split(),cwd='/tmp',\n",
    "                        stdout=subprocess.PIPE,stderr=subprocess.PIPE).communicate()\n",
    "    pdffile='{:s}'.format(f.name).split('.tex')[0]+'.pdf'\n",
    "    if lo[0].decode('utf8').find(pdffile.split('/')[-1])>-1:\n",
    "        pdf='carta_{:d}.pdf'.format(row['id'])\n",
    "        dwld_dir='downloads'\n",
    "        kk=subprocess.Popen('mv {:s} /home/restrepo/{:s}/{:s}'.format(pdffile,dwld_dir,pdf).split()).communicate()\n",
    "        print('output in http://fisica.udea.edu.co/{:s}/{:s}'.format(dwld_dir,pdf))\n",
    "        for suffix in  ['.aux','.log','.out','.tex']:\n",
    "            sc=subprocess.Popen( ['rm', '{:s}'.format(f.name).split('.tex')[0]+suffix] ).communicate()\n",
    "    else:\n",
    "        print(lo[0].decode('utf8'))\n",
    "        sys.exit('LaTeX ERROR:')    \n",
    "    return latexfile\n",
    "\n",
    "def db_to_pdf(choose_db=0,id=None,verbose=False):\n",
    "    '''\n",
    "    Obtain letter from the last DB entry\n",
    "    Type of letter: \n",
    "      * 0 Personal\n",
    "      * 1 Group\n",
    "    '''\n",
    "    password=getpass.getpass()\n",
    "    tipo_carta=['Diego_Restrepo', 'cartas_gfif']\n",
    "    conn = pymysql.connect(host='localhost', port=3306, user='root', passwd=password, db=tipo_carta[choose_db])\n",
    "\n",
    "    df=pd.read_sql('select * from cartas;', con=conn)\n",
    "\n",
    "    sg=pd.read_sql('select * from cartas_sign;', con=conn)\n",
    "    \n",
    "    \n",
    "    conn.close()\n",
    "    \n",
    "    #print(df.shape[0])\n",
    "    #return df,sg\n",
    "    if df.shape[0]:\n",
    "        if not id:\n",
    "            id=df.id.values[-1]\n",
    "        c=df[df.id==id].reset_index(drop=True).loc[0]\n",
    "        c['sign']=sg[sg.signature==c.signature].reset_index(drop=True).loc[0,'sign']\n",
    "        if verbose:\n",
    "            print(c)\n",
    "    else:\n",
    "        sys.exit('Error reading databases')\n",
    "        return df\n",
    "\n",
    "    \n",
    "    \n",
    "    return generate_pdf(c)\n",
    "\n",
    "def backup_database(choose_db=0):\n",
    "    '''\n",
    "    Obtain letter from the last DB entry\n",
    "    Type of letter: \n",
    "      * 0 Personal\n",
    "      * 1 Group\n",
    "    '''\n",
    "    password=getpass.getpass()\n",
    "    tipo_carta=['Diego_Restrepo', 'cartas_gfif']\n",
    "    \n",
    "    print('Trying to create backup file db_{:s}_backup.sql'.format( tipo_carta[choose_db]  )   )\n",
    "    ok=subprocess.Popen('mysqldump -u root -p{:s} {:s} > db_{:s}_backup.sql'.format(\n",
    "                     password,tipo_carta[choose_db],tipo_carta[choose_db]),shell=True,\n",
    "                     stdout=subprocess.PIPE,stderr=subprocess.PIPE).communicate()\n",
    "    \n",
    "    print()\n",
    "    \n",
    "    return ok"
   ]
  },
  {
   "cell_type": "code",
   "execution_count": 37,
   "metadata": {},
   "outputs": [
    {
     "name": "stdout",
     "output_type": "stream",
     "text": [
      "········\n",
      "output in http://fisica.udea.edu.co/downloads/carta_284.pdf\n"
     ]
    }
   ],
   "source": [
    "choose_db=0\n",
    "latexfile=db_to_pdf(choose_db,id=284)"
   ]
  },
  {
   "cell_type": "code",
   "execution_count": 3,
   "metadata": {},
   "outputs": [
    {
     "ename": "NameError",
     "evalue": "name 'latexfile' is not defined",
     "output_type": "error",
     "traceback": [
      "\u001b[0;31m---------------------------------------------------------------------------\u001b[0m",
      "\u001b[0;31mNameError\u001b[0m                                 Traceback (most recent call last)",
      "\u001b[0;32m<ipython-input-3-aa6d06e24a05>\u001b[0m in \u001b[0;36m<module>\u001b[0;34m()\u001b[0m\n\u001b[0;32m----> 1\u001b[0;31m \u001b[0mprint\u001b[0m\u001b[0;34m(\u001b[0m\u001b[0mlatexfile\u001b[0m\u001b[0;34m)\u001b[0m\u001b[0;34m\u001b[0m\u001b[0m\n\u001b[0m",
      "\u001b[0;31mNameError\u001b[0m: name 'latexfile' is not defined"
     ]
    }
   ],
   "source": [
    "print(latexfile)"
   ]
  },
  {
   "cell_type": "markdown",
   "metadata": {},
   "source": [
    "### Backup database"
   ]
  },
  {
   "cell_type": "code",
   "execution_count": 34,
   "metadata": {},
   "outputs": [
    {
     "name": "stdout",
     "output_type": "stream",
     "text": [
      "········\n",
      "Trying to create backup file db_Diego_Restrepo_backup.sql\n",
      "\n"
     ]
    },
    {
     "data": {
      "text/plain": [
       "(b'', b'')"
      ]
     },
     "execution_count": 34,
     "metadata": {},
     "output_type": "execute_result"
    }
   ],
   "source": [
    "backup_database(choose_db)"
   ]
  },
  {
   "cell_type": "markdown",
   "metadata": {},
   "source": [
    "## Manual"
   ]
  },
  {
   "cell_type": "code",
   "execution_count": 4,
   "metadata": {},
   "outputs": [
    {
     "name": "stdout",
     "output_type": "stream",
     "text": [
      "········\n"
     ]
    }
   ],
   "source": [
    "password=getpass.getpass()"
   ]
  },
  {
   "cell_type": "code",
   "execution_count": 11,
   "metadata": {
    "collapsed": true
   },
   "outputs": [],
   "source": [
    "choose_db=0\n",
    "tipo_carta=['Diego_Restrepo', 'cartas_gfif']\n",
    "\n",
    "conn = pymysql.connect(host='localhost', port=3306, user='root', passwd=password, db=tipo_carta[choose_db])\n",
    "\n",
    "df=pd.read_sql('select * from cartas;', con=conn)\n",
    "\n",
    "sg=pd.read_sql('select * from cartas_sign;', con=conn)"
   ]
  },
  {
   "cell_type": "code",
   "execution_count": 12,
   "metadata": {
    "collapsed": true
   },
   "outputs": [],
   "source": [
    "conn.close()"
   ]
  },
  {
   "cell_type": "code",
   "execution_count": 7,
   "metadata": {
    "collapsed": true
   },
   "outputs": [],
   "source": [
    "df=df[df.body.str.lower().str.contains('editor')]"
   ]
  },
  {
   "cell_type": "code",
   "execution_count": 13,
   "metadata": {
    "collapsed": true
   },
   "outputs": [],
   "source": [
    "df=df[df.id==49]"
   ]
  },
  {
   "cell_type": "markdown",
   "metadata": {},
   "source": [
    "Last entry"
   ]
  },
  {
   "cell_type": "code",
   "execution_count": 14,
   "metadata": {},
   "outputs": [
    {
     "data": {
      "text/html": [
       "<div>\n",
       "<table border=\"1\" class=\"dataframe\">\n",
       "  <thead>\n",
       "    <tr style=\"text-align: right;\">\n",
       "      <th></th>\n",
       "      <th>id</th>\n",
       "      <th>description</th>\n",
       "      <th>preamble</th>\n",
       "      <th>para</th>\n",
       "      <th>address</th>\n",
       "      <th>signature</th>\n",
       "      <th>opening</th>\n",
       "      <th>body</th>\n",
       "      <th>closing</th>\n",
       "      <th>fecha</th>\n",
       "      <th>link</th>\n",
       "    </tr>\n",
       "  </thead>\n",
       "  <tbody>\n",
       "    <tr>\n",
       "      <th>46</th>\n",
       "      <td>49</td>\n",
       "      <td>Carta de Invitación</td>\n",
       "      <td>\\usepackage{udea}\\r\\n\\def{\\fullname}{Dr. Marcos Cardoso Rodriguez}\\r\\n\\def\\lastname{Rodriguez}</td>\n",
       "      <td>\\fullname\\\\\\r\\nGrupo de Física Teórica e Matemática\\\\\\r\\nDepartamento de Física\\\\\\r\\nUniversidade Federal Rural do Rio de Janeiro\\r\\n</td>\n",
       "      <td></td>\n",
       "      <td>Diego_en_sign</td>\n",
       "      <td>None</td>\n",
       "      <td>I have the pleasure to invite \\fullname\\ for a\\r\\nvisit to our research group at Insituto de Física, Universidad de\\r\\nAntioquia from November 27 to December 1 of present year, in order to continue\\r\\nwith research works that we are developing within the framework of our\\r\\ncollaboration and to  give a course on neutrino masses in SUSY\\r\\n%It pleases to us to say that all %the expenses caused by\\r\\n%his trip and stay in Colombia %will be covered by my group.\\r\\n\\r\\nI beforehand thanks  all t...</td>\n",
       "      <td>Best regards</td>\n",
       "      <td>2007-01-31</td>\n",
       "      <td>http://naima.udea.edu.co/cartas/cartas.php?step=1&amp;id=49</td>\n",
       "    </tr>\n",
       "  </tbody>\n",
       "</table>\n",
       "</div>"
      ],
      "text/plain": [
       "    id           description  \\\n",
       "46  49  Carta de Invitación    \n",
       "\n",
       "                                                                                          preamble  \\\n",
       "46  \\usepackage{udea}\\r\\n\\def{\\fullname}{Dr. Marcos Cardoso Rodriguez}\\r\\n\\def\\lastname{Rodriguez}   \n",
       "\n",
       "                                                                                                                                     para  \\\n",
       "46  \\fullname\\\\\\r\\nGrupo de Física Teórica e Matemática\\\\\\r\\nDepartamento de Física\\\\\\r\\nUniversidade Federal Rural do Rio de Janeiro\\r\\n   \n",
       "\n",
       "   address      signature opening  \\\n",
       "46          Diego_en_sign    None   \n",
       "\n",
       "                                                                                                                                                                                                                                                                                                                                                                                                                                                                                                                   body  \\\n",
       "46  I have the pleasure to invite \\fullname\\ for a\\r\\nvisit to our research group at Insituto de Física, Universidad de\\r\\nAntioquia from November 27 to December 1 of present year, in order to continue\\r\\nwith research works that we are developing within the framework of our\\r\\ncollaboration and to  give a course on neutrino masses in SUSY\\r\\n%It pleases to us to say that all %the expenses caused by\\r\\n%his trip and stay in Colombia %will be covered by my group.\\r\\n\\r\\nI beforehand thanks  all t...   \n",
       "\n",
       "         closing       fecha  \\\n",
       "46  Best regards  2007-01-31   \n",
       "\n",
       "                                                       link  \n",
       "46  http://naima.udea.edu.co/cartas/cartas.php?step=1&id=49  "
      ]
     },
     "execution_count": 14,
     "metadata": {},
     "output_type": "execute_result"
    }
   ],
   "source": [
    "df"
   ]
  },
  {
   "cell_type": "code",
   "execution_count": 15,
   "metadata": {
    "collapsed": true
   },
   "outputs": [],
   "source": [
    "c=df[df.id==df.id.values[-1]].reset_index(drop=True).loc[0]\n",
    "c['sign']=sg[sg.signature==c.signature].reset_index(drop=True).loc[0,'sign']"
   ]
  },
  {
   "cell_type": "code",
   "execution_count": 16,
   "metadata": {},
   "outputs": [
    {
     "data": {
      "text/plain": [
       "id                                                                                                                                                                                                                                                                                                                                                                                                                                                                                                                              49\n",
       "description                                                                                                                                                                                                                                                                                                                                                                                                                                                                                                   Carta de Invitación \n",
       "preamble                                                                                                                                                                                                                                                                                                                                                                                                                            \\usepackage{udea}\\r\\n\\def{\\fullname}{Dr. Marcos Cardoso Rodriguez}\\r\\n\\def\\lastname{Rodriguez}\n",
       "para                                                                                                                                                                                                                                                                                                                                                                                         \\fullname\\\\\\r\\nGrupo de Física Teórica e Matemática\\\\\\r\\nDepartamento de Física\\\\\\r\\nUniversidade Federal Rural do Rio de Janeiro\\r\\n\n",
       "address                                                                                                                                                                                                                                                                                                                                                                                                                                                                                                                           \n",
       "signature                                                                                                                                                                                                                                                                                                                                                                                                                                                                                                            Diego_en_sign\n",
       "opening                                                                                                                                                                                                                                                                                                                                                                                                                                                                                                                       None\n",
       "body           I have the pleasure to invite \\fullname\\ for a\\r\\nvisit to our research group at Insituto de Física, Universidad de\\r\\nAntioquia from November 27 to December 1 of present year, in order to continue\\r\\nwith research works that we are developing within the framework of our\\r\\ncollaboration and to  give a course on neutrino masses in SUSY\\r\\n%It pleases to us to say that all %the expenses caused by\\r\\n%his trip and stay in Colombia %will be covered by my group.\\r\\n\\r\\nI beforehand thanks  all t...\n",
       "closing                                                                                                                                                                                                                                                                                                                                                                                                                                                                                                               Best regards\n",
       "fecha                                                                                                                                                                                                                                                                                                                                                                                                                                                                                                                   2007-01-31\n",
       "link                                                                                                                                                                                                                                                                                                                                                                                                                                                                       http://naima.udea.edu.co/cartas/cartas.php?step=1&id=49\n",
       "sign                                                                                                                                                                                                                                                                                                                                                                      \\includegraphics[scale=0.4]{firma}\\\\\\r\\n\\noindent\\r\\nDiego Restrepo\\\\\\r\\nFull  Time Professor\\\\\\r\\nInstituto de F\\'\\i sica\\\\\\r\\nUniversidad de Antioquia\n",
       "Name: 0, dtype: object"
      ]
     },
     "execution_count": 16,
     "metadata": {},
     "output_type": "execute_result"
    }
   ],
   "source": [
    "c"
   ]
  },
  {
   "cell_type": "code",
   "execution_count": 17,
   "metadata": {
    "collapsed": true
   },
   "outputs": [],
   "source": [
    "row=c"
   ]
  },
  {
   "cell_type": "code",
   "execution_count": 31,
   "metadata": {},
   "outputs": [
    {
     "name": "stdout",
     "output_type": "stream",
     "text": [
      "This is pdfTeX, Version 3.14159265-2.6-1.40.15 (TeX Live 2015/dev/Debian) (preloaded format=pdflatex)\n",
      " restricted \\write18 enabled.\n",
      "entering extended mode\n",
      "(/tmp/tmpg_gp_7ls.tex\n",
      "LaTeX2e <2014/05/01>\n",
      "Babel <3.9l> and hyphenation patterns for 79 languages loaded.\n",
      "(/usr/share/texlive/texmf-dist/tex/latex/base/letter.cls\n",
      "Document Class: letter 2014/09/29 v1.2z Standard LaTeX document class\n",
      "(/usr/share/texlive/texmf-dist/tex/latex/base/size10.clo))\n",
      "(/usr/share/texlive/texmf-dist/tex/latex/base/inputenc.sty\n",
      "(/usr/share/texlive/texmf-dist/tex/latex/base/utf8.def\n",
      "(/usr/share/texlive/texmf-dist/tex/latex/base/t1enc.dfu)\n",
      "(/usr/share/texlive/texmf-dist/tex/latex/base/ot1enc.dfu)\n",
      "(/usr/share/texlive/texmf-dist/tex/latex/base/omsenc.dfu)))\n",
      "(/usr/share/texlive/texmf-dist/tex/latex/cartas/udea.sty\n",
      "(/usr/share/texlive/texmf-dist/tex/latex/graphics/graphicx.sty\n",
      "(/usr/share/texlive/texmf-dist/tex/latex/graphics/keyval.sty)\n",
      "(/usr/share/texlive/texmf-dist/tex/latex/graphics/graphics.sty\n",
      "(/usr/share/texlive/texmf-dist/tex/latex/graphics/trig.sty)\n",
      "(/usr/share/texlive/texmf-dist/tex/latex/latexconfig/graphics.cfg)\n",
      "(/usr/share/texlive/texmf-dist/tex/latex/pdftex-def/pdftex.def\n",
      "(/usr/share/texlive/texmf-dist/tex/generic/oberdiek/infwarerr.sty)\n",
      "(/usr/share/texlive/texmf-dist/tex/generic/oberdiek/ltxcmds.sty))))\n",
      "(/usr/share/texlive/texmf-dist/tex/latex/base/ifthen.sty)\n",
      "(/usr/share/texlive/texmf-dist/tex/latex/hyperref/hyperref.sty\n",
      "(/usr/share/texlive/texmf-dist/tex/generic/oberdiek/hobsub-hyperref.sty\n",
      "(/usr/share/texlive/texmf-dist/tex/generic/oberdiek/hobsub-generic.sty))\n",
      "(/usr/share/texlive/texmf-dist/tex/generic/ifxetex/ifxetex.sty)\n",
      "(/usr/share/texlive/texmf-dist/tex/latex/oberdiek/auxhook.sty)\n",
      "(/usr/share/texlive/texmf-dist/tex/latex/oberdiek/kvoptions.sty)\n",
      "(/usr/share/texlive/texmf-dist/tex/latex/hyperref/pd1enc.def)\n",
      "(/usr/share/texlive/texmf-dist/tex/latex/latexconfig/hyperref.cfg)\n",
      "(/usr/share/texlive/texmf-dist/tex/latex/url/url.sty))\n",
      "\n",
      "Package hyperref Message: Driver (autodetected): hpdftex.\n",
      "\n",
      "(/usr/share/texlive/texmf-dist/tex/latex/hyperref/hpdftex.def\n",
      "(/usr/share/texlive/texmf-dist/tex/latex/oberdiek/rerunfilecheck.sty))\n",
      "(/usr/share/texlive/texmf-dist/tex/latex/base/fontenc.sty\n",
      "(/usr/share/texlive/texmf-dist/tex/latex/base/t1enc.def))\n",
      "(/usr/share/texlive/texmf-dist/tex/latex/base/textcomp.sty\n",
      "(/usr/share/texlive/texmf-dist/tex/latex/base/ts1enc.def\n",
      "(/usr/share/texlive/texmf-dist/tex/latex/base/ts1enc.dfu)))\n",
      "(/usr/share/texlive/texmf-dist/tex/latex/psnfss/t1phv.fd)\n",
      "(/usr/share/texlive/texmf-dist/tex/latex/psnfss/t1pag.fd)\n",
      "<udea.pdf, id=1, 217.613pt x 130.88899pt> <use udea.pdf>\n",
      "(/usr/share/texlive/texmf-dist/tex/latex/psnfss/t1pcr.fd)\n",
      "Overfull \\hbox (56.90552pt too wide) in paragraph at lines 106--106\n",
      "| [] \n",
      ")\n",
      "! Missing control sequence inserted.\n",
      "<inserted text> \n",
      "                \\inaccessible \n",
      "l.6 \\def{\n",
      "         \\fullname}{Dr. Marcos Cardoso Rodriguez}\n",
      "? \n",
      "! Emergency stop.\n",
      "<inserted text> \n",
      "                \\inaccessible \n",
      "l.6 \\def{\n",
      "         \\fullname}{Dr. Marcos Cardoso Rodriguez}\n",
      "!  ==> Fatal error occurred, no output PDF file produced!\n",
      "Transcript written on tmpg_gp_7ls.log.\n",
      "\n"
     ]
    },
    {
     "ename": "SystemExit",
     "evalue": "LaTeX ERROR:",
     "output_type": "error",
     "traceback": [
      "An exception has occurred, use %tb to see the full traceback.\n",
      "\u001b[0;31mSystemExit\u001b[0m\u001b[0;31m:\u001b[0m LaTeX ERROR:\n"
     ]
    },
    {
     "name": "stderr",
     "output_type": "stream",
     "text": [
      "/usr/local/lib/python3.4/dist-packages/IPython/core/interactiveshell.py:2870: UserWarning: To exit: use 'exit', 'quit', or Ctrl-D.\n",
      "  warn(\"To exit: use 'exit', 'quit', or Ctrl-D.\", stacklevel=1)\n"
     ]
    }
   ],
   "source": [
    "lo=generate_pdf(row)"
   ]
  },
  {
   "cell_type": "code",
   "execution_count": 29,
   "metadata": {},
   "outputs": [
    {
     "name": "stdout",
     "output_type": "stream",
     "text": [
      "This is pdfTeX, Version 3.14159265-2.6-1.40.15 (TeX Live 2015/dev/Debian) (preloaded format=pdflatex)\n",
      " restricted \\write18 enabled.\n",
      "entering extended mode\n",
      "(/tmp/tmpj2_wegy8.tex\n",
      "LaTeX2e <2014/05/01>\n",
      "Babel <3.9l> and hyphenation patterns for 79 languages loaded.\n",
      "(/usr/share/texlive/texmf-dist/tex/latex/base/letter.cls\n",
      "Document Class: letter 2014/09/29 v1.2z Standard LaTeX document class\n",
      "(/usr/share/texlive/texmf-dist/tex/latex/base/size10.clo))\n",
      "(/usr/share/texlive/texmf-dist/tex/latex/base/inputenc.sty\n",
      "(/usr/share/texlive/texmf-dist/tex/latex/base/utf8.def\n",
      "(/usr/share/texlive/texmf-dist/tex/latex/base/t1enc.dfu)\n",
      "(/usr/share/texlive/texmf-dist/tex/latex/base/ot1enc.dfu)\n",
      "(/usr/share/texlive/texmf-dist/tex/latex/base/omsenc.dfu)))\n",
      "(/usr/share/texlive/texmf-dist/tex/latex/cartas/udea.sty\n",
      "(/usr/share/texlive/texmf-dist/tex/latex/graphics/graphicx.sty\n",
      "(/usr/share/texlive/texmf-dist/tex/latex/graphics/keyval.sty)\n",
      "(/usr/share/texlive/texmf-dist/tex/latex/graphics/graphics.sty\n",
      "(/usr/share/texlive/texmf-dist/tex/latex/graphics/trig.sty)\n",
      "(/usr/share/texlive/texmf-dist/tex/latex/latexconfig/graphics.cfg)\n",
      "(/usr/share/texlive/texmf-dist/tex/latex/pdftex-def/pdftex.def\n",
      "(/usr/share/texlive/texmf-dist/tex/generic/oberdiek/infwarerr.sty)\n",
      "(/usr/share/texlive/texmf-dist/tex/generic/oberdiek/ltxcmds.sty))))\n",
      "(/usr/share/texlive/texmf-dist/tex/latex/base/ifthen.sty)\n",
      "(/usr/share/texlive/texmf-dist/tex/latex/hyperref/hyperref.sty\n",
      "(/usr/share/texlive/texmf-dist/tex/generic/oberdiek/hobsub-hyperref.sty\n",
      "(/usr/share/texlive/texmf-dist/tex/generic/oberdiek/hobsub-generic.sty))\n",
      "(/usr/share/texlive/texmf-dist/tex/generic/ifxetex/ifxetex.sty)\n",
      "(/usr/share/texlive/texmf-dist/tex/latex/oberdiek/auxhook.sty)\n",
      "(/usr/share/texlive/texmf-dist/tex/latex/oberdiek/kvoptions.sty)\n",
      "(/usr/share/texlive/texmf-dist/tex/latex/hyperref/pd1enc.def)\n",
      "(/usr/share/texlive/texmf-dist/tex/latex/latexconfig/hyperref.cfg)\n",
      "(/usr/share/texlive/texmf-dist/tex/latex/url/url.sty))\n",
      "\n",
      "Package hyperref Message: Driver (autodetected): hpdftex.\n",
      "\n",
      "(/usr/share/texlive/texmf-dist/tex/latex/hyperref/hpdftex.def\n",
      "(/usr/share/texlive/texmf-dist/tex/latex/oberdiek/rerunfilecheck.sty))\n",
      "(/usr/share/texlive/texmf-dist/tex/latex/base/fontenc.sty\n",
      "(/usr/share/texlive/texmf-dist/tex/latex/base/t1enc.def))\n",
      "(/usr/share/texlive/texmf-dist/tex/latex/base/textcomp.sty\n",
      "(/usr/share/texlive/texmf-dist/tex/latex/base/ts1enc.def\n",
      "(/usr/share/texlive/texmf-dist/tex/latex/base/ts1enc.dfu)))\n",
      "(/usr/share/texlive/texmf-dist/tex/latex/psnfss/t1phv.fd)\n",
      "(/usr/share/texlive/texmf-dist/tex/latex/psnfss/t1pag.fd)\n",
      "<udea.pdf, id=1, 217.613pt x 130.88899pt> <use udea.pdf>\n",
      "(/usr/share/texlive/texmf-dist/tex/latex/psnfss/t1pcr.fd)\n",
      "Overfull \\hbox (56.90552pt too wide) in paragraph at lines 106--106\n",
      "| [] \n",
      ")\n",
      "! Missing control sequence inserted.\n",
      "<inserted text> \n",
      "                \\inaccessible \n",
      "l.6 \\def{\n",
      "         \\fullname}{Dr. Marcos Cardoso Rodriguez}\n",
      "? \n",
      "! Emergency stop.\n",
      "<inserted text> \n",
      "                \\inaccessible \n",
      "l.6 \\def{\n",
      "         \\fullname}{Dr. Marcos Cardoso Rodriguez}\n",
      "!  ==> Fatal error occurred, no output PDF file produced!\n",
      "Transcript written on tmpj2_wegy8.log.\n",
      "\n"
     ]
    }
   ],
   "source": [
    "print(lo[0].decode('utf8'))"
   ]
  },
  {
   "cell_type": "code",
   "execution_count": 21,
   "metadata": {},
   "outputs": [
    {
     "data": {
      "text/plain": [
       "\"\\\\includegraphics[scale=0.4]{firma}\\\\\\\\\\r\\n\\\\noindent\\r\\nDiego A. Restrepo Quintero\\\\\\\\\\r\\nCoordinador\\\\\\\\\\r\\nGrupo de Fenomenología de Interacciones Fundamentales\\\\\\\\\\r\\nInstituto de F\\\\'\\\\i sica\\\\\\\\\\r\\nUniversidad de Antioquia\""
      ]
     },
     "execution_count": 21,
     "metadata": {},
     "output_type": "execute_result"
    }
   ],
   "source": [
    "c.sign"
   ]
  },
  {
   "cell_type": "code",
   "execution_count": 18,
   "metadata": {},
   "outputs": [
    {
     "data": {
      "text/plain": [
       "(b'', b'')"
      ]
     },
     "execution_count": 18,
     "metadata": {},
     "output_type": "execute_result"
    }
   ],
   "source": [
    "ok"
   ]
  },
  {
   "cell_type": "code",
   "execution_count": 10,
   "metadata": {},
   "outputs": [
    {
     "data": {
      "text/plain": [
       "['mysqldump',\n",
       " '-u',\n",
       " 'root',\n",
       " '-ppoioiulkj',\n",
       " 'cartas_gfif',\n",
       " '>',\n",
       " 'db_cartas_gfif_backup.sql']"
      ]
     },
     "execution_count": 10,
     "metadata": {},
     "output_type": "execute_result"
    }
   ],
   "source": [
    "'mysqldump -u root -p{:s} {:s} > db_{:s}_backup.sql'.format(password,tipo_carta[NTC],tipo_carta[NTC]).split()"
   ]
  },
  {
   "cell_type": "markdown",
   "metadata": {},
   "source": [
    "## Search in body"
   ]
  },
  {
   "cell_type": "code",
   "execution_count": 50,
   "metadata": {
    "collapsed": true
   },
   "outputs": [],
   "source": [
    "id=99\n",
    "if id >0:\n",
    "    dfs=df[df.id==id].reset_index(drop=True)\n",
    "else:    \n",
    "    dfs=df[df.body.str.lower().map(unidecode.unidecode).str.contains('impacto social')].reset_index(drop=True)"
   ]
  },
  {
   "cell_type": "code",
   "execution_count": null,
   "metadata": {
    "collapsed": true
   },
   "outputs": [],
   "source": [
    "dfs"
   ]
  },
  {
   "cell_type": "code",
   "execution_count": 52,
   "metadata": {
    "collapsed": true
   },
   "outputs": [],
   "source": [
    "c=dfs.loc[dfs.index.values[-1]]"
   ]
  },
  {
   "cell_type": "code",
   "execution_count": null,
   "metadata": {
    "collapsed": true
   },
   "outputs": [],
   "source": [
    "c"
   ]
  },
  {
   "cell_type": "code",
   "execution_count": null,
   "metadata": {
    "collapsed": true
   },
   "outputs": [],
   "source": [
    "c.keys().values"
   ]
  },
  {
   "cell_type": "code",
   "execution_count": null,
   "metadata": {
    "collapsed": true
   },
   "outputs": [],
   "source": [
    "for k in c.keys():\n",
    "    print(k)\n",
    "    if c[k]==None:\n",
    "        c[k]=''"
   ]
  },
  {
   "cell_type": "code",
   "execution_count": 52,
   "metadata": {
    "collapsed": true
   },
   "outputs": [],
   "source": [
    "c.closing"
   ]
  },
  {
   "cell_type": "code",
   "execution_count": 34,
   "metadata": {},
   "outputs": [
    {
     "data": {
      "text/plain": [
       "'Best regards'"
      ]
     },
     "execution_count": 34,
     "metadata": {},
     "output_type": "execute_result"
    }
   ],
   "source": [
    "c.closing"
   ]
  },
  {
   "cell_type": "code",
   "execution_count": 35,
   "metadata": {},
   "outputs": [
    {
     "ename": "TypeError",
     "evalue": "Can't convert 'NoneType' object to str implicitly",
     "output_type": "error",
     "traceback": [
      "\u001b[0;31m---------------------------------------------------------------------------\u001b[0m",
      "\u001b[0;31mTypeError\u001b[0m                                 Traceback (most recent call last)",
      "\u001b[0;32m<ipython-input-35-1241e7064ef2>\u001b[0m in \u001b[0;36m<module>\u001b[0;34m()\u001b[0m\n\u001b[1;32m     13\u001b[0m \u001b[0;34m'''+c.body+r'''\u001b[0m\u001b[0;34m\u001b[0m\u001b[0m\n\u001b[1;32m     14\u001b[0m \u001b[0;34m\u001b[0m\u001b[0m\n\u001b[0;32m---> 15\u001b[0;31m \u001b[0;31m\\\u001b[0m\u001b[0mclosing\u001b[0m\u001b[0;34m{\u001b[0m\u001b[0;34m'''+c.closing+r'''\u001b[0m\u001b[0;34m}\u001b[0m\u001b[0;34m\u001b[0m\u001b[0m\n\u001b[0m\u001b[1;32m     16\u001b[0m \u001b[0;31m\\\u001b[0m\u001b[0mend\u001b[0m\u001b[0;34m{\u001b[0m\u001b[0mletter\u001b[0m\u001b[0;34m}\u001b[0m\u001b[0;34m\u001b[0m\u001b[0m\n\u001b[1;32m     17\u001b[0m \u001b[0;31m\\\u001b[0m\u001b[0mend\u001b[0m\u001b[0;34m{\u001b[0m\u001b[0mdocument\u001b[0m\u001b[0;34m}\u001b[0m\u001b[0;34m\u001b[0m\u001b[0m\n",
      "\u001b[0;31mTypeError\u001b[0m: Can't convert 'NoneType' object to str implicitly"
     ]
    }
   ],
   "source": [
    "latexfile=r'''\n",
    "%'''+c.description+r'''\n",
    "\\documentclass{letter}\n",
    "\\usepackage[utf8]{inputenc}\n",
    "'''+c.preamble+r'''\n",
    "'''+c.address+r'''\n",
    "\\signature{'''+sg[sg.signature==c.signature].sign.values[0]+r'''}\n",
    "\\begin{document}\n",
    "\\begin{letter}{'''+c.para+r'''}\n",
    "\n",
    "\\opening{'''+c.opening+r'''} \n",
    "\n",
    "'''+c.body+r'''\n",
    "\n",
    "\\closing{'''+c.closing+r'''}\n",
    "\\end{letter}\n",
    "\\end{document}\n",
    "'''"
   ]
  },
  {
   "cell_type": "code",
   "execution_count": null,
   "metadata": {
    "collapsed": true
   },
   "outputs": [],
   "source": [
    "print(latexfile)"
   ]
  },
  {
   "cell_type": "code",
   "execution_count": 58,
   "metadata": {
    "collapsed": true
   },
   "outputs": [],
   "source": [
    "f=tempfile.NamedTemporaryFile('w',suffix='.tex',delete=False)"
   ]
  },
  {
   "cell_type": "code",
   "execution_count": 59,
   "metadata": {},
   "outputs": [
    {
     "data": {
      "text/plain": [
       "2017"
      ]
     },
     "execution_count": 59,
     "metadata": {},
     "output_type": "execute_result"
    }
   ],
   "source": [
    "f.write(latexfile)"
   ]
  },
  {
   "cell_type": "code",
   "execution_count": 60,
   "metadata": {},
   "outputs": [
    {
     "data": {
      "text/plain": [
       "'/tmp/tmppt2pwnu1.tex'"
      ]
     },
     "execution_count": 60,
     "metadata": {},
     "output_type": "execute_result"
    }
   ],
   "source": [
    "f.name"
   ]
  },
  {
   "cell_type": "code",
   "execution_count": 61,
   "metadata": {
    "collapsed": true
   },
   "outputs": [],
   "source": [
    "f.close()"
   ]
  },
  {
   "cell_type": "code",
   "execution_count": 62,
   "metadata": {
    "collapsed": true
   },
   "outputs": [],
   "source": [
    "lo=subprocess.Popen('pdflatex {:s}'.format(f.name).split(),cwd='/tmp',stdout=subprocess.PIPE,stderr=subprocess.PIPE).communicate()"
   ]
  },
  {
   "cell_type": "code",
   "execution_count": null,
   "metadata": {
    "collapsed": true
   },
   "outputs": [],
   "source": [
    "pdffile='{:s}'.format(f.name).split('.tex')[0]+'.pdf'\n",
    "if lo[0].decode('utf8').find(pdffile.split('/')[-1])>-1:\n",
    "    pdf='carta_{:d}.pdf'.format(c['id'])\n",
    "    dwld_dir='downloads'\n",
    "    kk=subprocess.Popen('mv {:s} /var/www/{:s}/{:s}'.format(pdffile,dwld_dir,pdf).split()).communicate()\n",
    "    print('output in http://gfif.udea.edu.co/{:s}/{:s}'.format(dwld_dir,pdf))\n",
    "    for suffix in  ['.aux','.log','.out','.tex']:\n",
    "        subprocess.Popen( ['rm', '{:s}'.format(f.name).split('.tex')[0]+suffix] ).communicate()\n",
    "else:\n",
    "    sys.exit('LaTeX ERROR:')    "
   ]
  },
  {
   "cell_type": "code",
   "execution_count": null,
   "metadata": {
    "collapsed": true
   },
   "outputs": [],
   "source": []
  }
 ],
 "metadata": {
  "kernelspec": {
   "display_name": "Python 3",
   "language": "python",
   "name": "python3"
  },
  "language_info": {
   "codemirror_mode": {
    "name": "ipython",
    "version": 3
   },
   "file_extension": ".py",
   "mimetype": "text/x-python",
   "name": "python",
   "nbconvert_exporter": "python",
   "pygments_lexer": "ipython3",
   "version": "3.5.3"
  },
  "latex_envs": {
   "LaTeX_envs_menu_present": true,
   "bibliofile": "biblio.bib",
   "cite_by": "apalike",
   "current_citInitial": 1,
   "eqLabelWithNumbers": true,
   "eqNumInitial": 1,
   "labels_anchors": false,
   "latex_user_defs": false,
   "report_style_numbering": false,
   "user_envs_cfg": false
  }
 },
 "nbformat": 4,
 "nbformat_minor": 2
}
